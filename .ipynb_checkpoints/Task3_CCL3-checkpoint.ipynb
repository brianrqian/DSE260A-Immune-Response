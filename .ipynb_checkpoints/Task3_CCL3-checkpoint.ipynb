{
 "cells": [
  {
   "cell_type": "code",
   "execution_count": 1,
   "id": "2587b00c-2297-4691-8352-af62eecd79fb",
   "metadata": {
    "tags": []
   },
   "outputs": [],
   "source": [
    "import pandas as pd\n",
    "import numpy as np\n",
    "import mygene\n",
    "import seaborn as sns\n",
    "from scipy.stats import randint\n",
    "import matplotlib.pyplot as plt\n",
    "\n",
    "from sklearn.preprocessing import Normalizer\n",
    "from sklearn.preprocessing import OneHotEncoder\n",
    "from sklearn.preprocessing import StandardScaler\n",
    "\n",
    "from sklearn.linear_model import LogisticRegression\n",
    "from sklearn.linear_model import LinearRegression\n",
    "from sklearn.linear_model import Lasso, Ridge, ElasticNet\n",
    "from sklearn.neighbors import KNeighborsRegressor\n",
    "from sklearn.tree import DecisionTreeRegressor\n",
    "from xgboost import XGBClassifier\n",
    "from sklearn.ensemble import RandomForestRegressor, GradientBoostingRegressor\n",
    "from sklearn.svm import SVR\n",
    "\n",
    "from sklearn.feature_selection import SelectKBest, f_regression, mutual_info_regression\n",
    "from sklearn.model_selection import RandomizedSearchCV, train_test_split\n",
    "from sklearn.metrics import mean_squared_error, mean_absolute_error, r2_score\n",
    "from sklearn.metrics import accuracy_score, confusion_matrix, precision_score, recall_score, ConfusionMatrixDisplay"
   ]
  },
  {
   "cell_type": "markdown",
   "id": "2e5685c1-6cb2-48d4-b79f-24010d9f6283",
   "metadata": {
    "tags": []
   },
   "source": [
    "## 1. Load & Cleaning Dataset"
   ]
  },
  {
   "cell_type": "markdown",
   "id": "f8d95096-8365-497b-8d23-167c3c382bbd",
   "metadata": {
    "tags": []
   },
   "source": [
    "#### 1.1 Loading in training and prediction datasets"
   ]
  },
  {
   "cell_type": "code",
   "execution_count": 2,
   "id": "f295d47c-60f1-469e-a1cd-789d925d6aa3",
   "metadata": {
    "tags": []
   },
   "outputs": [],
   "source": [
    "df_2020_gene = pd.read_csv(\"https://www.cmi-pb.org/downloads/cmipb_challenge_datasets/current/2nd_challenge/raw_datasets/training_data/2020LD_pbmc_gene_expression.tsv\", sep='\\t')\n",
    "df_2020_specimen = pd.read_csv(\"https://www.cmi-pb.org/downloads/cmipb_challenge_datasets/current/2nd_challenge/raw_datasets/training_data/2020LD_specimen.tsv\", sep='\\t')\n",
    "df_2020_subject = pd.read_csv(\"https://www.cmi-pb.org/downloads/cmipb_challenge_datasets/current/2nd_challenge/raw_datasets/training_data/2020LD_subject.tsv\", sep='\\t')\n",
    "df_2021_gene = pd.read_csv(\"https://www.cmi-pb.org/downloads/cmipb_challenge_datasets/current/2nd_challenge/raw_datasets/training_data/2021LD_pbmc_gene_expression.tsv\", sep='\\t')\n",
    "df_2021_specimen = pd.read_csv(\"https://www.cmi-pb.org/downloads/cmipb_challenge_datasets/current/2nd_challenge/raw_datasets/training_data/2021LD_specimen.tsv\", sep='\\t')\n",
    "df_2021_subject = pd.read_csv(\"https://www.cmi-pb.org/downloads/cmipb_challenge_datasets/current/2nd_challenge/raw_datasets/training_data/2021LD_subject.tsv\", sep='\\t')\n",
    "df_2022_gene = pd.read_csv(\"https://www.cmi-pb.org/downloads/cmipb_challenge_datasets/current/2nd_challenge/raw_datasets/prediction_data/2022BD_pbmc_gene_expression.tsv\", sep='\\t')\n",
    "df_2022_specimen = pd.read_csv(\"https://www.cmi-pb.org/downloads/cmipb_challenge_datasets/current/2nd_challenge/raw_datasets/prediction_data/2022BD_specimen.tsv\", sep='\\t')\n",
    "df_2022_subject = pd.read_csv(\"https://www.cmi-pb.org/downloads/cmipb_challenge_datasets/current/2nd_challenge/raw_datasets/prediction_data/2022BD_subject.tsv\", sep='\\t')"
   ]
  },
  {
   "cell_type": "markdown",
   "id": "bcdeead9-438b-4be0-9156-fa03b8b0871d",
   "metadata": {},
   "source": [
    "#### 1.2 Cleaning subject and gene expression datasets"
   ]
  },
  {
   "cell_type": "code",
   "execution_count": 3,
   "id": "8382037e-105a-4184-bcfa-5b6a47fd2864",
   "metadata": {
    "tags": []
   },
   "outputs": [],
   "source": [
    "## cleaning the subject/specimen dataset to get an age column\n",
    "def clean_df_subject(df):\n",
    "    \n",
    "    ## Get age column\n",
    "    df['year_of_birth'] = pd.to_numeric(df['year_of_birth'].str[:4])\n",
    "    df['date_of_boost'] = pd.to_numeric(df['date_of_boost'].str[:4])\n",
    "    df['age'] = df['date_of_boost'] - df['year_of_birth']\n",
    "    return df"
   ]
  },
  {
   "cell_type": "code",
   "execution_count": 4,
   "id": "20b80e4f-acb8-4f73-b13e-3df4683dcbbc",
   "metadata": {
    "tags": []
   },
   "outputs": [],
   "source": [
    "## cleaning the gene data to transform ensembl gene id to name\n",
    "def clean_df_gene(df):\n",
    "    df['versioned_ensembl_gene_id'] = df['versioned_ensembl_gene_id'].apply(lambda x: x.split('.')[0])\n",
    "    #mg = mygene.MyGeneInfo()\n",
    "    \n",
    "    # extract symbol and gene type from the versioned_ensembl_gene_id\n",
    "    #df['gene_symbol'] = df['versioned_ensembl_gene_id'].apply(lambda x : mg.getgene(x)['symbol'])\n",
    "    #df['gene_type'] = df['versioned_ensembl_gene_id'].apply(lambda x : mg.getgene(x)['type_of_gene'])\n",
    "    return df"
   ]
  },
  {
   "cell_type": "code",
   "execution_count": 5,
   "id": "9c0e5b03-12d7-443b-aa59-c46bca017bb9",
   "metadata": {
    "tags": []
   },
   "outputs": [],
   "source": [
    "#all_genes = genes['versioned_ensembl_gene_id'].unique()\n",
    "#symbols = []\n",
    "#for i in all_genes:\n",
    "#    symbols.append(mg.getgene(i)['symbol'])"
   ]
  },
  {
   "cell_type": "markdown",
   "id": "845af74f-13fd-469a-8fd3-9ce539c7f317",
   "metadata": {
    "tags": []
   },
   "source": [
    "#### 1.3 EDA: finding which genes closely relate to CCL3 gene"
   ]
  },
  {
   "cell_type": "code",
   "execution_count": 6,
   "id": "bc6e82bf-e832-479a-a40b-6fdcce1743fa",
   "metadata": {
    "tags": []
   },
   "outputs": [],
   "source": [
    "## concatenating 2020 and 2021 gene datasets\n",
    "genes = pd.concat([clean_df_gene(df_2020_gene),clean_df_gene(df_2021_gene)]).reset_index()\n",
    "genes_cols = genes.pivot_table(index=['specimen_id'], columns=['versioned_ensembl_gene_id'], values= 'tpm')#.reset_index()"
   ]
  },
  {
   "cell_type": "code",
   "execution_count": 7,
   "id": "a0428004-f97d-48e5-9b7f-e5f39cf0f674",
   "metadata": {},
   "outputs": [],
   "source": [
    "X = genes_cols.loc[:, genes_cols.columns !='ENSG00000277632']  #independent columns\n",
    "y = genes_cols['ENSG00000277632']    #target column i.e CCL3"
   ]
  },
  {
   "cell_type": "code",
   "execution_count": 8,
   "id": "668c423c-9cde-4994-aa2e-d279e18e486f",
   "metadata": {
    "tags": []
   },
   "outputs": [
    {
     "name": "stdout",
     "output_type": "stream",
     "text": [
      "                 Specs        Score\n",
      "32575  ENSG00000234883  2823.158219\n",
      "29853  ENSG00000230923  1579.290153\n",
      "56648  ENSG00000280228  1563.466676\n",
      "19568  ENSG00000203364  1527.484512\n",
      "51362  ENSG00000271133  1354.239954\n",
      "49583  ENSG00000267365  1348.884920\n",
      "31142  ENSG00000232810  1204.898796\n",
      "3510   ENSG00000108342  1185.819978\n",
      "34788  ENSG00000238094  1070.072435\n",
      "39750  ENSG00000251230  1022.311611\n"
     ]
    }
   ],
   "source": [
    "#apply SelectKBest class to extract top 10 best features\n",
    "bestfeatures = SelectKBest(score_func=f_regression, k=10)\n",
    "fit = bestfeatures.fit(X,y)\n",
    "dfscores = pd.DataFrame(fit.scores_)\n",
    "dfcolumns = pd.DataFrame(X.columns)\n",
    "\n",
    "#concat two dataframes for better visualization \n",
    "featureScores = pd.concat([dfcolumns,dfscores],axis=1)\n",
    "featureScores.columns = ['Specs','Score']  #naming the dataframe columns\n",
    "print(featureScores.nlargest(10,'Score'))  #print 10 best features"
   ]
  },
  {
   "cell_type": "code",
   "execution_count": 9,
   "id": "42cfb998-baf6-408d-8484-9945ff909c08",
   "metadata": {
    "tags": []
   },
   "outputs": [
    {
     "data": {
      "text/html": [
       "<div>\n",
       "<style scoped>\n",
       "    .dataframe tbody tr th:only-of-type {\n",
       "        vertical-align: middle;\n",
       "    }\n",
       "\n",
       "    .dataframe tbody tr th {\n",
       "        vertical-align: top;\n",
       "    }\n",
       "\n",
       "    .dataframe thead th {\n",
       "        text-align: right;\n",
       "    }\n",
       "</style>\n",
       "<table border=\"1\" class=\"dataframe\">\n",
       "  <thead>\n",
       "    <tr style=\"text-align: right;\">\n",
       "      <th>versioned_ensembl_gene_id</th>\n",
       "      <th>specimen_id</th>\n",
       "      <th>ENSG00000108342</th>\n",
       "      <th>ENSG00000203364</th>\n",
       "      <th>ENSG00000230923</th>\n",
       "      <th>ENSG00000232810</th>\n",
       "      <th>ENSG00000234883</th>\n",
       "      <th>ENSG00000238094</th>\n",
       "      <th>ENSG00000251230</th>\n",
       "      <th>ENSG00000267365</th>\n",
       "      <th>ENSG00000271133</th>\n",
       "      <th>CCL3</th>\n",
       "      <th>ENSG00000280228</th>\n",
       "    </tr>\n",
       "  </thead>\n",
       "  <tbody>\n",
       "    <tr>\n",
       "      <th>0</th>\n",
       "      <td>1</td>\n",
       "      <td>0.091</td>\n",
       "      <td>0.00</td>\n",
       "      <td>0.122</td>\n",
       "      <td>20.768</td>\n",
       "      <td>11.066</td>\n",
       "      <td>0.000</td>\n",
       "      <td>1.836</td>\n",
       "      <td>0.494</td>\n",
       "      <td>3.368</td>\n",
       "      <td>39.323</td>\n",
       "      <td>0.104</td>\n",
       "    </tr>\n",
       "    <tr>\n",
       "      <th>1</th>\n",
       "      <td>2</td>\n",
       "      <td>0.000</td>\n",
       "      <td>0.00</td>\n",
       "      <td>0.054</td>\n",
       "      <td>20.749</td>\n",
       "      <td>7.996</td>\n",
       "      <td>0.000</td>\n",
       "      <td>6.030</td>\n",
       "      <td>1.845</td>\n",
       "      <td>2.011</td>\n",
       "      <td>52.342</td>\n",
       "      <td>0.186</td>\n",
       "    </tr>\n",
       "    <tr>\n",
       "      <th>2</th>\n",
       "      <td>3</td>\n",
       "      <td>0.000</td>\n",
       "      <td>0.00</td>\n",
       "      <td>0.000</td>\n",
       "      <td>23.432</td>\n",
       "      <td>5.167</td>\n",
       "      <td>0.000</td>\n",
       "      <td>3.430</td>\n",
       "      <td>0.693</td>\n",
       "      <td>1.678</td>\n",
       "      <td>46.410</td>\n",
       "      <td>0.243</td>\n",
       "    </tr>\n",
       "    <tr>\n",
       "      <th>3</th>\n",
       "      <td>4</td>\n",
       "      <td>0.211</td>\n",
       "      <td>0.38</td>\n",
       "      <td>0.000</td>\n",
       "      <td>23.726</td>\n",
       "      <td>6.238</td>\n",
       "      <td>0.000</td>\n",
       "      <td>1.582</td>\n",
       "      <td>0.639</td>\n",
       "      <td>3.133</td>\n",
       "      <td>14.822</td>\n",
       "      <td>0.887</td>\n",
       "    </tr>\n",
       "    <tr>\n",
       "      <th>4</th>\n",
       "      <td>5</td>\n",
       "      <td>0.081</td>\n",
       "      <td>0.00</td>\n",
       "      <td>0.054</td>\n",
       "      <td>21.477</td>\n",
       "      <td>9.402</td>\n",
       "      <td>0.000</td>\n",
       "      <td>3.088</td>\n",
       "      <td>1.100</td>\n",
       "      <td>1.199</td>\n",
       "      <td>67.366</td>\n",
       "      <td>0.185</td>\n",
       "    </tr>\n",
       "    <tr>\n",
       "      <th>...</th>\n",
       "      <td>...</td>\n",
       "      <td>...</td>\n",
       "      <td>...</td>\n",
       "      <td>...</td>\n",
       "      <td>...</td>\n",
       "      <td>...</td>\n",
       "      <td>...</td>\n",
       "      <td>...</td>\n",
       "      <td>...</td>\n",
       "      <td>...</td>\n",
       "      <td>...</td>\n",
       "      <td>...</td>\n",
       "    </tr>\n",
       "    <tr>\n",
       "      <th>355</th>\n",
       "      <td>723</td>\n",
       "      <td>0.000</td>\n",
       "      <td>0.49</td>\n",
       "      <td>0.121</td>\n",
       "      <td>66.474</td>\n",
       "      <td>3.889</td>\n",
       "      <td>0.000</td>\n",
       "      <td>3.054</td>\n",
       "      <td>1.151</td>\n",
       "      <td>1.568</td>\n",
       "      <td>19.483</td>\n",
       "      <td>0.052</td>\n",
       "    </tr>\n",
       "    <tr>\n",
       "      <th>356</th>\n",
       "      <td>724</td>\n",
       "      <td>0.000</td>\n",
       "      <td>0.00</td>\n",
       "      <td>0.055</td>\n",
       "      <td>61.234</td>\n",
       "      <td>1.587</td>\n",
       "      <td>0.000</td>\n",
       "      <td>1.655</td>\n",
       "      <td>0.891</td>\n",
       "      <td>3.238</td>\n",
       "      <td>20.390</td>\n",
       "      <td>0.000</td>\n",
       "    </tr>\n",
       "    <tr>\n",
       "      <th>357</th>\n",
       "      <td>725</td>\n",
       "      <td>0.170</td>\n",
       "      <td>0.00</td>\n",
       "      <td>0.513</td>\n",
       "      <td>55.403</td>\n",
       "      <td>2.237</td>\n",
       "      <td>0.000</td>\n",
       "      <td>3.056</td>\n",
       "      <td>0.848</td>\n",
       "      <td>1.471</td>\n",
       "      <td>22.314</td>\n",
       "      <td>0.000</td>\n",
       "    </tr>\n",
       "    <tr>\n",
       "      <th>358</th>\n",
       "      <td>726</td>\n",
       "      <td>0.000</td>\n",
       "      <td>0.00</td>\n",
       "      <td>0.201</td>\n",
       "      <td>77.126</td>\n",
       "      <td>3.015</td>\n",
       "      <td>0.522</td>\n",
       "      <td>4.556</td>\n",
       "      <td>0.681</td>\n",
       "      <td>2.599</td>\n",
       "      <td>32.181</td>\n",
       "      <td>0.086</td>\n",
       "    </tr>\n",
       "    <tr>\n",
       "      <th>359</th>\n",
       "      <td>727</td>\n",
       "      <td>0.000</td>\n",
       "      <td>0.00</td>\n",
       "      <td>0.122</td>\n",
       "      <td>70.989</td>\n",
       "      <td>3.775</td>\n",
       "      <td>0.000</td>\n",
       "      <td>7.350</td>\n",
       "      <td>0.577</td>\n",
       "      <td>2.247</td>\n",
       "      <td>19.269</td>\n",
       "      <td>0.052</td>\n",
       "    </tr>\n",
       "  </tbody>\n",
       "</table>\n",
       "<p>360 rows × 12 columns</p>\n",
       "</div>"
      ],
      "text/plain": [
       "versioned_ensembl_gene_id  specimen_id  ENSG00000108342  ENSG00000203364  \\\n",
       "0                                    1            0.091             0.00   \n",
       "1                                    2            0.000             0.00   \n",
       "2                                    3            0.000             0.00   \n",
       "3                                    4            0.211             0.38   \n",
       "4                                    5            0.081             0.00   \n",
       "..                                 ...              ...              ...   \n",
       "355                                723            0.000             0.49   \n",
       "356                                724            0.000             0.00   \n",
       "357                                725            0.170             0.00   \n",
       "358                                726            0.000             0.00   \n",
       "359                                727            0.000             0.00   \n",
       "\n",
       "versioned_ensembl_gene_id  ENSG00000230923  ENSG00000232810  ENSG00000234883  \\\n",
       "0                                    0.122           20.768           11.066   \n",
       "1                                    0.054           20.749            7.996   \n",
       "2                                    0.000           23.432            5.167   \n",
       "3                                    0.000           23.726            6.238   \n",
       "4                                    0.054           21.477            9.402   \n",
       "..                                     ...              ...              ...   \n",
       "355                                  0.121           66.474            3.889   \n",
       "356                                  0.055           61.234            1.587   \n",
       "357                                  0.513           55.403            2.237   \n",
       "358                                  0.201           77.126            3.015   \n",
       "359                                  0.122           70.989            3.775   \n",
       "\n",
       "versioned_ensembl_gene_id  ENSG00000238094  ENSG00000251230  ENSG00000267365  \\\n",
       "0                                    0.000            1.836            0.494   \n",
       "1                                    0.000            6.030            1.845   \n",
       "2                                    0.000            3.430            0.693   \n",
       "3                                    0.000            1.582            0.639   \n",
       "4                                    0.000            3.088            1.100   \n",
       "..                                     ...              ...              ...   \n",
       "355                                  0.000            3.054            1.151   \n",
       "356                                  0.000            1.655            0.891   \n",
       "357                                  0.000            3.056            0.848   \n",
       "358                                  0.522            4.556            0.681   \n",
       "359                                  0.000            7.350            0.577   \n",
       "\n",
       "versioned_ensembl_gene_id  ENSG00000271133    CCL3  ENSG00000280228  \n",
       "0                                    3.368  39.323            0.104  \n",
       "1                                    2.011  52.342            0.186  \n",
       "2                                    1.678  46.410            0.243  \n",
       "3                                    3.133  14.822            0.887  \n",
       "4                                    1.199  67.366            0.185  \n",
       "..                                     ...     ...              ...  \n",
       "355                                  1.568  19.483            0.052  \n",
       "356                                  3.238  20.390            0.000  \n",
       "357                                  1.471  22.314            0.000  \n",
       "358                                  2.599  32.181            0.086  \n",
       "359                                  2.247  19.269            0.052  \n",
       "\n",
       "[360 rows x 12 columns]"
      ]
     },
     "execution_count": 9,
     "metadata": {},
     "output_type": "execute_result"
    }
   ],
   "source": [
    "top10 = list(featureScores.nlargest(10,'Score')['Specs'])\n",
    "top10.append('ENSG00000277632')\n",
    "final_gene = genes_cols[genes_cols.columns.intersection(top10)].rename(columns= {'ENSG00000277632':'CCL3'}).reset_index()\n",
    "final_gene                                                  "
   ]
  },
  {
   "cell_type": "markdown",
   "id": "4fe63c98-c9a6-4d48-a418-3282dd3a0531",
   "metadata": {},
   "source": [
    "#### 1.4 Merging datasets"
   ]
  },
  {
   "cell_type": "code",
   "execution_count": 10,
   "id": "c44e3014-e0a5-4f9b-bc15-a51ecf56df37",
   "metadata": {
    "tags": []
   },
   "outputs": [],
   "source": [
    "## concatenating 2020 and 2021 subject & specimen datasets\n",
    "subject = clean_df_subject(pd.concat([pd.merge(df_2020_specimen,df_2020_subject, on= 'subject_id'),\n",
    "pd.merge(df_2021_specimen,df_2021_subject, on= 'subject_id')],ignore_index=True))"
   ]
  },
  {
   "cell_type": "code",
   "execution_count": 11,
   "id": "02fe655e-ba45-427e-a31a-d075310f9ae2",
   "metadata": {
    "tags": []
   },
   "outputs": [],
   "source": [
    "## merging the titer & subject/specimen datasets to one dataframe\n",
    "df = subject.merge(final_gene, on='specimen_id')"
   ]
  },
  {
   "cell_type": "code",
   "execution_count": 12,
   "id": "3fee87cc-5ad1-4d50-a106-67b49cfb4953",
   "metadata": {
    "tags": []
   },
   "outputs": [
    {
     "data": {
      "text/plain": [
       "Index(['specimen_id', 'subject_id', 'actual_day_relative_to_boost',\n",
       "       'planned_day_relative_to_boost', 'specimen_type', 'visit',\n",
       "       'infancy_vac', 'biological_sex', 'ethnicity', 'race', 'year_of_birth',\n",
       "       'date_of_boost', 'dataset', 'age', 'ENSG00000108342', 'ENSG00000203364',\n",
       "       'ENSG00000230923', 'ENSG00000232810', 'ENSG00000234883',\n",
       "       'ENSG00000238094', 'ENSG00000251230', 'ENSG00000267365',\n",
       "       'ENSG00000271133', 'CCL3', 'ENSG00000280228'],\n",
       "      dtype='object')"
      ]
     },
     "execution_count": 12,
     "metadata": {},
     "output_type": "execute_result"
    }
   ],
   "source": [
    "df.columns"
   ]
  },
  {
   "cell_type": "code",
   "execution_count": 13,
   "id": "99b0e3eb-86c2-4296-998e-f4daffb976dc",
   "metadata": {
    "tags": []
   },
   "outputs": [
    {
     "data": {
      "text/html": [
       "<div>\n",
       "<style scoped>\n",
       "    .dataframe tbody tr th:only-of-type {\n",
       "        vertical-align: middle;\n",
       "    }\n",
       "\n",
       "    .dataframe tbody tr th {\n",
       "        vertical-align: top;\n",
       "    }\n",
       "\n",
       "    .dataframe thead th {\n",
       "        text-align: right;\n",
       "    }\n",
       "</style>\n",
       "<table border=\"1\" class=\"dataframe\">\n",
       "  <thead>\n",
       "    <tr style=\"text-align: right;\">\n",
       "      <th></th>\n",
       "      <th>subject_id</th>\n",
       "      <th>specimen_id</th>\n",
       "      <th>infancy_vac</th>\n",
       "      <th>biological_sex</th>\n",
       "      <th>age</th>\n",
       "      <th>year_of_birth</th>\n",
       "      <th>date_of_boost</th>\n",
       "      <th>actual_day_relative_to_boost</th>\n",
       "      <th>planned_day_relative_to_boost</th>\n",
       "      <th>ethnicity</th>\n",
       "      <th>...</th>\n",
       "      <th>ENSG00000203364</th>\n",
       "      <th>ENSG00000230923</th>\n",
       "      <th>ENSG00000232810</th>\n",
       "      <th>ENSG00000234883</th>\n",
       "      <th>ENSG00000238094</th>\n",
       "      <th>ENSG00000251230</th>\n",
       "      <th>ENSG00000267365</th>\n",
       "      <th>ENSG00000271133</th>\n",
       "      <th>ENSG00000280228</th>\n",
       "      <th>CCL3</th>\n",
       "    </tr>\n",
       "  </thead>\n",
       "  <tbody>\n",
       "    <tr>\n",
       "      <th>0</th>\n",
       "      <td>1</td>\n",
       "      <td>1</td>\n",
       "      <td>wP</td>\n",
       "      <td>Female</td>\n",
       "      <td>30</td>\n",
       "      <td>1986</td>\n",
       "      <td>2016</td>\n",
       "      <td>-3</td>\n",
       "      <td>0</td>\n",
       "      <td>Not Hispanic or Latino</td>\n",
       "      <td>...</td>\n",
       "      <td>0.00</td>\n",
       "      <td>0.122</td>\n",
       "      <td>20.768</td>\n",
       "      <td>11.066</td>\n",
       "      <td>0.000</td>\n",
       "      <td>1.836</td>\n",
       "      <td>0.494</td>\n",
       "      <td>3.368</td>\n",
       "      <td>0.104</td>\n",
       "      <td>39.323</td>\n",
       "    </tr>\n",
       "    <tr>\n",
       "      <th>1</th>\n",
       "      <td>1</td>\n",
       "      <td>2</td>\n",
       "      <td>wP</td>\n",
       "      <td>Female</td>\n",
       "      <td>30</td>\n",
       "      <td>1986</td>\n",
       "      <td>2016</td>\n",
       "      <td>1</td>\n",
       "      <td>1</td>\n",
       "      <td>Not Hispanic or Latino</td>\n",
       "      <td>...</td>\n",
       "      <td>0.00</td>\n",
       "      <td>0.054</td>\n",
       "      <td>20.749</td>\n",
       "      <td>7.996</td>\n",
       "      <td>0.000</td>\n",
       "      <td>6.030</td>\n",
       "      <td>1.845</td>\n",
       "      <td>2.011</td>\n",
       "      <td>0.186</td>\n",
       "      <td>52.342</td>\n",
       "    </tr>\n",
       "    <tr>\n",
       "      <th>2</th>\n",
       "      <td>1</td>\n",
       "      <td>3</td>\n",
       "      <td>wP</td>\n",
       "      <td>Female</td>\n",
       "      <td>30</td>\n",
       "      <td>1986</td>\n",
       "      <td>2016</td>\n",
       "      <td>3</td>\n",
       "      <td>3</td>\n",
       "      <td>Not Hispanic or Latino</td>\n",
       "      <td>...</td>\n",
       "      <td>0.00</td>\n",
       "      <td>0.000</td>\n",
       "      <td>23.432</td>\n",
       "      <td>5.167</td>\n",
       "      <td>0.000</td>\n",
       "      <td>3.430</td>\n",
       "      <td>0.693</td>\n",
       "      <td>1.678</td>\n",
       "      <td>0.243</td>\n",
       "      <td>46.410</td>\n",
       "    </tr>\n",
       "    <tr>\n",
       "      <th>3</th>\n",
       "      <td>1</td>\n",
       "      <td>4</td>\n",
       "      <td>wP</td>\n",
       "      <td>Female</td>\n",
       "      <td>30</td>\n",
       "      <td>1986</td>\n",
       "      <td>2016</td>\n",
       "      <td>7</td>\n",
       "      <td>7</td>\n",
       "      <td>Not Hispanic or Latino</td>\n",
       "      <td>...</td>\n",
       "      <td>0.38</td>\n",
       "      <td>0.000</td>\n",
       "      <td>23.726</td>\n",
       "      <td>6.238</td>\n",
       "      <td>0.000</td>\n",
       "      <td>1.582</td>\n",
       "      <td>0.639</td>\n",
       "      <td>3.133</td>\n",
       "      <td>0.887</td>\n",
       "      <td>14.822</td>\n",
       "    </tr>\n",
       "    <tr>\n",
       "      <th>4</th>\n",
       "      <td>1</td>\n",
       "      <td>5</td>\n",
       "      <td>wP</td>\n",
       "      <td>Female</td>\n",
       "      <td>30</td>\n",
       "      <td>1986</td>\n",
       "      <td>2016</td>\n",
       "      <td>11</td>\n",
       "      <td>14</td>\n",
       "      <td>Not Hispanic or Latino</td>\n",
       "      <td>...</td>\n",
       "      <td>0.00</td>\n",
       "      <td>0.054</td>\n",
       "      <td>21.477</td>\n",
       "      <td>9.402</td>\n",
       "      <td>0.000</td>\n",
       "      <td>3.088</td>\n",
       "      <td>1.100</td>\n",
       "      <td>1.199</td>\n",
       "      <td>0.185</td>\n",
       "      <td>67.366</td>\n",
       "    </tr>\n",
       "    <tr>\n",
       "      <th>5</th>\n",
       "      <td>3</td>\n",
       "      <td>19</td>\n",
       "      <td>wP</td>\n",
       "      <td>Female</td>\n",
       "      <td>33</td>\n",
       "      <td>1983</td>\n",
       "      <td>2016</td>\n",
       "      <td>-3</td>\n",
       "      <td>0</td>\n",
       "      <td>Unknown</td>\n",
       "      <td>...</td>\n",
       "      <td>0.00</td>\n",
       "      <td>0.000</td>\n",
       "      <td>43.599</td>\n",
       "      <td>1.956</td>\n",
       "      <td>0.000</td>\n",
       "      <td>0.793</td>\n",
       "      <td>0.897</td>\n",
       "      <td>1.222</td>\n",
       "      <td>0.202</td>\n",
       "      <td>23.251</td>\n",
       "    </tr>\n",
       "    <tr>\n",
       "      <th>6</th>\n",
       "      <td>3</td>\n",
       "      <td>20</td>\n",
       "      <td>wP</td>\n",
       "      <td>Female</td>\n",
       "      <td>33</td>\n",
       "      <td>1983</td>\n",
       "      <td>2016</td>\n",
       "      <td>1</td>\n",
       "      <td>1</td>\n",
       "      <td>Unknown</td>\n",
       "      <td>...</td>\n",
       "      <td>0.00</td>\n",
       "      <td>0.000</td>\n",
       "      <td>61.617</td>\n",
       "      <td>1.777</td>\n",
       "      <td>0.469</td>\n",
       "      <td>3.947</td>\n",
       "      <td>1.410</td>\n",
       "      <td>2.673</td>\n",
       "      <td>0.193</td>\n",
       "      <td>19.835</td>\n",
       "    </tr>\n",
       "    <tr>\n",
       "      <th>7</th>\n",
       "      <td>3</td>\n",
       "      <td>21</td>\n",
       "      <td>wP</td>\n",
       "      <td>Female</td>\n",
       "      <td>33</td>\n",
       "      <td>1983</td>\n",
       "      <td>2016</td>\n",
       "      <td>3</td>\n",
       "      <td>3</td>\n",
       "      <td>Unknown</td>\n",
       "      <td>...</td>\n",
       "      <td>0.00</td>\n",
       "      <td>0.000</td>\n",
       "      <td>36.918</td>\n",
       "      <td>1.451</td>\n",
       "      <td>0.000</td>\n",
       "      <td>1.346</td>\n",
       "      <td>0.204</td>\n",
       "      <td>2.777</td>\n",
       "      <td>0.214</td>\n",
       "      <td>26.204</td>\n",
       "    </tr>\n",
       "    <tr>\n",
       "      <th>8</th>\n",
       "      <td>3</td>\n",
       "      <td>22</td>\n",
       "      <td>wP</td>\n",
       "      <td>Female</td>\n",
       "      <td>33</td>\n",
       "      <td>1983</td>\n",
       "      <td>2016</td>\n",
       "      <td>7</td>\n",
       "      <td>7</td>\n",
       "      <td>Unknown</td>\n",
       "      <td>...</td>\n",
       "      <td>0.00</td>\n",
       "      <td>0.056</td>\n",
       "      <td>30.162</td>\n",
       "      <td>3.381</td>\n",
       "      <td>0.000</td>\n",
       "      <td>0.946</td>\n",
       "      <td>0.611</td>\n",
       "      <td>1.249</td>\n",
       "      <td>0.048</td>\n",
       "      <td>24.472</td>\n",
       "    </tr>\n",
       "    <tr>\n",
       "      <th>9</th>\n",
       "      <td>3</td>\n",
       "      <td>23</td>\n",
       "      <td>wP</td>\n",
       "      <td>Female</td>\n",
       "      <td>33</td>\n",
       "      <td>1983</td>\n",
       "      <td>2016</td>\n",
       "      <td>14</td>\n",
       "      <td>14</td>\n",
       "      <td>Unknown</td>\n",
       "      <td>...</td>\n",
       "      <td>0.00</td>\n",
       "      <td>0.136</td>\n",
       "      <td>31.639</td>\n",
       "      <td>2.902</td>\n",
       "      <td>0.000</td>\n",
       "      <td>0.608</td>\n",
       "      <td>0.368</td>\n",
       "      <td>2.675</td>\n",
       "      <td>0.194</td>\n",
       "      <td>17.446</td>\n",
       "    </tr>\n",
       "  </tbody>\n",
       "</table>\n",
       "<p>10 rows × 25 columns</p>\n",
       "</div>"
      ],
      "text/plain": [
       "   subject_id  specimen_id infancy_vac biological_sex  age  year_of_birth  \\\n",
       "0           1            1          wP         Female   30           1986   \n",
       "1           1            2          wP         Female   30           1986   \n",
       "2           1            3          wP         Female   30           1986   \n",
       "3           1            4          wP         Female   30           1986   \n",
       "4           1            5          wP         Female   30           1986   \n",
       "5           3           19          wP         Female   33           1983   \n",
       "6           3           20          wP         Female   33           1983   \n",
       "7           3           21          wP         Female   33           1983   \n",
       "8           3           22          wP         Female   33           1983   \n",
       "9           3           23          wP         Female   33           1983   \n",
       "\n",
       "   date_of_boost  actual_day_relative_to_boost  planned_day_relative_to_boost  \\\n",
       "0           2016                            -3                              0   \n",
       "1           2016                             1                              1   \n",
       "2           2016                             3                              3   \n",
       "3           2016                             7                              7   \n",
       "4           2016                            11                             14   \n",
       "5           2016                            -3                              0   \n",
       "6           2016                             1                              1   \n",
       "7           2016                             3                              3   \n",
       "8           2016                             7                              7   \n",
       "9           2016                            14                             14   \n",
       "\n",
       "                ethnicity  ... ENSG00000203364 ENSG00000230923  \\\n",
       "0  Not Hispanic or Latino  ...            0.00           0.122   \n",
       "1  Not Hispanic or Latino  ...            0.00           0.054   \n",
       "2  Not Hispanic or Latino  ...            0.00           0.000   \n",
       "3  Not Hispanic or Latino  ...            0.38           0.000   \n",
       "4  Not Hispanic or Latino  ...            0.00           0.054   \n",
       "5                 Unknown  ...            0.00           0.000   \n",
       "6                 Unknown  ...            0.00           0.000   \n",
       "7                 Unknown  ...            0.00           0.000   \n",
       "8                 Unknown  ...            0.00           0.056   \n",
       "9                 Unknown  ...            0.00           0.136   \n",
       "\n",
       "  ENSG00000232810  ENSG00000234883  ENSG00000238094  ENSG00000251230  \\\n",
       "0          20.768           11.066            0.000            1.836   \n",
       "1          20.749            7.996            0.000            6.030   \n",
       "2          23.432            5.167            0.000            3.430   \n",
       "3          23.726            6.238            0.000            1.582   \n",
       "4          21.477            9.402            0.000            3.088   \n",
       "5          43.599            1.956            0.000            0.793   \n",
       "6          61.617            1.777            0.469            3.947   \n",
       "7          36.918            1.451            0.000            1.346   \n",
       "8          30.162            3.381            0.000            0.946   \n",
       "9          31.639            2.902            0.000            0.608   \n",
       "\n",
       "   ENSG00000267365  ENSG00000271133  ENSG00000280228    CCL3  \n",
       "0            0.494            3.368            0.104  39.323  \n",
       "1            1.845            2.011            0.186  52.342  \n",
       "2            0.693            1.678            0.243  46.410  \n",
       "3            0.639            3.133            0.887  14.822  \n",
       "4            1.100            1.199            0.185  67.366  \n",
       "5            0.897            1.222            0.202  23.251  \n",
       "6            1.410            2.673            0.193  19.835  \n",
       "7            0.204            2.777            0.214  26.204  \n",
       "8            0.611            1.249            0.048  24.472  \n",
       "9            0.368            2.675            0.194  17.446  \n",
       "\n",
       "[10 rows x 25 columns]"
      ]
     },
     "execution_count": 13,
     "metadata": {},
     "output_type": "execute_result"
    }
   ],
   "source": [
    "df = df[['subject_id',\n",
    "         'specimen_id',\n",
    "         'infancy_vac',\n",
    "         'biological_sex',\n",
    "         'age',\n",
    "         'year_of_birth',\n",
    "         'date_of_boost',\n",
    "         'actual_day_relative_to_boost',\n",
    "         'planned_day_relative_to_boost',\n",
    "         'ethnicity',\n",
    "         'race',\n",
    "         'dataset',\n",
    "         'specimen_type',\n",
    "         'visit',\n",
    "         'ENSG00000108342', 'ENSG00000203364','ENSG00000230923', 'ENSG00000232810', 'ENSG00000234883','ENSG00000238094', 'ENSG00000251230', 'ENSG00000267365','ENSG00000271133', 'ENSG00000280228', 'CCL3',\n",
    "        ]]\n",
    "df.head(10)"
   ]
  },
  {
   "cell_type": "markdown",
   "id": "839aa78e-fa4a-4720-bd45-11366e857e74",
   "metadata": {
    "tags": []
   },
   "source": [
    "## 2. Data Feature Selection & Transformation"
   ]
  },
  {
   "cell_type": "code",
   "execution_count": 14,
   "id": "a7516a4f-c312-4e5f-833c-a2b6734749bb",
   "metadata": {},
   "outputs": [],
   "source": [
    "df_d0 = df[df['planned_day_relative_to_boost'] == 0.0][['subject_id', 'ENSG00000108342', 'ENSG00000203364',\n",
    "       'ENSG00000230923', 'ENSG00000232810', 'ENSG00000234883',\n",
    "       'ENSG00000238094', 'ENSG00000251230', 'ENSG00000267365',\n",
    "       'ENSG00000271133', 'ENSG00000280228', 'CCL3']].add_suffix(\"_d0\").rename(columns= {'subject_id_d0':'subject_id'})\n",
    "df_d3 = df[df['planned_day_relative_to_boost'] == 3.0]\n",
    "df_d3 = df_d3.merge(df_d0, on = 'subject_id')"
   ]
  },
  {
   "cell_type": "code",
   "execution_count": 15,
   "id": "4fb9aae5-b47a-4992-92ba-d80b7a582de7",
   "metadata": {
    "tags": []
   },
   "outputs": [],
   "source": [
    "df_d3 = df_d3[['infancy_vac', 'biological_sex', 'age', 'year_of_birth', 'ethnicity', 'race', \n",
    "       'CCL3', 'ENSG00000108342_d0',\n",
    "       'ENSG00000203364_d0', 'ENSG00000230923_d0', 'ENSG00000232810_d0',\n",
    "       'ENSG00000234883_d0', 'ENSG00000238094_d0', 'ENSG00000251230_d0',\n",
    "       'ENSG00000267365_d0', 'ENSG00000271133_d0', 'ENSG00000280228_d0',\n",
    "       'CCL3_d0']]"
   ]
  },
  {
   "cell_type": "code",
   "execution_count": 16,
   "id": "123757e1-4d10-4986-a2df-1a563abd62b6",
   "metadata": {
    "tags": []
   },
   "outputs": [],
   "source": [
    "df_d3['CCL3-FC'] = np.log2(df_d3['CCL3'] / df_d3['CCL3_d0'])"
   ]
  },
  {
   "cell_type": "code",
   "execution_count": null,
   "id": "22b3ebe6-0cb6-4b24-9412-13bfacb5bd39",
   "metadata": {},
   "outputs": [],
   "source": []
  },
  {
   "cell_type": "markdown",
   "id": "e51ea557-517a-40ef-91b4-6c83d5cc00de",
   "metadata": {},
   "source": [
    "#### 2.1 Data Feature Transformation\n",
    "- mapping string data into numerical type for Regression training"
   ]
  },
  {
   "cell_type": "code",
   "execution_count": 17,
   "id": "c9a359f9-62f4-445a-9a16-ce8c00e7ac1f",
   "metadata": {
    "tags": []
   },
   "outputs": [],
   "source": [
    "df_d3['infancy_vac'] = df_d3['infancy_vac'].map({'wP':0, 'aP':1})"
   ]
  },
  {
   "cell_type": "code",
   "execution_count": 18,
   "id": "118fa06d-a06c-4db4-8593-5340524e293b",
   "metadata": {
    "tags": []
   },
   "outputs": [],
   "source": [
    "df_d3['biological_sex'] = df_d3['biological_sex'].map({'Female':0, 'Male':1})"
   ]
  },
  {
   "cell_type": "code",
   "execution_count": 19,
   "id": "a94f536b-96ac-4df1-a30a-efd639792458",
   "metadata": {
    "tags": []
   },
   "outputs": [],
   "source": [
    "df_d3['ethnicity'] = df_d3['ethnicity'].map({'Not Hispanic or Latino':0, \n",
    "                                             'Hispanic or Latino':1,\n",
    "                                             'Unknown':2})"
   ]
  },
  {
   "cell_type": "code",
   "execution_count": 20,
   "id": "ccaf5197-15bd-46ec-99d5-eb73b4f106e6",
   "metadata": {
    "tags": []
   },
   "outputs": [
    {
     "data": {
      "text/html": [
       "<div>\n",
       "<style scoped>\n",
       "    .dataframe tbody tr th:only-of-type {\n",
       "        vertical-align: middle;\n",
       "    }\n",
       "\n",
       "    .dataframe tbody tr th {\n",
       "        vertical-align: top;\n",
       "    }\n",
       "\n",
       "    .dataframe thead th {\n",
       "        text-align: right;\n",
       "    }\n",
       "</style>\n",
       "<table border=\"1\" class=\"dataframe\">\n",
       "  <thead>\n",
       "    <tr style=\"text-align: right;\">\n",
       "      <th></th>\n",
       "      <th>infancy_vac</th>\n",
       "      <th>biological_sex</th>\n",
       "      <th>age</th>\n",
       "      <th>year_of_birth</th>\n",
       "      <th>ethnicity</th>\n",
       "      <th>race</th>\n",
       "      <th>CCL3</th>\n",
       "      <th>ENSG00000108342_d0</th>\n",
       "      <th>ENSG00000203364_d0</th>\n",
       "      <th>ENSG00000230923_d0</th>\n",
       "      <th>ENSG00000232810_d0</th>\n",
       "      <th>ENSG00000234883_d0</th>\n",
       "      <th>ENSG00000238094_d0</th>\n",
       "      <th>ENSG00000251230_d0</th>\n",
       "      <th>ENSG00000267365_d0</th>\n",
       "      <th>ENSG00000271133_d0</th>\n",
       "      <th>ENSG00000280228_d0</th>\n",
       "      <th>CCL3_d0</th>\n",
       "      <th>CCL3-FC</th>\n",
       "    </tr>\n",
       "  </thead>\n",
       "  <tbody>\n",
       "    <tr>\n",
       "      <th>0</th>\n",
       "      <td>0</td>\n",
       "      <td>0</td>\n",
       "      <td>30</td>\n",
       "      <td>1986</td>\n",
       "      <td>0</td>\n",
       "      <td>0</td>\n",
       "      <td>46.410</td>\n",
       "      <td>0.091</td>\n",
       "      <td>0.000</td>\n",
       "      <td>0.122</td>\n",
       "      <td>20.768</td>\n",
       "      <td>11.066</td>\n",
       "      <td>0.0</td>\n",
       "      <td>1.836</td>\n",
       "      <td>0.494</td>\n",
       "      <td>3.368</td>\n",
       "      <td>0.104</td>\n",
       "      <td>39.323</td>\n",
       "      <td>0.239062</td>\n",
       "    </tr>\n",
       "    <tr>\n",
       "      <th>1</th>\n",
       "      <td>0</td>\n",
       "      <td>0</td>\n",
       "      <td>33</td>\n",
       "      <td>1983</td>\n",
       "      <td>2</td>\n",
       "      <td>0</td>\n",
       "      <td>26.204</td>\n",
       "      <td>0.070</td>\n",
       "      <td>0.000</td>\n",
       "      <td>0.000</td>\n",
       "      <td>43.599</td>\n",
       "      <td>1.956</td>\n",
       "      <td>0.0</td>\n",
       "      <td>0.793</td>\n",
       "      <td>0.897</td>\n",
       "      <td>1.222</td>\n",
       "      <td>0.202</td>\n",
       "      <td>23.251</td>\n",
       "      <td>0.172494</td>\n",
       "    </tr>\n",
       "    <tr>\n",
       "      <th>2</th>\n",
       "      <td>0</td>\n",
       "      <td>1</td>\n",
       "      <td>28</td>\n",
       "      <td>1988</td>\n",
       "      <td>0</td>\n",
       "      <td>1</td>\n",
       "      <td>13.353</td>\n",
       "      <td>0.000</td>\n",
       "      <td>0.381</td>\n",
       "      <td>0.000</td>\n",
       "      <td>16.107</td>\n",
       "      <td>7.314</td>\n",
       "      <td>0.0</td>\n",
       "      <td>0.317</td>\n",
       "      <td>0.575</td>\n",
       "      <td>1.393</td>\n",
       "      <td>0.202</td>\n",
       "      <td>16.084</td>\n",
       "      <td>-0.268462</td>\n",
       "    </tr>\n",
       "    <tr>\n",
       "      <th>3</th>\n",
       "      <td>0</td>\n",
       "      <td>1</td>\n",
       "      <td>25</td>\n",
       "      <td>1991</td>\n",
       "      <td>0</td>\n",
       "      <td>1</td>\n",
       "      <td>20.618</td>\n",
       "      <td>0.000</td>\n",
       "      <td>0.000</td>\n",
       "      <td>0.000</td>\n",
       "      <td>20.861</td>\n",
       "      <td>5.795</td>\n",
       "      <td>0.0</td>\n",
       "      <td>0.463</td>\n",
       "      <td>0.436</td>\n",
       "      <td>1.697</td>\n",
       "      <td>0.196</td>\n",
       "      <td>29.202</td>\n",
       "      <td>-0.502163</td>\n",
       "    </tr>\n",
       "    <tr>\n",
       "      <th>4</th>\n",
       "      <td>0</td>\n",
       "      <td>0</td>\n",
       "      <td>28</td>\n",
       "      <td>1988</td>\n",
       "      <td>0</td>\n",
       "      <td>0</td>\n",
       "      <td>19.606</td>\n",
       "      <td>0.000</td>\n",
       "      <td>0.000</td>\n",
       "      <td>0.000</td>\n",
       "      <td>30.013</td>\n",
       "      <td>3.153</td>\n",
       "      <td>0.0</td>\n",
       "      <td>2.257</td>\n",
       "      <td>0.182</td>\n",
       "      <td>1.822</td>\n",
       "      <td>0.307</td>\n",
       "      <td>22.844</td>\n",
       "      <td>-0.220520</td>\n",
       "    </tr>\n",
       "  </tbody>\n",
       "</table>\n",
       "</div>"
      ],
      "text/plain": [
       "   infancy_vac  biological_sex  age  year_of_birth  ethnicity  race    CCL3  \\\n",
       "0            0               0   30           1986          0     0  46.410   \n",
       "1            0               0   33           1983          2     0  26.204   \n",
       "2            0               1   28           1988          0     1  13.353   \n",
       "3            0               1   25           1991          0     1  20.618   \n",
       "4            0               0   28           1988          0     0  19.606   \n",
       "\n",
       "   ENSG00000108342_d0  ENSG00000203364_d0  ENSG00000230923_d0  \\\n",
       "0               0.091               0.000               0.122   \n",
       "1               0.070               0.000               0.000   \n",
       "2               0.000               0.381               0.000   \n",
       "3               0.000               0.000               0.000   \n",
       "4               0.000               0.000               0.000   \n",
       "\n",
       "   ENSG00000232810_d0  ENSG00000234883_d0  ENSG00000238094_d0  \\\n",
       "0              20.768              11.066                 0.0   \n",
       "1              43.599               1.956                 0.0   \n",
       "2              16.107               7.314                 0.0   \n",
       "3              20.861               5.795                 0.0   \n",
       "4              30.013               3.153                 0.0   \n",
       "\n",
       "   ENSG00000251230_d0  ENSG00000267365_d0  ENSG00000271133_d0  \\\n",
       "0               1.836               0.494               3.368   \n",
       "1               0.793               0.897               1.222   \n",
       "2               0.317               0.575               1.393   \n",
       "3               0.463               0.436               1.697   \n",
       "4               2.257               0.182               1.822   \n",
       "\n",
       "   ENSG00000280228_d0  CCL3_d0   CCL3-FC  \n",
       "0               0.104   39.323  0.239062  \n",
       "1               0.202   23.251  0.172494  \n",
       "2               0.202   16.084 -0.268462  \n",
       "3               0.196   29.202 -0.502163  \n",
       "4               0.307   22.844 -0.220520  "
      ]
     },
     "execution_count": 20,
     "metadata": {},
     "output_type": "execute_result"
    }
   ],
   "source": [
    "df_d3['race'] = df_d3['race'].map({'White':0, \n",
    "                                   'Asian':1,\n",
    "                                   'Unknown or Not Reported': 2,\n",
    "                                   'More Than One Race': 2,\n",
    "                                   'Black or African American': 3,\n",
    "                                   'Native Hawaiian or Other Pacific Islander': 4,\n",
    "                                   'American Indian/Alaska Native':5})\n",
    "df_d3.head()"
   ]
  },
  {
   "cell_type": "markdown",
   "id": "066b9307-4cfe-4ca5-940e-c120bcc46b21",
   "metadata": {
    "tags": []
   },
   "source": [
    "## 3. Training and Evaluating Models"
   ]
  },
  {
   "cell_type": "markdown",
   "id": "c4ded5e1-199b-4994-8aee-c9f9c39767b5",
   "metadata": {
    "tags": []
   },
   "source": [
    "#### 3.1 Creating training and testing datasets"
   ]
  },
  {
   "cell_type": "code",
   "execution_count": 21,
   "id": "9b68781c-61b7-423d-add8-8d159b4f8717",
   "metadata": {
    "tags": []
   },
   "outputs": [],
   "source": [
    "X = df_d3.drop(['CCL3','CCL3-FC'], axis = 1)\n",
    "y = df_d3['CCL3-FC']"
   ]
  },
  {
   "cell_type": "code",
   "execution_count": 22,
   "id": "81c5d651-1979-4825-90dc-ed6d4e5c2012",
   "metadata": {
    "tags": []
   },
   "outputs": [],
   "source": [
    "X_train, X_test, y_train, y_test = train_test_split(X, y, test_size=0.2)"
   ]
  },
  {
   "cell_type": "code",
   "execution_count": 23,
   "id": "ba3f3d83-36e5-46b4-b13c-8ef92b5bcf55",
   "metadata": {
    "tags": []
   },
   "outputs": [],
   "source": [
    "scaler = Normalizer()\n",
    "X_train_scaled = X_train#pd.DataFrame(scaler.fit_transform(X_train), columns=X_train.columns)\n",
    "X_test_scaled = X_test#pd.DataFrame(scaler.transform(X_test), columns=X_test.columns)"
   ]
  },
  {
   "cell_type": "markdown",
   "id": "549814a8-54e2-4f1d-b20b-776df5b08ce9",
   "metadata": {},
   "source": [
    "#### 3.2 Linear Regression "
   ]
  },
  {
   "cell_type": "markdown",
   "id": "ff0da437-874a-4117-8b5c-7bc15d5eec5f",
   "metadata": {},
   "source": [
    "First we will test a simple naive model, Linear Regression, to get a baseline of how a model should at least perform"
   ]
  },
  {
   "cell_type": "code",
   "execution_count": 24,
   "id": "c8a7f3e2-9e99-4682-ab19-f09e7e0f86ce",
   "metadata": {
    "tags": []
   },
   "outputs": [],
   "source": [
    "reg = LinearRegression().fit(X, y)\n",
    "Y_pred = reg.predict(X)"
   ]
  },
  {
   "cell_type": "code",
   "execution_count": 25,
   "id": "59328d60-a283-4568-b59a-f3fdd3d2c91c",
   "metadata": {
    "tags": []
   },
   "outputs": [
    {
     "data": {
      "text/plain": [
       "(0.7731912743369915, 0.7122987702389307, 0.6511666364409596)"
      ]
     },
     "execution_count": 25,
     "metadata": {},
     "output_type": "execute_result"
    }
   ],
   "source": [
    "mse = mean_squared_error(y, Y_pred)\n",
    "mae = mean_absolute_error(y, Y_pred)\n",
    "r2 = r2_score(y, Y_pred)\n",
    "mse, mae, r2"
   ]
  },
  {
   "cell_type": "markdown",
   "id": "97eed26c-d08e-48b6-84d2-c43596355ae1",
   "metadata": {},
   "source": [
    "The MSE, MAE, and R2 scores were very good indicating that the model was good at predicting among its own training data, though the real evaluation comes with training the model with the training dataset, and predicting values for the testing subset of data. This will allow us to better evaluate if the model's actually good at predicitng with new data points."
   ]
  },
  {
   "cell_type": "code",
   "execution_count": 26,
   "id": "3ca99dee-6a17-4953-b8f4-82ee78e077a1",
   "metadata": {
    "tags": []
   },
   "outputs": [],
   "source": [
    "reg_sub = LinearRegression().fit(X_train, y_train)\n",
    "Y_pred = reg_sub.predict(X_test)"
   ]
  },
  {
   "cell_type": "code",
   "execution_count": 27,
   "id": "ea1c6971-1b5f-40b6-a641-7f092d2dac89",
   "metadata": {
    "tags": []
   },
   "outputs": [
    {
     "data": {
      "text/plain": [
       "(1.2122995664383542, 0.8859257034662402, 0.2232005308556585)"
      ]
     },
     "execution_count": 27,
     "metadata": {},
     "output_type": "execute_result"
    }
   ],
   "source": [
    "mse = mean_squared_error(y_test, Y_pred)\n",
    "mae = mean_absolute_error(y_test, Y_pred)\n",
    "r2 = r2_score(y_test, Y_pred)\n",
    "mse, mae, r2"
   ]
  },
  {
   "cell_type": "markdown",
   "id": "67d4562d-753f-40f7-b63c-ee81aee6f0a0",
   "metadata": {},
   "source": [
    "While the MSE and MAE scores performed better, the R2 indicates that the model is heavily not accurate in its predictions and could definitely be improved upon. So we are going to be testing more advanced models and seeing any improvements"
   ]
  },
  {
   "cell_type": "markdown",
   "id": "abdafeeb-3449-4119-bb66-478bb35d71c9",
   "metadata": {},
   "source": [
    "#### 3.2 Elastic Net"
   ]
  },
  {
   "cell_type": "code",
   "execution_count": 28,
   "id": "f5e7edbd-67cc-40db-bd7d-80910c5c1567",
   "metadata": {
    "tags": []
   },
   "outputs": [],
   "source": [
    "en = ElasticNet()\n",
    "en.fit(X, y)\n",
    "Y_pred = en.predict(X)"
   ]
  },
  {
   "cell_type": "code",
   "execution_count": 29,
   "id": "cca8639e-dc17-4b36-81d1-5c1ae956a80b",
   "metadata": {
    "tags": []
   },
   "outputs": [
    {
     "data": {
      "text/plain": [
       "(1.2881846251905564, 0.8380173341785391, 0.41882197768516016)"
      ]
     },
     "execution_count": 29,
     "metadata": {},
     "output_type": "execute_result"
    }
   ],
   "source": [
    "mse = mean_squared_error(y, Y_pred)\n",
    "mae = mean_absolute_error(y, Y_pred)\n",
    "r2 = r2_score(y, Y_pred)\n",
    "mse, mae, r2"
   ]
  },
  {
   "cell_type": "code",
   "execution_count": 30,
   "id": "e207bc19-ea6b-43f2-8d62-c838245c1d54",
   "metadata": {
    "tags": []
   },
   "outputs": [],
   "source": [
    "en_sub = ElasticNet()\n",
    "en_sub.fit(X_train, y_train)\n",
    "Y_pred = en_sub.predict(X_test)"
   ]
  },
  {
   "cell_type": "code",
   "execution_count": 31,
   "id": "1e46767f-8415-4f3c-8e02-df35da6401fe",
   "metadata": {
    "tags": []
   },
   "outputs": [
    {
     "data": {
      "text/plain": [
       "(1.1541074402933473, 0.8121206449401244, 0.2604880247633127)"
      ]
     },
     "execution_count": 31,
     "metadata": {},
     "output_type": "execute_result"
    }
   ],
   "source": [
    "mse = mean_squared_error(y_test, Y_pred)\n",
    "mae = mean_absolute_error(y_test, Y_pred)\n",
    "r2 = r2_score(y_test, Y_pred)\n",
    "mse, mae, r2"
   ]
  },
  {
   "cell_type": "markdown",
   "id": "93fe78fe-c065-4a91-963b-01e820cf7688",
   "metadata": {
    "tags": []
   },
   "source": [
    "#### 3.3 KNeighborsRegressor"
   ]
  },
  {
   "cell_type": "markdown",
   "id": "5be73b11-b8d3-4555-a3f2-99080b5e201f",
   "metadata": {},
   "source": [
    "Since our training data we are working with is fairly constricted in size, we will take a look at how KNeighborsRegressor will perform"
   ]
  },
  {
   "cell_type": "code",
   "execution_count": 32,
   "id": "a23aa81a-3e30-4005-9b89-f73ddd415177",
   "metadata": {
    "tags": []
   },
   "outputs": [],
   "source": [
    "kn = KNeighborsRegressor()\n",
    "kn.fit(X, y)\n",
    "Y_pred = kn.predict(X)"
   ]
  },
  {
   "cell_type": "code",
   "execution_count": 33,
   "id": "f72243ed-d723-47ee-8694-5e19354c7cb7",
   "metadata": {
    "tags": []
   },
   "outputs": [
    {
     "data": {
      "text/plain": [
       "(1.3428008347594746, 0.8528933065009335, 0.39418130115255423)"
      ]
     },
     "execution_count": 33,
     "metadata": {},
     "output_type": "execute_result"
    }
   ],
   "source": [
    "mse = mean_squared_error(y, Y_pred)\n",
    "mae = mean_absolute_error(y, Y_pred)\n",
    "r2 = r2_score(y, Y_pred)\n",
    "mse, mae, r2"
   ]
  },
  {
   "cell_type": "code",
   "execution_count": 34,
   "id": "d2b1e1db-a6b7-4888-a7fe-9fad67cb15e9",
   "metadata": {
    "tags": []
   },
   "outputs": [],
   "source": [
    "kn_sub = KNeighborsRegressor()\n",
    "kn_sub.fit(X_train, y_train)\n",
    "Y_pred = kn_sub.predict(X_test)"
   ]
  },
  {
   "cell_type": "code",
   "execution_count": 35,
   "id": "033adb95-c7d6-4328-8e8f-737fa3fc2ae1",
   "metadata": {
    "tags": []
   },
   "outputs": [
    {
     "data": {
      "text/plain": [
       "(1.4423299865712662, 0.9042689095874802, 0.07580502466797057)"
      ]
     },
     "execution_count": 35,
     "metadata": {},
     "output_type": "execute_result"
    }
   ],
   "source": [
    "mse = mean_squared_error(y_test, Y_pred)\n",
    "mae = mean_absolute_error(y_test, Y_pred)\n",
    "r2 = r2_score(y_test, Y_pred)\n",
    "mse, mae, r2"
   ]
  },
  {
   "cell_type": "markdown",
   "id": "85d9660d-36ee-4502-86a5-efb9f803274e",
   "metadata": {
    "tags": []
   },
   "source": [
    "The results are promising with a R2 score of 0.57 on a scale from 0 to 1, alot better than our baseline with Linear Regression of -4.15"
   ]
  },
  {
   "cell_type": "markdown",
   "id": "792200fd-f5b2-49e5-9c10-b37138d523a4",
   "metadata": {},
   "source": [
    "#### 3.4 DecisionTreeRegressor"
   ]
  },
  {
   "cell_type": "code",
   "execution_count": 36,
   "id": "b7dcba2d-4cc3-47bd-aea6-4d8f6b3305fd",
   "metadata": {
    "tags": []
   },
   "outputs": [],
   "source": [
    "regr_1 = DecisionTreeRegressor(max_depth=5)\n",
    "regr_2 = DecisionTreeRegressor(max_depth=10)\n",
    "regr_3 = DecisionTreeRegressor(max_depth=15)\n",
    "regr_1.fit(X, y)\n",
    "regr_2.fit(X, y)\n",
    "regr_3.fit(X, y)\n",
    "y_1 = regr_1.predict(X)\n",
    "y_2 = regr_2.predict(X)\n",
    "y_3 = regr_3.predict(X)"
   ]
  },
  {
   "cell_type": "code",
   "execution_count": 37,
   "id": "06c84492-0bd4-47a4-8c22-679eb0671eae",
   "metadata": {
    "tags": []
   },
   "outputs": [
    {
     "data": {
      "text/plain": [
       "(0.25610715682139534, 0.37623775720426833, 0.8844545665338016)"
      ]
     },
     "execution_count": 37,
     "metadata": {},
     "output_type": "execute_result"
    }
   ],
   "source": [
    "mse = mean_squared_error(y, y_1)\n",
    "mae = mean_absolute_error(y, y_1)\n",
    "r2 = r2_score(y, y_1)\n",
    "mse, mae, r2"
   ]
  },
  {
   "cell_type": "code",
   "execution_count": 38,
   "id": "c6f4467d-e352-4357-8652-9d268355e27e",
   "metadata": {
    "tags": []
   },
   "outputs": [
    {
     "data": {
      "text/plain": [
       "(0.0029803038794225366, 0.017476970775962122, 0.9986554046053113)"
      ]
     },
     "execution_count": 38,
     "metadata": {},
     "output_type": "execute_result"
    }
   ],
   "source": [
    "mse = mean_squared_error(y, y_2)\n",
    "mae = mean_absolute_error(y, y_2)\n",
    "r2 = r2_score(y, y_2)\n",
    "mse, mae, r2"
   ]
  },
  {
   "cell_type": "code",
   "execution_count": 39,
   "id": "faff1a3d-9539-4bf6-9bbb-085a5b2814a0",
   "metadata": {
    "tags": []
   },
   "outputs": [
    {
     "data": {
      "text/plain": [
       "(0.0, 0.0, 1.0)"
      ]
     },
     "execution_count": 39,
     "metadata": {},
     "output_type": "execute_result"
    }
   ],
   "source": [
    "mse = mean_squared_error(y, y_3)\n",
    "mae = mean_absolute_error(y, y_3)\n",
    "r2 = r2_score(y, y_3)\n",
    "mse, mae, r2"
   ]
  },
  {
   "cell_type": "code",
   "execution_count": 40,
   "id": "e94c9083-eca7-4159-a5f7-027a94be14b3",
   "metadata": {
    "tags": []
   },
   "outputs": [],
   "source": [
    "regr_1_sub = DecisionTreeRegressor(max_depth=5)\n",
    "regr_2_sub = DecisionTreeRegressor(max_depth=10)\n",
    "regr_3_sub = DecisionTreeRegressor(max_depth=15)\n",
    "regr_1_sub.fit(X_train, y_train)\n",
    "regr_2_sub.fit(X_train, y_train)\n",
    "regr_3_sub.fit(X_train, y_train)\n",
    "y_1 = regr_1.predict(X_test)\n",
    "y_2 = regr_2.predict(X_test)\n",
    "y_3 = regr_3.predict(X_test)"
   ]
  },
  {
   "cell_type": "code",
   "execution_count": 41,
   "id": "05be22bb-7285-489a-a4d4-1fad14da769b",
   "metadata": {
    "tags": []
   },
   "outputs": [
    {
     "data": {
      "text/plain": [
       "(0.17267400336755326, 0.2898843326340003, 0.889356494166688)"
      ]
     },
     "execution_count": 41,
     "metadata": {},
     "output_type": "execute_result"
    }
   ],
   "source": [
    "mse = mean_squared_error(y_test, y_1)\n",
    "mae = mean_absolute_error(y_test, y_1)\n",
    "r2 = r2_score(y_test, y_1)\n",
    "mse, mae, r2"
   ]
  },
  {
   "cell_type": "code",
   "execution_count": 42,
   "id": "3a95904a-1eed-432c-bf7a-05fb36aa4214",
   "metadata": {
    "tags": []
   },
   "outputs": [
    {
     "data": {
      "text/plain": [
       "(0.002793673265219319, 0.021728225762323687, 0.9982099111725654)"
      ]
     },
     "execution_count": 42,
     "metadata": {},
     "output_type": "execute_result"
    }
   ],
   "source": [
    "mse = mean_squared_error(y_test, y_2)\n",
    "mae = mean_absolute_error(y_test, y_2)\n",
    "r2 = r2_score(y_test, y_2)\n",
    "mse, mae, r2"
   ]
  },
  {
   "cell_type": "code",
   "execution_count": 43,
   "id": "18447430-3f78-4e9e-918f-b0e70878f972",
   "metadata": {
    "tags": []
   },
   "outputs": [
    {
     "data": {
      "text/plain": [
       "(0.0, 0.0, 1.0)"
      ]
     },
     "execution_count": 43,
     "metadata": {},
     "output_type": "execute_result"
    }
   ],
   "source": [
    "mse = mean_squared_error(y_test, y_3)\n",
    "mae = mean_absolute_error(y_test, y_3)\n",
    "r2 = r2_score(y_test, y_3)\n",
    "mse, mae, r2"
   ]
  },
  {
   "cell_type": "markdown",
   "id": "fcde42e2-2a04-40fa-a331-78701a298589",
   "metadata": {
    "tags": []
   },
   "source": [
    "#### 3.5 RandomForestRegressor"
   ]
  },
  {
   "cell_type": "code",
   "execution_count": 44,
   "id": "0a6e5045-8de8-4429-8049-03083e487634",
   "metadata": {
    "tags": []
   },
   "outputs": [],
   "source": [
    "rf = RandomForestRegressor()\n",
    "rf.fit(X, y)\n",
    "Y_pred = rf.predict(X)"
   ]
  },
  {
   "cell_type": "code",
   "execution_count": 45,
   "id": "0e78c747-63ed-4bbc-acc1-c522f6751180",
   "metadata": {
    "tags": []
   },
   "outputs": [
    {
     "data": {
      "text/plain": [
       "(0.26810005459513864, 0.36578401741075794, 0.8790438447524133)"
      ]
     },
     "execution_count": 45,
     "metadata": {},
     "output_type": "execute_result"
    }
   ],
   "source": [
    "mse = mean_squared_error(y, Y_pred)\n",
    "mae = mean_absolute_error(y, Y_pred)\n",
    "r2 = r2_score(y, Y_pred)\n",
    "mse, mae, r2"
   ]
  },
  {
   "cell_type": "code",
   "execution_count": 46,
   "id": "284cc290-ee65-470e-aa59-0290195060b4",
   "metadata": {
    "tags": []
   },
   "outputs": [],
   "source": [
    "rf_sub = RandomForestRegressor()\n",
    "rf_sub.fit(X_train, y_train)\n",
    "Y_pred = rf.predict(X_test)"
   ]
  },
  {
   "cell_type": "code",
   "execution_count": 47,
   "id": "d4bf9558-1741-458b-843d-b0a85400c941",
   "metadata": {
    "tags": []
   },
   "outputs": [
    {
     "data": {
      "text/plain": [
       "(0.10321578128569975, 0.23473027068160537, 0.933862911173344)"
      ]
     },
     "execution_count": 47,
     "metadata": {},
     "output_type": "execute_result"
    }
   ],
   "source": [
    "mse = mean_squared_error(y_test, Y_pred)\n",
    "mae = mean_absolute_error(y_test, Y_pred)\n",
    "r2 = r2_score(y_test, Y_pred)\n",
    "mse, mae, r2"
   ]
  },
  {
   "cell_type": "markdown",
   "id": "bb6d03e3-b4b3-4615-b37c-81308a9b226c",
   "metadata": {},
   "source": [
    "#### 3.5 Feature Evaluation with Lasso and Random Forest Regression"
   ]
  },
  {
   "cell_type": "code",
   "execution_count": 48,
   "id": "f1adf2f1-7b0e-4ce7-acec-999e6f4bda08",
   "metadata": {
    "tags": []
   },
   "outputs": [
    {
     "name": "stdout",
     "output_type": "stream",
     "text": [
      "Selected Features: Index(['infancy_vac', 'biological_sex', 'age', 'year_of_birth', 'ethnicity',\n",
      "       'race', 'ENSG00000108342_d0', 'ENSG00000203364_d0',\n",
      "       'ENSG00000230923_d0', 'ENSG00000232810_d0', 'ENSG00000234883_d0',\n",
      "       'ENSG00000238094_d0', 'ENSG00000251230_d0', 'ENSG00000267365_d0',\n",
      "       'ENSG00000271133_d0', 'ENSG00000280228_d0', 'CCL3_d0'],\n",
      "      dtype='object')\n",
      "Coefficients: [7.96926716e-01 2.78004144e-01 1.09154818e-02 3.13018167e-02\n",
      " 4.84406104e-01 1.76915596e-01 5.81542277e-01 3.08333189e-01\n",
      " 9.09192737e-01 4.84174087e-03 1.33244086e-01 1.09158751e-01\n",
      " 2.05131005e-02 7.76063410e-02 7.81565667e-03 3.36185592e-01\n",
      " 7.80398900e-04]\n"
     ]
    },
    {
     "name": "stderr",
     "output_type": "stream",
     "text": [
      "/Users/brian/anaconda3/lib/python3.11/site-packages/sklearn/linear_model/_coordinate_descent.py:628: ConvergenceWarning: Objective did not converge. You might want to increase the number of iterations, check the scale of the features or consider increasing regularisation. Duality gap: 1.439e+01, tolerance: 1.359e-02\n",
      "  model = cd_fast.enet_coordinate_descent(\n"
     ]
    },
    {
     "data": {
      "image/png": "[encoded data removed]",
      "text/plain": [
       "<Figure size 1000x600 with 1 Axes>"
      ]
     },
     "metadata": {},
     "output_type": "display_data"
    }
   ],
   "source": [
    "# Use Lasso Regression to select features\n",
    "lasso_model = Lasso(alpha=0.01)\n",
    "lasso_model.fit(X_train_scaled, y_train)\n",
    "lasso_coefficients = lasso_model.coef_\n",
    "selected_features = X_train_scaled.columns[lasso_coefficients != 0]\n",
    "X_train_scaled_selected = X_train_scaled\n",
    "X_test_scaled_selected = X_test_scaled\n",
    "\n",
    "print(\"Selected Features:\", selected_features)\n",
    "print(\"Coefficients:\", abs(lasso_coefficients))\n",
    "\n",
    "plt.figure(figsize=(10, 6))\n",
    "plt.barh(range(len(X_train_scaled.columns)), abs(lasso_coefficients), align=\"center\")\n",
    "plt.yticks(range(len(X_train_scaled.columns)), X_train_scaled.columns)\n",
    "plt.xlabel('Absolute Coefficient')\n",
    "plt.ylabel('Feature')\n",
    "plt.title('Lasso Coefficients (Absolute Values)')\n",
    "plt.show()"
   ]
  },
  {
   "cell_type": "code",
   "execution_count": 49,
   "id": "20c430c1-f1b3-413f-840f-526736d34ea3",
   "metadata": {
    "tags": []
   },
   "outputs": [
    {
     "name": "stdout",
     "output_type": "stream",
     "text": [
      "Selected Features: Index(['age', 'year_of_birth', 'ENSG00000108342_d0', 'ENSG00000203364_d0',\n",
      "       'ENSG00000230923_d0', 'ENSG00000232810_d0', 'ENSG00000234883_d0',\n",
      "       'ENSG00000251230_d0', 'ENSG00000267365_d0', 'ENSG00000271133_d0',\n",
      "       'ENSG00000280228_d0', 'CCL3_d0'],\n",
      "      dtype='object')\n",
      "Feature Importances: [0.00392169 0.00277689 0.04173845 0.03650265 0.00762319 0.01136011\n",
      " 0.04405623 0.01945432 0.21937879 0.05790945 0.17986958 0.00745817\n",
      " 0.07635678 0.04616394 0.07034299 0.07504099 0.10004577]\n"
     ]
    },
    {
     "data": {
      "image/png": "[encoded data removed]",
      "text/plain": [
       "<Figure size 1000x600 with 1 Axes>"
      ]
     },
     "metadata": {},
     "output_type": "display_data"
    }
   ],
   "source": [
    "# Use Random Forest Regressor to select features\n",
    "rf_model = RandomForestRegressor(random_state=42)\n",
    "rf_model.fit(X_train_scaled, y_train)\n",
    "feature_importances = rf_model.feature_importances_\n",
    "\n",
    "threshold = 0.015\n",
    "selected_features = X_train_scaled.columns[feature_importances > threshold]\n",
    "\n",
    "X_train_scaled_selected = X_train_scaled\n",
    "X_test_scaled_selected = X_test_scaled\n",
    "\n",
    "print(\"Selected Features:\", selected_features)\n",
    "print(\"Feature Importances:\", feature_importances)\n",
    "\n",
    "plt.figure(figsize=(10, 6))\n",
    "plt.barh(range(len(X_train_scaled.columns)), feature_importances, align=\"center\")\n",
    "plt.yticks(range(len(X_train_scaled.columns)), X_train_scaled.columns)\n",
    "plt.xlabel('Feature Importance')\n",
    "plt.ylabel('Feature')\n",
    "plt.title('Random Forest Feature Importances')\n",
    "plt.show()\n"
   ]
  },
  {
   "cell_type": "markdown",
   "id": "00e9febe-5c96-4ea0-94f1-91344ee38386",
   "metadata": {
    "tags": []
   },
   "source": [
    "#### 3.6 Finding the best model"
   ]
  },
  {
   "cell_type": "code",
   "execution_count": 50,
   "id": "e835295b-2a0c-4b39-840e-15f0a8d56e79",
   "metadata": {
    "tags": []
   },
   "outputs": [],
   "source": [
    "X_train, X_test, y_train, y_test = X,X,y,y\n",
    "\n",
    "#train_test_split(X, y, test_size=0.2)\n",
    "scaler = Normalizer()\n",
    "X_train_scaled = X_train#pd.DataFrame(scaler.fit_transform(X_train), columns=X_train.columns)\n",
    "X_test_scaled = X_test#pd.DataFrame(scaler.transform(X_test), columns=X_test.columns)\n",
    "X_train_scaled_selected = X_train_scaled\n",
    "X_test_scaled_selected = X_test_scaled"
   ]
  },
  {
   "cell_type": "code",
   "execution_count": 51,
   "id": "0c3308b1-43a4-4a4d-8bd1-f0c96c6b61a3",
   "metadata": {
    "tags": []
   },
   "outputs": [
    {
     "name": "stdout",
     "output_type": "stream",
     "text": [
      "Random Forest - Best Parameters: {'n_estimators': 300, 'min_samples_split': 10, 'min_samples_leaf': 3, 'max_depth': 6}\n",
      "Random Forest - R-squared on Test Set: 0.6968942118189854\n",
      "Linear Regression - R-squared on Test Set: 0.6511666364409596\n",
      "SVR - Best Parameters: {'kernel': 'rbf', 'C': 5}\n",
      "SVR - R-squared on Test Set: 0.3674012427461044\n",
      "Gradient Boosting - Best Parameters: {'n_estimators': 40, 'min_samples_split': 20, 'min_samples_leaf': 3, 'max_depth': 2, 'learning_rate': 0.01}\n",
      "Gradient Boosting - R-squared on Test Set: 0.2989573324922413\n",
      "Lasso - Best Parameters: {'alpha': 10}\n",
      "Lasso - R-squared on Test Set: 0.37626061508563446\n",
      "Ridge - Best Parameters: {'alpha': 10}\n",
      "Ridge - R-squared on Test Set: 0.6048103181521193\n",
      "ElasticNet - Best Parameters: {'l1_ratio': 0.7, 'alpha': 10}\n",
      "ElasticNet - R-squared on Test Set: 0.3763404250261263\n",
      "Decision Tree - Best Parameters: {'min_samples_split': 2, 'min_samples_leaf': 15, 'max_depth': None}\n",
      "Decision Tree - R-squared on Test Set: 0.26455624591851046\n"
     ]
    },
    {
     "name": "stderr",
     "output_type": "stream",
     "text": [
      "/Users/brian/anaconda3/lib/python3.11/site-packages/sklearn/linear_model/_coordinate_descent.py:628: ConvergenceWarning: Objective did not converge. You might want to increase the number of iterations, check the scale of the features or consider increasing regularisation. Duality gap: 1.917e+01, tolerance: 1.447e-02\n",
      "  model = cd_fast.enet_coordinate_descent(\n",
      "/Users/brian/anaconda3/lib/python3.11/site-packages/sklearn/linear_model/_coordinate_descent.py:628: ConvergenceWarning: Objective did not converge. You might want to increase the number of iterations, check the scale of the features or consider increasing regularisation. Duality gap: 1.422e+01, tolerance: 1.493e-02\n",
      "  model = cd_fast.enet_coordinate_descent(\n",
      "/Users/brian/anaconda3/lib/python3.11/site-packages/sklearn/linear_model/_coordinate_descent.py:628: ConvergenceWarning: Objective did not converge. You might want to increase the number of iterations, check the scale of the features or consider increasing regularisation. Duality gap: 4.747e+00, tolerance: 8.791e-03\n",
      "  model = cd_fast.enet_coordinate_descent(\n",
      "/Users/brian/anaconda3/lib/python3.11/site-packages/sklearn/linear_model/_coordinate_descent.py:628: ConvergenceWarning: Objective did not converge. You might want to increase the number of iterations, check the scale of the features or consider increasing regularisation. Duality gap: 1.470e+01, tolerance: 1.364e-02\n",
      "  model = cd_fast.enet_coordinate_descent(\n",
      "/Users/brian/anaconda3/lib/python3.11/site-packages/sklearn/linear_model/_coordinate_descent.py:628: ConvergenceWarning: Objective did not converge. You might want to increase the number of iterations, check the scale of the features or consider increasing regularisation. Duality gap: 1.799e+01, tolerance: 1.196e-02\n",
      "  model = cd_fast.enet_coordinate_descent(\n",
      "/Users/brian/anaconda3/lib/python3.11/site-packages/sklearn/linear_model/_coordinate_descent.py:628: ConvergenceWarning: Objective did not converge. You might want to increase the number of iterations, check the scale of the features or consider increasing regularisation. Duality gap: 6.293e+00, tolerance: 1.447e-02\n",
      "  model = cd_fast.enet_coordinate_descent(\n",
      "/Users/brian/anaconda3/lib/python3.11/site-packages/sklearn/linear_model/_coordinate_descent.py:628: ConvergenceWarning: Objective did not converge. You might want to increase the number of iterations, check the scale of the features or consider increasing regularisation. Duality gap: 2.299e+00, tolerance: 1.493e-02\n",
      "  model = cd_fast.enet_coordinate_descent(\n",
      "/Users/brian/anaconda3/lib/python3.11/site-packages/sklearn/linear_model/_coordinate_descent.py:628: ConvergenceWarning: Objective did not converge. You might want to increase the number of iterations, check the scale of the features or consider increasing regularisation. Duality gap: 3.695e-01, tolerance: 8.791e-03\n",
      "  model = cd_fast.enet_coordinate_descent(\n",
      "/Users/brian/anaconda3/lib/python3.11/site-packages/sklearn/linear_model/_coordinate_descent.py:628: ConvergenceWarning: Objective did not converge. You might want to increase the number of iterations, check the scale of the features or consider increasing regularisation. Duality gap: 6.324e+00, tolerance: 1.364e-02\n",
      "  model = cd_fast.enet_coordinate_descent(\n",
      "/Users/brian/anaconda3/lib/python3.11/site-packages/sklearn/linear_model/_coordinate_descent.py:628: ConvergenceWarning: Objective did not converge. You might want to increase the number of iterations, check the scale of the features or consider increasing regularisation. Duality gap: 2.190e-01, tolerance: 1.196e-02\n",
      "  model = cd_fast.enet_coordinate_descent(\n",
      "/Users/brian/anaconda3/lib/python3.11/site-packages/sklearn/linear_model/_coordinate_descent.py:628: ConvergenceWarning: Objective did not converge. You might want to increase the number of iterations, check the scale of the features or consider increasing regularisation. Duality gap: 6.732e+00, tolerance: 1.447e-02\n",
      "  model = cd_fast.enet_coordinate_descent(\n",
      "/Users/brian/anaconda3/lib/python3.11/site-packages/sklearn/linear_model/_coordinate_descent.py:628: ConvergenceWarning: Objective did not converge. You might want to increase the number of iterations, check the scale of the features or consider increasing regularisation. Duality gap: 2.263e+00, tolerance: 1.493e-02\n",
      "  model = cd_fast.enet_coordinate_descent(\n",
      "/Users/brian/anaconda3/lib/python3.11/site-packages/sklearn/linear_model/_coordinate_descent.py:628: ConvergenceWarning: Objective did not converge. You might want to increase the number of iterations, check the scale of the features or consider increasing regularisation. Duality gap: 1.537e-01, tolerance: 8.791e-03\n",
      "  model = cd_fast.enet_coordinate_descent(\n",
      "/Users/brian/anaconda3/lib/python3.11/site-packages/sklearn/linear_model/_coordinate_descent.py:628: ConvergenceWarning: Objective did not converge. You might want to increase the number of iterations, check the scale of the features or consider increasing regularisation. Duality gap: 7.798e+00, tolerance: 1.364e-02\n",
      "  model = cd_fast.enet_coordinate_descent(\n",
      "/Users/brian/anaconda3/lib/python3.11/site-packages/sklearn/linear_model/_coordinate_descent.py:628: ConvergenceWarning: Objective did not converge. You might want to increase the number of iterations, check the scale of the features or consider increasing regularisation. Duality gap: 1.511e-01, tolerance: 1.196e-02\n",
      "  model = cd_fast.enet_coordinate_descent(\n",
      "/Users/brian/anaconda3/lib/python3.11/site-packages/sklearn/linear_model/_coordinate_descent.py:628: ConvergenceWarning: Objective did not converge. You might want to increase the number of iterations, check the scale of the features or consider increasing regularisation. Duality gap: 2.189e+01, tolerance: 1.447e-02\n",
      "  model = cd_fast.enet_coordinate_descent(\n",
      "/Users/brian/anaconda3/lib/python3.11/site-packages/sklearn/linear_model/_coordinate_descent.py:628: ConvergenceWarning: Objective did not converge. You might want to increase the number of iterations, check the scale of the features or consider increasing regularisation. Duality gap: 2.087e+01, tolerance: 1.493e-02\n",
      "  model = cd_fast.enet_coordinate_descent(\n",
      "/Users/brian/anaconda3/lib/python3.11/site-packages/sklearn/linear_model/_coordinate_descent.py:628: ConvergenceWarning: Objective did not converge. You might want to increase the number of iterations, check the scale of the features or consider increasing regularisation. Duality gap: 1.511e+01, tolerance: 8.791e-03\n",
      "  model = cd_fast.enet_coordinate_descent(\n",
      "/Users/brian/anaconda3/lib/python3.11/site-packages/sklearn/linear_model/_coordinate_descent.py:628: ConvergenceWarning: Objective did not converge. You might want to increase the number of iterations, check the scale of the features or consider increasing regularisation. Duality gap: 1.737e+01, tolerance: 1.364e-02\n",
      "  model = cd_fast.enet_coordinate_descent(\n",
      "/Users/brian/anaconda3/lib/python3.11/site-packages/sklearn/linear_model/_coordinate_descent.py:628: ConvergenceWarning: Objective did not converge. You might want to increase the number of iterations, check the scale of the features or consider increasing regularisation. Duality gap: 1.914e+01, tolerance: 1.196e-02\n",
      "  model = cd_fast.enet_coordinate_descent(\n",
      "/Users/brian/anaconda3/lib/python3.11/site-packages/sklearn/linear_model/_coordinate_descent.py:628: ConvergenceWarning: Objective did not converge. You might want to increase the number of iterations, check the scale of the features or consider increasing regularisation. Duality gap: 6.373e+00, tolerance: 1.447e-02\n",
      "  model = cd_fast.enet_coordinate_descent(\n",
      "/Users/brian/anaconda3/lib/python3.11/site-packages/sklearn/linear_model/_coordinate_descent.py:628: ConvergenceWarning: Objective did not converge. You might want to increase the number of iterations, check the scale of the features or consider increasing regularisation. Duality gap: 2.419e+00, tolerance: 1.493e-02\n",
      "  model = cd_fast.enet_coordinate_descent(\n",
      "/Users/brian/anaconda3/lib/python3.11/site-packages/sklearn/linear_model/_coordinate_descent.py:628: ConvergenceWarning: Objective did not converge. You might want to increase the number of iterations, check the scale of the features or consider increasing regularisation. Duality gap: 2.965e-01, tolerance: 8.791e-03\n",
      "  model = cd_fast.enet_coordinate_descent(\n",
      "/Users/brian/anaconda3/lib/python3.11/site-packages/sklearn/linear_model/_coordinate_descent.py:628: ConvergenceWarning: Objective did not converge. You might want to increase the number of iterations, check the scale of the features or consider increasing regularisation. Duality gap: 6.787e+00, tolerance: 1.364e-02\n",
      "  model = cd_fast.enet_coordinate_descent(\n",
      "/Users/brian/anaconda3/lib/python3.11/site-packages/sklearn/linear_model/_coordinate_descent.py:628: ConvergenceWarning: Objective did not converge. You might want to increase the number of iterations, check the scale of the features or consider increasing regularisation. Duality gap: 1.952e-01, tolerance: 1.196e-02\n",
      "  model = cd_fast.enet_coordinate_descent(\n",
      "/Users/brian/anaconda3/lib/python3.11/site-packages/sklearn/linear_model/_coordinate_descent.py:628: ConvergenceWarning: Objective did not converge. You might want to increase the number of iterations, check the scale of the features or consider increasing regularisation. Duality gap: 3.090e-01, tolerance: 1.364e-02\n",
      "  model = cd_fast.enet_coordinate_descent(\n",
      "/Users/brian/anaconda3/lib/python3.11/site-packages/sklearn/linear_model/_coordinate_descent.py:628: ConvergenceWarning: Objective did not converge. You might want to increase the number of iterations, check the scale of the features or consider increasing regularisation. Duality gap: 2.124e+01, tolerance: 1.447e-02\n",
      "  model = cd_fast.enet_coordinate_descent(\n",
      "/Users/brian/anaconda3/lib/python3.11/site-packages/sklearn/linear_model/_coordinate_descent.py:628: ConvergenceWarning: Objective did not converge. You might want to increase the number of iterations, check the scale of the features or consider increasing regularisation. Duality gap: 1.897e+01, tolerance: 1.493e-02\n",
      "  model = cd_fast.enet_coordinate_descent(\n",
      "/Users/brian/anaconda3/lib/python3.11/site-packages/sklearn/linear_model/_coordinate_descent.py:628: ConvergenceWarning: Objective did not converge. You might want to increase the number of iterations, check the scale of the features or consider increasing regularisation. Duality gap: 1.023e+01, tolerance: 8.791e-03\n",
      "  model = cd_fast.enet_coordinate_descent(\n",
      "/Users/brian/anaconda3/lib/python3.11/site-packages/sklearn/linear_model/_coordinate_descent.py:628: ConvergenceWarning: Objective did not converge. You might want to increase the number of iterations, check the scale of the features or consider increasing regularisation. Duality gap: 1.674e+01, tolerance: 1.364e-02\n",
      "  model = cd_fast.enet_coordinate_descent(\n",
      "/Users/brian/anaconda3/lib/python3.11/site-packages/sklearn/linear_model/_coordinate_descent.py:628: ConvergenceWarning: Objective did not converge. You might want to increase the number of iterations, check the scale of the features or consider increasing regularisation. Duality gap: 1.885e+01, tolerance: 1.196e-02\n",
      "  model = cd_fast.enet_coordinate_descent(\n",
      "/Users/brian/anaconda3/lib/python3.11/site-packages/sklearn/linear_model/_coordinate_descent.py:628: ConvergenceWarning: Objective did not converge. You might want to increase the number of iterations, check the scale of the features or consider increasing regularisation. Duality gap: 1.684e+01, tolerance: 1.447e-02\n",
      "  model = cd_fast.enet_coordinate_descent(\n",
      "/Users/brian/anaconda3/lib/python3.11/site-packages/sklearn/linear_model/_coordinate_descent.py:628: ConvergenceWarning: Objective did not converge. You might want to increase the number of iterations, check the scale of the features or consider increasing regularisation. Duality gap: 1.029e+01, tolerance: 1.493e-02\n",
      "  model = cd_fast.enet_coordinate_descent(\n",
      "/Users/brian/anaconda3/lib/python3.11/site-packages/sklearn/linear_model/_coordinate_descent.py:628: ConvergenceWarning: Objective did not converge. You might want to increase the number of iterations, check the scale of the features or consider increasing regularisation. Duality gap: 1.611e+01, tolerance: 1.364e-02\n",
      "  model = cd_fast.enet_coordinate_descent(\n",
      "/Users/brian/anaconda3/lib/python3.11/site-packages/sklearn/linear_model/_coordinate_descent.py:628: ConvergenceWarning: Objective did not converge. You might want to increase the number of iterations, check the scale of the features or consider increasing regularisation. Duality gap: 9.988e-02, tolerance: 1.196e-02\n",
      "  model = cd_fast.enet_coordinate_descent(\n"
     ]
    },
    {
     "name": "stdout",
     "output_type": "stream",
     "text": [
      "KNN - Best Parameters: {'weights': 'uniform', 'n_neighbors': 15, 'metric': 'manhattan'}\n",
      "KNN - R-squared on Test Set: 0.1288253671781472\n",
      "\n",
      "Best Model: Random Forest with R-squared: 0.6968942118189854\n"
     ]
    }
   ],
   "source": [
    "# Random Forest Regression\n",
    "rf_model = RandomForestRegressor()\n",
    "param_dist_rf = {\n",
    "    'n_estimators': [10,30,40,50,100,200, 300, 400,500,600,700],\n",
    "    'max_depth': [2,3, 4,5 ,6 ,7, 8, 9, 10,13,15,17,20],\n",
    "    'min_samples_split': [5, 10, 15,17,18,19,20],\n",
    "    'min_samples_leaf': [1, 2, 3]\n",
    "}\n",
    "\n",
    "# Randomized Search CV for Random Forest\n",
    "random_search_rf = RandomizedSearchCV(rf_model,\n",
    "                                      param_distributions=param_dist_rf, \n",
    "                                      n_iter=10, \n",
    "                                      scoring='r2',  \n",
    "                                      cv=5, \n",
    "                                      random_state=42)\n",
    "random_search_rf.fit(X_train_scaled_selected, y_train)\n",
    "\n",
    "# Print best parameters for Random Forest\n",
    "print(\"Random Forest - Best Parameters:\", random_search_rf.best_params_)\n",
    "\n",
    "# Evaluate Random Forest on the test set using R-squared\n",
    "y_pred_rf = random_search_rf.predict(X_test_scaled_selected)\n",
    "r2_rf = r2_score(y_test, y_pred_rf)\n",
    "print(\"Random Forest - R-squared on Test Set:\", r2_rf)\n",
    "\n",
    "# Linear Regression\n",
    "lr_model = LinearRegression()\n",
    "lr_model.fit(X_train_scaled_selected, y_train)\n",
    "\n",
    "# Evaluate Linear Regression on the test set using R-squared\n",
    "y_pred_lr = lr_model.predict(X_test_scaled_selected)\n",
    "r2_lr = r2_score(y_test, y_pred_lr)\n",
    "print(\"Linear Regression - R-squared on Test Set:\", r2_lr)\n",
    "\n",
    "# Support Vector Regression\n",
    "svr_model = SVR()\n",
    "param_dist_svr = {\n",
    "    'C': [5, 10, 15],\n",
    "    'kernel': ['linear', 'rbf']\n",
    "}\n",
    "\n",
    "# Randomized Search CV for SVR\n",
    "random_search_svr = RandomizedSearchCV(svr_model, param_distributions=param_dist_svr, n_iter=5, scoring='r2', \n",
    "                                       cv=5, random_state=42)\n",
    "random_search_svr.fit(X_train_scaled_selected, y_train)\n",
    "\n",
    "# Print best parameters for SVR\n",
    "print(\"SVR - Best Parameters:\", random_search_svr.best_params_)\n",
    "\n",
    "# Evaluate SVR on the test set using R-squared\n",
    "y_pred_svr = random_search_svr.predict(X_test_scaled_selected)\n",
    "r2_svr = r2_score(y_test, y_pred_svr)\n",
    "print(\"SVR - R-squared on Test Set:\", r2_svr)\n",
    "\n",
    "# Gradient Boosting Regression\n",
    "gb_model = GradientBoostingRegressor()\n",
    "param_dist_gb = {\n",
    "    'n_estimators': [35,36,37,38,39,40,41,42,43],\n",
    "    'learning_rate': [0.001,0.01,0.02,0.03, 0.05, 0.08,0.1,0.2,0.5,1],\n",
    "    'max_depth': [2, 3, 4],\n",
    "    'min_samples_split': [2, 3, 4,6,8,10,15,20],\n",
    "    'min_samples_leaf': [1, 2, 3]\n",
    "}\n",
    "\n",
    "# Randomized Search CV for Gradient Boosting\n",
    "random_search_gb = RandomizedSearchCV(gb_model, param_distributions=param_dist_gb, n_iter=10, scoring='r2',  \n",
    "                                       cv=5, random_state=42)\n",
    "random_search_gb.fit(X_train_scaled_selected, y_train)\n",
    "\n",
    "# Print best parameters for Gradient Boosting\n",
    "print(\"Gradient Boosting - Best Parameters:\", random_search_gb.best_params_)\n",
    "\n",
    "# Evaluate Gradient Boosting on the test set using R-squared\n",
    "y_pred_gb = random_search_gb.predict(X_test_scaled_selected)\n",
    "r2_gb = r2_score(y_test, y_pred_gb)\n",
    "print(\"Gradient Boosting - R-squared on Test Set:\", r2_gb)\n",
    "\n",
    "# Lasso Regression\n",
    "lasso_model = Lasso()\n",
    "param_dist_lasso = {\n",
    "    'alpha': [0.001, 0.01, 0.1, 1, 10]\n",
    "}\n",
    "\n",
    "# Randomized Search CV for Lasso\n",
    "random_search_lasso = RandomizedSearchCV(lasso_model, param_distributions=param_dist_lasso, n_iter=5, scoring='r2', \n",
    "                                         cv=5, random_state=42)\n",
    "random_search_lasso.fit(X_train_scaled_selected, y_train)\n",
    "\n",
    "# Print best parameters for Lasso\n",
    "print(\"Lasso - Best Parameters:\", random_search_lasso.best_params_)\n",
    "\n",
    "# Evaluate Lasso on the test set using R-squared\n",
    "y_pred_lasso = random_search_lasso.predict(X_test_scaled_selected)\n",
    "r2_lasso = r2_score(y_test, y_pred_lasso)\n",
    "print(\"Lasso - R-squared on Test Set:\", r2_lasso)\n",
    "\n",
    "# Ridge Regression\n",
    "ridge_model = Ridge()\n",
    "param_dist_ridge = {\n",
    "    'alpha': [0.001, 0.01, 0.1, 1, 10]\n",
    "}\n",
    "\n",
    "# Randomized Search CV for Ridge\n",
    "random_search_ridge = RandomizedSearchCV(ridge_model, param_distributions=param_dist_ridge, n_iter=5, scoring='r2', \n",
    "                                         cv=5, random_state=42)\n",
    "random_search_ridge.fit(X_train_scaled_selected, y_train)\n",
    "\n",
    "# Print best parameters for Ridge\n",
    "print(\"Ridge - Best Parameters:\", random_search_ridge.best_params_)\n",
    "\n",
    "# Evaluate Ridge on the test set using R-squared\n",
    "y_pred_ridge = random_search_ridge.predict(X_test_scaled_selected)\n",
    "r2_ridge = r2_score(y_test, y_pred_ridge)\n",
    "print(\"Ridge - R-squared on Test Set:\", r2_ridge)\n",
    "\n",
    "# ElasticNet Regression\n",
    "elasticnet_model = ElasticNet()\n",
    "param_dist_elasticnet = {\n",
    "    'alpha': [0.001, 0.01, 0.1, 1, 10],\n",
    "    'l1_ratio': [0.1, 0.3, 0.5, 0.7, 0.9]\n",
    "}\n",
    "\n",
    "# Randomized Search CV for ElasticNet\n",
    "random_search_elasticnet = RandomizedSearchCV(elasticnet_model, param_distributions=param_dist_elasticnet, n_iter=10, scoring='r2', \n",
    "                                               cv=5, random_state=42)\n",
    "random_search_elasticnet.fit(X_train_scaled_selected, y_train)\n",
    "\n",
    "# Print best parameters for ElasticNet\n",
    "print(\"ElasticNet - Best Parameters:\", random_search_elasticnet.best_params_)\n",
    "\n",
    "# Evaluate ElasticNet on the test set using R-squared\n",
    "y_pred_elasticnet = random_search_elasticnet.predict(X_test_scaled_selected)\n",
    "r2_elasticnet = r2_score(y_test, y_pred_elasticnet)\n",
    "print(\"ElasticNet - R-squared on Test Set:\", r2_elasticnet)\n",
    "\n",
    "# Decision Tree Regression\n",
    "dt_model = DecisionTreeRegressor()\n",
    "param_dist_dt = {\n",
    "    'max_depth': [None, 10, 20, 30, 40],\n",
    "    'min_samples_split': [2, 5, 10,15,20],\n",
    "    'min_samples_leaf': [1, 2, 4,6,8,10,15,20,25,30,35]\n",
    "}\n",
    "\n",
    "# Randomized Search CV for Decision Tree\n",
    "random_search_dt = RandomizedSearchCV(dt_model, param_distributions=param_dist_dt, n_iter=5, scoring='r2', \n",
    "                                      cv=5, random_state=42)\n",
    "random_search_dt.fit(X_train_scaled_selected, y_train)\n",
    "\n",
    "# Print best parameters for Decision Tree\n",
    "print(\"Decision Tree - Best Parameters:\", random_search_dt.best_params_)\n",
    "\n",
    "# Evaluate Decision Tree on the test set using R-squared\n",
    "y_pred_dt = random_search_dt.predict(X_test_scaled_selected)\n",
    "r2_dt = r2_score(y_test, y_pred_dt)\n",
    "print(\"Decision Tree - R-squared on Test Set:\", r2_dt)\n",
    "\n",
    "# K-Nearest Neighbors Regression\n",
    "knn_model = KNeighborsRegressor()\n",
    "param_dist_knn = {\n",
    "    'n_neighbors': np.arange(1, 20),\n",
    "    'weights': ['uniform', 'distance'],\n",
    "    'metric': ['euclidean', 'manhattan', 'minkowski']\n",
    "}\n",
    "\n",
    "# Randomized Search CV for KNN\n",
    "random_search_knn = RandomizedSearchCV(knn_model, param_distributions=param_dist_knn, n_iter=10, scoring='r2', \n",
    "                                        cv=5, random_state=42)\n",
    "random_search_knn.fit(X_train_scaled_selected, y_train)\n",
    "\n",
    "# Print best parameters for KNN\n",
    "print(\"KNN - Best Parameters:\", random_search_knn.best_params_)\n",
    "\n",
    "# Evaluate KNN on the test set using R-squared\n",
    "y_pred_knn = random_search_knn.predict(X_test_scaled_selected)\n",
    "r2_knn = r2_score(y_test, y_pred_knn)\n",
    "print(\"KNN - R-squared on Test Set:\", r2_knn)\n",
    "\n",
    "# Compare r2 of different models\n",
    "r2_dict = {'Random Forest': r2_rf, 'Linear Regression': r2_lr, 'SVR': r2_svr, 'Gradient Boosting': r2_gb,\n",
    "            'Lasso': r2_lasso, 'Ridge': r2_ridge, 'ElasticNet': r2_elasticnet, \n",
    "            'Decision Tree': r2_dt, 'KNN': r2_knn}\n",
    "\n",
    "# Find the model with the highest r2\n",
    "best_model_name = max(r2_dict, key=r2_dict.get)\n",
    "best_model = None\n",
    "\n",
    "# Select the best model\n",
    "if best_model_name == 'Random Forest':\n",
    "    best_model = random_search_rf\n",
    "elif best_model_name == 'Linear Regression':\n",
    "    best_model = lr_model\n",
    "elif best_model_name == 'SVR':\n",
    "    best_model = random_search_svr\n",
    "elif best_model_name == 'Gradient Boosting':\n",
    "    best_model = random_search_gb\n",
    "elif best_model_name == 'Lasso':\n",
    "    best_model = random_search_lasso\n",
    "elif best_model_name == 'Ridge':\n",
    "    best_model = random_search_ridge\n",
    "elif best_model_name == 'ElasticNet':\n",
    "    best_model = random_search_elasticnet\n",
    "elif best_model_name == 'Decision Tree':\n",
    "    best_model = random_search_dt\n",
    "elif best_model_name == 'KNN':\n",
    "    best_model = random_search_knn\n",
    "\n",
    "print(f\"\\nBest Model: {best_model_name} with R-squared: {r2_dict[best_model_name]}\")"
   ]
  },
  {
   "cell_type": "code",
   "execution_count": 52,
   "id": "b802b0f8-87f8-4f3f-bb6e-41553265555b",
   "metadata": {
    "tags": []
   },
   "outputs": [
    {
     "data": {
      "text/plain": [
       "{'Random Forest': 0.6968942118189854,\n",
       " 'Linear Regression': 0.6511666364409596,\n",
       " 'SVR': 0.3674012427461044,\n",
       " 'Gradient Boosting': 0.2989573324922413,\n",
       " 'Lasso': 0.37626061508563446,\n",
       " 'Ridge': 0.6048103181521193,\n",
       " 'ElasticNet': 0.3763404250261263,\n",
       " 'Decision Tree': 0.26455624591851046,\n",
       " 'KNN': 0.1288253671781472}"
      ]
     },
     "execution_count": 52,
     "metadata": {},
     "output_type": "execute_result"
    }
   ],
   "source": [
    "r2_dict"
   ]
  },
  {
   "cell_type": "code",
   "execution_count": null,
   "id": "03489778-ee47-4362-95de-cb779f88ff4d",
   "metadata": {},
   "outputs": [],
   "source": [
    "og = [0.4817206120353682,\n",
    " 0.7109055986183322,\n",
    " -0.11173323398674517,\n",
    " 0.8994629884009536,\n",
    " 0.6183687024832032,\n",
    " 0.5587245115091868,\n",
    " 0.2474911532166989,\n",
    " 0.4061294586766534,\n",
    " 0.3198396848974233]"
   ]
  },
  {
   "cell_type": "code",
   "execution_count": 210,
   "id": "d13bd0b4-22bb-497c-84d9-ce4f6b9f6c30",
   "metadata": {
    "tags": []
   },
   "outputs": [],
   "source": [
    "mods = list(r2_dict.keys())\n",
    "og = list(r2_dict.values())"
   ]
  },
  {
   "cell_type": "code",
   "execution_count": null,
   "id": "9a72eebd-21c4-48be-93b3-a1ac95d01782",
   "metadata": {
    "tags": []
   },
   "outputs": [],
   "source": []
  },
  {
   "cell_type": "code",
   "execution_count": 212,
   "id": "0260eb49-b6ae-4a67-a331-d500f94f9578",
   "metadata": {
    "tags": []
   },
   "outputs": [
    {
     "data": {
      "application/vnd.plotly.v1+json": {
       "config": {
        "plotlyServerURL": "https://plot.ly"
       },
       "data": [
        {
         "marker": {
          "color": "LightGreen"
         },
         "name": "Original Model",
         "type": "bar",
         "x": [
          "Random Forest",
          "Linear Regression",
          "SVR",
          "Gradient Boosting",
          "Lasso",
          "Ridge",
          "ElasticNet",
          "Decision Tree",
          "KNN"
         ],
         "y": [
          0.6306702404147817,
          0.6511666364409596,
          0.3674012427461044,
          0.2989573324922413,
          0.37626061508563446,
          0.6048103181521193,
          0.3763404250261263,
          0.26455624591851046,
          0.1288253671781472
         ]
        }
       ],
       "layout": {
        "height": 600,
        "plot_bgcolor": "rgba(0, 0, 0, 0)",
        "template": {
         "data": {
          "bar": [
           {
            "error_x": {
             "color": "#2a3f5f"
            },
            "error_y": {
             "color": "#2a3f5f"
            },
            "marker": {
             "line": {
              "color": "#E5ECF6",
              "width": 0.5
             },
             "pattern": {
              "fillmode": "overlay",
              "size": 10,
              "solidity": 0.2
             }
            },
            "type": "bar"
           }
          ],
          "barpolar": [
           {
            "marker": {
             "line": {
              "color": "#E5ECF6",
              "width": 0.5
             },
             "pattern": {
              "fillmode": "overlay",
              "size": 10,
              "solidity": 0.2
             }
            },
            "type": "barpolar"
           }
          ],
          "carpet": [
           {
            "aaxis": {
             "endlinecolor": "#2a3f5f",
             "gridcolor": "white",
             "linecolor": "white",
             "minorgridcolor": "white",
             "startlinecolor": "#2a3f5f"
            },
            "baxis": {
             "endlinecolor": "#2a3f5f",
             "gridcolor": "white",
             "linecolor": "white",
             "minorgridcolor": "white",
             "startlinecolor": "#2a3f5f"
            },
            "type": "carpet"
           }
          ],
          "choropleth": [
           {
            "colorbar": {
             "outlinewidth": 0,
             "ticks": ""
            },
            "type": "choropleth"
           }
          ],
          "contour": [
           {
            "colorbar": {
             "outlinewidth": 0,
             "ticks": ""
            },
            "colorscale": [
             [
              0,
              "#0d0887"
             ],
             [
              0.1111111111111111,
              "#46039f"
             ],
             [
              0.2222222222222222,
              "#7201a8"
             ],
             [
              0.3333333333333333,
              "#9c179e"
             ],
             [
              0.4444444444444444,
              "#bd3786"
             ],
             [
              0.5555555555555556,
              "#d8576b"
             ],
             [
              0.6666666666666666,
              "#ed7953"
             ],
             [
              0.7777777777777778,
              "#fb9f3a"
             ],
             [
              0.8888888888888888,
              "#fdca26"
             ],
             [
              1,
              "#f0f921"
             ]
            ],
            "type": "contour"
           }
          ],
          "contourcarpet": [
           {
            "colorbar": {
             "outlinewidth": 0,
             "ticks": ""
            },
            "type": "contourcarpet"
           }
          ],
          "heatmap": [
           {
            "colorbar": {
             "outlinewidth": 0,
             "ticks": ""
            },
            "colorscale": [
             [
              0,
              "#0d0887"
             ],
             [
              0.1111111111111111,
              "#46039f"
             ],
             [
              0.2222222222222222,
              "#7201a8"
             ],
             [
              0.3333333333333333,
              "#9c179e"
             ],
             [
              0.4444444444444444,
              "#bd3786"
             ],
             [
              0.5555555555555556,
              "#d8576b"
             ],
             [
              0.6666666666666666,
              "#ed7953"
             ],
             [
              0.7777777777777778,
              "#fb9f3a"
             ],
             [
              0.8888888888888888,
              "#fdca26"
             ],
             [
              1,
              "#f0f921"
             ]
            ],
            "type": "heatmap"
           }
          ],
          "heatmapgl": [
           {
            "colorbar": {
             "outlinewidth": 0,
             "ticks": ""
            },
            "colorscale": [
             [
              0,
              "#0d0887"
             ],
             [
              0.1111111111111111,
              "#46039f"
             ],
             [
              0.2222222222222222,
              "#7201a8"
             ],
             [
              0.3333333333333333,
              "#9c179e"
             ],
             [
              0.4444444444444444,
              "#bd3786"
             ],
             [
              0.5555555555555556,
              "#d8576b"
             ],
             [
              0.6666666666666666,
              "#ed7953"
             ],
             [
              0.7777777777777778,
              "#fb9f3a"
             ],
             [
              0.8888888888888888,
              "#fdca26"
             ],
             [
              1,
              "#f0f921"
             ]
            ],
            "type": "heatmapgl"
           }
          ],
          "histogram": [
           {
            "marker": {
             "pattern": {
              "fillmode": "overlay",
              "size": 10,
              "solidity": 0.2
             }
            },
            "type": "histogram"
           }
          ],
          "histogram2d": [
           {
            "colorbar": {
             "outlinewidth": 0,
             "ticks": ""
            },
            "colorscale": [
             [
              0,
              "#0d0887"
             ],
             [
              0.1111111111111111,
              "#46039f"
             ],
             [
              0.2222222222222222,
              "#7201a8"
             ],
             [
              0.3333333333333333,
              "#9c179e"
             ],
             [
              0.4444444444444444,
              "#bd3786"
             ],
             [
              0.5555555555555556,
              "#d8576b"
             ],
             [
              0.6666666666666666,
              "#ed7953"
             ],
             [
              0.7777777777777778,
              "#fb9f3a"
             ],
             [
              0.8888888888888888,
              "#fdca26"
             ],
             [
              1,
              "#f0f921"
             ]
            ],
            "type": "histogram2d"
           }
          ],
          "histogram2dcontour": [
           {
            "colorbar": {
             "outlinewidth": 0,
             "ticks": ""
            },
            "colorscale": [
             [
              0,
              "#0d0887"
             ],
             [
              0.1111111111111111,
              "#46039f"
             ],
             [
              0.2222222222222222,
              "#7201a8"
             ],
             [
              0.3333333333333333,
              "#9c179e"
             ],
             [
              0.4444444444444444,
              "#bd3786"
             ],
             [
              0.5555555555555556,
              "#d8576b"
             ],
             [
              0.6666666666666666,
              "#ed7953"
             ],
             [
              0.7777777777777778,
              "#fb9f3a"
             ],
             [
              0.8888888888888888,
              "#fdca26"
             ],
             [
              1,
              "#f0f921"
             ]
            ],
            "type": "histogram2dcontour"
           }
          ],
          "mesh3d": [
           {
            "colorbar": {
             "outlinewidth": 0,
             "ticks": ""
            },
            "type": "mesh3d"
           }
          ],
          "parcoords": [
           {
            "line": {
             "colorbar": {
              "outlinewidth": 0,
              "ticks": ""
             }
            },
            "type": "parcoords"
           }
          ],
          "pie": [
           {
            "automargin": true,
            "type": "pie"
           }
          ],
          "scatter": [
           {
            "fillpattern": {
             "fillmode": "overlay",
             "size": 10,
             "solidity": 0.2
            },
            "type": "scatter"
           }
          ],
          "scatter3d": [
           {
            "line": {
             "colorbar": {
              "outlinewidth": 0,
              "ticks": ""
             }
            },
            "marker": {
             "colorbar": {
              "outlinewidth": 0,
              "ticks": ""
             }
            },
            "type": "scatter3d"
           }
          ],
          "scattercarpet": [
           {
            "marker": {
             "colorbar": {
              "outlinewidth": 0,
              "ticks": ""
             }
            },
            "type": "scattercarpet"
           }
          ],
          "scattergeo": [
           {
            "marker": {
             "colorbar": {
              "outlinewidth": 0,
              "ticks": ""
             }
            },
            "type": "scattergeo"
           }
          ],
          "scattergl": [
           {
            "marker": {
             "colorbar": {
              "outlinewidth": 0,
              "ticks": ""
             }
            },
            "type": "scattergl"
           }
          ],
          "scattermapbox": [
           {
            "marker": {
             "colorbar": {
              "outlinewidth": 0,
              "ticks": ""
             }
            },
            "type": "scattermapbox"
           }
          ],
          "scatterpolar": [
           {
            "marker": {
             "colorbar": {
              "outlinewidth": 0,
              "ticks": ""
             }
            },
            "type": "scatterpolar"
           }
          ],
          "scatterpolargl": [
           {
            "marker": {
             "colorbar": {
              "outlinewidth": 0,
              "ticks": ""
             }
            },
            "type": "scatterpolargl"
           }
          ],
          "scatterternary": [
           {
            "marker": {
             "colorbar": {
              "outlinewidth": 0,
              "ticks": ""
             }
            },
            "type": "scatterternary"
           }
          ],
          "surface": [
           {
            "colorbar": {
             "outlinewidth": 0,
             "ticks": ""
            },
            "colorscale": [
             [
              0,
              "#0d0887"
             ],
             [
              0.1111111111111111,
              "#46039f"
             ],
             [
              0.2222222222222222,
              "#7201a8"
             ],
             [
              0.3333333333333333,
              "#9c179e"
             ],
             [
              0.4444444444444444,
              "#bd3786"
             ],
             [
              0.5555555555555556,
              "#d8576b"
             ],
             [
              0.6666666666666666,
              "#ed7953"
             ],
             [
              0.7777777777777778,
              "#fb9f3a"
             ],
             [
              0.8888888888888888,
              "#fdca26"
             ],
             [
              1,
              "#f0f921"
             ]
            ],
            "type": "surface"
           }
          ],
          "table": [
           {
            "cells": {
             "fill": {
              "color": "#EBF0F8"
             },
             "line": {
              "color": "white"
             }
            },
            "header": {
             "fill": {
              "color": "#C8D4E3"
             },
             "line": {
              "color": "white"
             }
            },
            "type": "table"
           }
          ]
         },
         "layout": {
          "annotationdefaults": {
           "arrowcolor": "#2a3f5f",
           "arrowhead": 0,
           "arrowwidth": 1
          },
          "autotypenumbers": "strict",
          "coloraxis": {
           "colorbar": {
            "outlinewidth": 0,
            "ticks": ""
           }
          },
          "colorscale": {
           "diverging": [
            [
             0,
             "#8e0152"
            ],
            [
             0.1,
             "#c51b7d"
            ],
            [
             0.2,
             "#de77ae"
            ],
            [
             0.3,
             "#f1b6da"
            ],
            [
             0.4,
             "#fde0ef"
            ],
            [
             0.5,
             "#f7f7f7"
            ],
            [
             0.6,
             "#e6f5d0"
            ],
            [
             0.7,
             "#b8e186"
            ],
            [
             0.8,
             "#7fbc41"
            ],
            [
             0.9,
             "#4d9221"
            ],
            [
             1,
             "#276419"
            ]
           ],
           "sequential": [
            [
             0,
             "#0d0887"
            ],
            [
             0.1111111111111111,
             "#46039f"
            ],
            [
             0.2222222222222222,
             "#7201a8"
            ],
            [
             0.3333333333333333,
             "#9c179e"
            ],
            [
             0.4444444444444444,
             "#bd3786"
            ],
            [
             0.5555555555555556,
             "#d8576b"
            ],
            [
             0.6666666666666666,
             "#ed7953"
            ],
            [
             0.7777777777777778,
             "#fb9f3a"
            ],
            [
             0.8888888888888888,
             "#fdca26"
            ],
            [
             1,
             "#f0f921"
            ]
           ],
           "sequentialminus": [
            [
             0,
             "#0d0887"
            ],
            [
             0.1111111111111111,
             "#46039f"
            ],
            [
             0.2222222222222222,
             "#7201a8"
            ],
            [
             0.3333333333333333,
             "#9c179e"
            ],
            [
             0.4444444444444444,
             "#bd3786"
            ],
            [
             0.5555555555555556,
             "#d8576b"
            ],
            [
             0.6666666666666666,
             "#ed7953"
            ],
            [
             0.7777777777777778,
             "#fb9f3a"
            ],
            [
             0.8888888888888888,
             "#fdca26"
            ],
            [
             1,
             "#f0f921"
            ]
           ]
          },
          "colorway": [
           "#636efa",
           "#EF553B",
           "#00cc96",
           "#ab63fa",
           "#FFA15A",
           "#19d3f3",
           "#FF6692",
           "#B6E880",
           "#FF97FF",
           "#FECB52"
          ],
          "font": {
           "color": "#2a3f5f"
          },
          "geo": {
           "bgcolor": "white",
           "lakecolor": "white",
           "landcolor": "#E5ECF6",
           "showlakes": true,
           "showland": true,
           "subunitcolor": "white"
          },
          "hoverlabel": {
           "align": "left"
          },
          "hovermode": "closest",
          "mapbox": {
           "style": "light"
          },
          "paper_bgcolor": "white",
          "plot_bgcolor": "#E5ECF6",
          "polar": {
           "angularaxis": {
            "gridcolor": "white",
            "linecolor": "white",
            "ticks": ""
           },
           "bgcolor": "#E5ECF6",
           "radialaxis": {
            "gridcolor": "white",
            "linecolor": "white",
            "ticks": ""
           }
          },
          "scene": {
           "xaxis": {
            "backgroundcolor": "#E5ECF6",
            "gridcolor": "white",
            "gridwidth": 2,
            "linecolor": "white",
            "showbackground": true,
            "ticks": "",
            "zerolinecolor": "white"
           },
           "yaxis": {
            "backgroundcolor": "#E5ECF6",
            "gridcolor": "white",
            "gridwidth": 2,
            "linecolor": "white",
            "showbackground": true,
            "ticks": "",
            "zerolinecolor": "white"
           },
           "zaxis": {
            "backgroundcolor": "#E5ECF6",
            "gridcolor": "white",
            "gridwidth": 2,
            "linecolor": "white",
            "showbackground": true,
            "ticks": "",
            "zerolinecolor": "white"
           }
          },
          "shapedefaults": {
           "line": {
            "color": "#2a3f5f"
           }
          },
          "ternary": {
           "aaxis": {
            "gridcolor": "white",
            "linecolor": "white",
            "ticks": ""
           },
           "baxis": {
            "gridcolor": "white",
            "linecolor": "white",
            "ticks": ""
           },
           "bgcolor": "#E5ECF6",
           "caxis": {
            "gridcolor": "white",
            "linecolor": "white",
            "ticks": ""
           }
          },
          "title": {
           "x": 0.05
          },
          "xaxis": {
           "automargin": true,
           "gridcolor": "white",
           "linecolor": "white",
           "ticks": "",
           "title": {
            "standoff": 15
           },
           "zerolinecolor": "white",
           "zerolinewidth": 2
          },
          "yaxis": {
           "automargin": true,
           "gridcolor": "white",
           "linecolor": "white",
           "ticks": "",
           "title": {
            "standoff": 15
           },
           "zerolinecolor": "white",
           "zerolinewidth": 2
          }
         }
        },
        "title": {
         "text": "Comparison of R-squared Values Across Different Models",
         "x": 0.5
        },
        "width": 800,
        "xaxis": {
         "autorange": true,
         "gridcolor": "lightgrey",
         "linecolor": "black",
         "mirror": true,
         "range": [
          -0.5,
          8.5
         ],
         "showline": true,
         "ticks": "outside",
         "title": {
          "text": "Model"
         },
         "type": "category"
        },
        "yaxis": {
         "autorange": true,
         "gridcolor": "lightgrey",
         "linecolor": "black",
         "mirror": true,
         "range": [
          0,
          0.6854385646746943
         ],
         "showline": true,
         "ticks": "outside",
         "title": {
          "text": "R-squared value"
         },
         "type": "linear"
        }
       }
      },
      "image/png": "[encoded data removed]",
      "text/html": [
       "<div>                            <div id=\"dcea916b-6cfa-4da6-96c6-8095703db456\" class=\"plotly-graph-div\" style=\"height:600px; width:800px;\"></div>            <script type=\"text/javascript\">                require([\"plotly\"], function(Plotly) {                    window.PLOTLYENV=window.PLOTLYENV || {};                                    if (document.getElementById(\"dcea916b-6cfa-4da6-96c6-8095703db456\")) {                    Plotly.newPlot(                        \"dcea916b-6cfa-4da6-96c6-8095703db456\",                        [{\"name\":\"Original Model\",\"x\":[\"Random Forest\",\"Linear Regression\",\"SVR\",\"Gradient Boosting\",\"Lasso\",\"Ridge\",\"ElasticNet\",\"Decision Tree\",\"KNN\"],\"y\":[0.6306702404147817,0.6511666364409596,0.3674012427461044,0.2989573324922413,0.37626061508563446,0.6048103181521193,0.3763404250261263,0.26455624591851046,0.1288253671781472],\"type\":\"bar\",\"marker\":{\"color\":\"LightGreen\"}}],                        {\"template\":{\"data\":{\"histogram2dcontour\":[{\"type\":\"histogram2dcontour\",\"colorbar\":{\"outlinewidth\":0,\"ticks\":\"\"},\"colorscale\":[[0.0,\"#0d0887\"],[0.1111111111111111,\"#46039f\"],[0.2222222222222222,\"#7201a8\"],[0.3333333333333333,\"#9c179e\"],[0.4444444444444444,\"#bd3786\"],[0.5555555555555556,\"#d8576b\"],[0.6666666666666666,\"#ed7953\"],[0.7777777777777778,\"#fb9f3a\"],[0.8888888888888888,\"#fdca26\"],[1.0,\"#f0f921\"]]}],\"choropleth\":[{\"type\":\"choropleth\",\"colorbar\":{\"outlinewidth\":0,\"ticks\":\"\"}}],\"histogram2d\":[{\"type\":\"histogram2d\",\"colorbar\":{\"outlinewidth\":0,\"ticks\":\"\"},\"colorscale\":[[0.0,\"#0d0887\"],[0.1111111111111111,\"#46039f\"],[0.2222222222222222,\"#7201a8\"],[0.3333333333333333,\"#9c179e\"],[0.4444444444444444,\"#bd3786\"],[0.5555555555555556,\"#d8576b\"],[0.6666666666666666,\"#ed7953\"],[0.7777777777777778,\"#fb9f3a\"],[0.8888888888888888,\"#fdca26\"],[1.0,\"#f0f921\"]]}],\"heatmap\":[{\"type\":\"heatmap\",\"colorbar\":{\"outlinewidth\":0,\"ticks\":\"\"},\"colorscale\":[[0.0,\"#0d0887\"],[0.1111111111111111,\"#46039f\"],[0.2222222222222222,\"#7201a8\"],[0.3333333333333333,\"#9c179e\"],[0.4444444444444444,\"#bd3786\"],[0.5555555555555556,\"#d8576b\"],[0.6666666666666666,\"#ed7953\"],[0.7777777777777778,\"#fb9f3a\"],[0.8888888888888888,\"#fdca26\"],[1.0,\"#f0f921\"]]}],\"heatmapgl\":[{\"type\":\"heatmapgl\",\"colorbar\":{\"outlinewidth\":0,\"ticks\":\"\"},\"colorscale\":[[0.0,\"#0d0887\"],[0.1111111111111111,\"#46039f\"],[0.2222222222222222,\"#7201a8\"],[0.3333333333333333,\"#9c179e\"],[0.4444444444444444,\"#bd3786\"],[0.5555555555555556,\"#d8576b\"],[0.6666666666666666,\"#ed7953\"],[0.7777777777777778,\"#fb9f3a\"],[0.8888888888888888,\"#fdca26\"],[1.0,\"#f0f921\"]]}],\"contourcarpet\":[{\"type\":\"contourcarpet\",\"colorbar\":{\"outlinewidth\":0,\"ticks\":\"\"}}],\"contour\":[{\"type\":\"contour\",\"colorbar\":{\"outlinewidth\":0,\"ticks\":\"\"},\"colorscale\":[[0.0,\"#0d0887\"],[0.1111111111111111,\"#46039f\"],[0.2222222222222222,\"#7201a8\"],[0.3333333333333333,\"#9c179e\"],[0.4444444444444444,\"#bd3786\"],[0.5555555555555556,\"#d8576b\"],[0.6666666666666666,\"#ed7953\"],[0.7777777777777778,\"#fb9f3a\"],[0.8888888888888888,\"#fdca26\"],[1.0,\"#f0f921\"]]}],\"surface\":[{\"type\":\"surface\",\"colorbar\":{\"outlinewidth\":0,\"ticks\":\"\"},\"colorscale\":[[0.0,\"#0d0887\"],[0.1111111111111111,\"#46039f\"],[0.2222222222222222,\"#7201a8\"],[0.3333333333333333,\"#9c179e\"],[0.4444444444444444,\"#bd3786\"],[0.5555555555555556,\"#d8576b\"],[0.6666666666666666,\"#ed7953\"],[0.7777777777777778,\"#fb9f3a\"],[0.8888888888888888,\"#fdca26\"],[1.0,\"#f0f921\"]]}],\"mesh3d\":[{\"type\":\"mesh3d\",\"colorbar\":{\"outlinewidth\":0,\"ticks\":\"\"}}],\"scatter\":[{\"fillpattern\":{\"fillmode\":\"overlay\",\"size\":10,\"solidity\":0.2},\"type\":\"scatter\"}],\"parcoords\":[{\"type\":\"parcoords\",\"line\":{\"colorbar\":{\"outlinewidth\":0,\"ticks\":\"\"}}}],\"scatterpolargl\":[{\"type\":\"scatterpolargl\",\"marker\":{\"colorbar\":{\"outlinewidth\":0,\"ticks\":\"\"}}}],\"bar\":[{\"error_x\":{\"color\":\"#2a3f5f\"},\"error_y\":{\"color\":\"#2a3f5f\"},\"marker\":{\"line\":{\"color\":\"#E5ECF6\",\"width\":0.5},\"pattern\":{\"fillmode\":\"overlay\",\"size\":10,\"solidity\":0.2}},\"type\":\"bar\"}],\"scattergeo\":[{\"type\":\"scattergeo\",\"marker\":{\"colorbar\":{\"outlinewidth\":0,\"ticks\":\"\"}}}],\"scatterpolar\":[{\"type\":\"scatterpolar\",\"marker\":{\"colorbar\":{\"outlinewidth\":0,\"ticks\":\"\"}}}],\"histogram\":[{\"marker\":{\"pattern\":{\"fillmode\":\"overlay\",\"size\":10,\"solidity\":0.2}},\"type\":\"histogram\"}],\"scattergl\":[{\"type\":\"scattergl\",\"marker\":{\"colorbar\":{\"outlinewidth\":0,\"ticks\":\"\"}}}],\"scatter3d\":[{\"type\":\"scatter3d\",\"line\":{\"colorbar\":{\"outlinewidth\":0,\"ticks\":\"\"}},\"marker\":{\"colorbar\":{\"outlinewidth\":0,\"ticks\":\"\"}}}],\"scattermapbox\":[{\"type\":\"scattermapbox\",\"marker\":{\"colorbar\":{\"outlinewidth\":0,\"ticks\":\"\"}}}],\"scatterternary\":[{\"type\":\"scatterternary\",\"marker\":{\"colorbar\":{\"outlinewidth\":0,\"ticks\":\"\"}}}],\"scattercarpet\":[{\"type\":\"scattercarpet\",\"marker\":{\"colorbar\":{\"outlinewidth\":0,\"ticks\":\"\"}}}],\"carpet\":[{\"aaxis\":{\"endlinecolor\":\"#2a3f5f\",\"gridcolor\":\"white\",\"linecolor\":\"white\",\"minorgridcolor\":\"white\",\"startlinecolor\":\"#2a3f5f\"},\"baxis\":{\"endlinecolor\":\"#2a3f5f\",\"gridcolor\":\"white\",\"linecolor\":\"white\",\"minorgridcolor\":\"white\",\"startlinecolor\":\"#2a3f5f\"},\"type\":\"carpet\"}],\"table\":[{\"cells\":{\"fill\":{\"color\":\"#EBF0F8\"},\"line\":{\"color\":\"white\"}},\"header\":{\"fill\":{\"color\":\"#C8D4E3\"},\"line\":{\"color\":\"white\"}},\"type\":\"table\"}],\"barpolar\":[{\"marker\":{\"line\":{\"color\":\"#E5ECF6\",\"width\":0.5},\"pattern\":{\"fillmode\":\"overlay\",\"size\":10,\"solidity\":0.2}},\"type\":\"barpolar\"}],\"pie\":[{\"automargin\":true,\"type\":\"pie\"}]},\"layout\":{\"autotypenumbers\":\"strict\",\"colorway\":[\"#636efa\",\"#EF553B\",\"#00cc96\",\"#ab63fa\",\"#FFA15A\",\"#19d3f3\",\"#FF6692\",\"#B6E880\",\"#FF97FF\",\"#FECB52\"],\"font\":{\"color\":\"#2a3f5f\"},\"hovermode\":\"closest\",\"hoverlabel\":{\"align\":\"left\"},\"paper_bgcolor\":\"white\",\"plot_bgcolor\":\"#E5ECF6\",\"polar\":{\"bgcolor\":\"#E5ECF6\",\"angularaxis\":{\"gridcolor\":\"white\",\"linecolor\":\"white\",\"ticks\":\"\"},\"radialaxis\":{\"gridcolor\":\"white\",\"linecolor\":\"white\",\"ticks\":\"\"}},\"ternary\":{\"bgcolor\":\"#E5ECF6\",\"aaxis\":{\"gridcolor\":\"white\",\"linecolor\":\"white\",\"ticks\":\"\"},\"baxis\":{\"gridcolor\":\"white\",\"linecolor\":\"white\",\"ticks\":\"\"},\"caxis\":{\"gridcolor\":\"white\",\"linecolor\":\"white\",\"ticks\":\"\"}},\"coloraxis\":{\"colorbar\":{\"outlinewidth\":0,\"ticks\":\"\"}},\"colorscale\":{\"sequential\":[[0.0,\"#0d0887\"],[0.1111111111111111,\"#46039f\"],[0.2222222222222222,\"#7201a8\"],[0.3333333333333333,\"#9c179e\"],[0.4444444444444444,\"#bd3786\"],[0.5555555555555556,\"#d8576b\"],[0.6666666666666666,\"#ed7953\"],[0.7777777777777778,\"#fb9f3a\"],[0.8888888888888888,\"#fdca26\"],[1.0,\"#f0f921\"]],\"sequentialminus\":[[0.0,\"#0d0887\"],[0.1111111111111111,\"#46039f\"],[0.2222222222222222,\"#7201a8\"],[0.3333333333333333,\"#9c179e\"],[0.4444444444444444,\"#bd3786\"],[0.5555555555555556,\"#d8576b\"],[0.6666666666666666,\"#ed7953\"],[0.7777777777777778,\"#fb9f3a\"],[0.8888888888888888,\"#fdca26\"],[1.0,\"#f0f921\"]],\"diverging\":[[0,\"#8e0152\"],[0.1,\"#c51b7d\"],[0.2,\"#de77ae\"],[0.3,\"#f1b6da\"],[0.4,\"#fde0ef\"],[0.5,\"#f7f7f7\"],[0.6,\"#e6f5d0\"],[0.7,\"#b8e186\"],[0.8,\"#7fbc41\"],[0.9,\"#4d9221\"],[1,\"#276419\"]]},\"xaxis\":{\"gridcolor\":\"white\",\"linecolor\":\"white\",\"ticks\":\"\",\"title\":{\"standoff\":15},\"zerolinecolor\":\"white\",\"automargin\":true,\"zerolinewidth\":2},\"yaxis\":{\"gridcolor\":\"white\",\"linecolor\":\"white\",\"ticks\":\"\",\"title\":{\"standoff\":15},\"zerolinecolor\":\"white\",\"automargin\":true,\"zerolinewidth\":2},\"scene\":{\"xaxis\":{\"backgroundcolor\":\"#E5ECF6\",\"gridcolor\":\"white\",\"linecolor\":\"white\",\"showbackground\":true,\"ticks\":\"\",\"zerolinecolor\":\"white\",\"gridwidth\":2},\"yaxis\":{\"backgroundcolor\":\"#E5ECF6\",\"gridcolor\":\"white\",\"linecolor\":\"white\",\"showbackground\":true,\"ticks\":\"\",\"zerolinecolor\":\"white\",\"gridwidth\":2},\"zaxis\":{\"backgroundcolor\":\"#E5ECF6\",\"gridcolor\":\"white\",\"linecolor\":\"white\",\"showbackground\":true,\"ticks\":\"\",\"zerolinecolor\":\"white\",\"gridwidth\":2}},\"shapedefaults\":{\"line\":{\"color\":\"#2a3f5f\"}},\"annotationdefaults\":{\"arrowcolor\":\"#2a3f5f\",\"arrowhead\":0,\"arrowwidth\":1},\"geo\":{\"bgcolor\":\"white\",\"landcolor\":\"#E5ECF6\",\"subunitcolor\":\"white\",\"showland\":true,\"showlakes\":true,\"lakecolor\":\"white\"},\"title\":{\"x\":0.05},\"mapbox\":{\"style\":\"light\"}}},\"title\":{\"text\":\"Comparison of R-squared Values Across Different Models\",\"x\":0.5},\"xaxis\":{\"title\":{\"text\":\"Model\"},\"mirror\":true,\"ticks\":\"outside\",\"showline\":true,\"linecolor\":\"black\",\"gridcolor\":\"lightgrey\"},\"yaxis\":{\"title\":{\"text\":\"R-squared value\"},\"mirror\":true,\"ticks\":\"outside\",\"showline\":true,\"linecolor\":\"black\",\"gridcolor\":\"lightgrey\"},\"width\":800,\"height\":600,\"plot_bgcolor\":\"rgba(0, 0, 0, 0)\"},                        {\"responsive\": true}                    ).then(function(){\n",
       "                            \n",
       "var gd = document.getElementById('dcea916b-6cfa-4da6-96c6-8095703db456');\n",
       "var x = new MutationObserver(function (mutations, observer) {{\n",
       "        var display = window.getComputedStyle(gd).display;\n",
       "        if (!display || display === 'none') {{\n",
       "            console.log([gd, 'removed!']);\n",
       "            Plotly.purge(gd);\n",
       "            observer.disconnect();\n",
       "        }}\n",
       "}});\n",
       "\n",
       "// Listen for the removal of the full notebook cells\n",
       "var notebookContainer = gd.closest('#notebook-container');\n",
       "if (notebookContainer) {{\n",
       "    x.observe(notebookContainer, {childList: true});\n",
       "}}\n",
       "\n",
       "// Listen for the clearing of the current output cell\n",
       "var outputEl = gd.closest('.output');\n",
       "if (outputEl) {{\n",
       "    x.observe(outputEl, {childList: true});\n",
       "}}\n",
       "\n",
       "                        })                };                });            </script>        </div>"
      ]
     },
     "metadata": {},
     "output_type": "display_data"
    }
   ],
   "source": [
    "import plotly.graph_objects as px\n",
    "plot = px.Figure(data=[\n",
    "                       px.Bar(\n",
    "    name = 'Original Model',\n",
    "    x = mods,\n",
    "    y = og\n",
    "   )\n",
    "])\n",
    "\n",
    "plot.update_layout(title= 'Comparison of R-squared Values Across Different Models', title_x=0.5, \n",
    "                   xaxis_title = 'Model', yaxis_title='R-squared value',\n",
    "                  width=800,height=600, plot_bgcolor= 'rgba(0, 0, 0, 0)',)\n",
    "#paper_bgcolor= 'rgba(0, 0, 0, 0)',)\n",
    "plot.update_traces(marker_color = 'LightGreen')\n",
    "plot.update_xaxes(\n",
    "    mirror=True,\n",
    "    ticks='outside',\n",
    "    showline=True,\n",
    "    linecolor='black',\n",
    "    gridcolor='lightgrey'\n",
    ")\n",
    "plot.update_yaxes(\n",
    "    mirror=True,\n",
    "    ticks='outside',\n",
    "    showline=True,\n",
    "    linecolor='black',\n",
    "    gridcolor='lightgrey'\n",
    ")\n",
    "#plot.update_xaxes('Regression Model Type')\n",
    "plot.show()\n",
    "\n"
   ]
  },
  {
   "cell_type": "code",
   "execution_count": null,
   "id": "986281ed-651f-4551-bac5-7e55160014dd",
   "metadata": {},
   "outputs": [],
   "source": []
  },
  {
   "cell_type": "code",
   "execution_count": null,
   "id": "cfc06fe1-b45a-4773-85a9-5049c0594352",
   "metadata": {},
   "outputs": [],
   "source": []
  },
  {
   "cell_type": "code",
   "execution_count": null,
   "id": "b39a2750-10e8-46ed-9b18-5b9a1a98e3d9",
   "metadata": {},
   "outputs": [],
   "source": []
  },
  {
   "cell_type": "code",
   "execution_count": null,
   "id": "eaf89859-bbca-4ed5-8ba0-7241749da7d5",
   "metadata": {},
   "outputs": [],
   "source": []
  },
  {
   "cell_type": "markdown",
   "id": "adeef701-d695-4f8a-b8cc-5e6e5fe5f381",
   "metadata": {},
   "source": [
    "## 4. 2022 Validation Predictions"
   ]
  },
  {
   "cell_type": "markdown",
   "id": "33451c51-156f-48b9-ab97-806f40321d56",
   "metadata": {},
   "source": [
    "#### 4.1 Loading in 2022 prediction datasets: gene expression, specimen, and subject"
   ]
  },
  {
   "cell_type": "code",
   "execution_count": 158,
   "id": "b971c44f-5867-4e6f-adb2-becdf80f3460",
   "metadata": {
    "tags": []
   },
   "outputs": [],
   "source": [
    "gene_pred = clean_df_gene(df_2022_gene)"
   ]
  },
  {
   "cell_type": "code",
   "execution_count": 163,
   "id": "92712414-5029-4ba5-a403-95bad015e242",
   "metadata": {
    "tags": []
   },
   "outputs": [],
   "source": [
    "genes_cols_pred = gene_pred.pivot_table(index=['specimen_id'], columns=['versioned_ensembl_gene_id'], values= 'tpm')"
   ]
  },
  {
   "cell_type": "code",
   "execution_count": 165,
   "id": "ebccd929-5733-4bd0-aadd-b526094715ad",
   "metadata": {
    "tags": []
   },
   "outputs": [
    {
     "data": {
      "text/html": [
       "<div>\n",
       "<style scoped>\n",
       "    .dataframe tbody tr th:only-of-type {\n",
       "        vertical-align: middle;\n",
       "    }\n",
       "\n",
       "    .dataframe tbody tr th {\n",
       "        vertical-align: top;\n",
       "    }\n",
       "\n",
       "    .dataframe thead th {\n",
       "        text-align: right;\n",
       "    }\n",
       "</style>\n",
       "<table border=\"1\" class=\"dataframe\">\n",
       "  <thead>\n",
       "    <tr style=\"text-align: right;\">\n",
       "      <th>versioned_ensembl_gene_id</th>\n",
       "      <th>specimen_id</th>\n",
       "      <th>ENSG00000108342</th>\n",
       "      <th>ENSG00000203364</th>\n",
       "      <th>ENSG00000230923</th>\n",
       "      <th>ENSG00000232810</th>\n",
       "      <th>ENSG00000234883</th>\n",
       "      <th>ENSG00000238094</th>\n",
       "      <th>ENSG00000251230</th>\n",
       "      <th>ENSG00000267365</th>\n",
       "      <th>ENSG00000271133</th>\n",
       "      <th>CCL3</th>\n",
       "      <th>ENSG00000280228</th>\n",
       "    </tr>\n",
       "  </thead>\n",
       "  <tbody>\n",
       "    <tr>\n",
       "      <th>0</th>\n",
       "      <td>730</td>\n",
       "      <td>0.0</td>\n",
       "      <td>0.00</td>\n",
       "      <td>0.229</td>\n",
       "      <td>32.034</td>\n",
       "      <td>6.144</td>\n",
       "      <td>0.000</td>\n",
       "      <td>4.346</td>\n",
       "      <td>0.206</td>\n",
       "      <td>3.938</td>\n",
       "      <td>132.104</td>\n",
       "      <td>2.802</td>\n",
       "    </tr>\n",
       "    <tr>\n",
       "      <th>1</th>\n",
       "      <td>731</td>\n",
       "      <td>0.0</td>\n",
       "      <td>0.00</td>\n",
       "      <td>0.074</td>\n",
       "      <td>21.635</td>\n",
       "      <td>7.350</td>\n",
       "      <td>0.000</td>\n",
       "      <td>6.461</td>\n",
       "      <td>0.000</td>\n",
       "      <td>4.649</td>\n",
       "      <td>35.094</td>\n",
       "      <td>0.950</td>\n",
       "    </tr>\n",
       "    <tr>\n",
       "      <th>2</th>\n",
       "      <td>732</td>\n",
       "      <td>0.0</td>\n",
       "      <td>0.00</td>\n",
       "      <td>0.128</td>\n",
       "      <td>25.193</td>\n",
       "      <td>5.014</td>\n",
       "      <td>0.000</td>\n",
       "      <td>8.136</td>\n",
       "      <td>0.519</td>\n",
       "      <td>1.885</td>\n",
       "      <td>11.587</td>\n",
       "      <td>0.109</td>\n",
       "    </tr>\n",
       "    <tr>\n",
       "      <th>3</th>\n",
       "      <td>740</td>\n",
       "      <td>0.0</td>\n",
       "      <td>0.00</td>\n",
       "      <td>0.000</td>\n",
       "      <td>21.198</td>\n",
       "      <td>3.633</td>\n",
       "      <td>0.000</td>\n",
       "      <td>5.241</td>\n",
       "      <td>0.000</td>\n",
       "      <td>3.605</td>\n",
       "      <td>23.564</td>\n",
       "      <td>0.000</td>\n",
       "    </tr>\n",
       "    <tr>\n",
       "      <th>4</th>\n",
       "      <td>741</td>\n",
       "      <td>0.0</td>\n",
       "      <td>0.00</td>\n",
       "      <td>0.000</td>\n",
       "      <td>34.701</td>\n",
       "      <td>6.144</td>\n",
       "      <td>0.000</td>\n",
       "      <td>2.908</td>\n",
       "      <td>0.503</td>\n",
       "      <td>6.857</td>\n",
       "      <td>91.564</td>\n",
       "      <td>1.059</td>\n",
       "    </tr>\n",
       "    <tr>\n",
       "      <th>...</th>\n",
       "      <td>...</td>\n",
       "      <td>...</td>\n",
       "      <td>...</td>\n",
       "      <td>...</td>\n",
       "      <td>...</td>\n",
       "      <td>...</td>\n",
       "      <td>...</td>\n",
       "      <td>...</td>\n",
       "      <td>...</td>\n",
       "      <td>...</td>\n",
       "      <td>...</td>\n",
       "      <td>...</td>\n",
       "    </tr>\n",
       "    <tr>\n",
       "      <th>58</th>\n",
       "      <td>921</td>\n",
       "      <td>0.0</td>\n",
       "      <td>0.00</td>\n",
       "      <td>0.143</td>\n",
       "      <td>22.866</td>\n",
       "      <td>5.323</td>\n",
       "      <td>0.000</td>\n",
       "      <td>1.440</td>\n",
       "      <td>0.000</td>\n",
       "      <td>1.584</td>\n",
       "      <td>28.185</td>\n",
       "      <td>0.245</td>\n",
       "    </tr>\n",
       "    <tr>\n",
       "      <th>59</th>\n",
       "      <td>922</td>\n",
       "      <td>0.0</td>\n",
       "      <td>0.00</td>\n",
       "      <td>0.467</td>\n",
       "      <td>23.247</td>\n",
       "      <td>4.581</td>\n",
       "      <td>0.000</td>\n",
       "      <td>2.347</td>\n",
       "      <td>0.000</td>\n",
       "      <td>3.444</td>\n",
       "      <td>21.689</td>\n",
       "      <td>1.396</td>\n",
       "    </tr>\n",
       "    <tr>\n",
       "      <th>60</th>\n",
       "      <td>930</td>\n",
       "      <td>0.0</td>\n",
       "      <td>0.91</td>\n",
       "      <td>0.113</td>\n",
       "      <td>20.033</td>\n",
       "      <td>4.197</td>\n",
       "      <td>1.169</td>\n",
       "      <td>4.540</td>\n",
       "      <td>0.153</td>\n",
       "      <td>4.996</td>\n",
       "      <td>32.711</td>\n",
       "      <td>0.000</td>\n",
       "    </tr>\n",
       "    <tr>\n",
       "      <th>61</th>\n",
       "      <td>931</td>\n",
       "      <td>0.0</td>\n",
       "      <td>0.00</td>\n",
       "      <td>0.093</td>\n",
       "      <td>41.860</td>\n",
       "      <td>3.255</td>\n",
       "      <td>0.000</td>\n",
       "      <td>4.971</td>\n",
       "      <td>0.125</td>\n",
       "      <td>4.103</td>\n",
       "      <td>84.281</td>\n",
       "      <td>0.396</td>\n",
       "    </tr>\n",
       "    <tr>\n",
       "      <th>62</th>\n",
       "      <td>932</td>\n",
       "      <td>0.0</td>\n",
       "      <td>0.00</td>\n",
       "      <td>0.000</td>\n",
       "      <td>17.705</td>\n",
       "      <td>5.602</td>\n",
       "      <td>0.000</td>\n",
       "      <td>3.135</td>\n",
       "      <td>0.127</td>\n",
       "      <td>3.450</td>\n",
       "      <td>24.207</td>\n",
       "      <td>1.359</td>\n",
       "    </tr>\n",
       "  </tbody>\n",
       "</table>\n",
       "<p>63 rows × 12 columns</p>\n",
       "</div>"
      ],
      "text/plain": [
       "versioned_ensembl_gene_id  specimen_id  ENSG00000108342  ENSG00000203364  \\\n",
       "0                                  730              0.0             0.00   \n",
       "1                                  731              0.0             0.00   \n",
       "2                                  732              0.0             0.00   \n",
       "3                                  740              0.0             0.00   \n",
       "4                                  741              0.0             0.00   \n",
       "..                                 ...              ...              ...   \n",
       "58                                 921              0.0             0.00   \n",
       "59                                 922              0.0             0.00   \n",
       "60                                 930              0.0             0.91   \n",
       "61                                 931              0.0             0.00   \n",
       "62                                 932              0.0             0.00   \n",
       "\n",
       "versioned_ensembl_gene_id  ENSG00000230923  ENSG00000232810  ENSG00000234883  \\\n",
       "0                                    0.229           32.034            6.144   \n",
       "1                                    0.074           21.635            7.350   \n",
       "2                                    0.128           25.193            5.014   \n",
       "3                                    0.000           21.198            3.633   \n",
       "4                                    0.000           34.701            6.144   \n",
       "..                                     ...              ...              ...   \n",
       "58                                   0.143           22.866            5.323   \n",
       "59                                   0.467           23.247            4.581   \n",
       "60                                   0.113           20.033            4.197   \n",
       "61                                   0.093           41.860            3.255   \n",
       "62                                   0.000           17.705            5.602   \n",
       "\n",
       "versioned_ensembl_gene_id  ENSG00000238094  ENSG00000251230  ENSG00000267365  \\\n",
       "0                                    0.000            4.346            0.206   \n",
       "1                                    0.000            6.461            0.000   \n",
       "2                                    0.000            8.136            0.519   \n",
       "3                                    0.000            5.241            0.000   \n",
       "4                                    0.000            2.908            0.503   \n",
       "..                                     ...              ...              ...   \n",
       "58                                   0.000            1.440            0.000   \n",
       "59                                   0.000            2.347            0.000   \n",
       "60                                   1.169            4.540            0.153   \n",
       "61                                   0.000            4.971            0.125   \n",
       "62                                   0.000            3.135            0.127   \n",
       "\n",
       "versioned_ensembl_gene_id  ENSG00000271133     CCL3  ENSG00000280228  \n",
       "0                                    3.938  132.104            2.802  \n",
       "1                                    4.649   35.094            0.950  \n",
       "2                                    1.885   11.587            0.109  \n",
       "3                                    3.605   23.564            0.000  \n",
       "4                                    6.857   91.564            1.059  \n",
       "..                                     ...      ...              ...  \n",
       "58                                   1.584   28.185            0.245  \n",
       "59                                   3.444   21.689            1.396  \n",
       "60                                   4.996   32.711            0.000  \n",
       "61                                   4.103   84.281            0.396  \n",
       "62                                   3.450   24.207            1.359  \n",
       "\n",
       "[63 rows x 12 columns]"
      ]
     },
     "execution_count": 165,
     "metadata": {},
     "output_type": "execute_result"
    }
   ],
   "source": [
    "final_gene_pred = genes_cols_pred[genes_cols_pred.columns.intersection(top10)].rename(columns= {'ENSG00000277632':'CCL3'}).reset_index()\n",
    "final_gene_pred      "
   ]
  },
  {
   "cell_type": "code",
   "execution_count": 166,
   "id": "3df461dd-aa88-48a3-9b24-8253a31e94cd",
   "metadata": {
    "tags": []
   },
   "outputs": [],
   "source": [
    "subject_pred = clean_df_subject(pd.merge(df_2022_specimen,df_2022_subject, on= 'subject_id'))"
   ]
  },
  {
   "cell_type": "code",
   "execution_count": 434,
   "id": "3c517168-c2a1-42d5-a207-c0de69c83951",
   "metadata": {
    "tags": []
   },
   "outputs": [
    {
     "data": {
      "text/html": [
       "<div>\n",
       "<style scoped>\n",
       "    .dataframe tbody tr th:only-of-type {\n",
       "        vertical-align: middle;\n",
       "    }\n",
       "\n",
       "    .dataframe tbody tr th {\n",
       "        vertical-align: top;\n",
       "    }\n",
       "\n",
       "    .dataframe thead th {\n",
       "        text-align: right;\n",
       "    }\n",
       "</style>\n",
       "<table border=\"1\" class=\"dataframe\">\n",
       "  <thead>\n",
       "    <tr style=\"text-align: right;\">\n",
       "      <th></th>\n",
       "      <th>specimen_id</th>\n",
       "      <th>subject_id</th>\n",
       "      <th>actual_day_relative_to_boost</th>\n",
       "      <th>planned_day_relative_to_boost</th>\n",
       "      <th>specimen_type</th>\n",
       "      <th>visit</th>\n",
       "      <th>infancy_vac</th>\n",
       "      <th>biological_sex</th>\n",
       "      <th>ethnicity</th>\n",
       "      <th>race</th>\n",
       "      <th>...</th>\n",
       "      <th>ENSG00000203364</th>\n",
       "      <th>ENSG00000230923</th>\n",
       "      <th>ENSG00000232810</th>\n",
       "      <th>ENSG00000234883</th>\n",
       "      <th>ENSG00000238094</th>\n",
       "      <th>ENSG00000251230</th>\n",
       "      <th>ENSG00000267365</th>\n",
       "      <th>ENSG00000271133</th>\n",
       "      <th>CCL3</th>\n",
       "      <th>ENSG00000280228</th>\n",
       "    </tr>\n",
       "  </thead>\n",
       "  <tbody>\n",
       "    <tr>\n",
       "      <th>0</th>\n",
       "      <td>730</td>\n",
       "      <td>97</td>\n",
       "      <td>-31</td>\n",
       "      <td>-30</td>\n",
       "      <td>Blood</td>\n",
       "      <td>1</td>\n",
       "      <td>wP</td>\n",
       "      <td>Male</td>\n",
       "      <td>Not Hispanic or Latino</td>\n",
       "      <td>White</td>\n",
       "      <td>...</td>\n",
       "      <td>0.00</td>\n",
       "      <td>0.229</td>\n",
       "      <td>32.034</td>\n",
       "      <td>6.144</td>\n",
       "      <td>0.000</td>\n",
       "      <td>4.346</td>\n",
       "      <td>0.206</td>\n",
       "      <td>3.938</td>\n",
       "      <td>132.104</td>\n",
       "      <td>2.802</td>\n",
       "    </tr>\n",
       "    <tr>\n",
       "      <th>1</th>\n",
       "      <td>731</td>\n",
       "      <td>97</td>\n",
       "      <td>-12</td>\n",
       "      <td>-15</td>\n",
       "      <td>Blood</td>\n",
       "      <td>2</td>\n",
       "      <td>wP</td>\n",
       "      <td>Male</td>\n",
       "      <td>Not Hispanic or Latino</td>\n",
       "      <td>White</td>\n",
       "      <td>...</td>\n",
       "      <td>0.00</td>\n",
       "      <td>0.074</td>\n",
       "      <td>21.635</td>\n",
       "      <td>7.350</td>\n",
       "      <td>0.000</td>\n",
       "      <td>6.461</td>\n",
       "      <td>0.000</td>\n",
       "      <td>4.649</td>\n",
       "      <td>35.094</td>\n",
       "      <td>0.950</td>\n",
       "    </tr>\n",
       "    <tr>\n",
       "      <th>2</th>\n",
       "      <td>732</td>\n",
       "      <td>97</td>\n",
       "      <td>0</td>\n",
       "      <td>0</td>\n",
       "      <td>Blood</td>\n",
       "      <td>3</td>\n",
       "      <td>wP</td>\n",
       "      <td>Male</td>\n",
       "      <td>Not Hispanic or Latino</td>\n",
       "      <td>White</td>\n",
       "      <td>...</td>\n",
       "      <td>0.00</td>\n",
       "      <td>0.128</td>\n",
       "      <td>25.193</td>\n",
       "      <td>5.014</td>\n",
       "      <td>0.000</td>\n",
       "      <td>8.136</td>\n",
       "      <td>0.519</td>\n",
       "      <td>1.885</td>\n",
       "      <td>11.587</td>\n",
       "      <td>0.109</td>\n",
       "    </tr>\n",
       "    <tr>\n",
       "      <th>3</th>\n",
       "      <td>740</td>\n",
       "      <td>98</td>\n",
       "      <td>-31</td>\n",
       "      <td>-30</td>\n",
       "      <td>Blood</td>\n",
       "      <td>3</td>\n",
       "      <td>wP</td>\n",
       "      <td>Female</td>\n",
       "      <td>Not Hispanic or Latino</td>\n",
       "      <td>White</td>\n",
       "      <td>...</td>\n",
       "      <td>0.00</td>\n",
       "      <td>0.000</td>\n",
       "      <td>21.198</td>\n",
       "      <td>3.633</td>\n",
       "      <td>0.000</td>\n",
       "      <td>5.241</td>\n",
       "      <td>0.000</td>\n",
       "      <td>3.605</td>\n",
       "      <td>23.564</td>\n",
       "      <td>0.000</td>\n",
       "    </tr>\n",
       "    <tr>\n",
       "      <th>4</th>\n",
       "      <td>741</td>\n",
       "      <td>98</td>\n",
       "      <td>-14</td>\n",
       "      <td>-15</td>\n",
       "      <td>Blood</td>\n",
       "      <td>4</td>\n",
       "      <td>wP</td>\n",
       "      <td>Female</td>\n",
       "      <td>Not Hispanic or Latino</td>\n",
       "      <td>White</td>\n",
       "      <td>...</td>\n",
       "      <td>0.00</td>\n",
       "      <td>0.000</td>\n",
       "      <td>34.701</td>\n",
       "      <td>6.144</td>\n",
       "      <td>0.000</td>\n",
       "      <td>2.908</td>\n",
       "      <td>0.503</td>\n",
       "      <td>6.857</td>\n",
       "      <td>91.564</td>\n",
       "      <td>1.059</td>\n",
       "    </tr>\n",
       "    <tr>\n",
       "      <th>...</th>\n",
       "      <td>...</td>\n",
       "      <td>...</td>\n",
       "      <td>...</td>\n",
       "      <td>...</td>\n",
       "      <td>...</td>\n",
       "      <td>...</td>\n",
       "      <td>...</td>\n",
       "      <td>...</td>\n",
       "      <td>...</td>\n",
       "      <td>...</td>\n",
       "      <td>...</td>\n",
       "      <td>...</td>\n",
       "      <td>...</td>\n",
       "      <td>...</td>\n",
       "      <td>...</td>\n",
       "      <td>...</td>\n",
       "      <td>...</td>\n",
       "      <td>...</td>\n",
       "      <td>...</td>\n",
       "      <td>...</td>\n",
       "      <td>...</td>\n",
       "    </tr>\n",
       "    <tr>\n",
       "      <th>58</th>\n",
       "      <td>921</td>\n",
       "      <td>117</td>\n",
       "      <td>-13</td>\n",
       "      <td>-15</td>\n",
       "      <td>Blood</td>\n",
       "      <td>2</td>\n",
       "      <td>aP</td>\n",
       "      <td>Female</td>\n",
       "      <td>Hispanic or Latino</td>\n",
       "      <td>More Than One Race</td>\n",
       "      <td>...</td>\n",
       "      <td>0.00</td>\n",
       "      <td>0.143</td>\n",
       "      <td>22.866</td>\n",
       "      <td>5.323</td>\n",
       "      <td>0.000</td>\n",
       "      <td>1.440</td>\n",
       "      <td>0.000</td>\n",
       "      <td>1.584</td>\n",
       "      <td>28.185</td>\n",
       "      <td>0.245</td>\n",
       "    </tr>\n",
       "    <tr>\n",
       "      <th>59</th>\n",
       "      <td>922</td>\n",
       "      <td>117</td>\n",
       "      <td>0</td>\n",
       "      <td>0</td>\n",
       "      <td>Blood</td>\n",
       "      <td>3</td>\n",
       "      <td>aP</td>\n",
       "      <td>Female</td>\n",
       "      <td>Hispanic or Latino</td>\n",
       "      <td>More Than One Race</td>\n",
       "      <td>...</td>\n",
       "      <td>0.00</td>\n",
       "      <td>0.467</td>\n",
       "      <td>23.247</td>\n",
       "      <td>4.581</td>\n",
       "      <td>0.000</td>\n",
       "      <td>2.347</td>\n",
       "      <td>0.000</td>\n",
       "      <td>3.444</td>\n",
       "      <td>21.689</td>\n",
       "      <td>1.396</td>\n",
       "    </tr>\n",
       "    <tr>\n",
       "      <th>60</th>\n",
       "      <td>930</td>\n",
       "      <td>118</td>\n",
       "      <td>-52</td>\n",
       "      <td>-30</td>\n",
       "      <td>Blood</td>\n",
       "      <td>1</td>\n",
       "      <td>aP</td>\n",
       "      <td>Male</td>\n",
       "      <td>Not Hispanic or Latino</td>\n",
       "      <td>Asian</td>\n",
       "      <td>...</td>\n",
       "      <td>0.91</td>\n",
       "      <td>0.113</td>\n",
       "      <td>20.033</td>\n",
       "      <td>4.197</td>\n",
       "      <td>1.169</td>\n",
       "      <td>4.540</td>\n",
       "      <td>0.153</td>\n",
       "      <td>4.996</td>\n",
       "      <td>32.711</td>\n",
       "      <td>0.000</td>\n",
       "    </tr>\n",
       "    <tr>\n",
       "      <th>61</th>\n",
       "      <td>931</td>\n",
       "      <td>118</td>\n",
       "      <td>-38</td>\n",
       "      <td>-15</td>\n",
       "      <td>Blood</td>\n",
       "      <td>2</td>\n",
       "      <td>aP</td>\n",
       "      <td>Male</td>\n",
       "      <td>Not Hispanic or Latino</td>\n",
       "      <td>Asian</td>\n",
       "      <td>...</td>\n",
       "      <td>0.00</td>\n",
       "      <td>0.093</td>\n",
       "      <td>41.860</td>\n",
       "      <td>3.255</td>\n",
       "      <td>0.000</td>\n",
       "      <td>4.971</td>\n",
       "      <td>0.125</td>\n",
       "      <td>4.103</td>\n",
       "      <td>84.281</td>\n",
       "      <td>0.396</td>\n",
       "    </tr>\n",
       "    <tr>\n",
       "      <th>62</th>\n",
       "      <td>932</td>\n",
       "      <td>118</td>\n",
       "      <td>0</td>\n",
       "      <td>0</td>\n",
       "      <td>Blood</td>\n",
       "      <td>3</td>\n",
       "      <td>aP</td>\n",
       "      <td>Male</td>\n",
       "      <td>Not Hispanic or Latino</td>\n",
       "      <td>Asian</td>\n",
       "      <td>...</td>\n",
       "      <td>0.00</td>\n",
       "      <td>0.000</td>\n",
       "      <td>17.705</td>\n",
       "      <td>5.602</td>\n",
       "      <td>0.000</td>\n",
       "      <td>3.135</td>\n",
       "      <td>0.127</td>\n",
       "      <td>3.450</td>\n",
       "      <td>24.207</td>\n",
       "      <td>1.359</td>\n",
       "    </tr>\n",
       "  </tbody>\n",
       "</table>\n",
       "<p>63 rows × 25 columns</p>\n",
       "</div>"
      ],
      "text/plain": [
       "    specimen_id  subject_id  actual_day_relative_to_boost  \\\n",
       "0           730          97                           -31   \n",
       "1           731          97                           -12   \n",
       "2           732          97                             0   \n",
       "3           740          98                           -31   \n",
       "4           741          98                           -14   \n",
       "..          ...         ...                           ...   \n",
       "58          921         117                           -13   \n",
       "59          922         117                             0   \n",
       "60          930         118                           -52   \n",
       "61          931         118                           -38   \n",
       "62          932         118                             0   \n",
       "\n",
       "    planned_day_relative_to_boost specimen_type  visit infancy_vac  \\\n",
       "0                             -30         Blood      1          wP   \n",
       "1                             -15         Blood      2          wP   \n",
       "2                               0         Blood      3          wP   \n",
       "3                             -30         Blood      3          wP   \n",
       "4                             -15         Blood      4          wP   \n",
       "..                            ...           ...    ...         ...   \n",
       "58                            -15         Blood      2          aP   \n",
       "59                              0         Blood      3          aP   \n",
       "60                            -30         Blood      1          aP   \n",
       "61                            -15         Blood      2          aP   \n",
       "62                              0         Blood      3          aP   \n",
       "\n",
       "   biological_sex               ethnicity                race  ...  \\\n",
       "0            Male  Not Hispanic or Latino               White  ...   \n",
       "1            Male  Not Hispanic or Latino               White  ...   \n",
       "2            Male  Not Hispanic or Latino               White  ...   \n",
       "3          Female  Not Hispanic or Latino               White  ...   \n",
       "4          Female  Not Hispanic or Latino               White  ...   \n",
       "..            ...                     ...                 ...  ...   \n",
       "58         Female      Hispanic or Latino  More Than One Race  ...   \n",
       "59         Female      Hispanic or Latino  More Than One Race  ...   \n",
       "60           Male  Not Hispanic or Latino               Asian  ...   \n",
       "61           Male  Not Hispanic or Latino               Asian  ...   \n",
       "62           Male  Not Hispanic or Latino               Asian  ...   \n",
       "\n",
       "    ENSG00000203364  ENSG00000230923 ENSG00000232810  ENSG00000234883  \\\n",
       "0              0.00            0.229          32.034            6.144   \n",
       "1              0.00            0.074          21.635            7.350   \n",
       "2              0.00            0.128          25.193            5.014   \n",
       "3              0.00            0.000          21.198            3.633   \n",
       "4              0.00            0.000          34.701            6.144   \n",
       "..              ...              ...             ...              ...   \n",
       "58             0.00            0.143          22.866            5.323   \n",
       "59             0.00            0.467          23.247            4.581   \n",
       "60             0.91            0.113          20.033            4.197   \n",
       "61             0.00            0.093          41.860            3.255   \n",
       "62             0.00            0.000          17.705            5.602   \n",
       "\n",
       "    ENSG00000238094  ENSG00000251230  ENSG00000267365  ENSG00000271133  \\\n",
       "0             0.000            4.346            0.206            3.938   \n",
       "1             0.000            6.461            0.000            4.649   \n",
       "2             0.000            8.136            0.519            1.885   \n",
       "3             0.000            5.241            0.000            3.605   \n",
       "4             0.000            2.908            0.503            6.857   \n",
       "..              ...              ...              ...              ...   \n",
       "58            0.000            1.440            0.000            1.584   \n",
       "59            0.000            2.347            0.000            3.444   \n",
       "60            1.169            4.540            0.153            4.996   \n",
       "61            0.000            4.971            0.125            4.103   \n",
       "62            0.000            3.135            0.127            3.450   \n",
       "\n",
       "       CCL3  ENSG00000280228  \n",
       "0   132.104            2.802  \n",
       "1    35.094            0.950  \n",
       "2    11.587            0.109  \n",
       "3    23.564            0.000  \n",
       "4    91.564            1.059  \n",
       "..      ...              ...  \n",
       "58   28.185            0.245  \n",
       "59   21.689            1.396  \n",
       "60   32.711            0.000  \n",
       "61   84.281            0.396  \n",
       "62   24.207            1.359  \n",
       "\n",
       "[63 rows x 25 columns]"
      ]
     },
     "execution_count": 434,
     "metadata": {},
     "output_type": "execute_result"
    }
   ],
   "source": [
    "subject_pred.merge(final_gene_pred, on='specimen_id', how = 'right')"
   ]
  },
  {
   "cell_type": "code",
   "execution_count": null,
   "id": "fcd31804-d886-42c9-94b3-c8b252ef182a",
   "metadata": {},
   "outputs": [],
   "source": []
  },
  {
   "cell_type": "code",
   "execution_count": null,
   "id": "dc75201e-f7cd-4856-9ca2-019923a608bd",
   "metadata": {},
   "outputs": [],
   "source": []
  },
  {
   "cell_type": "code",
   "execution_count": null,
   "id": "140b38b7-cdad-453c-82f4-09ee1751cbe3",
   "metadata": {},
   "outputs": [],
   "source": []
  }
 ],
 "metadata": {
  "kernelspec": {
   "display_name": "Python 3 (ipykernel)",
   "language": "python",
   "name": "python3"
  },
  "language_info": {
   "codemirror_mode": {
    "name": "ipython",
    "version": 3
   },
   "file_extension": ".py",
   "mimetype": "text/x-python",
   "name": "python",
   "nbconvert_exporter": "python",
   "pygments_lexer": "ipython3",
   "version": "3.11.0"
  }
 },
 "nbformat": 4,
 "nbformat_minor": 5
}
