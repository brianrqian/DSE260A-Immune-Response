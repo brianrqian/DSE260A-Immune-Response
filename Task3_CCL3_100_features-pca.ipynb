{
 "cells": [
  {
   "cell_type": "code",
   "execution_count": 52,
   "id": "2587b00c-2297-4691-8352-af62eecd79fb",
   "metadata": {
    "tags": []
   },
   "outputs": [],
   "source": [
    "import pandas as pd\n",
    "import numpy as np\n",
    "\n",
    "import seaborn as sns\n",
    "from scipy.stats import randint\n",
    "import matplotlib.pyplot as plt\n",
    "\n",
    "from sklearn.preprocessing import Normalizer\n",
    "from sklearn.preprocessing import OneHotEncoder\n",
    "from sklearn.preprocessing import StandardScaler\n",
    "\n",
    "from sklearn.linear_model import LogisticRegression\n",
    "from sklearn.linear_model import LinearRegression\n",
    "from sklearn.linear_model import Lasso, Ridge, ElasticNet\n",
    "from sklearn.neighbors import KNeighborsRegressor\n",
    "from sklearn.tree import DecisionTreeRegressor\n",
    "\n",
    "from sklearn.ensemble import RandomForestRegressor, GradientBoostingRegressor\n",
    "from sklearn.svm import SVR\n",
    "\n",
    "from sklearn.feature_selection import SelectKBest, f_regression, mutual_info_regression\n",
    "from sklearn.model_selection import RandomizedSearchCV, train_test_split\n",
    "from sklearn.metrics import mean_squared_error, mean_absolute_error, r2_score\n",
    "from sklearn.metrics import accuracy_score, confusion_matrix, precision_score, recall_score, ConfusionMatrixDisplay"
   ]
  },
  {
   "cell_type": "markdown",
   "id": "1b5ec6ee-b888-4d73-b2d5-b5fcd32f9875",
   "metadata": {
    "tags": []
   },
   "source": [
    "# 100 Features"
   ]
  },
  {
   "cell_type": "markdown",
   "id": "2e5685c1-6cb2-48d4-b79f-24010d9f6283",
   "metadata": {
    "tags": []
   },
   "source": [
    "## 1. Load & Cleaning Dataset"
   ]
  },
  {
   "cell_type": "markdown",
   "id": "f8d95096-8365-497b-8d23-167c3c382bbd",
   "metadata": {
    "tags": []
   },
   "source": [
    "#### 1.1 Loading in training and prediction datasets"
   ]
  },
  {
   "cell_type": "code",
   "execution_count": 53,
   "id": "f295d47c-60f1-469e-a1cd-789d925d6aa3",
   "metadata": {
    "tags": []
   },
   "outputs": [],
   "source": [
    "df_2020_gene = pd.read_csv(\"https://www.cmi-pb.org/downloads/cmipb_challenge_datasets/current/2nd_challenge/raw_datasets/training_data/2020LD_pbmc_gene_expression.tsv\", sep='\\t')\n",
    "df_2020_specimen = pd.read_csv(\"https://www.cmi-pb.org/downloads/cmipb_challenge_datasets/current/2nd_challenge/raw_datasets/training_data/2020LD_specimen.tsv\", sep='\\t')\n",
    "df_2020_subject = pd.read_csv(\"https://www.cmi-pb.org/downloads/cmipb_challenge_datasets/current/2nd_challenge/raw_datasets/training_data/2020LD_subject.tsv\", sep='\\t')\n",
    "df_2021_gene = pd.read_csv(\"https://www.cmi-pb.org/downloads/cmipb_challenge_datasets/current/2nd_challenge/raw_datasets/training_data/2021LD_pbmc_gene_expression.tsv\", sep='\\t')\n",
    "df_2021_specimen = pd.read_csv(\"https://www.cmi-pb.org/downloads/cmipb_challenge_datasets/current/2nd_challenge/raw_datasets/training_data/2021LD_specimen.tsv\", sep='\\t')\n",
    "df_2021_subject = pd.read_csv(\"https://www.cmi-pb.org/downloads/cmipb_challenge_datasets/current/2nd_challenge/raw_datasets/training_data/2021LD_subject.tsv\", sep='\\t')\n",
    "df_2022_gene = pd.read_csv(\"https://www.cmi-pb.org/downloads/cmipb_challenge_datasets/current/2nd_challenge/raw_datasets/prediction_data/2022BD_pbmc_gene_expression.tsv\", sep='\\t')\n",
    "df_2022_specimen = pd.read_csv(\"https://www.cmi-pb.org/downloads/cmipb_challenge_datasets/current/2nd_challenge/raw_datasets/prediction_data/2022BD_specimen.tsv\", sep='\\t')\n",
    "df_2022_subject = pd.read_csv(\"https://www.cmi-pb.org/downloads/cmipb_challenge_datasets/current/2nd_challenge/raw_datasets/prediction_data/2022BD_subject.tsv\", sep='\\t')"
   ]
  },
  {
   "cell_type": "markdown",
   "id": "bcdeead9-438b-4be0-9156-fa03b8b0871d",
   "metadata": {},
   "source": [
    "#### 1.2 Cleaning subject and gene expression datasets"
   ]
  },
  {
   "cell_type": "code",
   "execution_count": 54,
   "id": "8382037e-105a-4184-bcfa-5b6a47fd2864",
   "metadata": {
    "tags": []
   },
   "outputs": [],
   "source": [
    "## cleaning the subject/specimen dataset to get an age column\n",
    "def clean_df_subject(df):\n",
    "    \n",
    "    ## Get age column\n",
    "    df['year_of_birth'] = pd.to_numeric(df['year_of_birth'].str[:4])\n",
    "    df['date_of_boost'] = pd.to_numeric(df['date_of_boost'].str[:4])\n",
    "    df['age'] = df['date_of_boost'] - df['year_of_birth']\n",
    "    return df"
   ]
  },
  {
   "cell_type": "code",
   "execution_count": 55,
   "id": "20b80e4f-acb8-4f73-b13e-3df4683dcbbc",
   "metadata": {
    "tags": []
   },
   "outputs": [],
   "source": [
    "## cleaning the gene data to transform ensembl gene id to name\n",
    "def clean_df_gene(df):\n",
    "    df['versioned_ensembl_gene_id'] = df['versioned_ensembl_gene_id'].apply(lambda x: x.split('.')[0])\n",
    "    #mg = mygene.MyGeneInfo()\n",
    "    \n",
    "    # extract symbol and gene type from the versioned_ensembl_gene_id\n",
    "    #df['gene_symbol'] = df['versioned_ensembl_gene_id'].apply(lambda x : mg.getgene(x)['symbol'])\n",
    "    #df['gene_type'] = df['versioned_ensembl_gene_id'].apply(lambda x : mg.getgene(x)['type_of_gene'])\n",
    "    return df"
   ]
  },
  {
   "cell_type": "code",
   "execution_count": 56,
   "id": "9c0e5b03-12d7-443b-aa59-c46bca017bb9",
   "metadata": {
    "tags": []
   },
   "outputs": [],
   "source": [
    "#all_genes = genes['versioned_ensembl_gene_id'].unique()\n",
    "#symbols = []\n",
    "#for i in all_genes:\n",
    "#    symbols.append(mg.getgene(i)['symbol'])"
   ]
  },
  {
   "cell_type": "markdown",
   "id": "845af74f-13fd-469a-8fd3-9ce539c7f317",
   "metadata": {
    "tags": []
   },
   "source": [
    "#### 1.3 EDA: finding which genes closely relate to CCL3 gene"
   ]
  },
  {
   "cell_type": "code",
   "execution_count": 57,
   "id": "bc6e82bf-e832-479a-a40b-6fdcce1743fa",
   "metadata": {
    "tags": []
   },
   "outputs": [],
   "source": [
    "## concatenating 2020 and 2021 gene datasets\n",
    "genes = pd.concat([clean_df_gene(df_2020_gene),clean_df_gene(df_2021_gene)]).reset_index()\n",
    "genes_cols = genes.pivot_table(index=['specimen_id'], columns=['versioned_ensembl_gene_id'], values= 'tpm')#.reset_index()"
   ]
  },
  {
   "cell_type": "code",
   "execution_count": 58,
   "id": "a0428004-f97d-48e5-9b7f-e5f39cf0f674",
   "metadata": {},
   "outputs": [],
   "source": [
    "X = genes_cols.loc[:, genes_cols.columns !='ENSG00000277632']  #independent columns\n",
    "y = genes_cols['ENSG00000277632']    #target column i.e CCL3"
   ]
  },
  {
   "cell_type": "code",
   "execution_count": 59,
   "id": "668c423c-9cde-4994-aa2e-d279e18e486f",
   "metadata": {
    "tags": []
   },
   "outputs": [
    {
     "name": "stdout",
     "output_type": "stream",
     "text": [
      "                 Specs        Score\n",
      "32575  ENSG00000234883  2823.158219\n",
      "29853  ENSG00000230923  1579.290153\n",
      "56648  ENSG00000280228  1563.466676\n",
      "19568  ENSG00000203364  1527.484512\n",
      "51362  ENSG00000271133  1354.239954\n",
      "49583  ENSG00000267365  1348.884920\n",
      "31142  ENSG00000232810  1204.898796\n",
      "3510   ENSG00000108342  1185.819978\n",
      "34788  ENSG00000238094  1070.072435\n",
      "39750  ENSG00000251230  1022.311611\n"
     ]
    }
   ],
   "source": [
    "#apply SelectKBest class to extract top 10 best features\n",
    "bestfeatures = SelectKBest(score_func=f_regression, k=10)\n",
    "fit = bestfeatures.fit(X,y)\n",
    "dfscores = pd.DataFrame(fit.scores_)\n",
    "dfcolumns = pd.DataFrame(X.columns)\n",
    "\n",
    "#concat two dataframes for better visualization \n",
    "featureScores = pd.concat([dfcolumns,dfscores],axis=1)\n",
    "featureScores.columns = ['Specs','Score']  #naming the dataframe columns\n",
    "print(featureScores.nlargest(10,'Score'))  #print 10 best features"
   ]
  },
  {
   "cell_type": "code",
   "execution_count": 60,
   "id": "42cfb998-baf6-408d-8484-9945ff909c08",
   "metadata": {
    "tags": []
   },
   "outputs": [
    {
     "data": {
      "text/html": [
       "<div>\n",
       "<style scoped>\n",
       "    .dataframe tbody tr th:only-of-type {\n",
       "        vertical-align: middle;\n",
       "    }\n",
       "\n",
       "    .dataframe tbody tr th {\n",
       "        vertical-align: top;\n",
       "    }\n",
       "\n",
       "    .dataframe thead th {\n",
       "        text-align: right;\n",
       "    }\n",
       "</style>\n",
       "<table border=\"1\" class=\"dataframe\">\n",
       "  <thead>\n",
       "    <tr style=\"text-align: right;\">\n",
       "      <th>versioned_ensembl_gene_id</th>\n",
       "      <th>specimen_id</th>\n",
       "      <th>ENSG00000081041</th>\n",
       "      <th>ENSG00000087074</th>\n",
       "      <th>ENSG00000099860</th>\n",
       "      <th>ENSG00000100024</th>\n",
       "      <th>ENSG00000100906</th>\n",
       "      <th>ENSG00000101331</th>\n",
       "      <th>ENSG00000105855</th>\n",
       "      <th>ENSG00000108342</th>\n",
       "      <th>ENSG00000123689</th>\n",
       "      <th>...</th>\n",
       "      <th>ENSG00000277969</th>\n",
       "      <th>ENSG00000278546</th>\n",
       "      <th>ENSG00000278869</th>\n",
       "      <th>ENSG00000279065</th>\n",
       "      <th>ENSG00000279719</th>\n",
       "      <th>ENSG00000279907</th>\n",
       "      <th>ENSG00000280159</th>\n",
       "      <th>ENSG00000280228</th>\n",
       "      <th>ENSG00000280587</th>\n",
       "      <th>ENSG00000283265</th>\n",
       "    </tr>\n",
       "  </thead>\n",
       "  <tbody>\n",
       "    <tr>\n",
       "      <th>0</th>\n",
       "      <td>1</td>\n",
       "      <td>80.075</td>\n",
       "      <td>282.700</td>\n",
       "      <td>262.268</td>\n",
       "      <td>1.274</td>\n",
       "      <td>1029.796</td>\n",
       "      <td>0.078</td>\n",
       "      <td>0.451</td>\n",
       "      <td>0.091</td>\n",
       "      <td>1875.568</td>\n",
       "      <td>...</td>\n",
       "      <td>2.892</td>\n",
       "      <td>0.455</td>\n",
       "      <td>2.524</td>\n",
       "      <td>0.0</td>\n",
       "      <td>0.287</td>\n",
       "      <td>0.000</td>\n",
       "      <td>0.331</td>\n",
       "      <td>0.104</td>\n",
       "      <td>0.123</td>\n",
       "      <td>0.000</td>\n",
       "    </tr>\n",
       "    <tr>\n",
       "      <th>1</th>\n",
       "      <td>2</td>\n",
       "      <td>57.538</td>\n",
       "      <td>488.817</td>\n",
       "      <td>349.156</td>\n",
       "      <td>1.512</td>\n",
       "      <td>1318.072</td>\n",
       "      <td>0.209</td>\n",
       "      <td>0.594</td>\n",
       "      <td>0.000</td>\n",
       "      <td>3228.718</td>\n",
       "      <td>...</td>\n",
       "      <td>7.612</td>\n",
       "      <td>0.000</td>\n",
       "      <td>5.958</td>\n",
       "      <td>0.0</td>\n",
       "      <td>1.027</td>\n",
       "      <td>0.072</td>\n",
       "      <td>0.445</td>\n",
       "      <td>0.186</td>\n",
       "      <td>0.166</td>\n",
       "      <td>0.000</td>\n",
       "    </tr>\n",
       "    <tr>\n",
       "      <th>2</th>\n",
       "      <td>3</td>\n",
       "      <td>91.823</td>\n",
       "      <td>441.602</td>\n",
       "      <td>301.455</td>\n",
       "      <td>1.272</td>\n",
       "      <td>1163.138</td>\n",
       "      <td>0.073</td>\n",
       "      <td>0.657</td>\n",
       "      <td>0.000</td>\n",
       "      <td>1950.863</td>\n",
       "      <td>...</td>\n",
       "      <td>5.238</td>\n",
       "      <td>0.850</td>\n",
       "      <td>2.571</td>\n",
       "      <td>0.0</td>\n",
       "      <td>0.268</td>\n",
       "      <td>0.075</td>\n",
       "      <td>0.155</td>\n",
       "      <td>0.243</td>\n",
       "      <td>0.000</td>\n",
       "      <td>0.000</td>\n",
       "    </tr>\n",
       "    <tr>\n",
       "      <th>3</th>\n",
       "      <td>4</td>\n",
       "      <td>59.985</td>\n",
       "      <td>236.556</td>\n",
       "      <td>180.081</td>\n",
       "      <td>1.056</td>\n",
       "      <td>651.685</td>\n",
       "      <td>0.000</td>\n",
       "      <td>0.803</td>\n",
       "      <td>0.211</td>\n",
       "      <td>1397.690</td>\n",
       "      <td>...</td>\n",
       "      <td>3.192</td>\n",
       "      <td>0.000</td>\n",
       "      <td>2.845</td>\n",
       "      <td>0.0</td>\n",
       "      <td>0.889</td>\n",
       "      <td>0.125</td>\n",
       "      <td>0.257</td>\n",
       "      <td>0.887</td>\n",
       "      <td>0.000</td>\n",
       "      <td>0.000</td>\n",
       "    </tr>\n",
       "    <tr>\n",
       "      <th>4</th>\n",
       "      <td>5</td>\n",
       "      <td>85.363</td>\n",
       "      <td>314.741</td>\n",
       "      <td>290.319</td>\n",
       "      <td>0.949</td>\n",
       "      <td>1084.081</td>\n",
       "      <td>0.069</td>\n",
       "      <td>0.567</td>\n",
       "      <td>0.081</td>\n",
       "      <td>2014.992</td>\n",
       "      <td>...</td>\n",
       "      <td>3.042</td>\n",
       "      <td>0.405</td>\n",
       "      <td>4.288</td>\n",
       "      <td>0.0</td>\n",
       "      <td>1.020</td>\n",
       "      <td>0.144</td>\n",
       "      <td>0.516</td>\n",
       "      <td>0.185</td>\n",
       "      <td>0.055</td>\n",
       "      <td>0.000</td>\n",
       "    </tr>\n",
       "    <tr>\n",
       "      <th>...</th>\n",
       "      <td>...</td>\n",
       "      <td>...</td>\n",
       "      <td>...</td>\n",
       "      <td>...</td>\n",
       "      <td>...</td>\n",
       "      <td>...</td>\n",
       "      <td>...</td>\n",
       "      <td>...</td>\n",
       "      <td>...</td>\n",
       "      <td>...</td>\n",
       "      <td>...</td>\n",
       "      <td>...</td>\n",
       "      <td>...</td>\n",
       "      <td>...</td>\n",
       "      <td>...</td>\n",
       "      <td>...</td>\n",
       "      <td>...</td>\n",
       "      <td>...</td>\n",
       "      <td>...</td>\n",
       "      <td>...</td>\n",
       "      <td>...</td>\n",
       "    </tr>\n",
       "    <tr>\n",
       "      <th>355</th>\n",
       "      <td>723</td>\n",
       "      <td>9.234</td>\n",
       "      <td>346.053</td>\n",
       "      <td>198.392</td>\n",
       "      <td>0.236</td>\n",
       "      <td>883.150</td>\n",
       "      <td>0.000</td>\n",
       "      <td>0.689</td>\n",
       "      <td>0.000</td>\n",
       "      <td>383.166</td>\n",
       "      <td>...</td>\n",
       "      <td>8.044</td>\n",
       "      <td>0.000</td>\n",
       "      <td>5.036</td>\n",
       "      <td>0.0</td>\n",
       "      <td>1.716</td>\n",
       "      <td>0.000</td>\n",
       "      <td>0.165</td>\n",
       "      <td>0.052</td>\n",
       "      <td>0.000</td>\n",
       "      <td>0.000</td>\n",
       "    </tr>\n",
       "    <tr>\n",
       "      <th>356</th>\n",
       "      <td>724</td>\n",
       "      <td>5.802</td>\n",
       "      <td>359.363</td>\n",
       "      <td>187.768</td>\n",
       "      <td>0.267</td>\n",
       "      <td>751.271</td>\n",
       "      <td>0.000</td>\n",
       "      <td>0.347</td>\n",
       "      <td>0.000</td>\n",
       "      <td>334.380</td>\n",
       "      <td>...</td>\n",
       "      <td>9.477</td>\n",
       "      <td>0.820</td>\n",
       "      <td>5.169</td>\n",
       "      <td>0.0</td>\n",
       "      <td>2.325</td>\n",
       "      <td>0.073</td>\n",
       "      <td>0.075</td>\n",
       "      <td>0.000</td>\n",
       "      <td>0.000</td>\n",
       "      <td>0.000</td>\n",
       "    </tr>\n",
       "    <tr>\n",
       "      <th>357</th>\n",
       "      <td>725</td>\n",
       "      <td>8.162</td>\n",
       "      <td>316.164</td>\n",
       "      <td>148.351</td>\n",
       "      <td>0.444</td>\n",
       "      <td>709.414</td>\n",
       "      <td>0.000</td>\n",
       "      <td>1.031</td>\n",
       "      <td>0.170</td>\n",
       "      <td>255.333</td>\n",
       "      <td>...</td>\n",
       "      <td>7.629</td>\n",
       "      <td>0.000</td>\n",
       "      <td>8.161</td>\n",
       "      <td>0.0</td>\n",
       "      <td>1.878</td>\n",
       "      <td>0.151</td>\n",
       "      <td>0.232</td>\n",
       "      <td>0.000</td>\n",
       "      <td>0.000</td>\n",
       "      <td>0.000</td>\n",
       "    </tr>\n",
       "    <tr>\n",
       "      <th>358</th>\n",
       "      <td>726</td>\n",
       "      <td>10.314</td>\n",
       "      <td>379.570</td>\n",
       "      <td>245.418</td>\n",
       "      <td>0.343</td>\n",
       "      <td>1190.328</td>\n",
       "      <td>0.000</td>\n",
       "      <td>0.296</td>\n",
       "      <td>0.000</td>\n",
       "      <td>497.355</td>\n",
       "      <td>...</td>\n",
       "      <td>5.724</td>\n",
       "      <td>0.000</td>\n",
       "      <td>6.260</td>\n",
       "      <td>0.0</td>\n",
       "      <td>2.844</td>\n",
       "      <td>0.467</td>\n",
       "      <td>0.205</td>\n",
       "      <td>0.086</td>\n",
       "      <td>0.000</td>\n",
       "      <td>0.000</td>\n",
       "    </tr>\n",
       "    <tr>\n",
       "      <th>359</th>\n",
       "      <td>727</td>\n",
       "      <td>8.992</td>\n",
       "      <td>451.384</td>\n",
       "      <td>183.708</td>\n",
       "      <td>0.207</td>\n",
       "      <td>1344.401</td>\n",
       "      <td>0.000</td>\n",
       "      <td>0.638</td>\n",
       "      <td>0.000</td>\n",
       "      <td>617.200</td>\n",
       "      <td>...</td>\n",
       "      <td>8.680</td>\n",
       "      <td>1.822</td>\n",
       "      <td>8.034</td>\n",
       "      <td>0.0</td>\n",
       "      <td>3.441</td>\n",
       "      <td>0.646</td>\n",
       "      <td>0.414</td>\n",
       "      <td>0.052</td>\n",
       "      <td>0.062</td>\n",
       "      <td>0.174</td>\n",
       "    </tr>\n",
       "  </tbody>\n",
       "</table>\n",
       "<p>360 rows × 102 columns</p>\n",
       "</div>"
      ],
      "text/plain": [
       "versioned_ensembl_gene_id  specimen_id  ENSG00000081041  ENSG00000087074  \\\n",
       "0                                    1           80.075          282.700   \n",
       "1                                    2           57.538          488.817   \n",
       "2                                    3           91.823          441.602   \n",
       "3                                    4           59.985          236.556   \n",
       "4                                    5           85.363          314.741   \n",
       "..                                 ...              ...              ...   \n",
       "355                                723            9.234          346.053   \n",
       "356                                724            5.802          359.363   \n",
       "357                                725            8.162          316.164   \n",
       "358                                726           10.314          379.570   \n",
       "359                                727            8.992          451.384   \n",
       "\n",
       "versioned_ensembl_gene_id  ENSG00000099860  ENSG00000100024  ENSG00000100906  \\\n",
       "0                                  262.268            1.274         1029.796   \n",
       "1                                  349.156            1.512         1318.072   \n",
       "2                                  301.455            1.272         1163.138   \n",
       "3                                  180.081            1.056          651.685   \n",
       "4                                  290.319            0.949         1084.081   \n",
       "..                                     ...              ...              ...   \n",
       "355                                198.392            0.236          883.150   \n",
       "356                                187.768            0.267          751.271   \n",
       "357                                148.351            0.444          709.414   \n",
       "358                                245.418            0.343         1190.328   \n",
       "359                                183.708            0.207         1344.401   \n",
       "\n",
       "versioned_ensembl_gene_id  ENSG00000101331  ENSG00000105855  ENSG00000108342  \\\n",
       "0                                    0.078            0.451            0.091   \n",
       "1                                    0.209            0.594            0.000   \n",
       "2                                    0.073            0.657            0.000   \n",
       "3                                    0.000            0.803            0.211   \n",
       "4                                    0.069            0.567            0.081   \n",
       "..                                     ...              ...              ...   \n",
       "355                                  0.000            0.689            0.000   \n",
       "356                                  0.000            0.347            0.000   \n",
       "357                                  0.000            1.031            0.170   \n",
       "358                                  0.000            0.296            0.000   \n",
       "359                                  0.000            0.638            0.000   \n",
       "\n",
       "versioned_ensembl_gene_id  ENSG00000123689  ...  ENSG00000277969  \\\n",
       "0                                 1875.568  ...            2.892   \n",
       "1                                 3228.718  ...            7.612   \n",
       "2                                 1950.863  ...            5.238   \n",
       "3                                 1397.690  ...            3.192   \n",
       "4                                 2014.992  ...            3.042   \n",
       "..                                     ...  ...              ...   \n",
       "355                                383.166  ...            8.044   \n",
       "356                                334.380  ...            9.477   \n",
       "357                                255.333  ...            7.629   \n",
       "358                                497.355  ...            5.724   \n",
       "359                                617.200  ...            8.680   \n",
       "\n",
       "versioned_ensembl_gene_id  ENSG00000278546  ENSG00000278869  ENSG00000279065  \\\n",
       "0                                    0.455            2.524              0.0   \n",
       "1                                    0.000            5.958              0.0   \n",
       "2                                    0.850            2.571              0.0   \n",
       "3                                    0.000            2.845              0.0   \n",
       "4                                    0.405            4.288              0.0   \n",
       "..                                     ...              ...              ...   \n",
       "355                                  0.000            5.036              0.0   \n",
       "356                                  0.820            5.169              0.0   \n",
       "357                                  0.000            8.161              0.0   \n",
       "358                                  0.000            6.260              0.0   \n",
       "359                                  1.822            8.034              0.0   \n",
       "\n",
       "versioned_ensembl_gene_id  ENSG00000279719  ENSG00000279907  ENSG00000280159  \\\n",
       "0                                    0.287            0.000            0.331   \n",
       "1                                    1.027            0.072            0.445   \n",
       "2                                    0.268            0.075            0.155   \n",
       "3                                    0.889            0.125            0.257   \n",
       "4                                    1.020            0.144            0.516   \n",
       "..                                     ...              ...              ...   \n",
       "355                                  1.716            0.000            0.165   \n",
       "356                                  2.325            0.073            0.075   \n",
       "357                                  1.878            0.151            0.232   \n",
       "358                                  2.844            0.467            0.205   \n",
       "359                                  3.441            0.646            0.414   \n",
       "\n",
       "versioned_ensembl_gene_id  ENSG00000280228  ENSG00000280587  ENSG00000283265  \n",
       "0                                    0.104            0.123            0.000  \n",
       "1                                    0.186            0.166            0.000  \n",
       "2                                    0.243            0.000            0.000  \n",
       "3                                    0.887            0.000            0.000  \n",
       "4                                    0.185            0.055            0.000  \n",
       "..                                     ...              ...              ...  \n",
       "355                                  0.052            0.000            0.000  \n",
       "356                                  0.000            0.000            0.000  \n",
       "357                                  0.000            0.000            0.000  \n",
       "358                                  0.086            0.000            0.000  \n",
       "359                                  0.052            0.062            0.174  \n",
       "\n",
       "[360 rows x 102 columns]"
      ]
     },
     "execution_count": 60,
     "metadata": {},
     "output_type": "execute_result"
    }
   ],
   "source": [
    "top100 = list(featureScores.nlargest(100,'Score')['Specs'])\n",
    "top100.append('ENSG00000277632')\n",
    "final_gene = genes_cols[genes_cols.columns.intersection(top100)].rename(columns= {'ENSG00000277632':'CCL3'}).reset_index()\n",
    "final_gene                                                  "
   ]
  },
  {
   "cell_type": "markdown",
   "id": "4fe63c98-c9a6-4d48-a418-3282dd3a0531",
   "metadata": {},
   "source": [
    "#### 1.4 Merging datasets"
   ]
  },
  {
   "cell_type": "code",
   "execution_count": 61,
   "id": "c44e3014-e0a5-4f9b-bc15-a51ecf56df37",
   "metadata": {
    "tags": []
   },
   "outputs": [],
   "source": [
    "## concatenating 2020 and 2021 subject & specimen datasets\n",
    "subject = clean_df_subject(pd.concat([pd.merge(df_2020_specimen,df_2020_subject, on= 'subject_id'),\n",
    "pd.merge(df_2021_specimen,df_2021_subject, on= 'subject_id')],ignore_index=True))"
   ]
  },
  {
   "cell_type": "code",
   "execution_count": 62,
   "id": "02fe655e-ba45-427e-a31a-d075310f9ae2",
   "metadata": {
    "tags": []
   },
   "outputs": [],
   "source": [
    "## merging the titer & subject/specimen datasets to one dataframe\n",
    "subject = subject[['subject_id',\n",
    "                   'specimen_id',\n",
    "                   'planned_day_relative_to_boost',\n",
    "         'infancy_vac',\n",
    "         'biological_sex',\n",
    "         'age',\n",
    "         'year_of_birth',\n",
    "         'ethnicity',\n",
    "         'race']]\n",
    "df = subject.merge(final_gene, on='specimen_id')"
   ]
  },
  {
   "cell_type": "markdown",
   "id": "839aa78e-fa4a-4720-bd45-11366e857e74",
   "metadata": {
    "tags": []
   },
   "source": [
    "## 2. Data Feature Selection & Transformation"
   ]
  },
  {
   "cell_type": "code",
   "execution_count": 63,
   "id": "22b3ebe6-0cb6-4b24-9412-13bfacb5bd39",
   "metadata": {},
   "outputs": [],
   "source": [
    "df_d0 = df[df['planned_day_relative_to_boost'] == 0.0].rename(columns = {'CCL3':'CCL3_d0'})\n",
    "df_d3 = df[df['planned_day_relative_to_boost'] == 3.0][['subject_id', 'CCL3']]\n",
    "df_d3 = df_d3.merge(df_d0, on = 'subject_id')\n",
    "df_d3['CCL3-FC'] = np.log2(df_d3['CCL3'] / df_d3['CCL3_d0'])\n",
    "df_d3 = df_d3.drop(['subject_id', 'specimen_id', 'planned_day_relative_to_boost'], axis = 1)"
   ]
  },
  {
   "cell_type": "markdown",
   "id": "e51ea557-517a-40ef-91b4-6c83d5cc00de",
   "metadata": {},
   "source": [
    "#### 2.1 Data Feature Transformation\n",
    "- mapping string data into numerical type for Regression training"
   ]
  },
  {
   "cell_type": "code",
   "execution_count": 64,
   "id": "c9a359f9-62f4-445a-9a16-ce8c00e7ac1f",
   "metadata": {
    "tags": []
   },
   "outputs": [],
   "source": [
    "df_d3['infancy_vac'] = df_d3['infancy_vac'].map({'wP':0, 'aP':1})"
   ]
  },
  {
   "cell_type": "code",
   "execution_count": 65,
   "id": "118fa06d-a06c-4db4-8593-5340524e293b",
   "metadata": {
    "tags": []
   },
   "outputs": [],
   "source": [
    "df_d3['biological_sex'] = df_d3['biological_sex'].map({'Female':0, 'Male':1})"
   ]
  },
  {
   "cell_type": "code",
   "execution_count": 66,
   "id": "a94f536b-96ac-4df1-a30a-efd639792458",
   "metadata": {
    "tags": []
   },
   "outputs": [],
   "source": [
    "df_d3['ethnicity'] = df_d3['ethnicity'].map({'Not Hispanic or Latino':0, \n",
    "                                             'Hispanic or Latino':1,\n",
    "                                             'Unknown':2})"
   ]
  },
  {
   "cell_type": "code",
   "execution_count": 67,
   "id": "ccaf5197-15bd-46ec-99d5-eb73b4f106e6",
   "metadata": {
    "tags": []
   },
   "outputs": [
    {
     "data": {
      "text/html": [
       "<div>\n",
       "<style scoped>\n",
       "    .dataframe tbody tr th:only-of-type {\n",
       "        vertical-align: middle;\n",
       "    }\n",
       "\n",
       "    .dataframe tbody tr th {\n",
       "        vertical-align: top;\n",
       "    }\n",
       "\n",
       "    .dataframe thead th {\n",
       "        text-align: right;\n",
       "    }\n",
       "</style>\n",
       "<table border=\"1\" class=\"dataframe\">\n",
       "  <thead>\n",
       "    <tr style=\"text-align: right;\">\n",
       "      <th></th>\n",
       "      <th>CCL3</th>\n",
       "      <th>infancy_vac</th>\n",
       "      <th>biological_sex</th>\n",
       "      <th>age</th>\n",
       "      <th>year_of_birth</th>\n",
       "      <th>ethnicity</th>\n",
       "      <th>race</th>\n",
       "      <th>ENSG00000081041</th>\n",
       "      <th>ENSG00000087074</th>\n",
       "      <th>ENSG00000099860</th>\n",
       "      <th>...</th>\n",
       "      <th>ENSG00000278546</th>\n",
       "      <th>ENSG00000278869</th>\n",
       "      <th>ENSG00000279065</th>\n",
       "      <th>ENSG00000279719</th>\n",
       "      <th>ENSG00000279907</th>\n",
       "      <th>ENSG00000280159</th>\n",
       "      <th>ENSG00000280228</th>\n",
       "      <th>ENSG00000280587</th>\n",
       "      <th>ENSG00000283265</th>\n",
       "      <th>CCL3-FC</th>\n",
       "    </tr>\n",
       "  </thead>\n",
       "  <tbody>\n",
       "    <tr>\n",
       "      <th>0</th>\n",
       "      <td>46.410</td>\n",
       "      <td>0</td>\n",
       "      <td>0</td>\n",
       "      <td>30</td>\n",
       "      <td>1986</td>\n",
       "      <td>0</td>\n",
       "      <td>0</td>\n",
       "      <td>80.075</td>\n",
       "      <td>282.700</td>\n",
       "      <td>262.268</td>\n",
       "      <td>...</td>\n",
       "      <td>0.455</td>\n",
       "      <td>2.524</td>\n",
       "      <td>0.0</td>\n",
       "      <td>0.287</td>\n",
       "      <td>0.000</td>\n",
       "      <td>0.331</td>\n",
       "      <td>0.104</td>\n",
       "      <td>0.123</td>\n",
       "      <td>0.0</td>\n",
       "      <td>0.239062</td>\n",
       "    </tr>\n",
       "    <tr>\n",
       "      <th>1</th>\n",
       "      <td>26.204</td>\n",
       "      <td>0</td>\n",
       "      <td>0</td>\n",
       "      <td>33</td>\n",
       "      <td>1983</td>\n",
       "      <td>2</td>\n",
       "      <td>0</td>\n",
       "      <td>12.726</td>\n",
       "      <td>270.247</td>\n",
       "      <td>240.709</td>\n",
       "      <td>...</td>\n",
       "      <td>0.354</td>\n",
       "      <td>3.033</td>\n",
       "      <td>0.0</td>\n",
       "      <td>0.446</td>\n",
       "      <td>0.691</td>\n",
       "      <td>0.064</td>\n",
       "      <td>0.202</td>\n",
       "      <td>0.096</td>\n",
       "      <td>0.0</td>\n",
       "      <td>0.172494</td>\n",
       "    </tr>\n",
       "    <tr>\n",
       "      <th>2</th>\n",
       "      <td>13.353</td>\n",
       "      <td>0</td>\n",
       "      <td>1</td>\n",
       "      <td>28</td>\n",
       "      <td>1988</td>\n",
       "      <td>0</td>\n",
       "      <td>1</td>\n",
       "      <td>13.003</td>\n",
       "      <td>167.995</td>\n",
       "      <td>133.559</td>\n",
       "      <td>...</td>\n",
       "      <td>0.000</td>\n",
       "      <td>2.847</td>\n",
       "      <td>0.0</td>\n",
       "      <td>0.000</td>\n",
       "      <td>0.313</td>\n",
       "      <td>0.578</td>\n",
       "      <td>0.202</td>\n",
       "      <td>0.000</td>\n",
       "      <td>0.0</td>\n",
       "      <td>-0.268462</td>\n",
       "    </tr>\n",
       "    <tr>\n",
       "      <th>3</th>\n",
       "      <td>20.618</td>\n",
       "      <td>0</td>\n",
       "      <td>1</td>\n",
       "      <td>25</td>\n",
       "      <td>1991</td>\n",
       "      <td>0</td>\n",
       "      <td>1</td>\n",
       "      <td>89.991</td>\n",
       "      <td>182.531</td>\n",
       "      <td>155.424</td>\n",
       "      <td>...</td>\n",
       "      <td>0.344</td>\n",
       "      <td>0.347</td>\n",
       "      <td>0.0</td>\n",
       "      <td>0.217</td>\n",
       "      <td>0.000</td>\n",
       "      <td>0.438</td>\n",
       "      <td>0.196</td>\n",
       "      <td>0.000</td>\n",
       "      <td>0.0</td>\n",
       "      <td>-0.502163</td>\n",
       "    </tr>\n",
       "    <tr>\n",
       "      <th>4</th>\n",
       "      <td>19.606</td>\n",
       "      <td>0</td>\n",
       "      <td>0</td>\n",
       "      <td>28</td>\n",
       "      <td>1988</td>\n",
       "      <td>0</td>\n",
       "      <td>0</td>\n",
       "      <td>116.729</td>\n",
       "      <td>524.165</td>\n",
       "      <td>283.512</td>\n",
       "      <td>...</td>\n",
       "      <td>0.336</td>\n",
       "      <td>3.722</td>\n",
       "      <td>0.0</td>\n",
       "      <td>0.000</td>\n",
       "      <td>0.179</td>\n",
       "      <td>0.244</td>\n",
       "      <td>0.307</td>\n",
       "      <td>0.000</td>\n",
       "      <td>0.0</td>\n",
       "      <td>-0.220520</td>\n",
       "    </tr>\n",
       "  </tbody>\n",
       "</table>\n",
       "<p>5 rows × 109 columns</p>\n",
       "</div>"
      ],
      "text/plain": [
       "     CCL3  infancy_vac  biological_sex  age  year_of_birth  ethnicity  race  \\\n",
       "0  46.410            0               0   30           1986          0     0   \n",
       "1  26.204            0               0   33           1983          2     0   \n",
       "2  13.353            0               1   28           1988          0     1   \n",
       "3  20.618            0               1   25           1991          0     1   \n",
       "4  19.606            0               0   28           1988          0     0   \n",
       "\n",
       "   ENSG00000081041  ENSG00000087074  ENSG00000099860  ...  ENSG00000278546  \\\n",
       "0           80.075          282.700          262.268  ...            0.455   \n",
       "1           12.726          270.247          240.709  ...            0.354   \n",
       "2           13.003          167.995          133.559  ...            0.000   \n",
       "3           89.991          182.531          155.424  ...            0.344   \n",
       "4          116.729          524.165          283.512  ...            0.336   \n",
       "\n",
       "   ENSG00000278869  ENSG00000279065  ENSG00000279719  ENSG00000279907  \\\n",
       "0            2.524              0.0            0.287            0.000   \n",
       "1            3.033              0.0            0.446            0.691   \n",
       "2            2.847              0.0            0.000            0.313   \n",
       "3            0.347              0.0            0.217            0.000   \n",
       "4            3.722              0.0            0.000            0.179   \n",
       "\n",
       "   ENSG00000280159  ENSG00000280228  ENSG00000280587  ENSG00000283265  \\\n",
       "0            0.331            0.104            0.123              0.0   \n",
       "1            0.064            0.202            0.096              0.0   \n",
       "2            0.578            0.202            0.000              0.0   \n",
       "3            0.438            0.196            0.000              0.0   \n",
       "4            0.244            0.307            0.000              0.0   \n",
       "\n",
       "    CCL3-FC  \n",
       "0  0.239062  \n",
       "1  0.172494  \n",
       "2 -0.268462  \n",
       "3 -0.502163  \n",
       "4 -0.220520  \n",
       "\n",
       "[5 rows x 109 columns]"
      ]
     },
     "execution_count": 67,
     "metadata": {},
     "output_type": "execute_result"
    }
   ],
   "source": [
    "df_d3['race'] = df_d3['race'].map({'White':0, \n",
    "                                   'Asian':1,\n",
    "                                   'Unknown or Not Reported': 2,\n",
    "                                   'More Than One Race': 2,\n",
    "                                   'Black or African American': 3,\n",
    "                                   'Native Hawaiian or Other Pacific Islander': 4,\n",
    "                                   'American Indian/Alaska Native':5})\n",
    "df_d3.head()"
   ]
  },
  {
   "cell_type": "markdown",
   "id": "066b9307-4cfe-4ca5-940e-c120bcc46b21",
   "metadata": {
    "tags": []
   },
   "source": [
    "## 3. Training and Evaluating Models"
   ]
  },
  {
   "cell_type": "markdown",
   "id": "c4ded5e1-199b-4994-8aee-c9f9c39767b5",
   "metadata": {
    "tags": []
   },
   "source": [
    "#### 3.1 Creating training and testing datasets"
   ]
  },
  {
   "cell_type": "code",
   "execution_count": 68,
   "id": "9b68781c-61b7-423d-add8-8d159b4f8717",
   "metadata": {
    "tags": []
   },
   "outputs": [],
   "source": [
    "X = df_d3.drop(['CCL3','CCL3-FC'], axis = 1)\n",
    "y = df_d3['CCL3-FC']\n",
    "\n",
    "from sklearn.decomposition import PCA\n",
    "pca = PCA(n_components=10) \n",
    "X = pca.fit_transform(X)"
   ]
  },
  {
   "cell_type": "code",
   "execution_count": 69,
   "id": "81c5d651-1979-4825-90dc-ed6d4e5c2012",
   "metadata": {
    "tags": []
   },
   "outputs": [],
   "source": [
    "X_train, X_test, y_train, y_test = train_test_split(X, y, test_size=0.2)"
   ]
  },
  {
   "cell_type": "code",
   "execution_count": 70,
   "id": "ba3f3d83-36e5-46b4-b13c-8ef92b5bcf55",
   "metadata": {
    "tags": []
   },
   "outputs": [],
   "source": [
    "scaler = Normalizer()\n",
    "X_train_scaled = X_train#pd.DataFrame(scaler.fit_transform(X_train), columns=X_train.columns)\n",
    "X_test_scaled = X_test#pd.DataFrame(scaler.transform(X_test), columns=X_test.columns)"
   ]
  },
  {
   "cell_type": "markdown",
   "id": "549814a8-54e2-4f1d-b20b-776df5b08ce9",
   "metadata": {},
   "source": [
    "#### 3.2 Linear Regression "
   ]
  },
  {
   "cell_type": "markdown",
   "id": "ff0da437-874a-4117-8b5c-7bc15d5eec5f",
   "metadata": {},
   "source": [
    "First we will test a simple naive model, Linear Regression, to get a baseline of how a model should at least perform"
   ]
  },
  {
   "cell_type": "code",
   "execution_count": 71,
   "id": "c8a7f3e2-9e99-4682-ab19-f09e7e0f86ce",
   "metadata": {
    "tags": []
   },
   "outputs": [],
   "source": [
    "reg = LinearRegression().fit(X, y)\n",
    "Y_pred = reg.predict(X)"
   ]
  },
  {
   "cell_type": "code",
   "execution_count": 72,
   "id": "59328d60-a283-4568-b59a-f3fdd3d2c91c",
   "metadata": {
    "tags": []
   },
   "outputs": [
    {
     "data": {
      "text/plain": [
       "(0.9295880231020421, 0.7615259404059851, 0.5806066007393247)"
      ]
     },
     "execution_count": 72,
     "metadata": {},
     "output_type": "execute_result"
    }
   ],
   "source": [
    "mse = mean_squared_error(y, Y_pred)\n",
    "mae = mean_absolute_error(y, Y_pred)\n",
    "r2 = r2_score(y, Y_pred)\n",
    "mse, mae, r2"
   ]
  },
  {
   "cell_type": "markdown",
   "id": "97eed26c-d08e-48b6-84d2-c43596355ae1",
   "metadata": {},
   "source": [
    "The MSE, MAE, and R2 scores were very good indicating that the model was good at predicting among its own training data, though the real evaluation comes with training the model with the training dataset, and predicting values for the testing subset of data. This will allow us to better evaluate if the model's actually good at predicitng with new data points."
   ]
  },
  {
   "cell_type": "code",
   "execution_count": 73,
   "id": "3ca99dee-6a17-4953-b8f4-82ee78e077a1",
   "metadata": {
    "tags": []
   },
   "outputs": [],
   "source": [
    "reg_sub = LinearRegression().fit(X_train, y_train)\n",
    "Y_pred = reg_sub.predict(X_test)"
   ]
  },
  {
   "cell_type": "code",
   "execution_count": 74,
   "id": "ea1c6971-1b5f-40b6-a641-7f092d2dac89",
   "metadata": {
    "tags": []
   },
   "outputs": [
    {
     "data": {
      "text/plain": [
       "(1.6324742281770994, 0.9509665046341303, -0.10597178288959141)"
      ]
     },
     "execution_count": 74,
     "metadata": {},
     "output_type": "execute_result"
    }
   ],
   "source": [
    "mse = mean_squared_error(y_test, Y_pred)\n",
    "mae = mean_absolute_error(y_test, Y_pred)\n",
    "r2 = r2_score(y_test, Y_pred)\n",
    "mse, mae, r2"
   ]
  },
  {
   "cell_type": "markdown",
   "id": "67d4562d-753f-40f7-b63c-ee81aee6f0a0",
   "metadata": {},
   "source": [
    "While the MSE and MAE scores performed better, the R2 indicates that the model is heavily not accurate in its predictions and could definitely be improved upon. So we are going to be testing more advanced models and seeing any improvements"
   ]
  },
  {
   "cell_type": "markdown",
   "id": "abdafeeb-3449-4119-bb66-478bb35d71c9",
   "metadata": {},
   "source": [
    "#### 3.2 Elastic Net"
   ]
  },
  {
   "cell_type": "code",
   "execution_count": 75,
   "id": "f5e7edbd-67cc-40db-bd7d-80910c5c1567",
   "metadata": {
    "tags": []
   },
   "outputs": [],
   "source": [
    "en = ElasticNet()\n",
    "en.fit(X, y)\n",
    "Y_pred = en.predict(X)"
   ]
  },
  {
   "cell_type": "code",
   "execution_count": 76,
   "id": "cca8639e-dc17-4b36-81d1-5c1ae956a80b",
   "metadata": {
    "tags": []
   },
   "outputs": [
    {
     "data": {
      "text/plain": [
       "(0.9303326351321728, 0.7583327774421331, 0.5802706612019317)"
      ]
     },
     "execution_count": 76,
     "metadata": {},
     "output_type": "execute_result"
    }
   ],
   "source": [
    "mse = mean_squared_error(y, Y_pred)\n",
    "mae = mean_absolute_error(y, Y_pred)\n",
    "r2 = r2_score(y, Y_pred)\n",
    "mse, mae, r2"
   ]
  },
  {
   "cell_type": "code",
   "execution_count": 77,
   "id": "e207bc19-ea6b-43f2-8d62-c838245c1d54",
   "metadata": {
    "tags": []
   },
   "outputs": [],
   "source": [
    "en_sub = ElasticNet()\n",
    "en_sub.fit(X_train, y_train)\n",
    "Y_pred = en_sub.predict(X_test)"
   ]
  },
  {
   "cell_type": "code",
   "execution_count": 78,
   "id": "1e46767f-8415-4f3c-8e02-df35da6401fe",
   "metadata": {
    "tags": []
   },
   "outputs": [
    {
     "data": {
      "text/plain": [
       "(1.6052232817990204, 0.9455933321987675, -0.08750975927477)"
      ]
     },
     "execution_count": 78,
     "metadata": {},
     "output_type": "execute_result"
    }
   ],
   "source": [
    "mse = mean_squared_error(y_test, Y_pred)\n",
    "mae = mean_absolute_error(y_test, Y_pred)\n",
    "r2 = r2_score(y_test, Y_pred)\n",
    "mse, mae, r2"
   ]
  },
  {
   "cell_type": "markdown",
   "id": "93fe78fe-c065-4a91-963b-01e820cf7688",
   "metadata": {
    "tags": []
   },
   "source": [
    "#### 3.3 KNeighborsRegressor"
   ]
  },
  {
   "cell_type": "markdown",
   "id": "5be73b11-b8d3-4555-a3f2-99080b5e201f",
   "metadata": {},
   "source": [
    "Since our training data we are working with is fairly constricted in size, we will take a look at how KNeighborsRegressor will perform"
   ]
  },
  {
   "cell_type": "code",
   "execution_count": 79,
   "id": "a23aa81a-3e30-4005-9b89-f73ddd415177",
   "metadata": {
    "tags": []
   },
   "outputs": [],
   "source": [
    "kn = KNeighborsRegressor()\n",
    "kn.fit(X, y)\n",
    "Y_pred = kn.predict(X)"
   ]
  },
  {
   "cell_type": "code",
   "execution_count": 80,
   "id": "f72243ed-d723-47ee-8694-5e19354c7cb7",
   "metadata": {
    "tags": []
   },
   "outputs": [
    {
     "data": {
      "text/plain": [
       "(1.3034219690834616, 0.8328015058740628, 0.4119474899635731)"
      ]
     },
     "execution_count": 80,
     "metadata": {},
     "output_type": "execute_result"
    }
   ],
   "source": [
    "mse = mean_squared_error(y, Y_pred)\n",
    "mae = mean_absolute_error(y, Y_pred)\n",
    "r2 = r2_score(y, Y_pred)\n",
    "mse, mae, r2"
   ]
  },
  {
   "cell_type": "code",
   "execution_count": 81,
   "id": "d2b1e1db-a6b7-4888-a7fe-9fad67cb15e9",
   "metadata": {
    "tags": []
   },
   "outputs": [],
   "source": [
    "kn_sub = KNeighborsRegressor()\n",
    "kn_sub.fit(X_train, y_train)\n",
    "Y_pred = kn_sub.predict(X_test)"
   ]
  },
  {
   "cell_type": "code",
   "execution_count": 82,
   "id": "033adb95-c7d6-4328-8e8f-737fa3fc2ae1",
   "metadata": {
    "tags": []
   },
   "outputs": [
    {
     "data": {
      "text/plain": [
       "(1.6265239746495013, 0.9372987447344346, -0.10194059367448727)"
      ]
     },
     "execution_count": 82,
     "metadata": {},
     "output_type": "execute_result"
    }
   ],
   "source": [
    "mse = mean_squared_error(y_test, Y_pred)\n",
    "mae = mean_absolute_error(y_test, Y_pred)\n",
    "r2 = r2_score(y_test, Y_pred)\n",
    "mse, mae, r2"
   ]
  },
  {
   "cell_type": "markdown",
   "id": "85d9660d-36ee-4502-86a5-efb9f803274e",
   "metadata": {
    "tags": []
   },
   "source": [
    "The results are promising with a R2 score of 0.57 on a scale from 0 to 1, alot better than our baseline with Linear Regression of -4.15"
   ]
  },
  {
   "cell_type": "markdown",
   "id": "792200fd-f5b2-49e5-9c10-b37138d523a4",
   "metadata": {},
   "source": [
    "#### 3.4 DecisionTreeRegressor"
   ]
  },
  {
   "cell_type": "code",
   "execution_count": 83,
   "id": "b7dcba2d-4cc3-47bd-aea6-4d8f6b3305fd",
   "metadata": {
    "tags": []
   },
   "outputs": [],
   "source": [
    "regr_1 = DecisionTreeRegressor(max_depth=5)\n",
    "regr_2 = DecisionTreeRegressor(max_depth=10)\n",
    "regr_3 = DecisionTreeRegressor(max_depth=15)\n",
    "regr_1.fit(X, y)\n",
    "regr_2.fit(X, y)\n",
    "regr_3.fit(X, y)\n",
    "y_1 = regr_1.predict(X)\n",
    "y_2 = regr_2.predict(X)\n",
    "y_3 = regr_3.predict(X)"
   ]
  },
  {
   "cell_type": "code",
   "execution_count": 84,
   "id": "06c84492-0bd4-47a4-8c22-679eb0671eae",
   "metadata": {
    "tags": []
   },
   "outputs": [
    {
     "data": {
      "text/plain": [
       "(0.3513053538124311, 0.42644694430610364, 0.8415049001791016)"
      ]
     },
     "execution_count": 84,
     "metadata": {},
     "output_type": "execute_result"
    }
   ],
   "source": [
    "mse = mean_squared_error(y, y_1)\n",
    "mae = mean_absolute_error(y, y_1)\n",
    "r2 = r2_score(y, y_1)\n",
    "mse, mae, r2"
   ]
  },
  {
   "cell_type": "code",
   "execution_count": 85,
   "id": "c6f4467d-e352-4357-8652-9d268355e27e",
   "metadata": {
    "tags": []
   },
   "outputs": [
    {
     "data": {
      "text/plain": [
       "(0.011343567866438586, 0.03576981129277554, 0.994882230225628)"
      ]
     },
     "execution_count": 85,
     "metadata": {},
     "output_type": "execute_result"
    }
   ],
   "source": [
    "mse = mean_squared_error(y, y_2)\n",
    "mae = mean_absolute_error(y, y_2)\n",
    "r2 = r2_score(y, y_2)\n",
    "mse, mae, r2"
   ]
  },
  {
   "cell_type": "code",
   "execution_count": 86,
   "id": "faff1a3d-9539-4bf6-9bbb-085a5b2814a0",
   "metadata": {
    "tags": []
   },
   "outputs": [
    {
     "data": {
      "text/plain": [
       "(0.0, 0.0, 1.0)"
      ]
     },
     "execution_count": 86,
     "metadata": {},
     "output_type": "execute_result"
    }
   ],
   "source": [
    "mse = mean_squared_error(y, y_3)\n",
    "mae = mean_absolute_error(y, y_3)\n",
    "r2 = r2_score(y, y_3)\n",
    "mse, mae, r2"
   ]
  },
  {
   "cell_type": "code",
   "execution_count": 87,
   "id": "e94c9083-eca7-4159-a5f7-027a94be14b3",
   "metadata": {
    "tags": []
   },
   "outputs": [],
   "source": [
    "regr_1_sub = DecisionTreeRegressor(max_depth=5)\n",
    "regr_2_sub = DecisionTreeRegressor(max_depth=10)\n",
    "regr_3_sub = DecisionTreeRegressor(max_depth=15)\n",
    "regr_1_sub.fit(X_train, y_train)\n",
    "regr_2_sub.fit(X_train, y_train)\n",
    "regr_3_sub.fit(X_train, y_train)\n",
    "y_1 = regr_1.predict(X_test)\n",
    "y_2 = regr_2.predict(X_test)\n",
    "y_3 = regr_3.predict(X_test)"
   ]
  },
  {
   "cell_type": "code",
   "execution_count": 88,
   "id": "05be22bb-7285-489a-a4d4-1fad14da769b",
   "metadata": {
    "tags": []
   },
   "outputs": [
    {
     "data": {
      "text/plain": [
       "(0.6886329486690013, 0.6014556064714949, 0.5334636242028634)"
      ]
     },
     "execution_count": 88,
     "metadata": {},
     "output_type": "execute_result"
    }
   ],
   "source": [
    "mse = mean_squared_error(y_test, y_1)\n",
    "mae = mean_absolute_error(y_test, y_1)\n",
    "r2 = r2_score(y_test, y_1)\n",
    "mse, mae, r2"
   ]
  },
  {
   "cell_type": "code",
   "execution_count": 89,
   "id": "3a95904a-1eed-432c-bf7a-05fb36aa4214",
   "metadata": {
    "tags": []
   },
   "outputs": [
    {
     "data": {
      "text/plain": [
       "(6.321638089710819e-05, 0.002903248316331397, 0.9999571720445678)"
      ]
     },
     "execution_count": 89,
     "metadata": {},
     "output_type": "execute_result"
    }
   ],
   "source": [
    "mse = mean_squared_error(y_test, y_2)\n",
    "mae = mean_absolute_error(y_test, y_2)\n",
    "r2 = r2_score(y_test, y_2)\n",
    "mse, mae, r2"
   ]
  },
  {
   "cell_type": "code",
   "execution_count": 90,
   "id": "18447430-3f78-4e9e-918f-b0e70878f972",
   "metadata": {
    "tags": []
   },
   "outputs": [
    {
     "data": {
      "text/plain": [
       "(0.0, 0.0, 1.0)"
      ]
     },
     "execution_count": 90,
     "metadata": {},
     "output_type": "execute_result"
    }
   ],
   "source": [
    "mse = mean_squared_error(y_test, y_3)\n",
    "mae = mean_absolute_error(y_test, y_3)\n",
    "r2 = r2_score(y_test, y_3)\n",
    "mse, mae, r2"
   ]
  },
  {
   "cell_type": "markdown",
   "id": "fcde42e2-2a04-40fa-a331-78701a298589",
   "metadata": {
    "tags": []
   },
   "source": [
    "#### 3.5 RandomForestRegressor"
   ]
  },
  {
   "cell_type": "code",
   "execution_count": 91,
   "id": "0a6e5045-8de8-4429-8049-03083e487634",
   "metadata": {
    "tags": []
   },
   "outputs": [],
   "source": [
    "rf = RandomForestRegressor()\n",
    "rf.fit(X, y)\n",
    "Y_pred = rf.predict(X)"
   ]
  },
  {
   "cell_type": "code",
   "execution_count": 92,
   "id": "0e78c747-63ed-4bbc-acc1-c522f6751180",
   "metadata": {
    "tags": []
   },
   "outputs": [
    {
     "data": {
      "text/plain": [
       "(0.22128912869374728, 0.35669029457506085, 0.9001630855864456)"
      ]
     },
     "execution_count": 92,
     "metadata": {},
     "output_type": "execute_result"
    }
   ],
   "source": [
    "mse = mean_squared_error(y, Y_pred)\n",
    "mae = mean_absolute_error(y, Y_pred)\n",
    "r2 = r2_score(y, Y_pred)\n",
    "mse, mae, r2"
   ]
  },
  {
   "cell_type": "code",
   "execution_count": 93,
   "id": "284cc290-ee65-470e-aa59-0290195060b4",
   "metadata": {
    "tags": []
   },
   "outputs": [],
   "source": [
    "rf_sub = RandomForestRegressor()\n",
    "rf_sub.fit(X_train, y_train)\n",
    "Y_pred = rf.predict(X_test)"
   ]
  },
  {
   "cell_type": "code",
   "execution_count": 94,
   "id": "d4bf9558-1741-458b-843d-b0a85400c941",
   "metadata": {
    "tags": []
   },
   "outputs": [
    {
     "data": {
      "text/plain": [
       "(0.20892635533108345, 0.3403118522004098, 0.8584561705723447)"
      ]
     },
     "execution_count": 94,
     "metadata": {},
     "output_type": "execute_result"
    }
   ],
   "source": [
    "mse = mean_squared_error(y_test, Y_pred)\n",
    "mae = mean_absolute_error(y_test, Y_pred)\n",
    "r2 = r2_score(y_test, Y_pred)\n",
    "mse, mae, r2"
   ]
  },
  {
   "cell_type": "markdown",
   "id": "bb6d03e3-b4b3-4615-b37c-81308a9b226c",
   "metadata": {},
   "source": [
    "#### 3.5 Feature Evaluation with Lasso and Random Forest Regression"
   ]
  },
  {
   "cell_type": "markdown",
   "id": "00e9febe-5c96-4ea0-94f1-91344ee38386",
   "metadata": {
    "tags": []
   },
   "source": [
    "#### 3.6 Finding the best model"
   ]
  },
  {
   "cell_type": "code",
   "execution_count": 95,
   "id": "e835295b-2a0c-4b39-840e-15f0a8d56e79",
   "metadata": {
    "tags": []
   },
   "outputs": [],
   "source": [
    "X_train, X_test, y_train, y_test = X,X,y,y\n",
    "\n",
    "#train_test_split(X, y, test_size=0.2)\n",
    "scaler = Normalizer()\n",
    "X_train_scaled = X_train#pd.DataFrame(scaler.fit_transform(X_train), columns=X_train.columns)\n",
    "X_test_scaled = X_test#pd.DataFrame(scaler.transform(X_test), columns=X_test.columns)\n",
    "X_train_scaled_selected = X_train_scaled\n",
    "X_test_scaled_selected = X_test_scaled"
   ]
  },
  {
   "cell_type": "code",
   "execution_count": 96,
   "id": "0c3308b1-43a4-4a4d-8bd1-f0c96c6b61a3",
   "metadata": {
    "tags": []
   },
   "outputs": [
    {
     "name": "stdout",
     "output_type": "stream",
     "text": [
      "Random Forest - Best Parameters: {'n_estimators': 400, 'min_samples_split': 19, 'min_samples_leaf': 2, 'max_depth': 7}\n",
      "Random Forest - R-squared on Test Set: 0.6996382818363238\n",
      "Linear Regression - R-squared on Test Set: 0.5806066007393247\n",
      "Gradient Boosting - Best Parameters: {'n_estimators': 36, 'min_samples_split': 6, 'min_samples_leaf': 2, 'max_depth': 4, 'learning_rate': 0.08}\n",
      "Gradient Boosting - R-squared on Test Set: 0.9270109325849671\n",
      "Lasso - Best Parameters: {'alpha': 10}\n",
      "Lasso - R-squared on Test Set: 0.5074347946614457\n",
      "Ridge - Best Parameters: {'alpha': 10}\n",
      "Ridge - R-squared on Test Set: 0.5806065997748923\n",
      "ElasticNet - Best Parameters: {'l1_ratio': 0.5, 'alpha': 10}\n",
      "ElasticNet - R-squared on Test Set: 0.5575975875301493\n",
      "Decision Tree - Best Parameters: {'min_samples_split': 2, 'min_samples_leaf': 35, 'max_depth': 30}\n",
      "Decision Tree - R-squared on Test Set: 0.033983578017702354\n",
      "KNN - Best Parameters: {'weights': 'uniform', 'n_neighbors': 15, 'metric': 'manhattan'}\n",
      "KNN - R-squared on Test Set: 0.19697565602782852\n",
      "\n",
      "Best Model: Gradient Boosting with R-squared: 0.9270109325849671\n"
     ]
    }
   ],
   "source": [
    "# Random Forest Regression\n",
    "rf_model = RandomForestRegressor()\n",
    "param_dist_rf = {\n",
    "    'n_estimators': [10,30,40,50,100,200, 300, 400,500,600,700],\n",
    "    'max_depth': [2,3, 4,5 ,6 ,7, 8, 9, 10,13,15,17,20],\n",
    "    'min_samples_split': [5, 10, 15,17,18,19,20],\n",
    "    'min_samples_leaf': [1, 2, 3]\n",
    "}\n",
    "\n",
    "# Randomized Search CV for Random Forest\n",
    "random_search_rf = RandomizedSearchCV(rf_model,\n",
    "                                      param_distributions=param_dist_rf, \n",
    "                                      n_iter=10, \n",
    "                                      scoring='r2',  \n",
    "                                      cv=5, \n",
    "                                      random_state=42)\n",
    "random_search_rf.fit(X_train_scaled_selected, y_train)\n",
    "\n",
    "# Print best parameters for Random Forest\n",
    "print(\"Random Forest - Best Parameters:\", random_search_rf.best_params_)\n",
    "\n",
    "# Evaluate Random Forest on the test set using R-squared\n",
    "y_pred_rf = random_search_rf.predict(X_test_scaled_selected)\n",
    "r2_rf = r2_score(y_test, y_pred_rf)\n",
    "print(\"Random Forest - R-squared on Test Set:\", r2_rf)\n",
    "\n",
    "# Linear Regression\n",
    "lr_model = LinearRegression()\n",
    "lr_model.fit(X_train_scaled_selected, y_train)\n",
    "\n",
    "# Evaluate Linear Regression on the test set using R-squared\n",
    "y_pred_lr = lr_model.predict(X_test_scaled_selected)\n",
    "r2_lr = r2_score(y_test, y_pred_lr)\n",
    "print(\"Linear Regression - R-squared on Test Set:\", r2_lr)\n",
    "\n",
    "# Support Vector Regression\n",
    "svr_model = SVR()\n",
    "param_dist_svr = {\n",
    "    'C': [5, 10, 15],\n",
    "    'kernel': ['linear', 'rbf']\n",
    "}\n",
    "\n",
    "# Randomized Search CV for SVR\n",
    "\n",
    "#random_search_svr = RandomizedSearchCV(svr_model, param_distributions=param_dist_svr, n_iter=5, scoring='r2', \n",
    "#                                       cv=5, random_state=42)\n",
    "#random_search_svr.fit(X_train_scaled_selected, y_train)\n",
    "\n",
    "# Print best parameters for SVR\n",
    "#print(\"SVR - Best Parameters:\", random_search_svr.best_params_)\n",
    "\n",
    "# Evaluate SVR on the test set using R-squared\n",
    "#y_pred_svr = random_search_svr.predict(X_test_scaled_selected)\n",
    "#r2_svr = r2_score(y_test, y_pred_svr)\n",
    "#print(\"SVR - R-squared on Test Set:\", r2_svr)\n",
    "\n",
    "# Gradient Boosting Regression\n",
    "gb_model = GradientBoostingRegressor()\n",
    "param_dist_gb = {\n",
    "    'n_estimators': [35,36,37,38,39,40,41,42,43],\n",
    "    'learning_rate': [0.001,0.01,0.02,0.03, 0.05, 0.08,0.1,0.2,0.5,1],\n",
    "    'max_depth': [2, 3, 4],\n",
    "    'min_samples_split': [2, 3, 4,6,8,10,15,20],\n",
    "    'min_samples_leaf': [1, 2, 3]\n",
    "}\n",
    "\n",
    "# Randomized Search CV for Gradient Boosting\n",
    "random_search_gb = RandomizedSearchCV(gb_model, param_distributions=param_dist_gb, n_iter=10, scoring='r2',  \n",
    "                                       cv=5, random_state=42)\n",
    "random_search_gb.fit(X_train_scaled_selected, y_train)\n",
    "\n",
    "# Print best parameters for Gradient Boosting\n",
    "print(\"Gradient Boosting - Best Parameters:\", random_search_gb.best_params_)\n",
    "\n",
    "# Evaluate Gradient Boosting on the test set using R-squared\n",
    "y_pred_gb = random_search_gb.predict(X_test_scaled_selected)\n",
    "r2_gb = r2_score(y_test, y_pred_gb)\n",
    "print(\"Gradient Boosting - R-squared on Test Set:\", r2_gb)\n",
    "\n",
    "# Lasso Regression\n",
    "lasso_model = Lasso()\n",
    "param_dist_lasso = {\n",
    "    'alpha': [0.001, 0.01, 0.1, 1, 10]\n",
    "}\n",
    "\n",
    "# Randomized Search CV for Lasso\n",
    "random_search_lasso = RandomizedSearchCV(lasso_model, param_distributions=param_dist_lasso, n_iter=5, scoring='r2', \n",
    "                                         cv=5, random_state=42)\n",
    "random_search_lasso.fit(X_train_scaled_selected, y_train)\n",
    "\n",
    "# Print best parameters for Lasso\n",
    "print(\"Lasso - Best Parameters:\", random_search_lasso.best_params_)\n",
    "\n",
    "# Evaluate Lasso on the test set using R-squared\n",
    "y_pred_lasso = random_search_lasso.predict(X_test_scaled_selected)\n",
    "r2_lasso = r2_score(y_test, y_pred_lasso)\n",
    "print(\"Lasso - R-squared on Test Set:\", r2_lasso)\n",
    "\n",
    "# Ridge Regression\n",
    "ridge_model = Ridge()\n",
    "param_dist_ridge = {\n",
    "    'alpha': [0.001, 0.01, 0.1, 1, 10]\n",
    "}\n",
    "\n",
    "# Randomized Search CV for Ridge\n",
    "random_search_ridge = RandomizedSearchCV(ridge_model, param_distributions=param_dist_ridge, n_iter=5, scoring='r2', \n",
    "                                         cv=5, random_state=42)\n",
    "random_search_ridge.fit(X_train_scaled_selected, y_train)\n",
    "\n",
    "# Print best parameters for Ridge\n",
    "print(\"Ridge - Best Parameters:\", random_search_ridge.best_params_)\n",
    "\n",
    "# Evaluate Ridge on the test set using R-squared\n",
    "y_pred_ridge = random_search_ridge.predict(X_test_scaled_selected)\n",
    "r2_ridge = r2_score(y_test, y_pred_ridge)\n",
    "print(\"Ridge - R-squared on Test Set:\", r2_ridge)\n",
    "\n",
    "# ElasticNet Regression\n",
    "elasticnet_model = ElasticNet()\n",
    "param_dist_elasticnet = {\n",
    "    'alpha': [0.001, 0.01, 0.1, 1, 10],\n",
    "    'l1_ratio': [0.1, 0.3, 0.5, 0.7, 0.9]\n",
    "}\n",
    "\n",
    "# Randomized Search CV for ElasticNet\n",
    "random_search_elasticnet = RandomizedSearchCV(elasticnet_model, param_distributions=param_dist_elasticnet, n_iter=10, scoring='r2', \n",
    "                                               cv=5, random_state=42)\n",
    "random_search_elasticnet.fit(X_train_scaled_selected, y_train)\n",
    "\n",
    "# Print best parameters for ElasticNet\n",
    "print(\"ElasticNet - Best Parameters:\", random_search_elasticnet.best_params_)\n",
    "\n",
    "# Evaluate ElasticNet on the test set using R-squared\n",
    "y_pred_elasticnet = random_search_elasticnet.predict(X_test_scaled_selected)\n",
    "r2_elasticnet = r2_score(y_test, y_pred_elasticnet)\n",
    "print(\"ElasticNet - R-squared on Test Set:\", r2_elasticnet)\n",
    "\n",
    "# Decision Tree Regression\n",
    "dt_model = DecisionTreeRegressor()\n",
    "param_dist_dt = {\n",
    "    'max_depth': [None, 10, 20, 30, 40],\n",
    "    'min_samples_split': [2, 5, 10,15,20],\n",
    "    'min_samples_leaf': [1, 2, 4,6,8,10,15,20,25,30,35]\n",
    "}\n",
    "\n",
    "# Randomized Search CV for Decision Tree\n",
    "random_search_dt = RandomizedSearchCV(dt_model, param_distributions=param_dist_dt, n_iter=5, scoring='r2', \n",
    "                                      cv=5, random_state=42)\n",
    "random_search_dt.fit(X_train_scaled_selected, y_train)\n",
    "\n",
    "# Print best parameters for Decision Tree\n",
    "print(\"Decision Tree - Best Parameters:\", random_search_dt.best_params_)\n",
    "\n",
    "# Evaluate Decision Tree on the test set using R-squared\n",
    "y_pred_dt = random_search_dt.predict(X_test_scaled_selected)\n",
    "r2_dt = r2_score(y_test, y_pred_dt)\n",
    "print(\"Decision Tree - R-squared on Test Set:\", r2_dt)\n",
    "\n",
    "# K-Nearest Neighbors Regression\n",
    "knn_model = KNeighborsRegressor()\n",
    "param_dist_knn = {\n",
    "    'n_neighbors': np.arange(1, 20),\n",
    "    'weights': ['uniform', 'distance'],\n",
    "    'metric': ['euclidean', 'manhattan', 'minkowski']\n",
    "}\n",
    "\n",
    "# Randomized Search CV for KNN\n",
    "random_search_knn = RandomizedSearchCV(knn_model, param_distributions=param_dist_knn, n_iter=10, scoring='r2', \n",
    "                                        cv=5, random_state=42)\n",
    "random_search_knn.fit(X_train_scaled_selected, y_train)\n",
    "\n",
    "# Print best parameters for KNN\n",
    "print(\"KNN - Best Parameters:\", random_search_knn.best_params_)\n",
    "\n",
    "# Evaluate KNN on the test set using R-squared\n",
    "y_pred_knn = random_search_knn.predict(X_test_scaled_selected)\n",
    "r2_knn = r2_score(y_test, y_pred_knn)\n",
    "print(\"KNN - R-squared on Test Set:\", r2_knn)\n",
    "\n",
    "# Compare r2 of different models\n",
    "r2_dict = {'Random Forest': r2_rf, 'Linear Regression': r2_lr, 'Gradient Boosting': r2_gb,\n",
    "            'Lasso': r2_lasso, 'Ridge': r2_ridge, 'ElasticNet': r2_elasticnet, \n",
    "            'Decision Tree': r2_dt, 'KNN': r2_knn}\n",
    "\n",
    "# Find the model with the highest r2\n",
    "best_model_name = max(r2_dict, key=r2_dict.get)\n",
    "best_model = None\n",
    "\n",
    "# Select the best model\n",
    "if best_model_name == 'Random Forest':\n",
    "    best_model = random_search_rf\n",
    "elif best_model_name == 'Linear Regression':\n",
    "    best_model = lr_model\n",
    "#elif best_model_name == 'SVR':\n",
    "#    best_model = random_search_svr\n",
    "elif best_model_name == 'Gradient Boosting':\n",
    "    best_model = random_search_gb\n",
    "elif best_model_name == 'Lasso':\n",
    "    best_model = random_search_lasso\n",
    "elif best_model_name == 'Ridge':\n",
    "    best_model = random_search_ridge\n",
    "elif best_model_name == 'ElasticNet':\n",
    "    best_model = random_search_elasticnet\n",
    "elif best_model_name == 'Decision Tree':\n",
    "    best_model = random_search_dt\n",
    "elif best_model_name == 'KNN':\n",
    "    best_model = random_search_knn\n",
    "\n",
    "print(f\"\\nBest Model: {best_model_name} with R-squared: {r2_dict[best_model_name]}\")"
   ]
  },
  {
   "cell_type": "code",
   "execution_count": 97,
   "id": "b802b0f8-87f8-4f3f-bb6e-41553265555b",
   "metadata": {
    "tags": []
   },
   "outputs": [
    {
     "data": {
      "text/plain": [
       "{'Random Forest': 0.6996382818363238,\n",
       " 'Linear Regression': 0.5806066007393247,\n",
       " 'Gradient Boosting': 0.9270109325849671,\n",
       " 'Lasso': 0.5074347946614457,\n",
       " 'Ridge': 0.5806065997748923,\n",
       " 'ElasticNet': 0.5575975875301493,\n",
       " 'Decision Tree': 0.033983578017702354,\n",
       " 'KNN': 0.19697565602782852}"
      ]
     },
     "execution_count": 97,
     "metadata": {},
     "output_type": "execute_result"
    }
   ],
   "source": [
    "r2_dict"
   ]
  },
  {
   "cell_type": "code",
   "execution_count": 98,
   "id": "403dbb86-cf5d-4585-a79f-4b5e17b40376",
   "metadata": {},
   "outputs": [
    {
     "name": "stdout",
     "output_type": "stream",
     "text": [
      "Best Model: Gradient Boosting\n",
      "MSE: 0.1617807123479067\n",
      "MAE: 0.31886542266625295\n",
      "R-squared: 0.9270109325849671\n",
      "Explained Variance: 0.9270109325849671\n",
      "RMSE: 0.4022197314253823\n"
     ]
    }
   ],
   "source": [
    "from sklearn.metrics import r2_score, explained_variance_score, mean_squared_error\n",
    "\n",
    "r2_best_model = r2_score(y_test, y_pred_best_model)\n",
    "explained_variance_best_model = explained_variance_score(y_test, y_pred_best_model)\n",
    "rmse_best_model = mean_squared_error(y_test, y_pred_best_model, squared=False)\n",
    "r2_best_model = r2_score(y_test, y_pred_best_model)\n",
    "explained_variance_best_model = explained_variance_score(y_test, y_pred_best_model)\n",
    "rmse_best_model = mean_squared_error(y_test, y_pred_best_model, squared=False)\n",
    "y_pred_best_model = best_model.predict(X_test_scaled_selected)\n",
    "mse_best_model = mean_squared_error(y_test, y_pred_best_model)\n",
    "mae_best_model = mean_absolute_error(y_test, y_pred_best_model)\n",
    "\n",
    "print(f\"Best Model: {best_model_name}\")\n",
    "print(f\"MSE: {mse_best_model}\")\n",
    "print(f\"MAE: {mae_best_model}\")\n",
    "print(f\"R-squared: {r2_best_model}\")\n",
    "print(f\"Explained Variance: {explained_variance_best_model}\")\n",
    "print(f\"RMSE: {rmse_best_model}\")"
   ]
  },
  {
   "cell_type": "code",
   "execution_count": 99,
   "id": "d13bd0b4-22bb-497c-84d9-ce4f6b9f6c30",
   "metadata": {
    "tags": []
   },
   "outputs": [],
   "source": [
    "mods = list(r2_dict.keys())\n",
    "og = list(r2_dict.values())"
   ]
  },
  {
   "cell_type": "code",
   "execution_count": 100,
   "id": "0260eb49-b6ae-4a67-a331-d500f94f9578",
   "metadata": {
    "tags": []
   },
   "outputs": [
    {
     "data": {
      "application/vnd.plotly.v1+json": {
       "config": {
        "plotlyServerURL": "https://plot.ly"
       },
       "data": [
        {
         "marker": {
          "color": "LightGreen"
         },
         "name": "Original Model",
         "type": "bar",
         "x": [
          "Random Forest",
          "Linear Regression",
          "Gradient Boosting",
          "Lasso",
          "Ridge",
          "ElasticNet",
          "Decision Tree",
          "KNN"
         ],
         "y": [
          0.6996382818363238,
          0.5806066007393247,
          0.9270109325849671,
          0.5074347946614457,
          0.5806065997748923,
          0.5575975875301493,
          0.033983578017702354,
          0.19697565602782852
         ]
        }
       ],
       "layout": {
        "height": 600,
        "plot_bgcolor": "rgba(0, 0, 0, 0)",
        "template": {
         "data": {
          "bar": [
           {
            "error_x": {
             "color": "#2a3f5f"
            },
            "error_y": {
             "color": "#2a3f5f"
            },
            "marker": {
             "line": {
              "color": "#E5ECF6",
              "width": 0.5
             },
             "pattern": {
              "fillmode": "overlay",
              "size": 10,
              "solidity": 0.2
             }
            },
            "type": "bar"
           }
          ],
          "barpolar": [
           {
            "marker": {
             "line": {
              "color": "#E5ECF6",
              "width": 0.5
             },
             "pattern": {
              "fillmode": "overlay",
              "size": 10,
              "solidity": 0.2
             }
            },
            "type": "barpolar"
           }
          ],
          "carpet": [
           {
            "aaxis": {
             "endlinecolor": "#2a3f5f",
             "gridcolor": "white",
             "linecolor": "white",
             "minorgridcolor": "white",
             "startlinecolor": "#2a3f5f"
            },
            "baxis": {
             "endlinecolor": "#2a3f5f",
             "gridcolor": "white",
             "linecolor": "white",
             "minorgridcolor": "white",
             "startlinecolor": "#2a3f5f"
            },
            "type": "carpet"
           }
          ],
          "choropleth": [
           {
            "colorbar": {
             "outlinewidth": 0,
             "ticks": ""
            },
            "type": "choropleth"
           }
          ],
          "contour": [
           {
            "colorbar": {
             "outlinewidth": 0,
             "ticks": ""
            },
            "colorscale": [
             [
              0,
              "#0d0887"
             ],
             [
              0.1111111111111111,
              "#46039f"
             ],
             [
              0.2222222222222222,
              "#7201a8"
             ],
             [
              0.3333333333333333,
              "#9c179e"
             ],
             [
              0.4444444444444444,
              "#bd3786"
             ],
             [
              0.5555555555555556,
              "#d8576b"
             ],
             [
              0.6666666666666666,
              "#ed7953"
             ],
             [
              0.7777777777777778,
              "#fb9f3a"
             ],
             [
              0.8888888888888888,
              "#fdca26"
             ],
             [
              1,
              "#f0f921"
             ]
            ],
            "type": "contour"
           }
          ],
          "contourcarpet": [
           {
            "colorbar": {
             "outlinewidth": 0,
             "ticks": ""
            },
            "type": "contourcarpet"
           }
          ],
          "heatmap": [
           {
            "colorbar": {
             "outlinewidth": 0,
             "ticks": ""
            },
            "colorscale": [
             [
              0,
              "#0d0887"
             ],
             [
              0.1111111111111111,
              "#46039f"
             ],
             [
              0.2222222222222222,
              "#7201a8"
             ],
             [
              0.3333333333333333,
              "#9c179e"
             ],
             [
              0.4444444444444444,
              "#bd3786"
             ],
             [
              0.5555555555555556,
              "#d8576b"
             ],
             [
              0.6666666666666666,
              "#ed7953"
             ],
             [
              0.7777777777777778,
              "#fb9f3a"
             ],
             [
              0.8888888888888888,
              "#fdca26"
             ],
             [
              1,
              "#f0f921"
             ]
            ],
            "type": "heatmap"
           }
          ],
          "heatmapgl": [
           {
            "colorbar": {
             "outlinewidth": 0,
             "ticks": ""
            },
            "colorscale": [
             [
              0,
              "#0d0887"
             ],
             [
              0.1111111111111111,
              "#46039f"
             ],
             [
              0.2222222222222222,
              "#7201a8"
             ],
             [
              0.3333333333333333,
              "#9c179e"
             ],
             [
              0.4444444444444444,
              "#bd3786"
             ],
             [
              0.5555555555555556,
              "#d8576b"
             ],
             [
              0.6666666666666666,
              "#ed7953"
             ],
             [
              0.7777777777777778,
              "#fb9f3a"
             ],
             [
              0.8888888888888888,
              "#fdca26"
             ],
             [
              1,
              "#f0f921"
             ]
            ],
            "type": "heatmapgl"
           }
          ],
          "histogram": [
           {
            "marker": {
             "pattern": {
              "fillmode": "overlay",
              "size": 10,
              "solidity": 0.2
             }
            },
            "type": "histogram"
           }
          ],
          "histogram2d": [
           {
            "colorbar": {
             "outlinewidth": 0,
             "ticks": ""
            },
            "colorscale": [
             [
              0,
              "#0d0887"
             ],
             [
              0.1111111111111111,
              "#46039f"
             ],
             [
              0.2222222222222222,
              "#7201a8"
             ],
             [
              0.3333333333333333,
              "#9c179e"
             ],
             [
              0.4444444444444444,
              "#bd3786"
             ],
             [
              0.5555555555555556,
              "#d8576b"
             ],
             [
              0.6666666666666666,
              "#ed7953"
             ],
             [
              0.7777777777777778,
              "#fb9f3a"
             ],
             [
              0.8888888888888888,
              "#fdca26"
             ],
             [
              1,
              "#f0f921"
             ]
            ],
            "type": "histogram2d"
           }
          ],
          "histogram2dcontour": [
           {
            "colorbar": {
             "outlinewidth": 0,
             "ticks": ""
            },
            "colorscale": [
             [
              0,
              "#0d0887"
             ],
             [
              0.1111111111111111,
              "#46039f"
             ],
             [
              0.2222222222222222,
              "#7201a8"
             ],
             [
              0.3333333333333333,
              "#9c179e"
             ],
             [
              0.4444444444444444,
              "#bd3786"
             ],
             [
              0.5555555555555556,
              "#d8576b"
             ],
             [
              0.6666666666666666,
              "#ed7953"
             ],
             [
              0.7777777777777778,
              "#fb9f3a"
             ],
             [
              0.8888888888888888,
              "#fdca26"
             ],
             [
              1,
              "#f0f921"
             ]
            ],
            "type": "histogram2dcontour"
           }
          ],
          "mesh3d": [
           {
            "colorbar": {
             "outlinewidth": 0,
             "ticks": ""
            },
            "type": "mesh3d"
           }
          ],
          "parcoords": [
           {
            "line": {
             "colorbar": {
              "outlinewidth": 0,
              "ticks": ""
             }
            },
            "type": "parcoords"
           }
          ],
          "pie": [
           {
            "automargin": true,
            "type": "pie"
           }
          ],
          "scatter": [
           {
            "fillpattern": {
             "fillmode": "overlay",
             "size": 10,
             "solidity": 0.2
            },
            "type": "scatter"
           }
          ],
          "scatter3d": [
           {
            "line": {
             "colorbar": {
              "outlinewidth": 0,
              "ticks": ""
             }
            },
            "marker": {
             "colorbar": {
              "outlinewidth": 0,
              "ticks": ""
             }
            },
            "type": "scatter3d"
           }
          ],
          "scattercarpet": [
           {
            "marker": {
             "colorbar": {
              "outlinewidth": 0,
              "ticks": ""
             }
            },
            "type": "scattercarpet"
           }
          ],
          "scattergeo": [
           {
            "marker": {
             "colorbar": {
              "outlinewidth": 0,
              "ticks": ""
             }
            },
            "type": "scattergeo"
           }
          ],
          "scattergl": [
           {
            "marker": {
             "colorbar": {
              "outlinewidth": 0,
              "ticks": ""
             }
            },
            "type": "scattergl"
           }
          ],
          "scattermapbox": [
           {
            "marker": {
             "colorbar": {
              "outlinewidth": 0,
              "ticks": ""
             }
            },
            "type": "scattermapbox"
           }
          ],
          "scatterpolar": [
           {
            "marker": {
             "colorbar": {
              "outlinewidth": 0,
              "ticks": ""
             }
            },
            "type": "scatterpolar"
           }
          ],
          "scatterpolargl": [
           {
            "marker": {
             "colorbar": {
              "outlinewidth": 0,
              "ticks": ""
             }
            },
            "type": "scatterpolargl"
           }
          ],
          "scatterternary": [
           {
            "marker": {
             "colorbar": {
              "outlinewidth": 0,
              "ticks": ""
             }
            },
            "type": "scatterternary"
           }
          ],
          "surface": [
           {
            "colorbar": {
             "outlinewidth": 0,
             "ticks": ""
            },
            "colorscale": [
             [
              0,
              "#0d0887"
             ],
             [
              0.1111111111111111,
              "#46039f"
             ],
             [
              0.2222222222222222,
              "#7201a8"
             ],
             [
              0.3333333333333333,
              "#9c179e"
             ],
             [
              0.4444444444444444,
              "#bd3786"
             ],
             [
              0.5555555555555556,
              "#d8576b"
             ],
             [
              0.6666666666666666,
              "#ed7953"
             ],
             [
              0.7777777777777778,
              "#fb9f3a"
             ],
             [
              0.8888888888888888,
              "#fdca26"
             ],
             [
              1,
              "#f0f921"
             ]
            ],
            "type": "surface"
           }
          ],
          "table": [
           {
            "cells": {
             "fill": {
              "color": "#EBF0F8"
             },
             "line": {
              "color": "white"
             }
            },
            "header": {
             "fill": {
              "color": "#C8D4E3"
             },
             "line": {
              "color": "white"
             }
            },
            "type": "table"
           }
          ]
         },
         "layout": {
          "annotationdefaults": {
           "arrowcolor": "#2a3f5f",
           "arrowhead": 0,
           "arrowwidth": 1
          },
          "autotypenumbers": "strict",
          "coloraxis": {
           "colorbar": {
            "outlinewidth": 0,
            "ticks": ""
           }
          },
          "colorscale": {
           "diverging": [
            [
             0,
             "#8e0152"
            ],
            [
             0.1,
             "#c51b7d"
            ],
            [
             0.2,
             "#de77ae"
            ],
            [
             0.3,
             "#f1b6da"
            ],
            [
             0.4,
             "#fde0ef"
            ],
            [
             0.5,
             "#f7f7f7"
            ],
            [
             0.6,
             "#e6f5d0"
            ],
            [
             0.7,
             "#b8e186"
            ],
            [
             0.8,
             "#7fbc41"
            ],
            [
             0.9,
             "#4d9221"
            ],
            [
             1,
             "#276419"
            ]
           ],
           "sequential": [
            [
             0,
             "#0d0887"
            ],
            [
             0.1111111111111111,
             "#46039f"
            ],
            [
             0.2222222222222222,
             "#7201a8"
            ],
            [
             0.3333333333333333,
             "#9c179e"
            ],
            [
             0.4444444444444444,
             "#bd3786"
            ],
            [
             0.5555555555555556,
             "#d8576b"
            ],
            [
             0.6666666666666666,
             "#ed7953"
            ],
            [
             0.7777777777777778,
             "#fb9f3a"
            ],
            [
             0.8888888888888888,
             "#fdca26"
            ],
            [
             1,
             "#f0f921"
            ]
           ],
           "sequentialminus": [
            [
             0,
             "#0d0887"
            ],
            [
             0.1111111111111111,
             "#46039f"
            ],
            [
             0.2222222222222222,
             "#7201a8"
            ],
            [
             0.3333333333333333,
             "#9c179e"
            ],
            [
             0.4444444444444444,
             "#bd3786"
            ],
            [
             0.5555555555555556,
             "#d8576b"
            ],
            [
             0.6666666666666666,
             "#ed7953"
            ],
            [
             0.7777777777777778,
             "#fb9f3a"
            ],
            [
             0.8888888888888888,
             "#fdca26"
            ],
            [
             1,
             "#f0f921"
            ]
           ]
          },
          "colorway": [
           "#636efa",
           "#EF553B",
           "#00cc96",
           "#ab63fa",
           "#FFA15A",
           "#19d3f3",
           "#FF6692",
           "#B6E880",
           "#FF97FF",
           "#FECB52"
          ],
          "font": {
           "color": "#2a3f5f"
          },
          "geo": {
           "bgcolor": "white",
           "lakecolor": "white",
           "landcolor": "#E5ECF6",
           "showlakes": true,
           "showland": true,
           "subunitcolor": "white"
          },
          "hoverlabel": {
           "align": "left"
          },
          "hovermode": "closest",
          "mapbox": {
           "style": "light"
          },
          "paper_bgcolor": "white",
          "plot_bgcolor": "#E5ECF6",
          "polar": {
           "angularaxis": {
            "gridcolor": "white",
            "linecolor": "white",
            "ticks": ""
           },
           "bgcolor": "#E5ECF6",
           "radialaxis": {
            "gridcolor": "white",
            "linecolor": "white",
            "ticks": ""
           }
          },
          "scene": {
           "xaxis": {
            "backgroundcolor": "#E5ECF6",
            "gridcolor": "white",
            "gridwidth": 2,
            "linecolor": "white",
            "showbackground": true,
            "ticks": "",
            "zerolinecolor": "white"
           },
           "yaxis": {
            "backgroundcolor": "#E5ECF6",
            "gridcolor": "white",
            "gridwidth": 2,
            "linecolor": "white",
            "showbackground": true,
            "ticks": "",
            "zerolinecolor": "white"
           },
           "zaxis": {
            "backgroundcolor": "#E5ECF6",
            "gridcolor": "white",
            "gridwidth": 2,
            "linecolor": "white",
            "showbackground": true,
            "ticks": "",
            "zerolinecolor": "white"
           }
          },
          "shapedefaults": {
           "line": {
            "color": "#2a3f5f"
           }
          },
          "ternary": {
           "aaxis": {
            "gridcolor": "white",
            "linecolor": "white",
            "ticks": ""
           },
           "baxis": {
            "gridcolor": "white",
            "linecolor": "white",
            "ticks": ""
           },
           "bgcolor": "#E5ECF6",
           "caxis": {
            "gridcolor": "white",
            "linecolor": "white",
            "ticks": ""
           }
          },
          "title": {
           "x": 0.05
          },
          "xaxis": {
           "automargin": true,
           "gridcolor": "white",
           "linecolor": "white",
           "ticks": "",
           "title": {
            "standoff": 15
           },
           "zerolinecolor": "white",
           "zerolinewidth": 2
          },
          "yaxis": {
           "automargin": true,
           "gridcolor": "white",
           "linecolor": "white",
           "ticks": "",
           "title": {
            "standoff": 15
           },
           "zerolinecolor": "white",
           "zerolinewidth": 2
          }
         }
        },
        "title": {
         "text": "Comparison of R-squared Values Across Different Models",
         "x": 0.5
        },
        "width": 800,
        "xaxis": {
         "autorange": true,
         "gridcolor": "lightgrey",
         "linecolor": "black",
         "mirror": true,
         "range": [
          -0.5,
          7.5
         ],
         "showline": true,
         "ticks": "outside",
         "title": {
          "text": "Model"
         },
         "type": "category"
        },
        "yaxis": {
         "autorange": true,
         "gridcolor": "lightgrey",
         "linecolor": "black",
         "mirror": true,
         "range": [
          0,
          0.9758009816683865
         ],
         "showline": true,
         "ticks": "outside",
         "title": {
          "text": "R-squared value"
         },
         "type": "linear"
        }
       }
      },
      "text/html": [
       "<div>                            <div id=\"ba6c6110-a762-4de7-98eb-a397f91fcd8c\" class=\"plotly-graph-div\" style=\"height:600px; width:800px;\"></div>            <script type=\"text/javascript\">                require([\"plotly\"], function(Plotly) {                    window.PLOTLYENV=window.PLOTLYENV || {};                                    if (document.getElementById(\"ba6c6110-a762-4de7-98eb-a397f91fcd8c\")) {                    Plotly.newPlot(                        \"ba6c6110-a762-4de7-98eb-a397f91fcd8c\",                        [{\"name\":\"Original Model\",\"x\":[\"Random Forest\",\"Linear Regression\",\"Gradient Boosting\",\"Lasso\",\"Ridge\",\"ElasticNet\",\"Decision Tree\",\"KNN\"],\"y\":[0.6996382818363238,0.5806066007393247,0.9270109325849671,0.5074347946614457,0.5806065997748923,0.5575975875301493,0.033983578017702354,0.19697565602782852],\"type\":\"bar\",\"marker\":{\"color\":\"LightGreen\"}}],                        {\"template\":{\"data\":{\"histogram2dcontour\":[{\"type\":\"histogram2dcontour\",\"colorbar\":{\"outlinewidth\":0,\"ticks\":\"\"},\"colorscale\":[[0.0,\"#0d0887\"],[0.1111111111111111,\"#46039f\"],[0.2222222222222222,\"#7201a8\"],[0.3333333333333333,\"#9c179e\"],[0.4444444444444444,\"#bd3786\"],[0.5555555555555556,\"#d8576b\"],[0.6666666666666666,\"#ed7953\"],[0.7777777777777778,\"#fb9f3a\"],[0.8888888888888888,\"#fdca26\"],[1.0,\"#f0f921\"]]}],\"choropleth\":[{\"type\":\"choropleth\",\"colorbar\":{\"outlinewidth\":0,\"ticks\":\"\"}}],\"histogram2d\":[{\"type\":\"histogram2d\",\"colorbar\":{\"outlinewidth\":0,\"ticks\":\"\"},\"colorscale\":[[0.0,\"#0d0887\"],[0.1111111111111111,\"#46039f\"],[0.2222222222222222,\"#7201a8\"],[0.3333333333333333,\"#9c179e\"],[0.4444444444444444,\"#bd3786\"],[0.5555555555555556,\"#d8576b\"],[0.6666666666666666,\"#ed7953\"],[0.7777777777777778,\"#fb9f3a\"],[0.8888888888888888,\"#fdca26\"],[1.0,\"#f0f921\"]]}],\"heatmap\":[{\"type\":\"heatmap\",\"colorbar\":{\"outlinewidth\":0,\"ticks\":\"\"},\"colorscale\":[[0.0,\"#0d0887\"],[0.1111111111111111,\"#46039f\"],[0.2222222222222222,\"#7201a8\"],[0.3333333333333333,\"#9c179e\"],[0.4444444444444444,\"#bd3786\"],[0.5555555555555556,\"#d8576b\"],[0.6666666666666666,\"#ed7953\"],[0.7777777777777778,\"#fb9f3a\"],[0.8888888888888888,\"#fdca26\"],[1.0,\"#f0f921\"]]}],\"heatmapgl\":[{\"type\":\"heatmapgl\",\"colorbar\":{\"outlinewidth\":0,\"ticks\":\"\"},\"colorscale\":[[0.0,\"#0d0887\"],[0.1111111111111111,\"#46039f\"],[0.2222222222222222,\"#7201a8\"],[0.3333333333333333,\"#9c179e\"],[0.4444444444444444,\"#bd3786\"],[0.5555555555555556,\"#d8576b\"],[0.6666666666666666,\"#ed7953\"],[0.7777777777777778,\"#fb9f3a\"],[0.8888888888888888,\"#fdca26\"],[1.0,\"#f0f921\"]]}],\"contourcarpet\":[{\"type\":\"contourcarpet\",\"colorbar\":{\"outlinewidth\":0,\"ticks\":\"\"}}],\"contour\":[{\"type\":\"contour\",\"colorbar\":{\"outlinewidth\":0,\"ticks\":\"\"},\"colorscale\":[[0.0,\"#0d0887\"],[0.1111111111111111,\"#46039f\"],[0.2222222222222222,\"#7201a8\"],[0.3333333333333333,\"#9c179e\"],[0.4444444444444444,\"#bd3786\"],[0.5555555555555556,\"#d8576b\"],[0.6666666666666666,\"#ed7953\"],[0.7777777777777778,\"#fb9f3a\"],[0.8888888888888888,\"#fdca26\"],[1.0,\"#f0f921\"]]}],\"surface\":[{\"type\":\"surface\",\"colorbar\":{\"outlinewidth\":0,\"ticks\":\"\"},\"colorscale\":[[0.0,\"#0d0887\"],[0.1111111111111111,\"#46039f\"],[0.2222222222222222,\"#7201a8\"],[0.3333333333333333,\"#9c179e\"],[0.4444444444444444,\"#bd3786\"],[0.5555555555555556,\"#d8576b\"],[0.6666666666666666,\"#ed7953\"],[0.7777777777777778,\"#fb9f3a\"],[0.8888888888888888,\"#fdca26\"],[1.0,\"#f0f921\"]]}],\"mesh3d\":[{\"type\":\"mesh3d\",\"colorbar\":{\"outlinewidth\":0,\"ticks\":\"\"}}],\"scatter\":[{\"fillpattern\":{\"fillmode\":\"overlay\",\"size\":10,\"solidity\":0.2},\"type\":\"scatter\"}],\"parcoords\":[{\"type\":\"parcoords\",\"line\":{\"colorbar\":{\"outlinewidth\":0,\"ticks\":\"\"}}}],\"scatterpolargl\":[{\"type\":\"scatterpolargl\",\"marker\":{\"colorbar\":{\"outlinewidth\":0,\"ticks\":\"\"}}}],\"bar\":[{\"error_x\":{\"color\":\"#2a3f5f\"},\"error_y\":{\"color\":\"#2a3f5f\"},\"marker\":{\"line\":{\"color\":\"#E5ECF6\",\"width\":0.5},\"pattern\":{\"fillmode\":\"overlay\",\"size\":10,\"solidity\":0.2}},\"type\":\"bar\"}],\"scattergeo\":[{\"type\":\"scattergeo\",\"marker\":{\"colorbar\":{\"outlinewidth\":0,\"ticks\":\"\"}}}],\"scatterpolar\":[{\"type\":\"scatterpolar\",\"marker\":{\"colorbar\":{\"outlinewidth\":0,\"ticks\":\"\"}}}],\"histogram\":[{\"marker\":{\"pattern\":{\"fillmode\":\"overlay\",\"size\":10,\"solidity\":0.2}},\"type\":\"histogram\"}],\"scattergl\":[{\"type\":\"scattergl\",\"marker\":{\"colorbar\":{\"outlinewidth\":0,\"ticks\":\"\"}}}],\"scatter3d\":[{\"type\":\"scatter3d\",\"line\":{\"colorbar\":{\"outlinewidth\":0,\"ticks\":\"\"}},\"marker\":{\"colorbar\":{\"outlinewidth\":0,\"ticks\":\"\"}}}],\"scattermapbox\":[{\"type\":\"scattermapbox\",\"marker\":{\"colorbar\":{\"outlinewidth\":0,\"ticks\":\"\"}}}],\"scatterternary\":[{\"type\":\"scatterternary\",\"marker\":{\"colorbar\":{\"outlinewidth\":0,\"ticks\":\"\"}}}],\"scattercarpet\":[{\"type\":\"scattercarpet\",\"marker\":{\"colorbar\":{\"outlinewidth\":0,\"ticks\":\"\"}}}],\"carpet\":[{\"aaxis\":{\"endlinecolor\":\"#2a3f5f\",\"gridcolor\":\"white\",\"linecolor\":\"white\",\"minorgridcolor\":\"white\",\"startlinecolor\":\"#2a3f5f\"},\"baxis\":{\"endlinecolor\":\"#2a3f5f\",\"gridcolor\":\"white\",\"linecolor\":\"white\",\"minorgridcolor\":\"white\",\"startlinecolor\":\"#2a3f5f\"},\"type\":\"carpet\"}],\"table\":[{\"cells\":{\"fill\":{\"color\":\"#EBF0F8\"},\"line\":{\"color\":\"white\"}},\"header\":{\"fill\":{\"color\":\"#C8D4E3\"},\"line\":{\"color\":\"white\"}},\"type\":\"table\"}],\"barpolar\":[{\"marker\":{\"line\":{\"color\":\"#E5ECF6\",\"width\":0.5},\"pattern\":{\"fillmode\":\"overlay\",\"size\":10,\"solidity\":0.2}},\"type\":\"barpolar\"}],\"pie\":[{\"automargin\":true,\"type\":\"pie\"}]},\"layout\":{\"autotypenumbers\":\"strict\",\"colorway\":[\"#636efa\",\"#EF553B\",\"#00cc96\",\"#ab63fa\",\"#FFA15A\",\"#19d3f3\",\"#FF6692\",\"#B6E880\",\"#FF97FF\",\"#FECB52\"],\"font\":{\"color\":\"#2a3f5f\"},\"hovermode\":\"closest\",\"hoverlabel\":{\"align\":\"left\"},\"paper_bgcolor\":\"white\",\"plot_bgcolor\":\"#E5ECF6\",\"polar\":{\"bgcolor\":\"#E5ECF6\",\"angularaxis\":{\"gridcolor\":\"white\",\"linecolor\":\"white\",\"ticks\":\"\"},\"radialaxis\":{\"gridcolor\":\"white\",\"linecolor\":\"white\",\"ticks\":\"\"}},\"ternary\":{\"bgcolor\":\"#E5ECF6\",\"aaxis\":{\"gridcolor\":\"white\",\"linecolor\":\"white\",\"ticks\":\"\"},\"baxis\":{\"gridcolor\":\"white\",\"linecolor\":\"white\",\"ticks\":\"\"},\"caxis\":{\"gridcolor\":\"white\",\"linecolor\":\"white\",\"ticks\":\"\"}},\"coloraxis\":{\"colorbar\":{\"outlinewidth\":0,\"ticks\":\"\"}},\"colorscale\":{\"sequential\":[[0.0,\"#0d0887\"],[0.1111111111111111,\"#46039f\"],[0.2222222222222222,\"#7201a8\"],[0.3333333333333333,\"#9c179e\"],[0.4444444444444444,\"#bd3786\"],[0.5555555555555556,\"#d8576b\"],[0.6666666666666666,\"#ed7953\"],[0.7777777777777778,\"#fb9f3a\"],[0.8888888888888888,\"#fdca26\"],[1.0,\"#f0f921\"]],\"sequentialminus\":[[0.0,\"#0d0887\"],[0.1111111111111111,\"#46039f\"],[0.2222222222222222,\"#7201a8\"],[0.3333333333333333,\"#9c179e\"],[0.4444444444444444,\"#bd3786\"],[0.5555555555555556,\"#d8576b\"],[0.6666666666666666,\"#ed7953\"],[0.7777777777777778,\"#fb9f3a\"],[0.8888888888888888,\"#fdca26\"],[1.0,\"#f0f921\"]],\"diverging\":[[0,\"#8e0152\"],[0.1,\"#c51b7d\"],[0.2,\"#de77ae\"],[0.3,\"#f1b6da\"],[0.4,\"#fde0ef\"],[0.5,\"#f7f7f7\"],[0.6,\"#e6f5d0\"],[0.7,\"#b8e186\"],[0.8,\"#7fbc41\"],[0.9,\"#4d9221\"],[1,\"#276419\"]]},\"xaxis\":{\"gridcolor\":\"white\",\"linecolor\":\"white\",\"ticks\":\"\",\"title\":{\"standoff\":15},\"zerolinecolor\":\"white\",\"automargin\":true,\"zerolinewidth\":2},\"yaxis\":{\"gridcolor\":\"white\",\"linecolor\":\"white\",\"ticks\":\"\",\"title\":{\"standoff\":15},\"zerolinecolor\":\"white\",\"automargin\":true,\"zerolinewidth\":2},\"scene\":{\"xaxis\":{\"backgroundcolor\":\"#E5ECF6\",\"gridcolor\":\"white\",\"linecolor\":\"white\",\"showbackground\":true,\"ticks\":\"\",\"zerolinecolor\":\"white\",\"gridwidth\":2},\"yaxis\":{\"backgroundcolor\":\"#E5ECF6\",\"gridcolor\":\"white\",\"linecolor\":\"white\",\"showbackground\":true,\"ticks\":\"\",\"zerolinecolor\":\"white\",\"gridwidth\":2},\"zaxis\":{\"backgroundcolor\":\"#E5ECF6\",\"gridcolor\":\"white\",\"linecolor\":\"white\",\"showbackground\":true,\"ticks\":\"\",\"zerolinecolor\":\"white\",\"gridwidth\":2}},\"shapedefaults\":{\"line\":{\"color\":\"#2a3f5f\"}},\"annotationdefaults\":{\"arrowcolor\":\"#2a3f5f\",\"arrowhead\":0,\"arrowwidth\":1},\"geo\":{\"bgcolor\":\"white\",\"landcolor\":\"#E5ECF6\",\"subunitcolor\":\"white\",\"showland\":true,\"showlakes\":true,\"lakecolor\":\"white\"},\"title\":{\"x\":0.05},\"mapbox\":{\"style\":\"light\"}}},\"title\":{\"text\":\"Comparison of R-squared Values Across Different Models\",\"x\":0.5},\"xaxis\":{\"title\":{\"text\":\"Model\"},\"mirror\":true,\"ticks\":\"outside\",\"showline\":true,\"linecolor\":\"black\",\"gridcolor\":\"lightgrey\"},\"yaxis\":{\"title\":{\"text\":\"R-squared value\"},\"mirror\":true,\"ticks\":\"outside\",\"showline\":true,\"linecolor\":\"black\",\"gridcolor\":\"lightgrey\"},\"width\":800,\"height\":600,\"plot_bgcolor\":\"rgba(0, 0, 0, 0)\"},                        {\"responsive\": true}                    ).then(function(){\n",
       "                            \n",
       "var gd = document.getElementById('ba6c6110-a762-4de7-98eb-a397f91fcd8c');\n",
       "var x = new MutationObserver(function (mutations, observer) {{\n",
       "        var display = window.getComputedStyle(gd).display;\n",
       "        if (!display || display === 'none') {{\n",
       "            console.log([gd, 'removed!']);\n",
       "            Plotly.purge(gd);\n",
       "            observer.disconnect();\n",
       "        }}\n",
       "}});\n",
       "\n",
       "// Listen for the removal of the full notebook cells\n",
       "var notebookContainer = gd.closest('#notebook-container');\n",
       "if (notebookContainer) {{\n",
       "    x.observe(notebookContainer, {childList: true});\n",
       "}}\n",
       "\n",
       "// Listen for the clearing of the current output cell\n",
       "var outputEl = gd.closest('.output');\n",
       "if (outputEl) {{\n",
       "    x.observe(outputEl, {childList: true});\n",
       "}}\n",
       "\n",
       "                        })                };                });            </script>        </div>"
      ]
     },
     "metadata": {},
     "output_type": "display_data"
    }
   ],
   "source": [
    "import plotly.graph_objects as px\n",
    "plot = px.Figure(data=[\n",
    "                       px.Bar(\n",
    "    name = 'Original Model',\n",
    "    x = mods,\n",
    "    y = og\n",
    "   )\n",
    "])\n",
    "\n",
    "plot.update_layout(title= 'Comparison of R-squared Values Across Different Models', title_x=0.5, \n",
    "                   xaxis_title = 'Model', yaxis_title='R-squared value',\n",
    "                  width=800,height=600, plot_bgcolor= 'rgba(0, 0, 0, 0)',)\n",
    "#paper_bgcolor= 'rgba(0, 0, 0, 0)',)\n",
    "plot.update_traces(marker_color = 'LightGreen')\n",
    "plot.update_xaxes(\n",
    "    mirror=True,\n",
    "    ticks='outside',\n",
    "    showline=True,\n",
    "    linecolor='black',\n",
    "    gridcolor='lightgrey'\n",
    ")\n",
    "plot.update_yaxes(\n",
    "    mirror=True,\n",
    "    ticks='outside',\n",
    "    showline=True,\n",
    "    linecolor='black',\n",
    "    gridcolor='lightgrey'\n",
    ")\n",
    "#plot.update_xaxes('Regression Model Type')\n",
    "plot.show()\n",
    "\n"
   ]
  },
  {
   "cell_type": "code",
   "execution_count": null,
   "id": "986281ed-651f-4551-bac5-7e55160014dd",
   "metadata": {},
   "outputs": [],
   "source": []
  },
  {
   "cell_type": "code",
   "execution_count": null,
   "id": "cfc06fe1-b45a-4773-85a9-5049c0594352",
   "metadata": {},
   "outputs": [],
   "source": []
  },
  {
   "cell_type": "code",
   "execution_count": null,
   "id": "b39a2750-10e8-46ed-9b18-5b9a1a98e3d9",
   "metadata": {},
   "outputs": [],
   "source": []
  },
  {
   "cell_type": "code",
   "execution_count": null,
   "id": "eaf89859-bbca-4ed5-8ba0-7241749da7d5",
   "metadata": {},
   "outputs": [],
   "source": []
  },
  {
   "cell_type": "markdown",
   "id": "adeef701-d695-4f8a-b8cc-5e6e5fe5f381",
   "metadata": {},
   "source": [
    "## 4. 2022 Validation Predictions"
   ]
  },
  {
   "cell_type": "markdown",
   "id": "33451c51-156f-48b9-ab97-806f40321d56",
   "metadata": {},
   "source": [
    "#### 4.1 Loading in 2022 prediction datasets: gene expression, specimen, and subject"
   ]
  },
  {
   "cell_type": "code",
   "execution_count": 101,
   "id": "b971c44f-5867-4e6f-adb2-becdf80f3460",
   "metadata": {
    "tags": []
   },
   "outputs": [],
   "source": [
    "gene_pred = clean_df_gene(df_2022_gene)"
   ]
  },
  {
   "cell_type": "code",
   "execution_count": 102,
   "id": "92712414-5029-4ba5-a403-95bad015e242",
   "metadata": {
    "tags": []
   },
   "outputs": [],
   "source": [
    "genes_cols_pred = gene_pred.pivot_table(index=['specimen_id'], columns=['versioned_ensembl_gene_id'], values= 'tpm')"
   ]
  },
  {
   "cell_type": "code",
   "execution_count": 103,
   "id": "ebccd929-5733-4bd0-aadd-b526094715ad",
   "metadata": {
    "tags": []
   },
   "outputs": [
    {
     "data": {
      "text/html": [
       "<div>\n",
       "<style scoped>\n",
       "    .dataframe tbody tr th:only-of-type {\n",
       "        vertical-align: middle;\n",
       "    }\n",
       "\n",
       "    .dataframe tbody tr th {\n",
       "        vertical-align: top;\n",
       "    }\n",
       "\n",
       "    .dataframe thead th {\n",
       "        text-align: right;\n",
       "    }\n",
       "</style>\n",
       "<table border=\"1\" class=\"dataframe\">\n",
       "  <thead>\n",
       "    <tr style=\"text-align: right;\">\n",
       "      <th>versioned_ensembl_gene_id</th>\n",
       "      <th>specimen_id</th>\n",
       "      <th>ENSG00000081041</th>\n",
       "      <th>ENSG00000087074</th>\n",
       "      <th>ENSG00000099860</th>\n",
       "      <th>ENSG00000100024</th>\n",
       "      <th>ENSG00000100906</th>\n",
       "      <th>ENSG00000101331</th>\n",
       "      <th>ENSG00000105855</th>\n",
       "      <th>ENSG00000108342</th>\n",
       "      <th>ENSG00000123689</th>\n",
       "      <th>...</th>\n",
       "      <th>ENSG00000277969</th>\n",
       "      <th>ENSG00000278546</th>\n",
       "      <th>ENSG00000278869</th>\n",
       "      <th>ENSG00000279065</th>\n",
       "      <th>ENSG00000279719</th>\n",
       "      <th>ENSG00000279907</th>\n",
       "      <th>ENSG00000280159</th>\n",
       "      <th>ENSG00000280228</th>\n",
       "      <th>ENSG00000280587</th>\n",
       "      <th>ENSG00000283265</th>\n",
       "    </tr>\n",
       "  </thead>\n",
       "  <tbody>\n",
       "    <tr>\n",
       "      <th>0</th>\n",
       "      <td>730</td>\n",
       "      <td>12.099</td>\n",
       "      <td>43.599</td>\n",
       "      <td>34.308</td>\n",
       "      <td>0.297</td>\n",
       "      <td>690.221</td>\n",
       "      <td>0.195</td>\n",
       "      <td>0.349</td>\n",
       "      <td>0.0</td>\n",
       "      <td>1024.836</td>\n",
       "      <td>...</td>\n",
       "      <td>3.184</td>\n",
       "      <td>0.0</td>\n",
       "      <td>0.287</td>\n",
       "      <td>0.0</td>\n",
       "      <td>6.104</td>\n",
       "      <td>0.000</td>\n",
       "      <td>0.000</td>\n",
       "      <td>2.802</td>\n",
       "      <td>0.0</td>\n",
       "      <td>0.0</td>\n",
       "    </tr>\n",
       "    <tr>\n",
       "      <th>1</th>\n",
       "      <td>731</td>\n",
       "      <td>15.027</td>\n",
       "      <td>73.589</td>\n",
       "      <td>38.962</td>\n",
       "      <td>0.433</td>\n",
       "      <td>428.681</td>\n",
       "      <td>0.000</td>\n",
       "      <td>0.550</td>\n",
       "      <td>0.0</td>\n",
       "      <td>419.564</td>\n",
       "      <td>...</td>\n",
       "      <td>3.308</td>\n",
       "      <td>0.0</td>\n",
       "      <td>0.279</td>\n",
       "      <td>0.0</td>\n",
       "      <td>8.376</td>\n",
       "      <td>0.000</td>\n",
       "      <td>0.000</td>\n",
       "      <td>0.950</td>\n",
       "      <td>0.3</td>\n",
       "      <td>0.0</td>\n",
       "    </tr>\n",
       "    <tr>\n",
       "      <th>2</th>\n",
       "      <td>732</td>\n",
       "      <td>2.533</td>\n",
       "      <td>91.600</td>\n",
       "      <td>41.671</td>\n",
       "      <td>0.373</td>\n",
       "      <td>443.053</td>\n",
       "      <td>0.000</td>\n",
       "      <td>0.613</td>\n",
       "      <td>0.0</td>\n",
       "      <td>168.211</td>\n",
       "      <td>...</td>\n",
       "      <td>4.965</td>\n",
       "      <td>0.0</td>\n",
       "      <td>0.000</td>\n",
       "      <td>0.0</td>\n",
       "      <td>0.601</td>\n",
       "      <td>0.000</td>\n",
       "      <td>0.347</td>\n",
       "      <td>0.109</td>\n",
       "      <td>0.0</td>\n",
       "      <td>0.0</td>\n",
       "    </tr>\n",
       "    <tr>\n",
       "      <th>3</th>\n",
       "      <td>740</td>\n",
       "      <td>7.106</td>\n",
       "      <td>90.012</td>\n",
       "      <td>60.879</td>\n",
       "      <td>0.380</td>\n",
       "      <td>617.237</td>\n",
       "      <td>0.000</td>\n",
       "      <td>0.341</td>\n",
       "      <td>0.0</td>\n",
       "      <td>385.634</td>\n",
       "      <td>...</td>\n",
       "      <td>4.501</td>\n",
       "      <td>0.0</td>\n",
       "      <td>0.368</td>\n",
       "      <td>0.0</td>\n",
       "      <td>7.361</td>\n",
       "      <td>0.000</td>\n",
       "      <td>0.000</td>\n",
       "      <td>0.000</td>\n",
       "      <td>0.0</td>\n",
       "      <td>0.0</td>\n",
       "    </tr>\n",
       "    <tr>\n",
       "      <th>4</th>\n",
       "      <td>741</td>\n",
       "      <td>45.599</td>\n",
       "      <td>277.284</td>\n",
       "      <td>130.457</td>\n",
       "      <td>1.025</td>\n",
       "      <td>1707.834</td>\n",
       "      <td>0.000</td>\n",
       "      <td>0.432</td>\n",
       "      <td>0.0</td>\n",
       "      <td>1182.833</td>\n",
       "      <td>...</td>\n",
       "      <td>5.887</td>\n",
       "      <td>0.0</td>\n",
       "      <td>1.401</td>\n",
       "      <td>0.0</td>\n",
       "      <td>10.502</td>\n",
       "      <td>0.000</td>\n",
       "      <td>0.000</td>\n",
       "      <td>1.059</td>\n",
       "      <td>0.0</td>\n",
       "      <td>0.0</td>\n",
       "    </tr>\n",
       "    <tr>\n",
       "      <th>...</th>\n",
       "      <td>...</td>\n",
       "      <td>...</td>\n",
       "      <td>...</td>\n",
       "      <td>...</td>\n",
       "      <td>...</td>\n",
       "      <td>...</td>\n",
       "      <td>...</td>\n",
       "      <td>...</td>\n",
       "      <td>...</td>\n",
       "      <td>...</td>\n",
       "      <td>...</td>\n",
       "      <td>...</td>\n",
       "      <td>...</td>\n",
       "      <td>...</td>\n",
       "      <td>...</td>\n",
       "      <td>...</td>\n",
       "      <td>...</td>\n",
       "      <td>...</td>\n",
       "      <td>...</td>\n",
       "      <td>...</td>\n",
       "      <td>...</td>\n",
       "    </tr>\n",
       "    <tr>\n",
       "      <th>58</th>\n",
       "      <td>921</td>\n",
       "      <td>6.308</td>\n",
       "      <td>100.652</td>\n",
       "      <td>35.186</td>\n",
       "      <td>0.418</td>\n",
       "      <td>498.448</td>\n",
       "      <td>0.000</td>\n",
       "      <td>0.624</td>\n",
       "      <td>0.0</td>\n",
       "      <td>299.392</td>\n",
       "      <td>...</td>\n",
       "      <td>5.358</td>\n",
       "      <td>0.0</td>\n",
       "      <td>0.000</td>\n",
       "      <td>0.0</td>\n",
       "      <td>0.674</td>\n",
       "      <td>0.000</td>\n",
       "      <td>0.584</td>\n",
       "      <td>0.245</td>\n",
       "      <td>0.0</td>\n",
       "      <td>0.0</td>\n",
       "    </tr>\n",
       "    <tr>\n",
       "      <th>59</th>\n",
       "      <td>922</td>\n",
       "      <td>7.201</td>\n",
       "      <td>84.186</td>\n",
       "      <td>50.520</td>\n",
       "      <td>0.284</td>\n",
       "      <td>626.025</td>\n",
       "      <td>0.000</td>\n",
       "      <td>0.484</td>\n",
       "      <td>0.0</td>\n",
       "      <td>229.406</td>\n",
       "      <td>...</td>\n",
       "      <td>4.200</td>\n",
       "      <td>0.0</td>\n",
       "      <td>0.880</td>\n",
       "      <td>0.0</td>\n",
       "      <td>0.550</td>\n",
       "      <td>0.000</td>\n",
       "      <td>0.000</td>\n",
       "      <td>1.396</td>\n",
       "      <td>0.0</td>\n",
       "      <td>0.0</td>\n",
       "    </tr>\n",
       "    <tr>\n",
       "      <th>60</th>\n",
       "      <td>930</td>\n",
       "      <td>15.420</td>\n",
       "      <td>102.040</td>\n",
       "      <td>57.233</td>\n",
       "      <td>0.330</td>\n",
       "      <td>421.639</td>\n",
       "      <td>0.000</td>\n",
       "      <td>0.222</td>\n",
       "      <td>0.0</td>\n",
       "      <td>321.797</td>\n",
       "      <td>...</td>\n",
       "      <td>5.849</td>\n",
       "      <td>0.0</td>\n",
       "      <td>0.425</td>\n",
       "      <td>0.0</td>\n",
       "      <td>7.971</td>\n",
       "      <td>0.000</td>\n",
       "      <td>0.307</td>\n",
       "      <td>0.000</td>\n",
       "      <td>0.0</td>\n",
       "      <td>0.0</td>\n",
       "    </tr>\n",
       "    <tr>\n",
       "      <th>61</th>\n",
       "      <td>931</td>\n",
       "      <td>22.262</td>\n",
       "      <td>121.436</td>\n",
       "      <td>76.949</td>\n",
       "      <td>0.316</td>\n",
       "      <td>649.780</td>\n",
       "      <td>0.000</td>\n",
       "      <td>0.627</td>\n",
       "      <td>0.0</td>\n",
       "      <td>741.853</td>\n",
       "      <td>...</td>\n",
       "      <td>4.937</td>\n",
       "      <td>0.0</td>\n",
       "      <td>0.699</td>\n",
       "      <td>0.0</td>\n",
       "      <td>4.364</td>\n",
       "      <td>0.000</td>\n",
       "      <td>0.000</td>\n",
       "      <td>0.396</td>\n",
       "      <td>0.0</td>\n",
       "      <td>0.0</td>\n",
       "    </tr>\n",
       "    <tr>\n",
       "      <th>62</th>\n",
       "      <td>932</td>\n",
       "      <td>13.394</td>\n",
       "      <td>78.150</td>\n",
       "      <td>46.698</td>\n",
       "      <td>0.000</td>\n",
       "      <td>416.436</td>\n",
       "      <td>0.000</td>\n",
       "      <td>0.163</td>\n",
       "      <td>0.0</td>\n",
       "      <td>193.814</td>\n",
       "      <td>...</td>\n",
       "      <td>5.385</td>\n",
       "      <td>0.0</td>\n",
       "      <td>1.057</td>\n",
       "      <td>0.0</td>\n",
       "      <td>0.440</td>\n",
       "      <td>0.124</td>\n",
       "      <td>0.127</td>\n",
       "      <td>1.359</td>\n",
       "      <td>0.0</td>\n",
       "      <td>0.0</td>\n",
       "    </tr>\n",
       "  </tbody>\n",
       "</table>\n",
       "<p>63 rows × 102 columns</p>\n",
       "</div>"
      ],
      "text/plain": [
       "versioned_ensembl_gene_id  specimen_id  ENSG00000081041  ENSG00000087074  \\\n",
       "0                                  730           12.099           43.599   \n",
       "1                                  731           15.027           73.589   \n",
       "2                                  732            2.533           91.600   \n",
       "3                                  740            7.106           90.012   \n",
       "4                                  741           45.599          277.284   \n",
       "..                                 ...              ...              ...   \n",
       "58                                 921            6.308          100.652   \n",
       "59                                 922            7.201           84.186   \n",
       "60                                 930           15.420          102.040   \n",
       "61                                 931           22.262          121.436   \n",
       "62                                 932           13.394           78.150   \n",
       "\n",
       "versioned_ensembl_gene_id  ENSG00000099860  ENSG00000100024  ENSG00000100906  \\\n",
       "0                                   34.308            0.297          690.221   \n",
       "1                                   38.962            0.433          428.681   \n",
       "2                                   41.671            0.373          443.053   \n",
       "3                                   60.879            0.380          617.237   \n",
       "4                                  130.457            1.025         1707.834   \n",
       "..                                     ...              ...              ...   \n",
       "58                                  35.186            0.418          498.448   \n",
       "59                                  50.520            0.284          626.025   \n",
       "60                                  57.233            0.330          421.639   \n",
       "61                                  76.949            0.316          649.780   \n",
       "62                                  46.698            0.000          416.436   \n",
       "\n",
       "versioned_ensembl_gene_id  ENSG00000101331  ENSG00000105855  ENSG00000108342  \\\n",
       "0                                    0.195            0.349              0.0   \n",
       "1                                    0.000            0.550              0.0   \n",
       "2                                    0.000            0.613              0.0   \n",
       "3                                    0.000            0.341              0.0   \n",
       "4                                    0.000            0.432              0.0   \n",
       "..                                     ...              ...              ...   \n",
       "58                                   0.000            0.624              0.0   \n",
       "59                                   0.000            0.484              0.0   \n",
       "60                                   0.000            0.222              0.0   \n",
       "61                                   0.000            0.627              0.0   \n",
       "62                                   0.000            0.163              0.0   \n",
       "\n",
       "versioned_ensembl_gene_id  ENSG00000123689  ...  ENSG00000277969  \\\n",
       "0                                 1024.836  ...            3.184   \n",
       "1                                  419.564  ...            3.308   \n",
       "2                                  168.211  ...            4.965   \n",
       "3                                  385.634  ...            4.501   \n",
       "4                                 1182.833  ...            5.887   \n",
       "..                                     ...  ...              ...   \n",
       "58                                 299.392  ...            5.358   \n",
       "59                                 229.406  ...            4.200   \n",
       "60                                 321.797  ...            5.849   \n",
       "61                                 741.853  ...            4.937   \n",
       "62                                 193.814  ...            5.385   \n",
       "\n",
       "versioned_ensembl_gene_id  ENSG00000278546  ENSG00000278869  ENSG00000279065  \\\n",
       "0                                      0.0            0.287              0.0   \n",
       "1                                      0.0            0.279              0.0   \n",
       "2                                      0.0            0.000              0.0   \n",
       "3                                      0.0            0.368              0.0   \n",
       "4                                      0.0            1.401              0.0   \n",
       "..                                     ...              ...              ...   \n",
       "58                                     0.0            0.000              0.0   \n",
       "59                                     0.0            0.880              0.0   \n",
       "60                                     0.0            0.425              0.0   \n",
       "61                                     0.0            0.699              0.0   \n",
       "62                                     0.0            1.057              0.0   \n",
       "\n",
       "versioned_ensembl_gene_id  ENSG00000279719  ENSG00000279907  ENSG00000280159  \\\n",
       "0                                    6.104            0.000            0.000   \n",
       "1                                    8.376            0.000            0.000   \n",
       "2                                    0.601            0.000            0.347   \n",
       "3                                    7.361            0.000            0.000   \n",
       "4                                   10.502            0.000            0.000   \n",
       "..                                     ...              ...              ...   \n",
       "58                                   0.674            0.000            0.584   \n",
       "59                                   0.550            0.000            0.000   \n",
       "60                                   7.971            0.000            0.307   \n",
       "61                                   4.364            0.000            0.000   \n",
       "62                                   0.440            0.124            0.127   \n",
       "\n",
       "versioned_ensembl_gene_id  ENSG00000280228  ENSG00000280587  ENSG00000283265  \n",
       "0                                    2.802              0.0              0.0  \n",
       "1                                    0.950              0.3              0.0  \n",
       "2                                    0.109              0.0              0.0  \n",
       "3                                    0.000              0.0              0.0  \n",
       "4                                    1.059              0.0              0.0  \n",
       "..                                     ...              ...              ...  \n",
       "58                                   0.245              0.0              0.0  \n",
       "59                                   1.396              0.0              0.0  \n",
       "60                                   0.000              0.0              0.0  \n",
       "61                                   0.396              0.0              0.0  \n",
       "62                                   1.359              0.0              0.0  \n",
       "\n",
       "[63 rows x 102 columns]"
      ]
     },
     "execution_count": 103,
     "metadata": {},
     "output_type": "execute_result"
    }
   ],
   "source": [
    "final_gene_pred = genes_cols_pred[genes_cols_pred.columns.intersection(top100)].rename(columns= {'ENSG00000277632':'CCL3'}).reset_index()\n",
    "final_gene_pred      "
   ]
  },
  {
   "cell_type": "code",
   "execution_count": 104,
   "id": "3df461dd-aa88-48a3-9b24-8253a31e94cd",
   "metadata": {
    "tags": []
   },
   "outputs": [],
   "source": [
    "subject_pred = clean_df_subject(pd.merge(df_2022_specimen,df_2022_subject, on= 'subject_id'))"
   ]
  },
  {
   "cell_type": "code",
   "execution_count": 105,
   "id": "3c517168-c2a1-42d5-a207-c0de69c83951",
   "metadata": {
    "tags": []
   },
   "outputs": [
    {
     "data": {
      "text/html": [
       "<div>\n",
       "<style scoped>\n",
       "    .dataframe tbody tr th:only-of-type {\n",
       "        vertical-align: middle;\n",
       "    }\n",
       "\n",
       "    .dataframe tbody tr th {\n",
       "        vertical-align: top;\n",
       "    }\n",
       "\n",
       "    .dataframe thead th {\n",
       "        text-align: right;\n",
       "    }\n",
       "</style>\n",
       "<table border=\"1\" class=\"dataframe\">\n",
       "  <thead>\n",
       "    <tr style=\"text-align: right;\">\n",
       "      <th></th>\n",
       "      <th>specimen_id</th>\n",
       "      <th>subject_id</th>\n",
       "      <th>actual_day_relative_to_boost</th>\n",
       "      <th>planned_day_relative_to_boost</th>\n",
       "      <th>specimen_type</th>\n",
       "      <th>visit</th>\n",
       "      <th>infancy_vac</th>\n",
       "      <th>biological_sex</th>\n",
       "      <th>ethnicity</th>\n",
       "      <th>race</th>\n",
       "      <th>...</th>\n",
       "      <th>ENSG00000277969</th>\n",
       "      <th>ENSG00000278546</th>\n",
       "      <th>ENSG00000278869</th>\n",
       "      <th>ENSG00000279065</th>\n",
       "      <th>ENSG00000279719</th>\n",
       "      <th>ENSG00000279907</th>\n",
       "      <th>ENSG00000280159</th>\n",
       "      <th>ENSG00000280228</th>\n",
       "      <th>ENSG00000280587</th>\n",
       "      <th>ENSG00000283265</th>\n",
       "    </tr>\n",
       "  </thead>\n",
       "  <tbody>\n",
       "    <tr>\n",
       "      <th>0</th>\n",
       "      <td>730</td>\n",
       "      <td>97</td>\n",
       "      <td>-31</td>\n",
       "      <td>-30</td>\n",
       "      <td>Blood</td>\n",
       "      <td>1</td>\n",
       "      <td>wP</td>\n",
       "      <td>Male</td>\n",
       "      <td>Not Hispanic or Latino</td>\n",
       "      <td>White</td>\n",
       "      <td>...</td>\n",
       "      <td>3.184</td>\n",
       "      <td>0.0</td>\n",
       "      <td>0.287</td>\n",
       "      <td>0.0</td>\n",
       "      <td>6.104</td>\n",
       "      <td>0.000</td>\n",
       "      <td>0.000</td>\n",
       "      <td>2.802</td>\n",
       "      <td>0.0</td>\n",
       "      <td>0.0</td>\n",
       "    </tr>\n",
       "    <tr>\n",
       "      <th>1</th>\n",
       "      <td>731</td>\n",
       "      <td>97</td>\n",
       "      <td>-12</td>\n",
       "      <td>-15</td>\n",
       "      <td>Blood</td>\n",
       "      <td>2</td>\n",
       "      <td>wP</td>\n",
       "      <td>Male</td>\n",
       "      <td>Not Hispanic or Latino</td>\n",
       "      <td>White</td>\n",
       "      <td>...</td>\n",
       "      <td>3.308</td>\n",
       "      <td>0.0</td>\n",
       "      <td>0.279</td>\n",
       "      <td>0.0</td>\n",
       "      <td>8.376</td>\n",
       "      <td>0.000</td>\n",
       "      <td>0.000</td>\n",
       "      <td>0.950</td>\n",
       "      <td>0.3</td>\n",
       "      <td>0.0</td>\n",
       "    </tr>\n",
       "    <tr>\n",
       "      <th>2</th>\n",
       "      <td>732</td>\n",
       "      <td>97</td>\n",
       "      <td>0</td>\n",
       "      <td>0</td>\n",
       "      <td>Blood</td>\n",
       "      <td>3</td>\n",
       "      <td>wP</td>\n",
       "      <td>Male</td>\n",
       "      <td>Not Hispanic or Latino</td>\n",
       "      <td>White</td>\n",
       "      <td>...</td>\n",
       "      <td>4.965</td>\n",
       "      <td>0.0</td>\n",
       "      <td>0.000</td>\n",
       "      <td>0.0</td>\n",
       "      <td>0.601</td>\n",
       "      <td>0.000</td>\n",
       "      <td>0.347</td>\n",
       "      <td>0.109</td>\n",
       "      <td>0.0</td>\n",
       "      <td>0.0</td>\n",
       "    </tr>\n",
       "    <tr>\n",
       "      <th>3</th>\n",
       "      <td>740</td>\n",
       "      <td>98</td>\n",
       "      <td>-31</td>\n",
       "      <td>-30</td>\n",
       "      <td>Blood</td>\n",
       "      <td>3</td>\n",
       "      <td>wP</td>\n",
       "      <td>Female</td>\n",
       "      <td>Not Hispanic or Latino</td>\n",
       "      <td>White</td>\n",
       "      <td>...</td>\n",
       "      <td>4.501</td>\n",
       "      <td>0.0</td>\n",
       "      <td>0.368</td>\n",
       "      <td>0.0</td>\n",
       "      <td>7.361</td>\n",
       "      <td>0.000</td>\n",
       "      <td>0.000</td>\n",
       "      <td>0.000</td>\n",
       "      <td>0.0</td>\n",
       "      <td>0.0</td>\n",
       "    </tr>\n",
       "    <tr>\n",
       "      <th>4</th>\n",
       "      <td>741</td>\n",
       "      <td>98</td>\n",
       "      <td>-14</td>\n",
       "      <td>-15</td>\n",
       "      <td>Blood</td>\n",
       "      <td>4</td>\n",
       "      <td>wP</td>\n",
       "      <td>Female</td>\n",
       "      <td>Not Hispanic or Latino</td>\n",
       "      <td>White</td>\n",
       "      <td>...</td>\n",
       "      <td>5.887</td>\n",
       "      <td>0.0</td>\n",
       "      <td>1.401</td>\n",
       "      <td>0.0</td>\n",
       "      <td>10.502</td>\n",
       "      <td>0.000</td>\n",
       "      <td>0.000</td>\n",
       "      <td>1.059</td>\n",
       "      <td>0.0</td>\n",
       "      <td>0.0</td>\n",
       "    </tr>\n",
       "    <tr>\n",
       "      <th>...</th>\n",
       "      <td>...</td>\n",
       "      <td>...</td>\n",
       "      <td>...</td>\n",
       "      <td>...</td>\n",
       "      <td>...</td>\n",
       "      <td>...</td>\n",
       "      <td>...</td>\n",
       "      <td>...</td>\n",
       "      <td>...</td>\n",
       "      <td>...</td>\n",
       "      <td>...</td>\n",
       "      <td>...</td>\n",
       "      <td>...</td>\n",
       "      <td>...</td>\n",
       "      <td>...</td>\n",
       "      <td>...</td>\n",
       "      <td>...</td>\n",
       "      <td>...</td>\n",
       "      <td>...</td>\n",
       "      <td>...</td>\n",
       "      <td>...</td>\n",
       "    </tr>\n",
       "    <tr>\n",
       "      <th>58</th>\n",
       "      <td>921</td>\n",
       "      <td>117</td>\n",
       "      <td>-13</td>\n",
       "      <td>-15</td>\n",
       "      <td>Blood</td>\n",
       "      <td>2</td>\n",
       "      <td>aP</td>\n",
       "      <td>Female</td>\n",
       "      <td>Hispanic or Latino</td>\n",
       "      <td>More Than One Race</td>\n",
       "      <td>...</td>\n",
       "      <td>5.358</td>\n",
       "      <td>0.0</td>\n",
       "      <td>0.000</td>\n",
       "      <td>0.0</td>\n",
       "      <td>0.674</td>\n",
       "      <td>0.000</td>\n",
       "      <td>0.584</td>\n",
       "      <td>0.245</td>\n",
       "      <td>0.0</td>\n",
       "      <td>0.0</td>\n",
       "    </tr>\n",
       "    <tr>\n",
       "      <th>59</th>\n",
       "      <td>922</td>\n",
       "      <td>117</td>\n",
       "      <td>0</td>\n",
       "      <td>0</td>\n",
       "      <td>Blood</td>\n",
       "      <td>3</td>\n",
       "      <td>aP</td>\n",
       "      <td>Female</td>\n",
       "      <td>Hispanic or Latino</td>\n",
       "      <td>More Than One Race</td>\n",
       "      <td>...</td>\n",
       "      <td>4.200</td>\n",
       "      <td>0.0</td>\n",
       "      <td>0.880</td>\n",
       "      <td>0.0</td>\n",
       "      <td>0.550</td>\n",
       "      <td>0.000</td>\n",
       "      <td>0.000</td>\n",
       "      <td>1.396</td>\n",
       "      <td>0.0</td>\n",
       "      <td>0.0</td>\n",
       "    </tr>\n",
       "    <tr>\n",
       "      <th>60</th>\n",
       "      <td>930</td>\n",
       "      <td>118</td>\n",
       "      <td>-52</td>\n",
       "      <td>-30</td>\n",
       "      <td>Blood</td>\n",
       "      <td>1</td>\n",
       "      <td>aP</td>\n",
       "      <td>Male</td>\n",
       "      <td>Not Hispanic or Latino</td>\n",
       "      <td>Asian</td>\n",
       "      <td>...</td>\n",
       "      <td>5.849</td>\n",
       "      <td>0.0</td>\n",
       "      <td>0.425</td>\n",
       "      <td>0.0</td>\n",
       "      <td>7.971</td>\n",
       "      <td>0.000</td>\n",
       "      <td>0.307</td>\n",
       "      <td>0.000</td>\n",
       "      <td>0.0</td>\n",
       "      <td>0.0</td>\n",
       "    </tr>\n",
       "    <tr>\n",
       "      <th>61</th>\n",
       "      <td>931</td>\n",
       "      <td>118</td>\n",
       "      <td>-38</td>\n",
       "      <td>-15</td>\n",
       "      <td>Blood</td>\n",
       "      <td>2</td>\n",
       "      <td>aP</td>\n",
       "      <td>Male</td>\n",
       "      <td>Not Hispanic or Latino</td>\n",
       "      <td>Asian</td>\n",
       "      <td>...</td>\n",
       "      <td>4.937</td>\n",
       "      <td>0.0</td>\n",
       "      <td>0.699</td>\n",
       "      <td>0.0</td>\n",
       "      <td>4.364</td>\n",
       "      <td>0.000</td>\n",
       "      <td>0.000</td>\n",
       "      <td>0.396</td>\n",
       "      <td>0.0</td>\n",
       "      <td>0.0</td>\n",
       "    </tr>\n",
       "    <tr>\n",
       "      <th>62</th>\n",
       "      <td>932</td>\n",
       "      <td>118</td>\n",
       "      <td>0</td>\n",
       "      <td>0</td>\n",
       "      <td>Blood</td>\n",
       "      <td>3</td>\n",
       "      <td>aP</td>\n",
       "      <td>Male</td>\n",
       "      <td>Not Hispanic or Latino</td>\n",
       "      <td>Asian</td>\n",
       "      <td>...</td>\n",
       "      <td>5.385</td>\n",
       "      <td>0.0</td>\n",
       "      <td>1.057</td>\n",
       "      <td>0.0</td>\n",
       "      <td>0.440</td>\n",
       "      <td>0.124</td>\n",
       "      <td>0.127</td>\n",
       "      <td>1.359</td>\n",
       "      <td>0.0</td>\n",
       "      <td>0.0</td>\n",
       "    </tr>\n",
       "  </tbody>\n",
       "</table>\n",
       "<p>63 rows × 115 columns</p>\n",
       "</div>"
      ],
      "text/plain": [
       "    specimen_id  subject_id  actual_day_relative_to_boost  \\\n",
       "0           730          97                           -31   \n",
       "1           731          97                           -12   \n",
       "2           732          97                             0   \n",
       "3           740          98                           -31   \n",
       "4           741          98                           -14   \n",
       "..          ...         ...                           ...   \n",
       "58          921         117                           -13   \n",
       "59          922         117                             0   \n",
       "60          930         118                           -52   \n",
       "61          931         118                           -38   \n",
       "62          932         118                             0   \n",
       "\n",
       "    planned_day_relative_to_boost specimen_type  visit infancy_vac  \\\n",
       "0                             -30         Blood      1          wP   \n",
       "1                             -15         Blood      2          wP   \n",
       "2                               0         Blood      3          wP   \n",
       "3                             -30         Blood      3          wP   \n",
       "4                             -15         Blood      4          wP   \n",
       "..                            ...           ...    ...         ...   \n",
       "58                            -15         Blood      2          aP   \n",
       "59                              0         Blood      3          aP   \n",
       "60                            -30         Blood      1          aP   \n",
       "61                            -15         Blood      2          aP   \n",
       "62                              0         Blood      3          aP   \n",
       "\n",
       "   biological_sex               ethnicity                race  ...  \\\n",
       "0            Male  Not Hispanic or Latino               White  ...   \n",
       "1            Male  Not Hispanic or Latino               White  ...   \n",
       "2            Male  Not Hispanic or Latino               White  ...   \n",
       "3          Female  Not Hispanic or Latino               White  ...   \n",
       "4          Female  Not Hispanic or Latino               White  ...   \n",
       "..            ...                     ...                 ...  ...   \n",
       "58         Female      Hispanic or Latino  More Than One Race  ...   \n",
       "59         Female      Hispanic or Latino  More Than One Race  ...   \n",
       "60           Male  Not Hispanic or Latino               Asian  ...   \n",
       "61           Male  Not Hispanic or Latino               Asian  ...   \n",
       "62           Male  Not Hispanic or Latino               Asian  ...   \n",
       "\n",
       "    ENSG00000277969  ENSG00000278546 ENSG00000278869  ENSG00000279065  \\\n",
       "0             3.184              0.0           0.287              0.0   \n",
       "1             3.308              0.0           0.279              0.0   \n",
       "2             4.965              0.0           0.000              0.0   \n",
       "3             4.501              0.0           0.368              0.0   \n",
       "4             5.887              0.0           1.401              0.0   \n",
       "..              ...              ...             ...              ...   \n",
       "58            5.358              0.0           0.000              0.0   \n",
       "59            4.200              0.0           0.880              0.0   \n",
       "60            5.849              0.0           0.425              0.0   \n",
       "61            4.937              0.0           0.699              0.0   \n",
       "62            5.385              0.0           1.057              0.0   \n",
       "\n",
       "    ENSG00000279719  ENSG00000279907  ENSG00000280159  ENSG00000280228  \\\n",
       "0             6.104            0.000            0.000            2.802   \n",
       "1             8.376            0.000            0.000            0.950   \n",
       "2             0.601            0.000            0.347            0.109   \n",
       "3             7.361            0.000            0.000            0.000   \n",
       "4            10.502            0.000            0.000            1.059   \n",
       "..              ...              ...              ...              ...   \n",
       "58            0.674            0.000            0.584            0.245   \n",
       "59            0.550            0.000            0.000            1.396   \n",
       "60            7.971            0.000            0.307            0.000   \n",
       "61            4.364            0.000            0.000            0.396   \n",
       "62            0.440            0.124            0.127            1.359   \n",
       "\n",
       "    ENSG00000280587  ENSG00000283265  \n",
       "0               0.0              0.0  \n",
       "1               0.3              0.0  \n",
       "2               0.0              0.0  \n",
       "3               0.0              0.0  \n",
       "4               0.0              0.0  \n",
       "..              ...              ...  \n",
       "58              0.0              0.0  \n",
       "59              0.0              0.0  \n",
       "60              0.0              0.0  \n",
       "61              0.0              0.0  \n",
       "62              0.0              0.0  \n",
       "\n",
       "[63 rows x 115 columns]"
      ]
     },
     "execution_count": 105,
     "metadata": {},
     "output_type": "execute_result"
    }
   ],
   "source": [
    "subject_pred.merge(final_gene_pred, on='specimen_id', how = 'right')"
   ]
  },
  {
   "cell_type": "code",
   "execution_count": null,
   "id": "fcd31804-d886-42c9-94b3-c8b252ef182a",
   "metadata": {},
   "outputs": [],
   "source": []
  },
  {
   "cell_type": "code",
   "execution_count": null,
   "id": "dc75201e-f7cd-4856-9ca2-019923a608bd",
   "metadata": {},
   "outputs": [],
   "source": []
  },
  {
   "cell_type": "code",
   "execution_count": null,
   "id": "140b38b7-cdad-453c-82f4-09ee1751cbe3",
   "metadata": {},
   "outputs": [],
   "source": []
  }
 ],
 "metadata": {
  "kernelspec": {
   "display_name": "Python 3 (ipykernel)",
   "language": "python",
   "name": "python3"
  },
  "language_info": {
   "codemirror_mode": {
    "name": "ipython",
    "version": 3
   },
   "file_extension": ".py",
   "mimetype": "text/x-python",
   "name": "python",
   "nbconvert_exporter": "python",
   "pygments_lexer": "ipython3",
   "version": "3.10.12"
  }
 },
 "nbformat": 4,
 "nbformat_minor": 5
}
