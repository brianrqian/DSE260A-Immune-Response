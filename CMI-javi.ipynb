{
 "cells": [
  {
   "cell_type": "code",
   "execution_count": 1,
   "id": "2587b00c-2297-4691-8352-af62eecd79fb",
   "metadata": {
    "tags": []
   },
   "outputs": [],
   "source": [
    "import pandas as pd\n",
    "import numpy as np"
   ]
  },
  {
   "cell_type": "code",
   "execution_count": 2,
   "id": "21bc73d5-1a47-4179-bb82-ff37cfb142ad",
   "metadata": {},
   "outputs": [
    {
     "name": "stdout",
     "output_type": "stream",
     "text": [
      "Requirement already satisfied: rpy2 in /Users/javi/anaconda3/lib/python3.9/site-packages (3.5.15)\n",
      "Requirement already satisfied: pandas in /Users/javi/anaconda3/lib/python3.9/site-packages (2.0.3)\n",
      "Requirement already satisfied: cffi>=1.10.0 in /Users/javi/anaconda3/lib/python3.9/site-packages (from rpy2) (1.16.0)\n",
      "Requirement already satisfied: jinja2 in /Users/javi/anaconda3/lib/python3.9/site-packages (from rpy2) (3.1.2)\n",
      "Requirement already satisfied: tzlocal in /Users/javi/anaconda3/lib/python3.9/site-packages (from rpy2) (5.2)\n",
      "Requirement already satisfied: python-dateutil>=2.8.2 in /Users/javi/anaconda3/lib/python3.9/site-packages (from pandas) (2.8.2)\n",
      "Requirement already satisfied: pytz>=2020.1 in /Users/javi/anaconda3/lib/python3.9/site-packages (from pandas) (2023.3.post1)\n",
      "Requirement already satisfied: tzdata>=2022.1 in /Users/javi/anaconda3/lib/python3.9/site-packages (from pandas) (2023.3)\n",
      "Requirement already satisfied: numpy>=1.20.3 in /Users/javi/anaconda3/lib/python3.9/site-packages (from pandas) (1.25.2)\n",
      "Requirement already satisfied: pycparser in /Users/javi/anaconda3/lib/python3.9/site-packages (from cffi>=1.10.0->rpy2) (2.21)\n",
      "Requirement already satisfied: six>=1.5 in /Users/javi/anaconda3/lib/python3.9/site-packages (from python-dateutil>=2.8.2->pandas) (1.16.0)\n",
      "Requirement already satisfied: MarkupSafe>=2.0 in /Users/javi/anaconda3/lib/python3.9/site-packages (from jinja2->rpy2) (2.1.3)\n"
     ]
    }
   ],
   "source": [
    "!pip install rpy2 pandas"
   ]
  },
  {
   "cell_type": "code",
   "execution_count": 3,
   "id": "f7016d39-dd21-4f63-aa19-8b07d94b115b",
   "metadata": {},
   "outputs": [],
   "source": [
    "import rpy2.robjects as robjects\n",
    "from rpy2.robjects import pandas2ri\n",
    "from rpy2.robjects.conversion import localconverter"
   ]
  },
  {
   "cell_type": "code",
   "execution_count": 4,
   "id": "b9decd69-a011-4308-a7a4-ba4765a8eee7",
   "metadata": {},
   "outputs": [],
   "source": [
    "pandas2ri.activate()\n",
    "readRDS = robjects.r['readRDS']"
   ]
  },
  {
   "cell_type": "code",
   "execution_count": 5,
   "id": "cad355b7-e9db-42a8-bb0d-b8c39efa75bb",
   "metadata": {},
   "outputs": [],
   "source": [
    "r_data = readRDS('Training_Data/master_processed_training_data.RDS')"
   ]
  },
  {
   "cell_type": "code",
   "execution_count": 6,
   "id": "62da6c8a-2b88-4a54-9978-207de9c87ba1",
   "metadata": {},
   "outputs": [],
   "source": [
    "with localconverter(robjects.default_converter + pandas2ri.converter):\n",
    "    data = robjects.conversion.rpy2py(r_data)"
   ]
  },
  {
   "cell_type": "code",
   "execution_count": 8,
   "id": "49b160a3-a5fb-4b74-8d9e-301b427e4533",
   "metadata": {},
   "outputs": [
    {
     "data": {
      "text/plain": [
       "('subject_specimen',\n",
       " 'abtiter_wide',\n",
       " 'plasma_cytokine_concentrations',\n",
       " 'pbmc_cell_frequency',\n",
       " 'pbmc_gene_expression')"
      ]
     },
     "execution_count": 8,
     "metadata": {},
     "output_type": "execute_result"
    }
   ],
   "source": [
    "data.keys()"
   ]
  },
  {
   "cell_type": "code",
   "execution_count": 10,
   "id": "57934719-7042-4745-9065-f2b89238ec51",
   "metadata": {},
   "outputs": [
    {
     "data": {
      "text/plain": [
       "('metadata', 'raw_data', 'normalized_data', 'batchCorrected_data')"
      ]
     },
     "execution_count": 10,
     "metadata": {},
     "output_type": "execute_result"
    }
   ],
   "source": [
    "data['abtiter_wide'].keys()"
   ]
  },
  {
   "cell_type": "code",
   "execution_count": 11,
   "id": "dce9a7ed-eed3-4cb8-9082-bb5b356bd556",
   "metadata": {
    "tags": []
   },
   "outputs": [],
   "source": [
    "abtiter = data['abtiter_wide']['raw_data']"
   ]
  },
  {
   "cell_type": "code",
   "execution_count": 16,
   "id": "3265a6ac-bb40-43e6-8f4f-aff1834612b2",
   "metadata": {},
   "outputs": [
    {
     "data": {
      "text/plain": [
       "1        1.0\n",
       "2       19.0\n",
       "3       27.0\n",
       "4       37.0\n",
       "5       45.0\n",
       "       ...  \n",
       "621    725.0\n",
       "622    726.0\n",
       "623    727.0\n",
       "624    728.0\n",
       "625    729.0\n",
       "Name: specimen_id, Length: 625, dtype: float64"
      ]
     },
     "execution_count": 16,
     "metadata": {},
     "output_type": "execute_result"
    }
   ],
   "source": [
    "abtiter['specimen_id']"
   ]
  },
  {
   "cell_type": "code",
   "execution_count": null,
   "id": "da4260b7-9cdd-41bb-a06a-dcf407a58c3c",
   "metadata": {
    "tags": []
   },
   "outputs": [],
   "source": []
  },
  {
   "cell_type": "code",
   "execution_count": null,
   "id": "f5fe1725-205d-4d1d-a8c6-46fdf393f55a",
   "metadata": {},
   "outputs": [],
   "source": []
  },
  {
   "cell_type": "code",
   "execution_count": null,
   "id": "a7516a4f-c312-4e5f-833c-a2b6734749bb",
   "metadata": {},
   "outputs": [],
   "source": []
  },
  {
   "cell_type": "code",
   "execution_count": null,
   "id": "7664fa1d-700f-481a-afc8-9af015acd57d",
   "metadata": {},
   "outputs": [],
   "source": []
  },
  {
   "cell_type": "code",
   "execution_count": null,
   "id": "2c9737f8-72ec-43b0-b557-38962a4f2a28",
   "metadata": {},
   "outputs": [],
   "source": []
  }
 ],
 "metadata": {
  "kernelspec": {
   "display_name": "Python 3 (ipykernel)",
   "language": "python",
   "name": "python3"
  },
  "language_info": {
   "codemirror_mode": {
    "name": "ipython",
    "version": 3
   },
   "file_extension": ".py",
   "mimetype": "text/x-python",
   "name": "python",
   "nbconvert_exporter": "python",
   "pygments_lexer": "ipython3",
   "version": "3.9.18"
  }
 },
 "nbformat": 4,
 "nbformat_minor": 5
}
