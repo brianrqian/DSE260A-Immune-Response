{
 "cells": [
  {
   "cell_type": "code",
   "execution_count": 139,
   "id": "ead456a5-e9af-4c09-831c-72fd098c406d",
   "metadata": {
    "tags": []
   },
   "outputs": [],
   "source": [
    "import pandas as pd\n",
    "import numpy as np\n",
    "import mygene\n",
    "import seaborn as sns\n",
    "from scipy.stats import randint\n",
    "import matplotlib.pyplot as plt\n",
    "\n",
    "from sklearn.preprocessing import Normalizer\n",
    "from sklearn.preprocessing import OneHotEncoder\n",
    "from sklearn.preprocessing import StandardScaler\n",
    "\n",
    "from sklearn.linear_model import LogisticRegression\n",
    "from sklearn.linear_model import LinearRegression\n",
    "from sklearn.linear_model import Lasso, Ridge, ElasticNet\n",
    "from sklearn.neighbors import KNeighborsRegressor\n",
    "from sklearn.tree import DecisionTreeRegressor\n",
    "from xgboost import XGBClassifier\n",
    "from sklearn.ensemble import RandomForestRegressor, GradientBoostingRegressor\n",
    "from sklearn.svm import SVR\n",
    "\n",
    "from sklearn.feature_selection import SelectKBest, f_regression, mutual_info_regression, r_regression\n",
    "from sklearn.model_selection import RandomizedSearchCV, train_test_split\n",
    "from sklearn.metrics import mean_squared_error, mean_absolute_error, r2_score\n",
    "from sklearn.metrics import accuracy_score, confusion_matrix, precision_score, recall_score, ConfusionMatrixDisplay"
   ]
  },
  {
   "cell_type": "code",
   "execution_count": 140,
   "id": "58e34b56-401b-4649-b979-2d8e96625f96",
   "metadata": {
    "tags": []
   },
   "outputs": [],
   "source": [
    "## Load data into dataframes\n",
    "df_2020_titer = pd.read_csv(\"https://www.cmi-pb.org/downloads/cmipb_challenge_datasets/current/2nd_challenge/raw_datasets/training_data/2020LD_plasma_ab_titer.tsv\", sep='\\t')\n",
    "df_2020_gene = pd.read_csv(\"https://www.cmi-pb.org/downloads/cmipb_challenge_datasets/current/2nd_challenge/raw_datasets/training_data/2020LD_pbmc_gene_expression.tsv\", sep='\\t')\n",
    "df_2020_specimen = pd.read_csv(\"https://www.cmi-pb.org/downloads/cmipb_challenge_datasets/current/2nd_challenge/raw_datasets/training_data/2020LD_specimen.tsv\", sep='\\t')\n",
    "df_2020_subject = pd.read_csv(\"https://www.cmi-pb.org/downloads/cmipb_challenge_datasets/current/2nd_challenge/raw_datasets/training_data/2020LD_subject.tsv\", sep='\\t')\n",
    "df_2021_titer = pd.read_csv(\"https://www.cmi-pb.org/downloads/cmipb_challenge_datasets/current/2nd_challenge/raw_datasets/training_data/2021LD_plasma_ab_titer.tsv\", sep='\\t')\n",
    "df_2021_gene = pd.read_csv(\"https://www.cmi-pb.org/downloads/cmipb_challenge_datasets/current/2nd_challenge/raw_datasets/training_data/2021LD_pbmc_gene_expression.tsv\", sep='\\t')\n",
    "df_2021_specimen = pd.read_csv(\"https://www.cmi-pb.org/downloads/cmipb_challenge_datasets/current/2nd_challenge/raw_datasets/training_data/2021LD_specimen.tsv\", sep='\\t')\n",
    "df_2021_subject = pd.read_csv(\"https://www.cmi-pb.org/downloads/cmipb_challenge_datasets/current/2nd_challenge/raw_datasets/training_data/2021LD_subject.tsv\", sep='\\t')\n",
    "df_2022_titer = pd.read_csv(\"https://www.cmi-pb.org/downloads/cmipb_challenge_datasets/current/2nd_challenge/raw_datasets/prediction_data/2022BD_plasma_ab_titer.tsv\", sep='\\t')\n",
    "df_2022_gene = pd.read_csv(\"https://www.cmi-pb.org/downloads/cmipb_challenge_datasets/current/2nd_challenge/raw_datasets/prediction_data/2022BD_pbmc_gene_expression.tsv\", sep='\\t')\n",
    "df_2022_specimen = pd.read_csv(\"https://www.cmi-pb.org/downloads/cmipb_challenge_datasets/current/2nd_challenge/raw_datasets/prediction_data/2022BD_specimen.tsv\", sep='\\t')\n",
    "df_2022_subject = pd.read_csv(\"https://www.cmi-pb.org/downloads/cmipb_challenge_datasets/current/2nd_challenge/raw_datasets/prediction_data/2022BD_subject.tsv\", sep='\\t')"
   ]
  },
  {
   "cell_type": "markdown",
   "id": "7be9f9f4-58fb-458a-88a1-19b0f40f990a",
   "metadata": {},
   "source": [
    "## Load & Cleaning Dataset"
   ]
  },
  {
   "cell_type": "code",
   "execution_count": 141,
   "id": "5b366b29-76b1-401b-9747-6a340dc81a15",
   "metadata": {
    "tags": []
   },
   "outputs": [
    {
     "data": {
      "text/html": [
       "<div>\n",
       "<style scoped>\n",
       "    .dataframe tbody tr th:only-of-type {\n",
       "        vertical-align: middle;\n",
       "    }\n",
       "\n",
       "    .dataframe tbody tr th {\n",
       "        vertical-align: top;\n",
       "    }\n",
       "\n",
       "    .dataframe thead th {\n",
       "        text-align: right;\n",
       "    }\n",
       "</style>\n",
       "<table border=\"1\" class=\"dataframe\">\n",
       "  <thead>\n",
       "    <tr style=\"text-align: right;\">\n",
       "      <th></th>\n",
       "      <th>versioned_ensembl_gene_id</th>\n",
       "      <th>specimen_id</th>\n",
       "      <th>raw_count</th>\n",
       "      <th>tpm</th>\n",
       "    </tr>\n",
       "  </thead>\n",
       "  <tbody>\n",
       "    <tr>\n",
       "      <th>54882</th>\n",
       "      <td>ENSG00000277632.1</td>\n",
       "      <td>70</td>\n",
       "      <td>149</td>\n",
       "      <td>17.876</td>\n",
       "    </tr>\n",
       "    <tr>\n",
       "      <th>113184</th>\n",
       "      <td>ENSG00000277632.1</td>\n",
       "      <td>71</td>\n",
       "      <td>178</td>\n",
       "      <td>19.528</td>\n",
       "    </tr>\n",
       "    <tr>\n",
       "      <th>171486</th>\n",
       "      <td>ENSG00000277632.1</td>\n",
       "      <td>72</td>\n",
       "      <td>334</td>\n",
       "      <td>37.947</td>\n",
       "    </tr>\n",
       "    <tr>\n",
       "      <th>229788</th>\n",
       "      <td>ENSG00000277632.1</td>\n",
       "      <td>73</td>\n",
       "      <td>215</td>\n",
       "      <td>24.401</td>\n",
       "    </tr>\n",
       "    <tr>\n",
       "      <th>288090</th>\n",
       "      <td>ENSG00000277632.1</td>\n",
       "      <td>74</td>\n",
       "      <td>178</td>\n",
       "      <td>20.595</td>\n",
       "    </tr>\n",
       "    <tr>\n",
       "      <th>...</th>\n",
       "      <td>...</td>\n",
       "      <td>...</td>\n",
       "      <td>...</td>\n",
       "      <td>...</td>\n",
       "    </tr>\n",
       "    <tr>\n",
       "      <th>10257732</th>\n",
       "      <td>ENSG00000277632.1</td>\n",
       "      <td>369</td>\n",
       "      <td>1233</td>\n",
       "      <td>105.266</td>\n",
       "    </tr>\n",
       "    <tr>\n",
       "      <th>10316034</th>\n",
       "      <td>ENSG00000277632.1</td>\n",
       "      <td>370</td>\n",
       "      <td>319</td>\n",
       "      <td>141.176</td>\n",
       "    </tr>\n",
       "    <tr>\n",
       "      <th>10374336</th>\n",
       "      <td>ENSG00000277632.1</td>\n",
       "      <td>371</td>\n",
       "      <td>3997</td>\n",
       "      <td>379.064</td>\n",
       "    </tr>\n",
       "    <tr>\n",
       "      <th>10432638</th>\n",
       "      <td>ENSG00000277632.1</td>\n",
       "      <td>372</td>\n",
       "      <td>1319</td>\n",
       "      <td>134.483</td>\n",
       "    </tr>\n",
       "    <tr>\n",
       "      <th>10490940</th>\n",
       "      <td>ENSG00000277632.1</td>\n",
       "      <td>373</td>\n",
       "      <td>7559</td>\n",
       "      <td>775.902</td>\n",
       "    </tr>\n",
       "  </tbody>\n",
       "</table>\n",
       "<p>180 rows × 4 columns</p>\n",
       "</div>"
      ],
      "text/plain": [
       "         versioned_ensembl_gene_id  specimen_id  raw_count      tpm\n",
       "54882            ENSG00000277632.1           70        149   17.876\n",
       "113184           ENSG00000277632.1           71        178   19.528\n",
       "171486           ENSG00000277632.1           72        334   37.947\n",
       "229788           ENSG00000277632.1           73        215   24.401\n",
       "288090           ENSG00000277632.1           74        178   20.595\n",
       "...                            ...          ...        ...      ...\n",
       "10257732         ENSG00000277632.1          369       1233  105.266\n",
       "10316034         ENSG00000277632.1          370        319  141.176\n",
       "10374336         ENSG00000277632.1          371       3997  379.064\n",
       "10432638         ENSG00000277632.1          372       1319  134.483\n",
       "10490940         ENSG00000277632.1          373       7559  775.902\n",
       "\n",
       "[180 rows x 4 columns]"
      ]
     },
     "execution_count": 141,
     "metadata": {},
     "output_type": "execute_result"
    }
   ],
   "source": [
    "df_2020_gene[df_2020_gene['versioned_ensembl_gene_id'] == 'ENSG00000277632.1']"
   ]
  },
  {
   "cell_type": "code",
   "execution_count": 411,
   "id": "c077c998-c042-42c5-b6e6-adb132be2ede",
   "metadata": {
    "tags": []
   },
   "outputs": [],
   "source": [
    "## cleaning the titer data to only include IgG isotypes and PT antigens\n",
    "def clean_df_titer(df):\n",
    "    df.dropna(inplace=True)\n",
    "    \n",
    "    # extract row with IgG in the \"isotype\" column and PT in the \"antigen\" column\n",
    "    df = df[(df['isotype'] == 'IgG') & (df['antigen'] == 'PT')]\n",
    "    df = df[['specimen_id', 'MFI_normalised']].rename(columns={'MFI_normalised': 'IgG_PT'})\n",
    "    return df"
   ]
  },
  {
   "cell_type": "code",
   "execution_count": 412,
   "id": "ce9cb0aa-0d58-423b-8c57-59df51cea58d",
   "metadata": {
    "tags": []
   },
   "outputs": [],
   "source": [
    "## cleaning the subject/specimen dataset to get an age column\n",
    "def clean_df_subject(df):\n",
    "    \n",
    "    ## Get age column\n",
    "    df['year_of_birth'] = pd.to_numeric(df['year_of_birth'].str[:4])\n",
    "    df['date_of_boost'] = pd.to_numeric(df['date_of_boost'].str[:4])\n",
    "    df['age'] = df['date_of_boost'] - df['year_of_birth']\n",
    "    return df"
   ]
  },
  {
   "cell_type": "code",
   "execution_count": 413,
   "id": "6f507b79-cd19-46d1-bf45-a4cd7327ad5a",
   "metadata": {
    "tags": []
   },
   "outputs": [],
   "source": [
    "## cleaning the gene data to transform ensembl gene id to name\n",
    "def clean_df_gene(df):\n",
    "    df['versioned_ensembl_gene_id'] = df['versioned_ensembl_gene_id'].apply(lambda x: x.split('.')[0])\n",
    "    #mg = mygene.MyGeneInfo()\n",
    "    \n",
    "    # extract symbol and gene type from the versioned_ensembl_gene_id\n",
    "    #df['gene_symbol'] = df['versioned_ensembl_gene_id'].apply(lambda x : mg.getgene(x)['symbol'])\n",
    "    #df['gene_type'] = df['versioned_ensembl_gene_id'].apply(lambda x : mg.getgene(x)['type_of_gene'])\n",
    "    return df"
   ]
  },
  {
   "cell_type": "code",
   "execution_count": 414,
   "id": "7170821f-917b-4b28-97f5-65e38c101bb4",
   "metadata": {
    "tags": []
   },
   "outputs": [],
   "source": [
    "## concatenating 2020 and 2021 gene datasets\n",
    "genes = pd.concat([clean_df_gene(df_2020_gene),clean_df_gene(df_2021_gene)]).reset_index()\n",
    "genes_cols = genes.pivot_table(index=['specimen_id'], columns=['versioned_ensembl_gene_id'], values= 'tpm')#.reset_index()"
   ]
  },
  {
   "cell_type": "code",
   "execution_count": 415,
   "id": "86727ef4-1728-44f3-853d-2eebc6030651",
   "metadata": {
    "tags": []
   },
   "outputs": [],
   "source": [
    "## concatenating 2020 and 2021 titer datasets\n",
    "titers = pd.concat([clean_df_titer(df_2020_titer),clean_df_titer(df_2021_titer)])"
   ]
  },
  {
   "cell_type": "code",
   "execution_count": 416,
   "id": "e449eb8c-06e9-41ab-9307-e4ad889bf1d7",
   "metadata": {
    "tags": []
   },
   "outputs": [],
   "source": [
    "## concatenating 2020 and 2021 subject & specimen datasets\n",
    "subject = clean_df_subject(pd.concat([pd.merge(df_2020_specimen,df_2020_subject, on= 'subject_id'),\n",
    "pd.merge(df_2021_specimen,df_2021_subject, on= 'subject_id')],ignore_index=True))"
   ]
  },
  {
   "cell_type": "code",
   "execution_count": 417,
   "id": "1c214f43-d248-450d-9585-158cddf6f816",
   "metadata": {
    "tags": []
   },
   "outputs": [],
   "source": [
    "## merging the titer & subject/specimen datasets to one dataframe\n",
    "IgG_1 = subject.merge(titers, on='specimen_id')"
   ]
  },
  {
   "cell_type": "code",
   "execution_count": 418,
   "id": "f8660284-3317-406f-9bea-5a40c8993ece",
   "metadata": {
    "tags": []
   },
   "outputs": [],
   "source": [
    "## getting rid of unnecessary columns\n",
    "IgG_1 = IgG_1[['subject_id',\n",
    "           'specimen_id',\n",
    "           'infancy_vac',\n",
    "           'biological_sex',\n",
    "           'age',\n",
    "           'year_of_birth',\n",
    "           'date_of_boost',\n",
    "           'actual_day_relative_to_boost',\n",
    "           'planned_day_relative_to_boost',\n",
    "           'ethnicity',\n",
    "           'race',\n",
    "           'visit',\n",
    "           'IgG_PT']]"
   ]
  },
  {
   "cell_type": "code",
   "execution_count": 419,
   "id": "886c0179-0344-4304-a012-6d1c2d4fe27e",
   "metadata": {
    "tags": []
   },
   "outputs": [],
   "source": [
    "IgG = IgG_1.merge(genes_cols, on='specimen_id')"
   ]
  },
  {
   "cell_type": "code",
   "execution_count": 420,
   "id": "958d9787-45d6-44c9-b3d3-977fa1c6eef6",
   "metadata": {
    "tags": []
   },
   "outputs": [
    {
     "data": {
      "text/html": [
       "<div>\n",
       "<style scoped>\n",
       "    .dataframe tbody tr th:only-of-type {\n",
       "        vertical-align: middle;\n",
       "    }\n",
       "\n",
       "    .dataframe tbody tr th {\n",
       "        vertical-align: top;\n",
       "    }\n",
       "\n",
       "    .dataframe thead th {\n",
       "        text-align: right;\n",
       "    }\n",
       "</style>\n",
       "<table border=\"1\" class=\"dataframe\">\n",
       "  <thead>\n",
       "    <tr style=\"text-align: right;\">\n",
       "      <th></th>\n",
       "      <th>subject_id</th>\n",
       "      <th>specimen_id</th>\n",
       "      <th>infancy_vac</th>\n",
       "      <th>biological_sex</th>\n",
       "      <th>age</th>\n",
       "      <th>year_of_birth</th>\n",
       "      <th>date_of_boost</th>\n",
       "      <th>actual_day_relative_to_boost</th>\n",
       "      <th>planned_day_relative_to_boost</th>\n",
       "      <th>ethnicity</th>\n",
       "      <th>...</th>\n",
       "      <th>ENSG00000284739</th>\n",
       "      <th>ENSG00000284740</th>\n",
       "      <th>ENSG00000284741</th>\n",
       "      <th>ENSG00000284742</th>\n",
       "      <th>ENSG00000284743</th>\n",
       "      <th>ENSG00000284744</th>\n",
       "      <th>ENSG00000284745</th>\n",
       "      <th>ENSG00000284746</th>\n",
       "      <th>ENSG00000284747</th>\n",
       "      <th>ENSG00000284748</th>\n",
       "    </tr>\n",
       "  </thead>\n",
       "  <tbody>\n",
       "    <tr>\n",
       "      <th>0</th>\n",
       "      <td>1</td>\n",
       "      <td>1</td>\n",
       "      <td>wP</td>\n",
       "      <td>Female</td>\n",
       "      <td>30</td>\n",
       "      <td>1986</td>\n",
       "      <td>2016</td>\n",
       "      <td>-3</td>\n",
       "      <td>0</td>\n",
       "      <td>Not Hispanic or Latino</td>\n",
       "      <td>...</td>\n",
       "      <td>0.0</td>\n",
       "      <td>1.219</td>\n",
       "      <td>0.0</td>\n",
       "      <td>0.000</td>\n",
       "      <td>0.0</td>\n",
       "      <td>0.000</td>\n",
       "      <td>0.0</td>\n",
       "      <td>0.0</td>\n",
       "      <td>1.173</td>\n",
       "      <td>0.0</td>\n",
       "    </tr>\n",
       "    <tr>\n",
       "      <th>1</th>\n",
       "      <td>1</td>\n",
       "      <td>3</td>\n",
       "      <td>wP</td>\n",
       "      <td>Female</td>\n",
       "      <td>30</td>\n",
       "      <td>1986</td>\n",
       "      <td>2016</td>\n",
       "      <td>3</td>\n",
       "      <td>3</td>\n",
       "      <td>Not Hispanic or Latino</td>\n",
       "      <td>...</td>\n",
       "      <td>0.0</td>\n",
       "      <td>0.000</td>\n",
       "      <td>0.0</td>\n",
       "      <td>0.000</td>\n",
       "      <td>0.0</td>\n",
       "      <td>0.000</td>\n",
       "      <td>0.0</td>\n",
       "      <td>0.0</td>\n",
       "      <td>0.913</td>\n",
       "      <td>0.0</td>\n",
       "    </tr>\n",
       "    <tr>\n",
       "      <th>2</th>\n",
       "      <td>1</td>\n",
       "      <td>4</td>\n",
       "      <td>wP</td>\n",
       "      <td>Female</td>\n",
       "      <td>30</td>\n",
       "      <td>1986</td>\n",
       "      <td>2016</td>\n",
       "      <td>7</td>\n",
       "      <td>7</td>\n",
       "      <td>Not Hispanic or Latino</td>\n",
       "      <td>...</td>\n",
       "      <td>0.0</td>\n",
       "      <td>0.473</td>\n",
       "      <td>0.0</td>\n",
       "      <td>0.000</td>\n",
       "      <td>0.0</td>\n",
       "      <td>0.000</td>\n",
       "      <td>0.0</td>\n",
       "      <td>0.0</td>\n",
       "      <td>0.947</td>\n",
       "      <td>0.0</td>\n",
       "    </tr>\n",
       "    <tr>\n",
       "      <th>3</th>\n",
       "      <td>1</td>\n",
       "      <td>5</td>\n",
       "      <td>wP</td>\n",
       "      <td>Female</td>\n",
       "      <td>30</td>\n",
       "      <td>1986</td>\n",
       "      <td>2016</td>\n",
       "      <td>11</td>\n",
       "      <td>14</td>\n",
       "      <td>Not Hispanic or Latino</td>\n",
       "      <td>...</td>\n",
       "      <td>0.0</td>\n",
       "      <td>0.000</td>\n",
       "      <td>0.0</td>\n",
       "      <td>0.000</td>\n",
       "      <td>0.0</td>\n",
       "      <td>0.000</td>\n",
       "      <td>0.0</td>\n",
       "      <td>0.0</td>\n",
       "      <td>0.783</td>\n",
       "      <td>0.0</td>\n",
       "    </tr>\n",
       "    <tr>\n",
       "      <th>4</th>\n",
       "      <td>3</td>\n",
       "      <td>19</td>\n",
       "      <td>wP</td>\n",
       "      <td>Female</td>\n",
       "      <td>33</td>\n",
       "      <td>1983</td>\n",
       "      <td>2016</td>\n",
       "      <td>-3</td>\n",
       "      <td>0</td>\n",
       "      <td>Unknown</td>\n",
       "      <td>...</td>\n",
       "      <td>0.0</td>\n",
       "      <td>1.897</td>\n",
       "      <td>0.0</td>\n",
       "      <td>0.418</td>\n",
       "      <td>0.0</td>\n",
       "      <td>0.159</td>\n",
       "      <td>0.0</td>\n",
       "      <td>0.0</td>\n",
       "      <td>1.102</td>\n",
       "      <td>0.0</td>\n",
       "    </tr>\n",
       "  </tbody>\n",
       "</table>\n",
       "<p>5 rows × 58315 columns</p>\n",
       "</div>"
      ],
      "text/plain": [
       "   subject_id  specimen_id infancy_vac biological_sex  age  year_of_birth  \\\n",
       "0           1            1          wP         Female   30           1986   \n",
       "1           1            3          wP         Female   30           1986   \n",
       "2           1            4          wP         Female   30           1986   \n",
       "3           1            5          wP         Female   30           1986   \n",
       "4           3           19          wP         Female   33           1983   \n",
       "\n",
       "   date_of_boost  actual_day_relative_to_boost  planned_day_relative_to_boost  \\\n",
       "0           2016                            -3                              0   \n",
       "1           2016                             3                              3   \n",
       "2           2016                             7                              7   \n",
       "3           2016                            11                             14   \n",
       "4           2016                            -3                              0   \n",
       "\n",
       "                ethnicity  ... ENSG00000284739  ENSG00000284740  \\\n",
       "0  Not Hispanic or Latino  ...             0.0            1.219   \n",
       "1  Not Hispanic or Latino  ...             0.0            0.000   \n",
       "2  Not Hispanic or Latino  ...             0.0            0.473   \n",
       "3  Not Hispanic or Latino  ...             0.0            0.000   \n",
       "4                 Unknown  ...             0.0            1.897   \n",
       "\n",
       "   ENSG00000284741  ENSG00000284742  ENSG00000284743  ENSG00000284744  \\\n",
       "0              0.0            0.000              0.0            0.000   \n",
       "1              0.0            0.000              0.0            0.000   \n",
       "2              0.0            0.000              0.0            0.000   \n",
       "3              0.0            0.000              0.0            0.000   \n",
       "4              0.0            0.418              0.0            0.159   \n",
       "\n",
       "   ENSG00000284745  ENSG00000284746  ENSG00000284747  ENSG00000284748  \n",
       "0              0.0              0.0            1.173              0.0  \n",
       "1              0.0              0.0            0.913              0.0  \n",
       "2              0.0              0.0            0.947              0.0  \n",
       "3              0.0              0.0            0.783              0.0  \n",
       "4              0.0              0.0            1.102              0.0  \n",
       "\n",
       "[5 rows x 58315 columns]"
      ]
     },
     "execution_count": 420,
     "metadata": {},
     "output_type": "execute_result"
    }
   ],
   "source": [
    "IgG.head()"
   ]
  },
  {
   "cell_type": "code",
   "execution_count": 451,
   "id": "a08987f8-75f9-4d6d-9bab-e3b09cbc8a50",
   "metadata": {
    "tags": []
   },
   "outputs": [],
   "source": [
    "## getting separate rows for day 0 MFI_normalized results and day 14 MFI_normalized results for IgG_PT \n",
    "IgG_d14 = IgG[IgG['planned_day_relative_to_boost'] == 14.0]\n",
    "IgG_d0 = IgG[IgG['planned_day_relative_to_boost'] == 0.0][['subject_id', 'IgG_PT']]\n",
    "IgG_d0 = IgG_d0.rename(columns={'subject_id': 'subject_id', 'IgG_PT': 'IgG_PT_d0'})\n",
    "IgG_d14 = IgG_d14.merge(IgG_d0, on='subject_id')"
   ]
  },
  {
   "cell_type": "code",
   "execution_count": 452,
   "id": "6ef06b5c-eda8-469c-97ab-e9cd11c81de5",
   "metadata": {
    "tags": []
   },
   "outputs": [],
   "source": [
    "IgG_d14['infancy_vac'] = IgG_d14['infancy_vac'].map({'wP':0, 'aP':1})"
   ]
  },
  {
   "cell_type": "code",
   "execution_count": 453,
   "id": "040ad2e7-5ca4-4162-807a-803ca528988e",
   "metadata": {
    "tags": []
   },
   "outputs": [],
   "source": [
    "IgG_d14['biological_sex'] = IgG_d14['biological_sex'].map({'Female':0, 'Male':1})"
   ]
  },
  {
   "cell_type": "code",
   "execution_count": 454,
   "id": "3666b512-62c5-45d7-959a-8398c8934299",
   "metadata": {
    "tags": []
   },
   "outputs": [],
   "source": [
    "IgG_d14['ethnicity'] = IgG_d14['ethnicity'].map({'Not Hispanic or Latino':0, \n",
    "                                                   'Hispanic or Latino':1,\n",
    "                                                   'Unknown':2})"
   ]
  },
  {
   "cell_type": "code",
   "execution_count": 455,
   "id": "b3b21075-b252-40b4-bf8a-6573d101c4af",
   "metadata": {
    "tags": []
   },
   "outputs": [],
   "source": [
    "IgG_d14['race'] = IgG_d14['race'].map({'White':0, \n",
    "                                       'Asian':1,\n",
    "                                       'Unknown or Not Reported': 2,\n",
    "                                       'More Than One Race': 2,\n",
    "                                       'Black or African American': 3,\n",
    "                                       'Native Hawaiian or Other Pacific Islander': 4,\n",
    "                                       'American Indian/Alaska Native':5\n",
    "                                      })"
   ]
  },
  {
   "cell_type": "code",
   "execution_count": 456,
   "id": "268e18fb-d3b5-4017-9639-19f595b195e5",
   "metadata": {
    "tags": []
   },
   "outputs": [
    {
     "data": {
      "text/html": [
       "<div>\n",
       "<style scoped>\n",
       "    .dataframe tbody tr th:only-of-type {\n",
       "        vertical-align: middle;\n",
       "    }\n",
       "\n",
       "    .dataframe tbody tr th {\n",
       "        vertical-align: top;\n",
       "    }\n",
       "\n",
       "    .dataframe thead th {\n",
       "        text-align: right;\n",
       "    }\n",
       "</style>\n",
       "<table border=\"1\" class=\"dataframe\">\n",
       "  <thead>\n",
       "    <tr style=\"text-align: right;\">\n",
       "      <th></th>\n",
       "      <th>subject_id</th>\n",
       "      <th>specimen_id</th>\n",
       "      <th>infancy_vac</th>\n",
       "      <th>biological_sex</th>\n",
       "      <th>age</th>\n",
       "      <th>year_of_birth</th>\n",
       "      <th>date_of_boost</th>\n",
       "      <th>actual_day_relative_to_boost</th>\n",
       "      <th>planned_day_relative_to_boost</th>\n",
       "      <th>ethnicity</th>\n",
       "      <th>...</th>\n",
       "      <th>ENSG00000284740</th>\n",
       "      <th>ENSG00000284741</th>\n",
       "      <th>ENSG00000284742</th>\n",
       "      <th>ENSG00000284743</th>\n",
       "      <th>ENSG00000284744</th>\n",
       "      <th>ENSG00000284745</th>\n",
       "      <th>ENSG00000284746</th>\n",
       "      <th>ENSG00000284747</th>\n",
       "      <th>ENSG00000284748</th>\n",
       "      <th>IgG_PT_d0</th>\n",
       "    </tr>\n",
       "  </thead>\n",
       "  <tbody>\n",
       "    <tr>\n",
       "      <th>0</th>\n",
       "      <td>1</td>\n",
       "      <td>5</td>\n",
       "      <td>0</td>\n",
       "      <td>0</td>\n",
       "      <td>30</td>\n",
       "      <td>1986</td>\n",
       "      <td>2016</td>\n",
       "      <td>11</td>\n",
       "      <td>14</td>\n",
       "      <td>0</td>\n",
       "      <td>...</td>\n",
       "      <td>0.000</td>\n",
       "      <td>0.0</td>\n",
       "      <td>0.0</td>\n",
       "      <td>0.0</td>\n",
       "      <td>0.0</td>\n",
       "      <td>0.0</td>\n",
       "      <td>0.0</td>\n",
       "      <td>0.783</td>\n",
       "      <td>0.0</td>\n",
       "      <td>3.736992</td>\n",
       "    </tr>\n",
       "    <tr>\n",
       "      <th>1</th>\n",
       "      <td>3</td>\n",
       "      <td>23</td>\n",
       "      <td>0</td>\n",
       "      <td>0</td>\n",
       "      <td>33</td>\n",
       "      <td>1983</td>\n",
       "      <td>2016</td>\n",
       "      <td>14</td>\n",
       "      <td>14</td>\n",
       "      <td>2</td>\n",
       "      <td>...</td>\n",
       "      <td>1.362</td>\n",
       "      <td>0.0</td>\n",
       "      <td>0.0</td>\n",
       "      <td>0.0</td>\n",
       "      <td>0.0</td>\n",
       "      <td>0.0</td>\n",
       "      <td>0.0</td>\n",
       "      <td>1.383</td>\n",
       "      <td>0.0</td>\n",
       "      <td>1.096366</td>\n",
       "    </tr>\n",
       "    <tr>\n",
       "      <th>2</th>\n",
       "      <td>4</td>\n",
       "      <td>31</td>\n",
       "      <td>0</td>\n",
       "      <td>1</td>\n",
       "      <td>28</td>\n",
       "      <td>1988</td>\n",
       "      <td>2016</td>\n",
       "      <td>14</td>\n",
       "      <td>14</td>\n",
       "      <td>0</td>\n",
       "      <td>...</td>\n",
       "      <td>0.249</td>\n",
       "      <td>0.0</td>\n",
       "      <td>0.0</td>\n",
       "      <td>0.0</td>\n",
       "      <td>0.0</td>\n",
       "      <td>0.0</td>\n",
       "      <td>0.0</td>\n",
       "      <td>0.839</td>\n",
       "      <td>0.0</td>\n",
       "      <td>2.046671</td>\n",
       "    </tr>\n",
       "    <tr>\n",
       "      <th>3</th>\n",
       "      <td>5</td>\n",
       "      <td>41</td>\n",
       "      <td>0</td>\n",
       "      <td>1</td>\n",
       "      <td>25</td>\n",
       "      <td>1991</td>\n",
       "      <td>2016</td>\n",
       "      <td>14</td>\n",
       "      <td>14</td>\n",
       "      <td>0</td>\n",
       "      <td>...</td>\n",
       "      <td>0.000</td>\n",
       "      <td>0.0</td>\n",
       "      <td>0.0</td>\n",
       "      <td>0.0</td>\n",
       "      <td>0.0</td>\n",
       "      <td>0.0</td>\n",
       "      <td>0.0</td>\n",
       "      <td>0.279</td>\n",
       "      <td>0.0</td>\n",
       "      <td>3.798007</td>\n",
       "    </tr>\n",
       "    <tr>\n",
       "      <th>4</th>\n",
       "      <td>6</td>\n",
       "      <td>49</td>\n",
       "      <td>0</td>\n",
       "      <td>0</td>\n",
       "      <td>28</td>\n",
       "      <td>1988</td>\n",
       "      <td>2016</td>\n",
       "      <td>14</td>\n",
       "      <td>14</td>\n",
       "      <td>0</td>\n",
       "      <td>...</td>\n",
       "      <td>0.619</td>\n",
       "      <td>0.0</td>\n",
       "      <td>0.0</td>\n",
       "      <td>0.0</td>\n",
       "      <td>0.0</td>\n",
       "      <td>0.0</td>\n",
       "      <td>0.0</td>\n",
       "      <td>0.727</td>\n",
       "      <td>0.0</td>\n",
       "      <td>0.213328</td>\n",
       "    </tr>\n",
       "  </tbody>\n",
       "</table>\n",
       "<p>5 rows × 58316 columns</p>\n",
       "</div>"
      ],
      "text/plain": [
       "   subject_id  specimen_id  infancy_vac  biological_sex  age  year_of_birth  \\\n",
       "0           1            5            0               0   30           1986   \n",
       "1           3           23            0               0   33           1983   \n",
       "2           4           31            0               1   28           1988   \n",
       "3           5           41            0               1   25           1991   \n",
       "4           6           49            0               0   28           1988   \n",
       "\n",
       "   date_of_boost  actual_day_relative_to_boost  planned_day_relative_to_boost  \\\n",
       "0           2016                            11                             14   \n",
       "1           2016                            14                             14   \n",
       "2           2016                            14                             14   \n",
       "3           2016                            14                             14   \n",
       "4           2016                            14                             14   \n",
       "\n",
       "   ethnicity  ...  ENSG00000284740  ENSG00000284741  ENSG00000284742  \\\n",
       "0          0  ...            0.000              0.0              0.0   \n",
       "1          2  ...            1.362              0.0              0.0   \n",
       "2          0  ...            0.249              0.0              0.0   \n",
       "3          0  ...            0.000              0.0              0.0   \n",
       "4          0  ...            0.619              0.0              0.0   \n",
       "\n",
       "   ENSG00000284743  ENSG00000284744  ENSG00000284745  ENSG00000284746  \\\n",
       "0              0.0              0.0              0.0              0.0   \n",
       "1              0.0              0.0              0.0              0.0   \n",
       "2              0.0              0.0              0.0              0.0   \n",
       "3              0.0              0.0              0.0              0.0   \n",
       "4              0.0              0.0              0.0              0.0   \n",
       "\n",
       "   ENSG00000284747  ENSG00000284748  IgG_PT_d0  \n",
       "0            0.783              0.0   3.736992  \n",
       "1            1.383              0.0   1.096366  \n",
       "2            0.839              0.0   2.046671  \n",
       "3            0.279              0.0   3.798007  \n",
       "4            0.727              0.0   0.213328  \n",
       "\n",
       "[5 rows x 58316 columns]"
      ]
     },
     "execution_count": 456,
     "metadata": {},
     "output_type": "execute_result"
    }
   ],
   "source": [
    "IgG_d14.head()"
   ]
  },
  {
   "cell_type": "code",
   "execution_count": 457,
   "id": "b7dd145d-ed28-4992-a1d7-761104334326",
   "metadata": {
    "tags": []
   },
   "outputs": [],
   "source": [
    "X = IgG_d14.drop('IgG_PT', axis = 1)\n",
    "y = IgG_d14['IgG_PT']"
   ]
  },
  {
   "cell_type": "code",
   "execution_count": 458,
   "id": "7e85d71a-c399-455c-b2cb-4d28b05184ea",
   "metadata": {
    "tags": []
   },
   "outputs": [
    {
     "data": {
      "text/plain": [
       "Index(['subject_id', 'specimen_id', 'infancy_vac', 'biological_sex', 'age',\n",
       "       'year_of_birth', 'date_of_boost', 'actual_day_relative_to_boost',\n",
       "       'planned_day_relative_to_boost', 'ethnicity',\n",
       "       ...\n",
       "       'ENSG00000284740', 'ENSG00000284741', 'ENSG00000284742',\n",
       "       'ENSG00000284743', 'ENSG00000284744', 'ENSG00000284745',\n",
       "       'ENSG00000284746', 'ENSG00000284747', 'ENSG00000284748', 'IgG_PT_d0'],\n",
       "      dtype='object', length=58315)"
      ]
     },
     "execution_count": 458,
     "metadata": {},
     "output_type": "execute_result"
    }
   ],
   "source": [
    "X.columns"
   ]
  },
  {
   "cell_type": "code",
   "execution_count": 459,
   "id": "6af5da1b-d4dd-4010-9d9e-da5a66b4a12a",
   "metadata": {
    "tags": []
   },
   "outputs": [
    {
     "name": "stdout",
     "output_type": "stream",
     "text": [
      "              Features     Score\n",
      "7122   ENSG00000135549  0.465116\n",
      "5867   ENSG00000126785  0.462203\n",
      "23592  ENSG00000218347  0.450168\n",
      "23571  ENSG00000218180  0.447536\n",
      "6306   ENSG00000130590  0.435955\n",
      "...                ...       ...\n",
      "2489   ENSG00000101230  0.348231\n",
      "39042  ENSG00000250158  0.348163\n",
      "32793  ENSG00000235169  0.347635\n",
      "22145  ENSG00000213025  0.347531\n",
      "7517   ENSG00000137672  0.347262\n",
      "\n",
      "[100 rows x 2 columns]\n"
     ]
    }
   ],
   "source": [
    "#apply SelectKBest class to extract top 10 best features\n",
    "bestfeatures = SelectKBest(score_func=r_regression, k=10)\n",
    "fit = bestfeatures.fit(X,y)\n",
    "dfscores = pd.DataFrame(fit.scores_)\n",
    "dfcolumns = pd.DataFrame(X.columns)\n",
    "\n",
    "#concat two dataframes for better visualization \n",
    "featureScores = pd.concat([dfcolumns,dfscores],axis=1)\n",
    "featureScores.columns = ['Features','Score']  #naming the dataframe columns\n",
    "print(featureScores.nlargest(100,'Score'))  #print 10 best features"
   ]
  },
  {
   "cell_type": "code",
   "execution_count": 460,
   "id": "28158310-c353-4cdb-9fd6-20106a5f720b",
   "metadata": {
    "tags": []
   },
   "outputs": [
    {
     "data": {
      "text/html": [
       "<div>\n",
       "<style scoped>\n",
       "    .dataframe tbody tr th:only-of-type {\n",
       "        vertical-align: middle;\n",
       "    }\n",
       "\n",
       "    .dataframe tbody tr th {\n",
       "        vertical-align: top;\n",
       "    }\n",
       "\n",
       "    .dataframe thead th {\n",
       "        text-align: right;\n",
       "    }\n",
       "</style>\n",
       "<table border=\"1\" class=\"dataframe\">\n",
       "  <thead>\n",
       "    <tr style=\"text-align: right;\">\n",
       "      <th></th>\n",
       "      <th>Features</th>\n",
       "      <th>Score</th>\n",
       "    </tr>\n",
       "  </thead>\n",
       "  <tbody>\n",
       "    <tr>\n",
       "      <th>0</th>\n",
       "      <td>ENSG00000135549</td>\n",
       "      <td>0.465116</td>\n",
       "    </tr>\n",
       "    <tr>\n",
       "      <th>1</th>\n",
       "      <td>ENSG00000126785</td>\n",
       "      <td>0.462203</td>\n",
       "    </tr>\n",
       "    <tr>\n",
       "      <th>2</th>\n",
       "      <td>ENSG00000218347</td>\n",
       "      <td>0.450168</td>\n",
       "    </tr>\n",
       "    <tr>\n",
       "      <th>3</th>\n",
       "      <td>ENSG00000218180</td>\n",
       "      <td>0.447536</td>\n",
       "    </tr>\n",
       "    <tr>\n",
       "      <th>4</th>\n",
       "      <td>ENSG00000130590</td>\n",
       "      <td>0.435955</td>\n",
       "    </tr>\n",
       "    <tr>\n",
       "      <th>5</th>\n",
       "      <td>ENSG00000221055</td>\n",
       "      <td>0.434074</td>\n",
       "    </tr>\n",
       "    <tr>\n",
       "      <th>6</th>\n",
       "      <td>ENSG00000223592</td>\n",
       "      <td>0.422764</td>\n",
       "    </tr>\n",
       "    <tr>\n",
       "      <th>7</th>\n",
       "      <td>ENSG00000267204</td>\n",
       "      <td>0.416640</td>\n",
       "    </tr>\n",
       "  </tbody>\n",
       "</table>\n",
       "</div>"
      ],
      "text/plain": [
       "          Features     Score\n",
       "0  ENSG00000135549  0.465116\n",
       "1  ENSG00000126785  0.462203\n",
       "2  ENSG00000218347  0.450168\n",
       "3  ENSG00000218180  0.447536\n",
       "4  ENSG00000130590  0.435955\n",
       "5  ENSG00000221055  0.434074\n",
       "6  ENSG00000223592  0.422764\n",
       "7  ENSG00000267204  0.416640"
      ]
     },
     "execution_count": 460,
     "metadata": {},
     "output_type": "execute_result"
    }
   ],
   "source": [
    "featureScores.sort_values(by=['Score'], ascending = False).reset_index(drop=True).head(8)"
   ]
  },
  {
   "cell_type": "code",
   "execution_count": 461,
   "id": "45a11d4c-31e8-4c83-9b81-d5901cabdadc",
   "metadata": {
    "tags": []
   },
   "outputs": [
    {
     "data": {
      "text/html": [
       "<div>\n",
       "<style scoped>\n",
       "    .dataframe tbody tr th:only-of-type {\n",
       "        vertical-align: middle;\n",
       "    }\n",
       "\n",
       "    .dataframe tbody tr th {\n",
       "        vertical-align: top;\n",
       "    }\n",
       "\n",
       "    .dataframe thead th {\n",
       "        text-align: right;\n",
       "    }\n",
       "</style>\n",
       "<table border=\"1\" class=\"dataframe\">\n",
       "  <thead>\n",
       "    <tr style=\"text-align: right;\">\n",
       "      <th></th>\n",
       "      <th>Features</th>\n",
       "      <th>Score</th>\n",
       "    </tr>\n",
       "  </thead>\n",
       "  <tbody>\n",
       "    <tr>\n",
       "      <th>0</th>\n",
       "      <td>ENSG00000135549</td>\n",
       "      <td>0.465116</td>\n",
       "    </tr>\n",
       "    <tr>\n",
       "      <th>1</th>\n",
       "      <td>ENSG00000126785</td>\n",
       "      <td>0.462203</td>\n",
       "    </tr>\n",
       "    <tr>\n",
       "      <th>2</th>\n",
       "      <td>ENSG00000218347</td>\n",
       "      <td>0.450168</td>\n",
       "    </tr>\n",
       "    <tr>\n",
       "      <th>3</th>\n",
       "      <td>ENSG00000218180</td>\n",
       "      <td>0.447536</td>\n",
       "    </tr>\n",
       "    <tr>\n",
       "      <th>4</th>\n",
       "      <td>ENSG00000130590</td>\n",
       "      <td>0.435955</td>\n",
       "    </tr>\n",
       "    <tr>\n",
       "      <th>5</th>\n",
       "      <td>ENSG00000221055</td>\n",
       "      <td>0.434074</td>\n",
       "    </tr>\n",
       "    <tr>\n",
       "      <th>6</th>\n",
       "      <td>ENSG00000223592</td>\n",
       "      <td>0.422764</td>\n",
       "    </tr>\n",
       "    <tr>\n",
       "      <th>7</th>\n",
       "      <td>ENSG00000267204</td>\n",
       "      <td>0.416640</td>\n",
       "    </tr>\n",
       "    <tr>\n",
       "      <th>8</th>\n",
       "      <td>ENSG00000254336</td>\n",
       "      <td>0.416434</td>\n",
       "    </tr>\n",
       "    <tr>\n",
       "      <th>9</th>\n",
       "      <td>ENSG00000267233</td>\n",
       "      <td>0.416377</td>\n",
       "    </tr>\n",
       "  </tbody>\n",
       "</table>\n",
       "</div>"
      ],
      "text/plain": [
       "          Features     Score\n",
       "0  ENSG00000135549  0.465116\n",
       "1  ENSG00000126785  0.462203\n",
       "2  ENSG00000218347  0.450168\n",
       "3  ENSG00000218180  0.447536\n",
       "4  ENSG00000130590  0.435955\n",
       "5  ENSG00000221055  0.434074\n",
       "6  ENSG00000223592  0.422764\n",
       "7  ENSG00000267204  0.416640\n",
       "8  ENSG00000254336  0.416434\n",
       "9  ENSG00000267233  0.416377"
      ]
     },
     "execution_count": 461,
     "metadata": {},
     "output_type": "execute_result"
    }
   ],
   "source": [
    "featureScores.sort_values(by=['Score'], ascending = False).reset_index(drop=True).head(10)"
   ]
  },
  {
   "cell_type": "code",
   "execution_count": 462,
   "id": "47f9fbaa-2d6f-4b5c-9377-168f66338962",
   "metadata": {
    "tags": []
   },
   "outputs": [
    {
     "data": {
      "text/html": [
       "<div>\n",
       "<style scoped>\n",
       "    .dataframe tbody tr th:only-of-type {\n",
       "        vertical-align: middle;\n",
       "    }\n",
       "\n",
       "    .dataframe tbody tr th {\n",
       "        vertical-align: top;\n",
       "    }\n",
       "\n",
       "    .dataframe thead th {\n",
       "        text-align: right;\n",
       "    }\n",
       "</style>\n",
       "<table border=\"1\" class=\"dataframe\">\n",
       "  <thead>\n",
       "    <tr style=\"text-align: right;\">\n",
       "      <th></th>\n",
       "      <th>age</th>\n",
       "      <th>IgG_PT</th>\n",
       "      <th>ENSG00000126785</th>\n",
       "      <th>ENSG00000130590</th>\n",
       "      <th>ENSG00000135549</th>\n",
       "      <th>ENSG00000218180</th>\n",
       "      <th>ENSG00000218347</th>\n",
       "      <th>ENSG00000221055</th>\n",
       "      <th>ENSG00000223592</th>\n",
       "      <th>ENSG00000267204</th>\n",
       "      <th>IgG_PT_d0</th>\n",
       "    </tr>\n",
       "  </thead>\n",
       "  <tbody>\n",
       "    <tr>\n",
       "      <th>0</th>\n",
       "      <td>30</td>\n",
       "      <td>10.874112</td>\n",
       "      <td>0.0</td>\n",
       "      <td>14.309</td>\n",
       "      <td>0.522</td>\n",
       "      <td>0.0</td>\n",
       "      <td>0.000</td>\n",
       "      <td>0.000</td>\n",
       "      <td>0.000</td>\n",
       "      <td>0.0</td>\n",
       "      <td>3.736992</td>\n",
       "    </tr>\n",
       "    <tr>\n",
       "      <th>1</th>\n",
       "      <td>33</td>\n",
       "      <td>7.041547</td>\n",
       "      <td>0.0</td>\n",
       "      <td>18.931</td>\n",
       "      <td>0.306</td>\n",
       "      <td>0.0</td>\n",
       "      <td>0.000</td>\n",
       "      <td>0.000</td>\n",
       "      <td>0.000</td>\n",
       "      <td>0.0</td>\n",
       "      <td>1.096366</td>\n",
       "    </tr>\n",
       "    <tr>\n",
       "      <th>2</th>\n",
       "      <td>28</td>\n",
       "      <td>7.896541</td>\n",
       "      <td>0.0</td>\n",
       "      <td>11.868</td>\n",
       "      <td>0.240</td>\n",
       "      <td>0.0</td>\n",
       "      <td>0.000</td>\n",
       "      <td>0.000</td>\n",
       "      <td>0.142</td>\n",
       "      <td>0.0</td>\n",
       "      <td>2.046671</td>\n",
       "    </tr>\n",
       "    <tr>\n",
       "      <th>3</th>\n",
       "      <td>25</td>\n",
       "      <td>5.327203</td>\n",
       "      <td>0.0</td>\n",
       "      <td>6.479</td>\n",
       "      <td>0.239</td>\n",
       "      <td>0.0</td>\n",
       "      <td>0.000</td>\n",
       "      <td>0.000</td>\n",
       "      <td>0.000</td>\n",
       "      <td>0.0</td>\n",
       "      <td>3.798007</td>\n",
       "    </tr>\n",
       "    <tr>\n",
       "      <th>4</th>\n",
       "      <td>28</td>\n",
       "      <td>9.128886</td>\n",
       "      <td>0.0</td>\n",
       "      <td>16.864</td>\n",
       "      <td>0.714</td>\n",
       "      <td>0.0</td>\n",
       "      <td>0.000</td>\n",
       "      <td>0.986</td>\n",
       "      <td>0.000</td>\n",
       "      <td>0.0</td>\n",
       "      <td>0.213328</td>\n",
       "    </tr>\n",
       "    <tr>\n",
       "      <th>...</th>\n",
       "      <td>...</td>\n",
       "      <td>...</td>\n",
       "      <td>...</td>\n",
       "      <td>...</td>\n",
       "      <td>...</td>\n",
       "      <td>...</td>\n",
       "      <td>...</td>\n",
       "      <td>...</td>\n",
       "      <td>...</td>\n",
       "      <td>...</td>\n",
       "      <td>...</td>\n",
       "    </tr>\n",
       "    <tr>\n",
       "      <th>64</th>\n",
       "      <td>19</td>\n",
       "      <td>3.350333</td>\n",
       "      <td>0.0</td>\n",
       "      <td>21.372</td>\n",
       "      <td>0.634</td>\n",
       "      <td>0.0</td>\n",
       "      <td>0.000</td>\n",
       "      <td>0.000</td>\n",
       "      <td>0.000</td>\n",
       "      <td>0.0</td>\n",
       "      <td>0.179601</td>\n",
       "    </tr>\n",
       "    <tr>\n",
       "      <th>65</th>\n",
       "      <td>23</td>\n",
       "      <td>5.722838</td>\n",
       "      <td>0.0</td>\n",
       "      <td>24.485</td>\n",
       "      <td>0.280</td>\n",
       "      <td>0.0</td>\n",
       "      <td>0.000</td>\n",
       "      <td>0.000</td>\n",
       "      <td>0.000</td>\n",
       "      <td>0.0</td>\n",
       "      <td>1.984479</td>\n",
       "    </tr>\n",
       "    <tr>\n",
       "      <th>66</th>\n",
       "      <td>20</td>\n",
       "      <td>8.813747</td>\n",
       "      <td>0.0</td>\n",
       "      <td>21.237</td>\n",
       "      <td>0.448</td>\n",
       "      <td>0.0</td>\n",
       "      <td>0.163</td>\n",
       "      <td>0.000</td>\n",
       "      <td>0.000</td>\n",
       "      <td>0.0</td>\n",
       "      <td>5.312639</td>\n",
       "    </tr>\n",
       "    <tr>\n",
       "      <th>67</th>\n",
       "      <td>21</td>\n",
       "      <td>9.567161</td>\n",
       "      <td>0.0</td>\n",
       "      <td>25.759</td>\n",
       "      <td>0.049</td>\n",
       "      <td>0.0</td>\n",
       "      <td>0.000</td>\n",
       "      <td>0.000</td>\n",
       "      <td>0.000</td>\n",
       "      <td>0.0</td>\n",
       "      <td>3.917494</td>\n",
       "    </tr>\n",
       "    <tr>\n",
       "      <th>68</th>\n",
       "      <td>19</td>\n",
       "      <td>3.423503</td>\n",
       "      <td>0.0</td>\n",
       "      <td>14.526</td>\n",
       "      <td>0.997</td>\n",
       "      <td>0.0</td>\n",
       "      <td>0.000</td>\n",
       "      <td>0.000</td>\n",
       "      <td>0.000</td>\n",
       "      <td>0.0</td>\n",
       "      <td>0.698448</td>\n",
       "    </tr>\n",
       "  </tbody>\n",
       "</table>\n",
       "<p>69 rows × 11 columns</p>\n",
       "</div>"
      ],
      "text/plain": [
       "    age     IgG_PT  ENSG00000126785  ENSG00000130590  ENSG00000135549  \\\n",
       "0    30  10.874112              0.0           14.309            0.522   \n",
       "1    33   7.041547              0.0           18.931            0.306   \n",
       "2    28   7.896541              0.0           11.868            0.240   \n",
       "3    25   5.327203              0.0            6.479            0.239   \n",
       "4    28   9.128886              0.0           16.864            0.714   \n",
       "..  ...        ...              ...              ...              ...   \n",
       "64   19   3.350333              0.0           21.372            0.634   \n",
       "65   23   5.722838              0.0           24.485            0.280   \n",
       "66   20   8.813747              0.0           21.237            0.448   \n",
       "67   21   9.567161              0.0           25.759            0.049   \n",
       "68   19   3.423503              0.0           14.526            0.997   \n",
       "\n",
       "    ENSG00000218180  ENSG00000218347  ENSG00000221055  ENSG00000223592  \\\n",
       "0               0.0            0.000            0.000            0.000   \n",
       "1               0.0            0.000            0.000            0.000   \n",
       "2               0.0            0.000            0.000            0.142   \n",
       "3               0.0            0.000            0.000            0.000   \n",
       "4               0.0            0.000            0.986            0.000   \n",
       "..              ...              ...              ...              ...   \n",
       "64              0.0            0.000            0.000            0.000   \n",
       "65              0.0            0.000            0.000            0.000   \n",
       "66              0.0            0.163            0.000            0.000   \n",
       "67              0.0            0.000            0.000            0.000   \n",
       "68              0.0            0.000            0.000            0.000   \n",
       "\n",
       "    ENSG00000267204  IgG_PT_d0  \n",
       "0               0.0   3.736992  \n",
       "1               0.0   1.096366  \n",
       "2               0.0   2.046671  \n",
       "3               0.0   3.798007  \n",
       "4               0.0   0.213328  \n",
       "..              ...        ...  \n",
       "64              0.0   0.179601  \n",
       "65              0.0   1.984479  \n",
       "66              0.0   5.312639  \n",
       "67              0.0   3.917494  \n",
       "68              0.0   0.698448  \n",
       "\n",
       "[69 rows x 11 columns]"
      ]
     },
     "execution_count": 462,
     "metadata": {},
     "output_type": "execute_result"
    }
   ],
   "source": [
    "top8 = list(featureScores.nlargest(8,'Score')['Features'])\n",
    "top8.append('age')\n",
    "top8.append('IgG_PT_d0')\n",
    "top8.append('IgG_PT')\n",
    "final_gene = IgG_d14[IgG_d14.columns.intersection(top8)].reset_index(drop=True)\n",
    "final_gene                     "
   ]
  },
  {
   "cell_type": "code",
   "execution_count": 463,
   "id": "4be59232-034d-4004-b91b-3cfeebf83c3f",
   "metadata": {
    "tags": []
   },
   "outputs": [],
   "source": [
    "X = final_gene.drop('IgG_PT', axis = 1)\n",
    "y = final_gene['IgG_PT']"
   ]
  },
  {
   "cell_type": "code",
   "execution_count": 464,
   "id": "ace1bcfb-042b-43eb-bbb8-d3935efe3a74",
   "metadata": {
    "tags": []
   },
   "outputs": [],
   "source": [
    "X_train, X_test, y_train, y_test = train_test_split(X, y, test_size=0.2)"
   ]
  },
  {
   "cell_type": "code",
   "execution_count": 465,
   "id": "1c674851-2d23-4b37-93a4-ab448a26a76b",
   "metadata": {
    "tags": []
   },
   "outputs": [],
   "source": [
    "scaler = Normalizer()\n",
    "X_train_scaled = pd.DataFrame(scaler.fit_transform(X_train), columns=X_train.columns)\n",
    "X_test_scaled = pd.DataFrame(scaler.transform(X_test), columns=X_test.columns)"
   ]
  },
  {
   "cell_type": "code",
   "execution_count": 466,
   "id": "5432974c-15d4-4118-b5dc-f092d5559b6e",
   "metadata": {
    "tags": []
   },
   "outputs": [],
   "source": [
    "reg = LinearRegression().fit(X, y)\n",
    "Y_pred = reg.predict(X)"
   ]
  },
  {
   "cell_type": "code",
   "execution_count": 467,
   "id": "b8d0b824-dae2-494b-951b-eb6f7364c078",
   "metadata": {
    "tags": []
   },
   "outputs": [
    {
     "data": {
      "text/plain": [
       "(9.563370642274434, 2.460117252185824, 0.6571711754976804)"
      ]
     },
     "execution_count": 467,
     "metadata": {},
     "output_type": "execute_result"
    }
   ],
   "source": [
    "mse = mean_squared_error(y, Y_pred)\n",
    "mae = mean_absolute_error(y, Y_pred)\n",
    "r2 = r2_score(y, Y_pred)\n",
    "mse, mae, r2"
   ]
  },
  {
   "cell_type": "code",
   "execution_count": 468,
   "id": "3669d891-85e8-4195-9726-a5c5c128e23e",
   "metadata": {
    "tags": []
   },
   "outputs": [],
   "source": [
    "reg_sub = LinearRegression().fit(X_train, y_train)\n",
    "Y_pred = reg_sub.predict(X_test)"
   ]
  },
  {
   "cell_type": "code",
   "execution_count": 469,
   "id": "c899db04-dafb-4c2b-a8d5-1e488f88d680",
   "metadata": {
    "tags": []
   },
   "outputs": [
    {
     "data": {
      "text/plain": [
       "(20.432076269254463, 3.6635851345589563, -0.15033873119841057)"
      ]
     },
     "execution_count": 469,
     "metadata": {},
     "output_type": "execute_result"
    }
   ],
   "source": [
    "mse = mean_squared_error(y_test, Y_pred)\n",
    "mae = mean_absolute_error(y_test, Y_pred)\n",
    "r2 = r2_score(y_test, Y_pred)\n",
    "mse, mae, r2"
   ]
  },
  {
   "cell_type": "code",
   "execution_count": 470,
   "id": "c605f355-6e30-4aa3-9e58-3c913721684f",
   "metadata": {
    "tags": []
   },
   "outputs": [],
   "source": [
    "kn = KNeighborsRegressor()\n",
    "kn.fit(X, y)\n",
    "Y_pred = kn.predict(X)"
   ]
  },
  {
   "cell_type": "code",
   "execution_count": 471,
   "id": "7c134eca-1aea-41be-a6b2-09745b08425b",
   "metadata": {
    "tags": []
   },
   "outputs": [
    {
     "data": {
      "text/plain": [
       "(12.83668287702634, 2.8252488027980487, 0.5398290973073313)"
      ]
     },
     "execution_count": 471,
     "metadata": {},
     "output_type": "execute_result"
    }
   ],
   "source": [
    "mse = mean_squared_error(y, Y_pred)\n",
    "mae = mean_absolute_error(y, Y_pred)\n",
    "r2 = r2_score(y, Y_pred)\n",
    "mse, mae, r2"
   ]
  },
  {
   "cell_type": "code",
   "execution_count": 472,
   "id": "4841d94a-1f7f-4029-8e89-b3c76484a5d9",
   "metadata": {
    "tags": []
   },
   "outputs": [],
   "source": [
    "regr_1 = DecisionTreeRegressor(max_depth=5)\n",
    "regr_2 = DecisionTreeRegressor(max_depth=10)\n",
    "regr_3 = DecisionTreeRegressor(max_depth=15)\n",
    "regr_1.fit(X, y)\n",
    "regr_2.fit(X, y)\n",
    "regr_3.fit(X, y)\n",
    "y_1 = regr_1.predict(X)\n",
    "y_2 = regr_2.predict(X)\n",
    "y_3 = regr_3.predict(X)"
   ]
  },
  {
   "cell_type": "code",
   "execution_count": 473,
   "id": "d5875eab-a4fc-4e6e-9be0-89ba1aa5123d",
   "metadata": {
    "tags": []
   },
   "outputs": [
    {
     "data": {
      "text/plain": [
       "(5.051520258230141, 1.5954855049704946, 0.8189125134998614)"
      ]
     },
     "execution_count": 473,
     "metadata": {},
     "output_type": "execute_result"
    }
   ],
   "source": [
    "mse = mean_squared_error(y, y_1)\n",
    "mae = mean_absolute_error(y, y_1)\n",
    "r2 = r2_score(y, y_1)\n",
    "mse, mae, r2"
   ]
  },
  {
   "cell_type": "code",
   "execution_count": 474,
   "id": "46578dba-66b5-4c56-ad42-08cc4186a68f",
   "metadata": {
    "tags": []
   },
   "outputs": [
    {
     "data": {
      "text/plain": [
       "(0.04730036838632484, 0.0734244240746833, 0.9983043708856448)"
      ]
     },
     "execution_count": 474,
     "metadata": {},
     "output_type": "execute_result"
    }
   ],
   "source": [
    "mse = mean_squared_error(y, y_2)\n",
    "mae = mean_absolute_error(y, y_2)\n",
    "r2 = r2_score(y, y_2)\n",
    "mse, mae, r2"
   ]
  },
  {
   "cell_type": "code",
   "execution_count": 475,
   "id": "858e5105-4c14-4936-ada5-c68bc61f6b24",
   "metadata": {
    "tags": []
   },
   "outputs": [
    {
     "data": {
      "text/plain": [
       "(0.0, 0.0, 1.0)"
      ]
     },
     "execution_count": 475,
     "metadata": {},
     "output_type": "execute_result"
    }
   ],
   "source": [
    "mse = mean_squared_error(y, y_3)\n",
    "mae = mean_absolute_error(y, y_3)\n",
    "r2 = r2_score(y, y_3)\n",
    "mse, mae, r2"
   ]
  },
  {
   "cell_type": "code",
   "execution_count": 476,
   "id": "14e77a03-062b-4179-a42d-4c63d1d6621a",
   "metadata": {
    "tags": []
   },
   "outputs": [],
   "source": [
    "rf = RandomForestRegressor()\n",
    "rf.fit(X, y)\n",
    "Y_pred = rf.predict(X)"
   ]
  },
  {
   "cell_type": "code",
   "execution_count": 477,
   "id": "9e57eb4f-2026-41a0-b209-f9ee7fabd52b",
   "metadata": {
    "tags": []
   },
   "outputs": [
    {
     "data": {
      "text/plain": [
       "(2.6093746618073546, 1.2417657552176222, 0.9064588332445097)"
      ]
     },
     "execution_count": 477,
     "metadata": {},
     "output_type": "execute_result"
    }
   ],
   "source": [
    "mse = mean_squared_error(y, Y_pred)\n",
    "mae = mean_absolute_error(y, Y_pred)\n",
    "r2 = r2_score(y, Y_pred)\n",
    "mse, mae, r2"
   ]
  },
  {
   "cell_type": "code",
   "execution_count": 486,
   "id": "f7c49554-8472-4da5-87b0-1c6b27a82cd2",
   "metadata": {
    "tags": []
   },
   "outputs": [
    {
     "data": {
      "text/plain": [
       "Index(['age', 'ENSG00000126785', 'ENSG00000130590', 'ENSG00000135549',\n",
       "       'ENSG00000218180', 'ENSG00000218347', 'ENSG00000221055',\n",
       "       'ENSG00000223592', 'ENSG00000267204', 'IgG_PT_d0'],\n",
       "      dtype='object')"
      ]
     },
     "execution_count": 486,
     "metadata": {},
     "output_type": "execute_result"
    }
   ],
   "source": [
    "X_train_scaled.columns"
   ]
  },
  {
   "cell_type": "code",
   "execution_count": 485,
   "id": "802d4718-9dc7-47c4-9be6-7efc5404b014",
   "metadata": {
    "tags": []
   },
   "outputs": [
    {
     "data": {
      "text/plain": [
       "array([0.12435135, 0.04387898, 0.08368515, 0.07282449, 0.10360195,\n",
       "       0.15813775, 0.0529837 , 0.12945997, 0.02151301, 0.20956366])"
      ]
     },
     "execution_count": 485,
     "metadata": {},
     "output_type": "execute_result"
    }
   ],
   "source": [
    "feature_importances"
   ]
  },
  {
   "cell_type": "code",
   "execution_count": 498,
   "id": "876538b3-c652-4d0f-a3d2-f18432a15e78",
   "metadata": {
    "tags": []
   },
   "outputs": [
    {
     "data": {
      "text/plain": [
       "['ENSG00000267204',\n",
       " 'ENSG00000126785',\n",
       " 'ENSG00000221055',\n",
       " 'ENSG00000135549',\n",
       " 'ENSG00000130590',\n",
       " 'ENSG00000218180',\n",
       " 'age',\n",
       " 'ENSG00000223592',\n",
       " 'ENSG00000218347',\n",
       " 'IgG_PT_d0']"
      ]
     },
     "execution_count": 498,
     "metadata": {},
     "output_type": "execute_result"
    }
   ],
   "source": [
    "[x for _, x in sorted(zip(feature_importances, X_train_scaled))]\n",
    "#[y for y,x in sorted(zip(feature_importances, X_train_scaled))]"
   ]
  },
  {
   "cell_type": "code",
   "execution_count": 500,
   "id": "765b4b64-04d3-4556-a62a-6e8cdc0f1ce3",
   "metadata": {
    "tags": []
   },
   "outputs": [
    {
     "name": "stdout",
     "output_type": "stream",
     "text": [
      "Selected Features: Index(['age', 'ENSG00000126785', 'ENSG00000130590', 'ENSG00000135549',\n",
      "       'ENSG00000218180', 'ENSG00000218347', 'ENSG00000221055',\n",
      "       'ENSG00000223592', 'ENSG00000267204', 'IgG_PT_d0'],\n",
      "      dtype='object')\n",
      "Feature Importances: [0.12435135 0.04387898 0.08368515 0.07282449 0.10360195 0.15813775\n",
      " 0.0529837  0.12945997 0.02151301 0.20956366]\n"
     ]
    },
    {
     "data": {
      "image/png": "[encoded data removed]",
      "text/plain": [
       "<Figure size 1000x600 with 1 Axes>"
      ]
     },
     "metadata": {},
     "output_type": "display_data"
    }
   ],
   "source": [
    "# Use Random Forest Regressor to select features\n",
    "rf_model = RandomForestRegressor(random_state=42)\n",
    "rf_model.fit(X_train_scaled, y_train)\n",
    "feature_importances = rf_model.feature_importances_\n",
    "\n",
    "threshold = 0.015\n",
    "selected_features = X_train_scaled.columns[feature_importances > threshold]\n",
    "\n",
    "X_train_scaled_selected = X_train_scaled\n",
    "X_test_scaled_selected = X_test_scaled\n",
    "\n",
    "print(\"Selected Features:\", selected_features)\n",
    "print(\"Feature Importances:\", feature_importances)\n",
    "[x for _, x in sorted(zip(feature_importances, X_train_scaled))]\n",
    "[y for y,x in sorted(zip(feature_importances, X_train_scaled))]\n",
    "plt.figure(figsize=(10, 6))\n",
    "plt.barh([x for _, x in sorted(zip(feature_importances, X_train_scaled))], [y for y,x in sorted(zip(feature_importances, X_train_scaled))], align=\"center\")\n",
    "plt.yticks([x for _, x in sorted(zip(feature_importances, X_train_scaled))], [x for _, x in sorted(zip(feature_importances, X_train_scaled))])\n",
    "plt.xlabel('Feature Importance')\n",
    "plt.ylabel('Feature')\n",
    "plt.title('Random Forest Feature Importances')\n",
    "plt.show()\n"
   ]
  },
  {
   "cell_type": "code",
   "execution_count": 481,
   "id": "d08331dd-6bef-4a7d-af05-ae160af2829e",
   "metadata": {
    "tags": []
   },
   "outputs": [
    {
     "name": "stdout",
     "output_type": "stream",
     "text": [
      "Random Forest - Best Parameters: {'n_estimators': 500, 'min_samples_split': 18, 'min_samples_leaf': 3, 'max_depth': 20}\n",
      "Random Forest - R-squared on Test Set: -0.2984043509083887\n",
      "Linear Regression - R-squared on Test Set: -0.15390346171618652\n",
      "SVR - Best Parameters: {'kernel': 'rbf', 'C': 5}\n",
      "SVR - R-squared on Test Set: -0.05473542635660311\n",
      "Gradient Boosting - Best Parameters: {'n_estimators': 40, 'min_samples_split': 20, 'min_samples_leaf': 3, 'max_depth': 2, 'learning_rate': 0.01}\n",
      "Gradient Boosting - R-squared on Test Set: -0.40508976582043066\n",
      "Lasso - Best Parameters: {'alpha': 1}\n",
      "Lasso - R-squared on Test Set: -0.3815576435272039\n",
      "Ridge - Best Parameters: {'alpha': 10}\n",
      "Ridge - R-squared on Test Set: -0.36438566869146394\n",
      "ElasticNet - Best Parameters: {'l1_ratio': 0.5, 'alpha': 10}\n",
      "ElasticNet - R-squared on Test Set: -0.29774416272883597\n",
      "Decision Tree - Best Parameters: {'min_samples_split': 2, 'min_samples_leaf': 15, 'max_depth': None}\n",
      "Decision Tree - R-squared on Test Set: -0.4922163841477225\n",
      "KNN - Best Parameters: {'weights': 'uniform', 'n_neighbors': 17, 'metric': 'manhattan'}\n",
      "KNN - R-squared on Test Set: -0.5936845441434275\n",
      "\n",
      "Best Model: SVR with R-squared: -0.05473542635660311\n"
     ]
    }
   ],
   "source": [
    "# Random Forest Regression\n",
    "rf_model = RandomForestRegressor()\n",
    "param_dist_rf = {\n",
    "    'n_estimators': [20,30,40,50,100,200, 300, 400,500,600,700],\n",
    "    'max_depth': [10,13,15,17,20,22,25,27,30],\n",
    "    'min_samples_split': [5, 10, 15,17,18,19,20],\n",
    "    'min_samples_leaf': [1, 2, 3]\n",
    "}\n",
    "\n",
    "# Randomized Search CV for Random Forest\n",
    "random_search_rf = RandomizedSearchCV(rf_model,\n",
    "                                      param_distributions=param_dist_rf, \n",
    "                                      n_iter=10, \n",
    "                                      scoring='r2',  \n",
    "                                      cv=5, \n",
    "                                      random_state=42)\n",
    "random_search_rf.fit(X_train_scaled_selected, y_train)\n",
    "\n",
    "# Print best parameters for Random Forest\n",
    "print(\"Random Forest - Best Parameters:\", random_search_rf.best_params_)\n",
    "\n",
    "# Evaluate Random Forest on the test set using R-squared\n",
    "y_pred_rf = random_search_rf.predict(X_test_scaled_selected)\n",
    "r2_rf = r2_score(y_test, y_pred_rf)\n",
    "print(\"Random Forest - R-squared on Test Set:\", r2_rf)\n",
    "\n",
    "# Linear Regression\n",
    "lr_model = LinearRegression()\n",
    "lr_model.fit(X_train_scaled_selected, y_train)\n",
    "\n",
    "# Evaluate Linear Regression on the test set using R-squared\n",
    "y_pred_lr = lr_model.predict(X_test_scaled_selected)\n",
    "r2_lr = r2_score(y_test, y_pred_lr)\n",
    "print(\"Linear Regression - R-squared on Test Set:\", r2_lr)\n",
    "\n",
    "# Support Vector Regression\n",
    "svr_model = SVR()\n",
    "param_dist_svr = {\n",
    "    'C': [5, 10, 15],\n",
    "    'kernel': ['linear', 'rbf']\n",
    "}\n",
    "\n",
    "# Randomized Search CV for SVR\n",
    "random_search_svr = RandomizedSearchCV(svr_model, param_distributions=param_dist_svr, n_iter=5, scoring='r2', \n",
    "                                       cv=5, random_state=42)\n",
    "random_search_svr.fit(X_train_scaled_selected, y_train)\n",
    "\n",
    "# Print best parameters for SVR\n",
    "print(\"SVR - Best Parameters:\", random_search_svr.best_params_)\n",
    "\n",
    "# Evaluate SVR on the test set using R-squared\n",
    "y_pred_svr = random_search_svr.predict(X_test_scaled_selected)\n",
    "r2_svr = r2_score(y_test, y_pred_svr)\n",
    "print(\"SVR - R-squared on Test Set:\", r2_svr)\n",
    "\n",
    "# Gradient Boosting Regression\n",
    "gb_model = GradientBoostingRegressor()\n",
    "param_dist_gb = {\n",
    "    'n_estimators': [35,36,37,38,39,40,41,42,43],\n",
    "    'learning_rate': [0.001,0.01,0.02,0.03, 0.05, 0.08,0.1,0.2,0.5,1],\n",
    "    'max_depth': [2, 3, 4],\n",
    "    'min_samples_split': [2, 3, 4,6,8,10,15,20],\n",
    "    'min_samples_leaf': [1, 2, 3]\n",
    "}\n",
    "\n",
    "# Randomized Search CV for Gradient Boosting\n",
    "random_search_gb = RandomizedSearchCV(gb_model, param_distributions=param_dist_gb, n_iter=10, scoring='r2',  \n",
    "                                       cv=5, random_state=42)\n",
    "random_search_gb.fit(X_train_scaled_selected, y_train)\n",
    "\n",
    "# Print best parameters for Gradient Boosting\n",
    "print(\"Gradient Boosting - Best Parameters:\", random_search_gb.best_params_)\n",
    "\n",
    "# Evaluate Gradient Boosting on the test set using R-squared\n",
    "y_pred_gb = random_search_gb.predict(X_test_scaled_selected)\n",
    "r2_gb = r2_score(y_test, y_pred_gb)\n",
    "print(\"Gradient Boosting - R-squared on Test Set:\", r2_gb)\n",
    "\n",
    "# Lasso Regression\n",
    "lasso_model = Lasso()\n",
    "param_dist_lasso = {\n",
    "    'alpha': [0.001, 0.01, 0.1, 1, 10]\n",
    "}\n",
    "\n",
    "# Randomized Search CV for Lasso\n",
    "random_search_lasso = RandomizedSearchCV(lasso_model, param_distributions=param_dist_lasso, n_iter=5, scoring='r2', \n",
    "                                         cv=5, random_state=42)\n",
    "random_search_lasso.fit(X_train_scaled_selected, y_train)\n",
    "\n",
    "# Print best parameters for Lasso\n",
    "print(\"Lasso - Best Parameters:\", random_search_lasso.best_params_)\n",
    "\n",
    "# Evaluate Lasso on the test set using R-squared\n",
    "y_pred_lasso = random_search_lasso.predict(X_test_scaled_selected)\n",
    "r2_lasso = r2_score(y_test, y_pred_lasso)\n",
    "print(\"Lasso - R-squared on Test Set:\", r2_lasso)\n",
    "\n",
    "# Ridge Regression\n",
    "ridge_model = Ridge()\n",
    "param_dist_ridge = {\n",
    "    'alpha': [0.001, 0.01, 0.1, 1, 10]\n",
    "}\n",
    "\n",
    "# Randomized Search CV for Ridge\n",
    "random_search_ridge = RandomizedSearchCV(ridge_model, param_distributions=param_dist_ridge, n_iter=5, scoring='r2', \n",
    "                                         cv=5, random_state=42)\n",
    "random_search_ridge.fit(X_train_scaled_selected, y_train)\n",
    "\n",
    "# Print best parameters for Ridge\n",
    "print(\"Ridge - Best Parameters:\", random_search_ridge.best_params_)\n",
    "\n",
    "# Evaluate Ridge on the test set using R-squared\n",
    "y_pred_ridge = random_search_ridge.predict(X_test_scaled_selected)\n",
    "r2_ridge = r2_score(y_test, y_pred_ridge)\n",
    "print(\"Ridge - R-squared on Test Set:\", r2_ridge)\n",
    "\n",
    "# ElasticNet Regression\n",
    "elasticnet_model = ElasticNet()\n",
    "param_dist_elasticnet = {\n",
    "    'alpha': [0.001, 0.01, 0.1, 1, 10],\n",
    "    'l1_ratio': [0.1, 0.3, 0.5, 0.7, 0.9]\n",
    "}\n",
    "\n",
    "# Randomized Search CV for ElasticNet\n",
    "random_search_elasticnet = RandomizedSearchCV(elasticnet_model, param_distributions=param_dist_elasticnet, n_iter=10, scoring='r2', \n",
    "                                               cv=5, random_state=42)\n",
    "random_search_elasticnet.fit(X_train_scaled_selected, y_train)\n",
    "\n",
    "# Print best parameters for ElasticNet\n",
    "print(\"ElasticNet - Best Parameters:\", random_search_elasticnet.best_params_)\n",
    "\n",
    "# Evaluate ElasticNet on the test set using R-squared\n",
    "y_pred_elasticnet = random_search_elasticnet.predict(X_test_scaled_selected)\n",
    "r2_elasticnet = r2_score(y_test, y_pred_elasticnet)\n",
    "print(\"ElasticNet - R-squared on Test Set:\", r2_elasticnet)\n",
    "\n",
    "# Decision Tree Regression\n",
    "dt_model = DecisionTreeRegressor()\n",
    "param_dist_dt = {\n",
    "    'max_depth': [None, 10, 20, 30, 40],\n",
    "    'min_samples_split': [2, 5, 10,15,20],\n",
    "    'min_samples_leaf': [1, 2, 4,6,8,10,15,20,25,30,35]\n",
    "}\n",
    "\n",
    "# Randomized Search CV for Decision Tree\n",
    "random_search_dt = RandomizedSearchCV(dt_model, param_distributions=param_dist_dt, n_iter=5, scoring='r2', \n",
    "                                      cv=5, random_state=42)\n",
    "random_search_dt.fit(X_train_scaled_selected, y_train)\n",
    "\n",
    "# Print best parameters for Decision Tree\n",
    "print(\"Decision Tree - Best Parameters:\", random_search_dt.best_params_)\n",
    "\n",
    "# Evaluate Decision Tree on the test set using R-squared\n",
    "y_pred_dt = random_search_dt.predict(X_test_scaled_selected)\n",
    "r2_dt = r2_score(y_test, y_pred_dt)\n",
    "print(\"Decision Tree - R-squared on Test Set:\", r2_dt)\n",
    "\n",
    "# K-Nearest Neighbors Regression\n",
    "knn_model = KNeighborsRegressor()\n",
    "param_dist_knn = {\n",
    "    'n_neighbors': np.arange(1, 20),\n",
    "    'weights': ['uniform', 'distance'],\n",
    "    'metric': ['euclidean', 'manhattan', 'minkowski']\n",
    "}\n",
    "\n",
    "# Randomized Search CV for KNN\n",
    "random_search_knn = RandomizedSearchCV(knn_model, param_distributions=param_dist_knn, n_iter=10, scoring='r2', \n",
    "                                        cv=5, random_state=42)\n",
    "random_search_knn.fit(X_train_scaled_selected, y_train)\n",
    "\n",
    "# Print best parameters for KNN\n",
    "print(\"KNN - Best Parameters:\", random_search_knn.best_params_)\n",
    "\n",
    "# Evaluate KNN on the test set using R-squared\n",
    "y_pred_knn = random_search_knn.predict(X_test_scaled_selected)\n",
    "r2_knn = r2_score(y_test, y_pred_knn)\n",
    "print(\"KNN - R-squared on Test Set:\", r2_knn)\n",
    "\n",
    "# Compare r2 of different models\n",
    "r2_dict = {'Random Forest': r2_rf, 'Linear Regression': r2_lr, 'SVR': r2_svr, 'Gradient Boosting': r2_gb,\n",
    "            'Lasso': r2_lasso, 'Ridge': r2_ridge, 'ElasticNet': r2_elasticnet, \n",
    "            'Decision Tree': r2_dt, 'KNN': r2_knn}\n",
    "\n",
    "# Find the model with the highest r2\n",
    "best_model_name = max(r2_dict, key=r2_dict.get)\n",
    "best_model = None\n",
    "\n",
    "# Select the best model\n",
    "if best_model_name == 'Random Forest':\n",
    "    best_model = random_search_rf\n",
    "elif best_model_name == 'Linear Regression':\n",
    "    best_model = lr_model\n",
    "elif best_model_name == 'SVR':\n",
    "    best_model = random_search_svr\n",
    "elif best_model_name == 'Gradient Boosting':\n",
    "    best_model = random_search_gb\n",
    "elif best_model_name == 'Lasso':\n",
    "    best_model = random_search_lasso\n",
    "elif best_model_name == 'Ridge':\n",
    "    best_model = random_search_ridge\n",
    "elif best_model_name == 'ElasticNet':\n",
    "    best_model = random_search_elasticnet\n",
    "elif best_model_name == 'Decision Tree':\n",
    "    best_model = random_search_dt\n",
    "elif best_model_name == 'KNN':\n",
    "    best_model = random_search_knn\n",
    "\n",
    "print(f\"\\nBest Model: {best_model_name} with R-squared: {r2_dict[best_model_name]}\")\n"
   ]
  },
  {
   "cell_type": "code",
   "execution_count": 480,
   "id": "a6c6e3a9-078b-43f6-9c12-b37f0aac50a5",
   "metadata": {
    "tags": []
   },
   "outputs": [
    {
     "data": {
      "application/vnd.plotly.v1+json": {
       "config": {
        "plotlyServerURL": "https://plot.ly"
       },
       "data": [
        {
         "name": "Original Model",
         "type": "bar",
         "x": [
          "Linear Regression",
          "K-NN",
          "Decision Tree",
          "Random Forest"
         ],
         "y": [
          0.165,
          0.38,
          0.384,
          0.68
         ]
        },
        {
         "name": "MVMP Model",
         "type": "bar",
         "x": [
          "Linear Regression",
          "K-NN",
          "Decision Tree",
          "Random Forest"
         ],
         "y": [
          0.657,
          0.54,
          0.82,
          0.89
         ]
        }
       ],
       "layout": {
        "autosize": true,
        "template": {
         "data": {
          "bar": [
           {
            "error_x": {
             "color": "#2a3f5f"
            },
            "error_y": {
             "color": "#2a3f5f"
            },
            "marker": {
             "line": {
              "color": "#E5ECF6",
              "width": 0.5
             },
             "pattern": {
              "fillmode": "overlay",
              "size": 10,
              "solidity": 0.2
             }
            },
            "type": "bar"
           }
          ],
          "barpolar": [
           {
            "marker": {
             "line": {
              "color": "#E5ECF6",
              "width": 0.5
             },
             "pattern": {
              "fillmode": "overlay",
              "size": 10,
              "solidity": 0.2
             }
            },
            "type": "barpolar"
           }
          ],
          "carpet": [
           {
            "aaxis": {
             "endlinecolor": "#2a3f5f",
             "gridcolor": "white",
             "linecolor": "white",
             "minorgridcolor": "white",
             "startlinecolor": "#2a3f5f"
            },
            "baxis": {
             "endlinecolor": "#2a3f5f",
             "gridcolor": "white",
             "linecolor": "white",
             "minorgridcolor": "white",
             "startlinecolor": "#2a3f5f"
            },
            "type": "carpet"
           }
          ],
          "choropleth": [
           {
            "colorbar": {
             "outlinewidth": 0,
             "ticks": ""
            },
            "type": "choropleth"
           }
          ],
          "contour": [
           {
            "colorbar": {
             "outlinewidth": 0,
             "ticks": ""
            },
            "colorscale": [
             [
              0,
              "#0d0887"
             ],
             [
              0.1111111111111111,
              "#46039f"
             ],
             [
              0.2222222222222222,
              "#7201a8"
             ],
             [
              0.3333333333333333,
              "#9c179e"
             ],
             [
              0.4444444444444444,
              "#bd3786"
             ],
             [
              0.5555555555555556,
              "#d8576b"
             ],
             [
              0.6666666666666666,
              "#ed7953"
             ],
             [
              0.7777777777777778,
              "#fb9f3a"
             ],
             [
              0.8888888888888888,
              "#fdca26"
             ],
             [
              1,
              "#f0f921"
             ]
            ],
            "type": "contour"
           }
          ],
          "contourcarpet": [
           {
            "colorbar": {
             "outlinewidth": 0,
             "ticks": ""
            },
            "type": "contourcarpet"
           }
          ],
          "heatmap": [
           {
            "colorbar": {
             "outlinewidth": 0,
             "ticks": ""
            },
            "colorscale": [
             [
              0,
              "#0d0887"
             ],
             [
              0.1111111111111111,
              "#46039f"
             ],
             [
              0.2222222222222222,
              "#7201a8"
             ],
             [
              0.3333333333333333,
              "#9c179e"
             ],
             [
              0.4444444444444444,
              "#bd3786"
             ],
             [
              0.5555555555555556,
              "#d8576b"
             ],
             [
              0.6666666666666666,
              "#ed7953"
             ],
             [
              0.7777777777777778,
              "#fb9f3a"
             ],
             [
              0.8888888888888888,
              "#fdca26"
             ],
             [
              1,
              "#f0f921"
             ]
            ],
            "type": "heatmap"
           }
          ],
          "heatmapgl": [
           {
            "colorbar": {
             "outlinewidth": 0,
             "ticks": ""
            },
            "colorscale": [
             [
              0,
              "#0d0887"
             ],
             [
              0.1111111111111111,
              "#46039f"
             ],
             [
              0.2222222222222222,
              "#7201a8"
             ],
             [
              0.3333333333333333,
              "#9c179e"
             ],
             [
              0.4444444444444444,
              "#bd3786"
             ],
             [
              0.5555555555555556,
              "#d8576b"
             ],
             [
              0.6666666666666666,
              "#ed7953"
             ],
             [
              0.7777777777777778,
              "#fb9f3a"
             ],
             [
              0.8888888888888888,
              "#fdca26"
             ],
             [
              1,
              "#f0f921"
             ]
            ],
            "type": "heatmapgl"
           }
          ],
          "histogram": [
           {
            "marker": {
             "pattern": {
              "fillmode": "overlay",
              "size": 10,
              "solidity": 0.2
             }
            },
            "type": "histogram"
           }
          ],
          "histogram2d": [
           {
            "colorbar": {
             "outlinewidth": 0,
             "ticks": ""
            },
            "colorscale": [
             [
              0,
              "#0d0887"
             ],
             [
              0.1111111111111111,
              "#46039f"
             ],
             [
              0.2222222222222222,
              "#7201a8"
             ],
             [
              0.3333333333333333,
              "#9c179e"
             ],
             [
              0.4444444444444444,
              "#bd3786"
             ],
             [
              0.5555555555555556,
              "#d8576b"
             ],
             [
              0.6666666666666666,
              "#ed7953"
             ],
             [
              0.7777777777777778,
              "#fb9f3a"
             ],
             [
              0.8888888888888888,
              "#fdca26"
             ],
             [
              1,
              "#f0f921"
             ]
            ],
            "type": "histogram2d"
           }
          ],
          "histogram2dcontour": [
           {
            "colorbar": {
             "outlinewidth": 0,
             "ticks": ""
            },
            "colorscale": [
             [
              0,
              "#0d0887"
             ],
             [
              0.1111111111111111,
              "#46039f"
             ],
             [
              0.2222222222222222,
              "#7201a8"
             ],
             [
              0.3333333333333333,
              "#9c179e"
             ],
             [
              0.4444444444444444,
              "#bd3786"
             ],
             [
              0.5555555555555556,
              "#d8576b"
             ],
             [
              0.6666666666666666,
              "#ed7953"
             ],
             [
              0.7777777777777778,
              "#fb9f3a"
             ],
             [
              0.8888888888888888,
              "#fdca26"
             ],
             [
              1,
              "#f0f921"
             ]
            ],
            "type": "histogram2dcontour"
           }
          ],
          "mesh3d": [
           {
            "colorbar": {
             "outlinewidth": 0,
             "ticks": ""
            },
            "type": "mesh3d"
           }
          ],
          "parcoords": [
           {
            "line": {
             "colorbar": {
              "outlinewidth": 0,
              "ticks": ""
             }
            },
            "type": "parcoords"
           }
          ],
          "pie": [
           {
            "automargin": true,
            "type": "pie"
           }
          ],
          "scatter": [
           {
            "fillpattern": {
             "fillmode": "overlay",
             "size": 10,
             "solidity": 0.2
            },
            "type": "scatter"
           }
          ],
          "scatter3d": [
           {
            "line": {
             "colorbar": {
              "outlinewidth": 0,
              "ticks": ""
             }
            },
            "marker": {
             "colorbar": {
              "outlinewidth": 0,
              "ticks": ""
             }
            },
            "type": "scatter3d"
           }
          ],
          "scattercarpet": [
           {
            "marker": {
             "colorbar": {
              "outlinewidth": 0,
              "ticks": ""
             }
            },
            "type": "scattercarpet"
           }
          ],
          "scattergeo": [
           {
            "marker": {
             "colorbar": {
              "outlinewidth": 0,
              "ticks": ""
             }
            },
            "type": "scattergeo"
           }
          ],
          "scattergl": [
           {
            "marker": {
             "colorbar": {
              "outlinewidth": 0,
              "ticks": ""
             }
            },
            "type": "scattergl"
           }
          ],
          "scattermapbox": [
           {
            "marker": {
             "colorbar": {
              "outlinewidth": 0,
              "ticks": ""
             }
            },
            "type": "scattermapbox"
           }
          ],
          "scatterpolar": [
           {
            "marker": {
             "colorbar": {
              "outlinewidth": 0,
              "ticks": ""
             }
            },
            "type": "scatterpolar"
           }
          ],
          "scatterpolargl": [
           {
            "marker": {
             "colorbar": {
              "outlinewidth": 0,
              "ticks": ""
             }
            },
            "type": "scatterpolargl"
           }
          ],
          "scatterternary": [
           {
            "marker": {
             "colorbar": {
              "outlinewidth": 0,
              "ticks": ""
             }
            },
            "type": "scatterternary"
           }
          ],
          "surface": [
           {
            "colorbar": {
             "outlinewidth": 0,
             "ticks": ""
            },
            "colorscale": [
             [
              0,
              "#0d0887"
             ],
             [
              0.1111111111111111,
              "#46039f"
             ],
             [
              0.2222222222222222,
              "#7201a8"
             ],
             [
              0.3333333333333333,
              "#9c179e"
             ],
             [
              0.4444444444444444,
              "#bd3786"
             ],
             [
              0.5555555555555556,
              "#d8576b"
             ],
             [
              0.6666666666666666,
              "#ed7953"
             ],
             [
              0.7777777777777778,
              "#fb9f3a"
             ],
             [
              0.8888888888888888,
              "#fdca26"
             ],
             [
              1,
              "#f0f921"
             ]
            ],
            "type": "surface"
           }
          ],
          "table": [
           {
            "cells": {
             "fill": {
              "color": "#EBF0F8"
             },
             "line": {
              "color": "white"
             }
            },
            "header": {
             "fill": {
              "color": "#C8D4E3"
             },
             "line": {
              "color": "white"
             }
            },
            "type": "table"
           }
          ]
         },
         "layout": {
          "annotationdefaults": {
           "arrowcolor": "#2a3f5f",
           "arrowhead": 0,
           "arrowwidth": 1
          },
          "autotypenumbers": "strict",
          "coloraxis": {
           "colorbar": {
            "outlinewidth": 0,
            "ticks": ""
           }
          },
          "colorscale": {
           "diverging": [
            [
             0,
             "#8e0152"
            ],
            [
             0.1,
             "#c51b7d"
            ],
            [
             0.2,
             "#de77ae"
            ],
            [
             0.3,
             "#f1b6da"
            ],
            [
             0.4,
             "#fde0ef"
            ],
            [
             0.5,
             "#f7f7f7"
            ],
            [
             0.6,
             "#e6f5d0"
            ],
            [
             0.7,
             "#b8e186"
            ],
            [
             0.8,
             "#7fbc41"
            ],
            [
             0.9,
             "#4d9221"
            ],
            [
             1,
             "#276419"
            ]
           ],
           "sequential": [
            [
             0,
             "#0d0887"
            ],
            [
             0.1111111111111111,
             "#46039f"
            ],
            [
             0.2222222222222222,
             "#7201a8"
            ],
            [
             0.3333333333333333,
             "#9c179e"
            ],
            [
             0.4444444444444444,
             "#bd3786"
            ],
            [
             0.5555555555555556,
             "#d8576b"
            ],
            [
             0.6666666666666666,
             "#ed7953"
            ],
            [
             0.7777777777777778,
             "#fb9f3a"
            ],
            [
             0.8888888888888888,
             "#fdca26"
            ],
            [
             1,
             "#f0f921"
            ]
           ],
           "sequentialminus": [
            [
             0,
             "#0d0887"
            ],
            [
             0.1111111111111111,
             "#46039f"
            ],
            [
             0.2222222222222222,
             "#7201a8"
            ],
            [
             0.3333333333333333,
             "#9c179e"
            ],
            [
             0.4444444444444444,
             "#bd3786"
            ],
            [
             0.5555555555555556,
             "#d8576b"
            ],
            [
             0.6666666666666666,
             "#ed7953"
            ],
            [
             0.7777777777777778,
             "#fb9f3a"
            ],
            [
             0.8888888888888888,
             "#fdca26"
            ],
            [
             1,
             "#f0f921"
            ]
           ]
          },
          "colorway": [
           "#636efa",
           "#EF553B",
           "#00cc96",
           "#ab63fa",
           "#FFA15A",
           "#19d3f3",
           "#FF6692",
           "#B6E880",
           "#FF97FF",
           "#FECB52"
          ],
          "font": {
           "color": "#2a3f5f"
          },
          "geo": {
           "bgcolor": "white",
           "lakecolor": "white",
           "landcolor": "#E5ECF6",
           "showlakes": true,
           "showland": true,
           "subunitcolor": "white"
          },
          "hoverlabel": {
           "align": "left"
          },
          "hovermode": "closest",
          "mapbox": {
           "style": "light"
          },
          "paper_bgcolor": "white",
          "plot_bgcolor": "#E5ECF6",
          "polar": {
           "angularaxis": {
            "gridcolor": "white",
            "linecolor": "white",
            "ticks": ""
           },
           "bgcolor": "#E5ECF6",
           "radialaxis": {
            "gridcolor": "white",
            "linecolor": "white",
            "ticks": ""
           }
          },
          "scene": {
           "xaxis": {
            "backgroundcolor": "#E5ECF6",
            "gridcolor": "white",
            "gridwidth": 2,
            "linecolor": "white",
            "showbackground": true,
            "ticks": "",
            "zerolinecolor": "white"
           },
           "yaxis": {
            "backgroundcolor": "#E5ECF6",
            "gridcolor": "white",
            "gridwidth": 2,
            "linecolor": "white",
            "showbackground": true,
            "ticks": "",
            "zerolinecolor": "white"
           },
           "zaxis": {
            "backgroundcolor": "#E5ECF6",
            "gridcolor": "white",
            "gridwidth": 2,
            "linecolor": "white",
            "showbackground": true,
            "ticks": "",
            "zerolinecolor": "white"
           }
          },
          "shapedefaults": {
           "line": {
            "color": "#2a3f5f"
           }
          },
          "ternary": {
           "aaxis": {
            "gridcolor": "white",
            "linecolor": "white",
            "ticks": ""
           },
           "baxis": {
            "gridcolor": "white",
            "linecolor": "white",
            "ticks": ""
           },
           "bgcolor": "#E5ECF6",
           "caxis": {
            "gridcolor": "white",
            "linecolor": "white",
            "ticks": ""
           }
          },
          "title": {
           "x": 0.05
          },
          "xaxis": {
           "automargin": true,
           "gridcolor": "white",
           "linecolor": "white",
           "ticks": "",
           "title": {
            "standoff": 15
           },
           "zerolinecolor": "white",
           "zerolinewidth": 2
          },
          "yaxis": {
           "automargin": true,
           "gridcolor": "white",
           "linecolor": "white",
           "ticks": "",
           "title": {
            "standoff": 15
           },
           "zerolinecolor": "white",
           "zerolinewidth": 2
          }
         }
        },
        "title": {
         "text": "Original vs MVMP Model R2 scores",
         "x": 0.29
        },
        "xaxis": {
         "autorange": true,
         "range": [
          -0.5,
          3.5
         ],
         "title": {
          "text": "Regression Model Type"
         },
         "type": "category"
        },
        "yaxis": {
         "autorange": true,
         "range": [
          0,
          0.9368421052631579
         ],
         "title": {
          "text": "R2 score"
         },
         "type": "linear"
        }
       }
      },
      "image/png": "[encoded data removed]",
      "text/html": [
       "<div>                            <div id=\"1fc1c6fd-edcd-4608-b3e2-f0530ffa2707\" class=\"plotly-graph-div\" style=\"height:525px; width:100%;\"></div>            <script type=\"text/javascript\">                require([\"plotly\"], function(Plotly) {                    window.PLOTLYENV=window.PLOTLYENV || {};                                    if (document.getElementById(\"1fc1c6fd-edcd-4608-b3e2-f0530ffa2707\")) {                    Plotly.newPlot(                        \"1fc1c6fd-edcd-4608-b3e2-f0530ffa2707\",                        [{\"name\":\"Original Model\",\"x\":[\"Linear Regression\",\"K-NN\",\"Decision Tree\",\"Random Forest\"],\"y\":[0.165,0.38,0.384,0.68],\"type\":\"bar\"},{\"name\":\"MVMP Model\",\"x\":[\"Linear Regression\",\"K-NN\",\"Decision Tree\",\"Random Forest\"],\"y\":[0.657,0.54,0.82,0.89],\"type\":\"bar\"}],                        {\"template\":{\"data\":{\"histogram2dcontour\":[{\"type\":\"histogram2dcontour\",\"colorbar\":{\"outlinewidth\":0,\"ticks\":\"\"},\"colorscale\":[[0.0,\"#0d0887\"],[0.1111111111111111,\"#46039f\"],[0.2222222222222222,\"#7201a8\"],[0.3333333333333333,\"#9c179e\"],[0.4444444444444444,\"#bd3786\"],[0.5555555555555556,\"#d8576b\"],[0.6666666666666666,\"#ed7953\"],[0.7777777777777778,\"#fb9f3a\"],[0.8888888888888888,\"#fdca26\"],[1.0,\"#f0f921\"]]}],\"choropleth\":[{\"type\":\"choropleth\",\"colorbar\":{\"outlinewidth\":0,\"ticks\":\"\"}}],\"histogram2d\":[{\"type\":\"histogram2d\",\"colorbar\":{\"outlinewidth\":0,\"ticks\":\"\"},\"colorscale\":[[0.0,\"#0d0887\"],[0.1111111111111111,\"#46039f\"],[0.2222222222222222,\"#7201a8\"],[0.3333333333333333,\"#9c179e\"],[0.4444444444444444,\"#bd3786\"],[0.5555555555555556,\"#d8576b\"],[0.6666666666666666,\"#ed7953\"],[0.7777777777777778,\"#fb9f3a\"],[0.8888888888888888,\"#fdca26\"],[1.0,\"#f0f921\"]]}],\"heatmap\":[{\"type\":\"heatmap\",\"colorbar\":{\"outlinewidth\":0,\"ticks\":\"\"},\"colorscale\":[[0.0,\"#0d0887\"],[0.1111111111111111,\"#46039f\"],[0.2222222222222222,\"#7201a8\"],[0.3333333333333333,\"#9c179e\"],[0.4444444444444444,\"#bd3786\"],[0.5555555555555556,\"#d8576b\"],[0.6666666666666666,\"#ed7953\"],[0.7777777777777778,\"#fb9f3a\"],[0.8888888888888888,\"#fdca26\"],[1.0,\"#f0f921\"]]}],\"heatmapgl\":[{\"type\":\"heatmapgl\",\"colorbar\":{\"outlinewidth\":0,\"ticks\":\"\"},\"colorscale\":[[0.0,\"#0d0887\"],[0.1111111111111111,\"#46039f\"],[0.2222222222222222,\"#7201a8\"],[0.3333333333333333,\"#9c179e\"],[0.4444444444444444,\"#bd3786\"],[0.5555555555555556,\"#d8576b\"],[0.6666666666666666,\"#ed7953\"],[0.7777777777777778,\"#fb9f3a\"],[0.8888888888888888,\"#fdca26\"],[1.0,\"#f0f921\"]]}],\"contourcarpet\":[{\"type\":\"contourcarpet\",\"colorbar\":{\"outlinewidth\":0,\"ticks\":\"\"}}],\"contour\":[{\"type\":\"contour\",\"colorbar\":{\"outlinewidth\":0,\"ticks\":\"\"},\"colorscale\":[[0.0,\"#0d0887\"],[0.1111111111111111,\"#46039f\"],[0.2222222222222222,\"#7201a8\"],[0.3333333333333333,\"#9c179e\"],[0.4444444444444444,\"#bd3786\"],[0.5555555555555556,\"#d8576b\"],[0.6666666666666666,\"#ed7953\"],[0.7777777777777778,\"#fb9f3a\"],[0.8888888888888888,\"#fdca26\"],[1.0,\"#f0f921\"]]}],\"surface\":[{\"type\":\"surface\",\"colorbar\":{\"outlinewidth\":0,\"ticks\":\"\"},\"colorscale\":[[0.0,\"#0d0887\"],[0.1111111111111111,\"#46039f\"],[0.2222222222222222,\"#7201a8\"],[0.3333333333333333,\"#9c179e\"],[0.4444444444444444,\"#bd3786\"],[0.5555555555555556,\"#d8576b\"],[0.6666666666666666,\"#ed7953\"],[0.7777777777777778,\"#fb9f3a\"],[0.8888888888888888,\"#fdca26\"],[1.0,\"#f0f921\"]]}],\"mesh3d\":[{\"type\":\"mesh3d\",\"colorbar\":{\"outlinewidth\":0,\"ticks\":\"\"}}],\"scatter\":[{\"fillpattern\":{\"fillmode\":\"overlay\",\"size\":10,\"solidity\":0.2},\"type\":\"scatter\"}],\"parcoords\":[{\"type\":\"parcoords\",\"line\":{\"colorbar\":{\"outlinewidth\":0,\"ticks\":\"\"}}}],\"scatterpolargl\":[{\"type\":\"scatterpolargl\",\"marker\":{\"colorbar\":{\"outlinewidth\":0,\"ticks\":\"\"}}}],\"bar\":[{\"error_x\":{\"color\":\"#2a3f5f\"},\"error_y\":{\"color\":\"#2a3f5f\"},\"marker\":{\"line\":{\"color\":\"#E5ECF6\",\"width\":0.5},\"pattern\":{\"fillmode\":\"overlay\",\"size\":10,\"solidity\":0.2}},\"type\":\"bar\"}],\"scattergeo\":[{\"type\":\"scattergeo\",\"marker\":{\"colorbar\":{\"outlinewidth\":0,\"ticks\":\"\"}}}],\"scatterpolar\":[{\"type\":\"scatterpolar\",\"marker\":{\"colorbar\":{\"outlinewidth\":0,\"ticks\":\"\"}}}],\"histogram\":[{\"marker\":{\"pattern\":{\"fillmode\":\"overlay\",\"size\":10,\"solidity\":0.2}},\"type\":\"histogram\"}],\"scattergl\":[{\"type\":\"scattergl\",\"marker\":{\"colorbar\":{\"outlinewidth\":0,\"ticks\":\"\"}}}],\"scatter3d\":[{\"type\":\"scatter3d\",\"line\":{\"colorbar\":{\"outlinewidth\":0,\"ticks\":\"\"}},\"marker\":{\"colorbar\":{\"outlinewidth\":0,\"ticks\":\"\"}}}],\"scattermapbox\":[{\"type\":\"scattermapbox\",\"marker\":{\"colorbar\":{\"outlinewidth\":0,\"ticks\":\"\"}}}],\"scatterternary\":[{\"type\":\"scatterternary\",\"marker\":{\"colorbar\":{\"outlinewidth\":0,\"ticks\":\"\"}}}],\"scattercarpet\":[{\"type\":\"scattercarpet\",\"marker\":{\"colorbar\":{\"outlinewidth\":0,\"ticks\":\"\"}}}],\"carpet\":[{\"aaxis\":{\"endlinecolor\":\"#2a3f5f\",\"gridcolor\":\"white\",\"linecolor\":\"white\",\"minorgridcolor\":\"white\",\"startlinecolor\":\"#2a3f5f\"},\"baxis\":{\"endlinecolor\":\"#2a3f5f\",\"gridcolor\":\"white\",\"linecolor\":\"white\",\"minorgridcolor\":\"white\",\"startlinecolor\":\"#2a3f5f\"},\"type\":\"carpet\"}],\"table\":[{\"cells\":{\"fill\":{\"color\":\"#EBF0F8\"},\"line\":{\"color\":\"white\"}},\"header\":{\"fill\":{\"color\":\"#C8D4E3\"},\"line\":{\"color\":\"white\"}},\"type\":\"table\"}],\"barpolar\":[{\"marker\":{\"line\":{\"color\":\"#E5ECF6\",\"width\":0.5},\"pattern\":{\"fillmode\":\"overlay\",\"size\":10,\"solidity\":0.2}},\"type\":\"barpolar\"}],\"pie\":[{\"automargin\":true,\"type\":\"pie\"}]},\"layout\":{\"autotypenumbers\":\"strict\",\"colorway\":[\"#636efa\",\"#EF553B\",\"#00cc96\",\"#ab63fa\",\"#FFA15A\",\"#19d3f3\",\"#FF6692\",\"#B6E880\",\"#FF97FF\",\"#FECB52\"],\"font\":{\"color\":\"#2a3f5f\"},\"hovermode\":\"closest\",\"hoverlabel\":{\"align\":\"left\"},\"paper_bgcolor\":\"white\",\"plot_bgcolor\":\"#E5ECF6\",\"polar\":{\"bgcolor\":\"#E5ECF6\",\"angularaxis\":{\"gridcolor\":\"white\",\"linecolor\":\"white\",\"ticks\":\"\"},\"radialaxis\":{\"gridcolor\":\"white\",\"linecolor\":\"white\",\"ticks\":\"\"}},\"ternary\":{\"bgcolor\":\"#E5ECF6\",\"aaxis\":{\"gridcolor\":\"white\",\"linecolor\":\"white\",\"ticks\":\"\"},\"baxis\":{\"gridcolor\":\"white\",\"linecolor\":\"white\",\"ticks\":\"\"},\"caxis\":{\"gridcolor\":\"white\",\"linecolor\":\"white\",\"ticks\":\"\"}},\"coloraxis\":{\"colorbar\":{\"outlinewidth\":0,\"ticks\":\"\"}},\"colorscale\":{\"sequential\":[[0.0,\"#0d0887\"],[0.1111111111111111,\"#46039f\"],[0.2222222222222222,\"#7201a8\"],[0.3333333333333333,\"#9c179e\"],[0.4444444444444444,\"#bd3786\"],[0.5555555555555556,\"#d8576b\"],[0.6666666666666666,\"#ed7953\"],[0.7777777777777778,\"#fb9f3a\"],[0.8888888888888888,\"#fdca26\"],[1.0,\"#f0f921\"]],\"sequentialminus\":[[0.0,\"#0d0887\"],[0.1111111111111111,\"#46039f\"],[0.2222222222222222,\"#7201a8\"],[0.3333333333333333,\"#9c179e\"],[0.4444444444444444,\"#bd3786\"],[0.5555555555555556,\"#d8576b\"],[0.6666666666666666,\"#ed7953\"],[0.7777777777777778,\"#fb9f3a\"],[0.8888888888888888,\"#fdca26\"],[1.0,\"#f0f921\"]],\"diverging\":[[0,\"#8e0152\"],[0.1,\"#c51b7d\"],[0.2,\"#de77ae\"],[0.3,\"#f1b6da\"],[0.4,\"#fde0ef\"],[0.5,\"#f7f7f7\"],[0.6,\"#e6f5d0\"],[0.7,\"#b8e186\"],[0.8,\"#7fbc41\"],[0.9,\"#4d9221\"],[1,\"#276419\"]]},\"xaxis\":{\"gridcolor\":\"white\",\"linecolor\":\"white\",\"ticks\":\"\",\"title\":{\"standoff\":15},\"zerolinecolor\":\"white\",\"automargin\":true,\"zerolinewidth\":2},\"yaxis\":{\"gridcolor\":\"white\",\"linecolor\":\"white\",\"ticks\":\"\",\"title\":{\"standoff\":15},\"zerolinecolor\":\"white\",\"automargin\":true,\"zerolinewidth\":2},\"scene\":{\"xaxis\":{\"backgroundcolor\":\"#E5ECF6\",\"gridcolor\":\"white\",\"linecolor\":\"white\",\"showbackground\":true,\"ticks\":\"\",\"zerolinecolor\":\"white\",\"gridwidth\":2},\"yaxis\":{\"backgroundcolor\":\"#E5ECF6\",\"gridcolor\":\"white\",\"linecolor\":\"white\",\"showbackground\":true,\"ticks\":\"\",\"zerolinecolor\":\"white\",\"gridwidth\":2},\"zaxis\":{\"backgroundcolor\":\"#E5ECF6\",\"gridcolor\":\"white\",\"linecolor\":\"white\",\"showbackground\":true,\"ticks\":\"\",\"zerolinecolor\":\"white\",\"gridwidth\":2}},\"shapedefaults\":{\"line\":{\"color\":\"#2a3f5f\"}},\"annotationdefaults\":{\"arrowcolor\":\"#2a3f5f\",\"arrowhead\":0,\"arrowwidth\":1},\"geo\":{\"bgcolor\":\"white\",\"landcolor\":\"#E5ECF6\",\"subunitcolor\":\"white\",\"showland\":true,\"showlakes\":true,\"lakecolor\":\"white\"},\"title\":{\"x\":0.05},\"mapbox\":{\"style\":\"light\"}}},\"title\":{\"text\":\"Original vs MVMP Model R2 scores\",\"x\":0.29},\"xaxis\":{\"title\":{\"text\":\"Regression Model Type\"}},\"yaxis\":{\"title\":{\"text\":\"R2 score\"}}},                        {\"responsive\": true}                    ).then(function(){\n",
       "                            \n",
       "var gd = document.getElementById('1fc1c6fd-edcd-4608-b3e2-f0530ffa2707');\n",
       "var x = new MutationObserver(function (mutations, observer) {{\n",
       "        var display = window.getComputedStyle(gd).display;\n",
       "        if (!display || display === 'none') {{\n",
       "            console.log([gd, 'removed!']);\n",
       "            Plotly.purge(gd);\n",
       "            observer.disconnect();\n",
       "        }}\n",
       "}});\n",
       "\n",
       "// Listen for the removal of the full notebook cells\n",
       "var notebookContainer = gd.closest('#notebook-container');\n",
       "if (notebookContainer) {{\n",
       "    x.observe(notebookContainer, {childList: true});\n",
       "}}\n",
       "\n",
       "// Listen for the clearing of the current output cell\n",
       "var outputEl = gd.closest('.output');\n",
       "if (outputEl) {{\n",
       "    x.observe(outputEl, {childList: true});\n",
       "}}\n",
       "\n",
       "                        })                };                });            </script>        </div>"
      ]
     },
     "metadata": {},
     "output_type": "display_data"
    }
   ],
   "source": [
    "import plotly.graph_objects as px\n",
    "plot = px.Figure(data=[\n",
    "                       px.Bar(\n",
    "    name = 'Original Model',\n",
    "    x = mods,\n",
    "    y = og\n",
    "   ),\n",
    "    px.Bar(\n",
    "    name = 'MVMP Model',\n",
    "    x = mods,\n",
    "    y = new\n",
    "   ),\n",
    "], )\n",
    "\n",
    "plot.update_layout(title= 'Original vs MVMP Model R2 scores', title_x=0.29, xaxis_title = 'Regression Model Type', yaxis_title='R2 score')\n",
    "#plot.update_yaxes('R2 score')\n",
    "#plot.update_xaxes('Regression Model Type')\n",
    "plot.show()\n",
    "\n"
   ]
  },
  {
   "cell_type": "code",
   "execution_count": null,
   "id": "1d431dcb-45bb-44d3-95af-80322bc667be",
   "metadata": {},
   "outputs": [],
   "source": []
  },
  {
   "cell_type": "markdown",
   "id": "96756d2f-eb93-44c1-8fe3-d96eebd149fa",
   "metadata": {},
   "source": [
    "## Data Feature Selection & Cleaning"
   ]
  },
  {
   "cell_type": "code",
   "execution_count": null,
   "id": "322455d5-d8d3-4278-ab49-7b903ce384ea",
   "metadata": {
    "tags": []
   },
   "outputs": [],
   "source": [
    "## getting separate rows for day 0 MFI_normalized results and day 14 MFI_normalized results for IgG_PT \n",
    "IgG_d14 = IgG_1[IgG_1['planned_day_relative_to_boost'] == 14.0]\n",
    "IgG_d0 = IgG_1[IgG_1['planned_day_relative_to_boost'] == 0.0][['subject_id', 'IgG_PT']]\n",
    "IgG_d0 = IgG_d0.rename(columns={'subject_id': 'subject_id', 'IgG_PT': 'IgG_PT_d0'})\n",
    "IgG_d14 = IgG_d14.merge(IgG_d0, on='subject_id')"
   ]
  },
  {
   "cell_type": "code",
   "execution_count": null,
   "id": "41902f24-fb04-4004-85b9-edcc1258c409",
   "metadata": {
    "tags": []
   },
   "outputs": [],
   "source": [
    "IgG_d14 = IgG_d14[['infancy_vac', 'biological_sex', 'age', 'year_of_birth', 'ethnicity', 'race', 'visit', 'IgG_PT_d0', 'IgG_PT']]"
   ]
  },
  {
   "cell_type": "code",
   "execution_count": null,
   "id": "f8955f25-a515-4b8b-bc66-ffcc75ba14a9",
   "metadata": {
    "tags": []
   },
   "outputs": [],
   "source": [
    "IgG_d14.head()"
   ]
  },
  {
   "cell_type": "markdown",
   "id": "e2a6adfb-89c5-4649-ad03-81f12a9c2958",
   "metadata": {},
   "source": [
    "One Hot Encoding and mapping string data into numerical type for Regression training"
   ]
  },
  {
   "cell_type": "code",
   "execution_count": 327,
   "id": "4244408b-bc40-41d5-a4c1-8d7010e10c76",
   "metadata": {
    "tags": []
   },
   "outputs": [],
   "source": [
    "IgG_d14['infancy_vac'] = IgG_d14['infancy_vac'].map({'wP':0, 'aP':1})"
   ]
  },
  {
   "cell_type": "code",
   "execution_count": 328,
   "id": "9dba14c9-9d86-40b1-8d5a-733d67334690",
   "metadata": {
    "tags": []
   },
   "outputs": [],
   "source": [
    "IgG_d14['biological_sex'] = IgG_d14['biological_sex'].map({'Female':0, 'Male':1})"
   ]
  },
  {
   "cell_type": "code",
   "execution_count": 329,
   "id": "dbf7ea99-d896-4442-9f0b-d734705e8194",
   "metadata": {
    "tags": []
   },
   "outputs": [],
   "source": [
    "IgG_d14['ethnicity'] = IgG_d14['ethnicity'].map({'Not Hispanic or Latino':0, \n",
    "                                                   'Hispanic or Latino':1,\n",
    "                                                   'Unknown':2})"
   ]
  },
  {
   "cell_type": "code",
   "execution_count": 330,
   "id": "930a4e1e-1be4-44d7-8f52-84b5cf1685a8",
   "metadata": {
    "tags": []
   },
   "outputs": [
    {
     "data": {
      "text/html": [
       "<div>\n",
       "<style scoped>\n",
       "    .dataframe tbody tr th:only-of-type {\n",
       "        vertical-align: middle;\n",
       "    }\n",
       "\n",
       "    .dataframe tbody tr th {\n",
       "        vertical-align: top;\n",
       "    }\n",
       "\n",
       "    .dataframe thead th {\n",
       "        text-align: right;\n",
       "    }\n",
       "</style>\n",
       "<table border=\"1\" class=\"dataframe\">\n",
       "  <thead>\n",
       "    <tr style=\"text-align: right;\">\n",
       "      <th></th>\n",
       "      <th>infancy_vac</th>\n",
       "      <th>biological_sex</th>\n",
       "      <th>age</th>\n",
       "      <th>year_of_birth</th>\n",
       "      <th>ethnicity</th>\n",
       "      <th>race</th>\n",
       "      <th>visit</th>\n",
       "      <th>IgG_PT_d0</th>\n",
       "      <th>IgG_PT</th>\n",
       "    </tr>\n",
       "  </thead>\n",
       "  <tbody>\n",
       "    <tr>\n",
       "      <th>0</th>\n",
       "      <td>0</td>\n",
       "      <td>0</td>\n",
       "      <td>30</td>\n",
       "      <td>1986</td>\n",
       "      <td>0</td>\n",
       "      <td>0</td>\n",
       "      <td>5</td>\n",
       "      <td>3.736992</td>\n",
       "      <td>10.874112</td>\n",
       "    </tr>\n",
       "    <tr>\n",
       "      <th>1</th>\n",
       "      <td>0</td>\n",
       "      <td>0</td>\n",
       "      <td>33</td>\n",
       "      <td>1983</td>\n",
       "      <td>2</td>\n",
       "      <td>0</td>\n",
       "      <td>5</td>\n",
       "      <td>1.096366</td>\n",
       "      <td>7.041547</td>\n",
       "    </tr>\n",
       "    <tr>\n",
       "      <th>2</th>\n",
       "      <td>0</td>\n",
       "      <td>1</td>\n",
       "      <td>28</td>\n",
       "      <td>1988</td>\n",
       "      <td>0</td>\n",
       "      <td>1</td>\n",
       "      <td>5</td>\n",
       "      <td>2.046671</td>\n",
       "      <td>7.896541</td>\n",
       "    </tr>\n",
       "    <tr>\n",
       "      <th>3</th>\n",
       "      <td>0</td>\n",
       "      <td>1</td>\n",
       "      <td>25</td>\n",
       "      <td>1991</td>\n",
       "      <td>0</td>\n",
       "      <td>1</td>\n",
       "      <td>5</td>\n",
       "      <td>3.798007</td>\n",
       "      <td>5.327203</td>\n",
       "    </tr>\n",
       "    <tr>\n",
       "      <th>4</th>\n",
       "      <td>0</td>\n",
       "      <td>0</td>\n",
       "      <td>28</td>\n",
       "      <td>1988</td>\n",
       "      <td>0</td>\n",
       "      <td>0</td>\n",
       "      <td>5</td>\n",
       "      <td>0.213328</td>\n",
       "      <td>9.128886</td>\n",
       "    </tr>\n",
       "  </tbody>\n",
       "</table>\n",
       "</div>"
      ],
      "text/plain": [
       "   infancy_vac  biological_sex  age  year_of_birth  ethnicity  race  visit  \\\n",
       "0            0               0   30           1986          0     0      5   \n",
       "1            0               0   33           1983          2     0      5   \n",
       "2            0               1   28           1988          0     1      5   \n",
       "3            0               1   25           1991          0     1      5   \n",
       "4            0               0   28           1988          0     0      5   \n",
       "\n",
       "   IgG_PT_d0     IgG_PT  \n",
       "0   3.736992  10.874112  \n",
       "1   1.096366   7.041547  \n",
       "2   2.046671   7.896541  \n",
       "3   3.798007   5.327203  \n",
       "4   0.213328   9.128886  "
      ]
     },
     "execution_count": 330,
     "metadata": {},
     "output_type": "execute_result"
    }
   ],
   "source": [
    "IgG_d14['race'] = IgG_d14['race'].map({'White':0, \n",
    "                                       'Asian':1,\n",
    "                                       'Unknown or Not Reported': 2,\n",
    "                                       'More Than One Race': 2,\n",
    "                                       'Black or African American': 3,\n",
    "                                       'Native Hawaiian or Other Pacific Islander': 4,\n",
    "                                       'American Indian/Alaska Native':5\n",
    "                                      })\n",
    "IgG_d14.head()"
   ]
  },
  {
   "cell_type": "markdown",
   "id": "badb92ec-0c54-4205-a8bc-94634267d86e",
   "metadata": {},
   "source": [
    "## Training and Evaluating Models"
   ]
  },
  {
   "cell_type": "code",
   "execution_count": 374,
   "id": "b47d44b7-5ddc-4d98-82c3-accfc608e069",
   "metadata": {
    "tags": []
   },
   "outputs": [],
   "source": [
    "X = IgG_d14.drop('IgG_PT', axis = 1)\n",
    "y = IgG_d14['IgG_PT']"
   ]
  },
  {
   "cell_type": "code",
   "execution_count": 375,
   "id": "35bc6b50-fc37-4277-be3a-e252aa86f44b",
   "metadata": {
    "tags": []
   },
   "outputs": [
    {
     "name": "stdout",
     "output_type": "stream",
     "text": [
      "         Features     Score\n",
      "7       IgG_PT_d0  0.309570\n",
      "2             age  0.214940\n",
      "4       ethnicity  0.076466\n",
      "5            race -0.003747\n",
      "6           visit -0.004199\n",
      "1  biological_sex -0.096522\n",
      "0     infancy_vac -0.145532\n",
      "3   year_of_birth -0.201428\n"
     ]
    }
   ],
   "source": [
    "#apply SelectKBest class to extract top 10 best features\n",
    "bestfeatures = SelectKBest(score_func=r_regression, k=8)\n",
    "fit = bestfeatures.fit(X,y)\n",
    "dfscores = pd.DataFrame(fit.scores_)\n",
    "dfcolumns = pd.DataFrame(X.columns)\n",
    "\n",
    "#concat two dataframes for better visualization \n",
    "featureScores = pd.concat([dfcolumns,dfscores],axis=1)\n",
    "featureScores.columns = ['Features','Score']  #naming the dataframe columns\n",
    "print(featureScores.nlargest(100,'Score'))  #print 10 best features"
   ]
  },
  {
   "cell_type": "code",
   "execution_count": 376,
   "id": "46571f9d-65bc-4ee3-aaa5-f2281ac0d9b1",
   "metadata": {
    "tags": []
   },
   "outputs": [
    {
     "data": {
      "text/html": [
       "<div>\n",
       "<style scoped>\n",
       "    .dataframe tbody tr th:only-of-type {\n",
       "        vertical-align: middle;\n",
       "    }\n",
       "\n",
       "    .dataframe tbody tr th {\n",
       "        vertical-align: top;\n",
       "    }\n",
       "\n",
       "    .dataframe thead th {\n",
       "        text-align: right;\n",
       "    }\n",
       "</style>\n",
       "<table border=\"1\" class=\"dataframe\">\n",
       "  <thead>\n",
       "    <tr style=\"text-align: right;\">\n",
       "      <th></th>\n",
       "      <th>Features</th>\n",
       "      <th>Score</th>\n",
       "    </tr>\n",
       "  </thead>\n",
       "  <tbody>\n",
       "    <tr>\n",
       "      <th>0</th>\n",
       "      <td>IgG_PT_d0</td>\n",
       "      <td>0.309570</td>\n",
       "    </tr>\n",
       "    <tr>\n",
       "      <th>1</th>\n",
       "      <td>age</td>\n",
       "      <td>0.214940</td>\n",
       "    </tr>\n",
       "    <tr>\n",
       "      <th>2</th>\n",
       "      <td>ethnicity</td>\n",
       "      <td>0.076466</td>\n",
       "    </tr>\n",
       "    <tr>\n",
       "      <th>3</th>\n",
       "      <td>race</td>\n",
       "      <td>-0.003747</td>\n",
       "    </tr>\n",
       "    <tr>\n",
       "      <th>4</th>\n",
       "      <td>visit</td>\n",
       "      <td>-0.004199</td>\n",
       "    </tr>\n",
       "    <tr>\n",
       "      <th>5</th>\n",
       "      <td>biological_sex</td>\n",
       "      <td>-0.096522</td>\n",
       "    </tr>\n",
       "    <tr>\n",
       "      <th>6</th>\n",
       "      <td>infancy_vac</td>\n",
       "      <td>-0.145532</td>\n",
       "    </tr>\n",
       "    <tr>\n",
       "      <th>7</th>\n",
       "      <td>year_of_birth</td>\n",
       "      <td>-0.201428</td>\n",
       "    </tr>\n",
       "  </tbody>\n",
       "</table>\n",
       "</div>"
      ],
      "text/plain": [
       "         Features     Score\n",
       "0       IgG_PT_d0  0.309570\n",
       "1             age  0.214940\n",
       "2       ethnicity  0.076466\n",
       "3            race -0.003747\n",
       "4           visit -0.004199\n",
       "5  biological_sex -0.096522\n",
       "6     infancy_vac -0.145532\n",
       "7   year_of_birth -0.201428"
      ]
     },
     "execution_count": 376,
     "metadata": {},
     "output_type": "execute_result"
    }
   ],
   "source": [
    "featureScores.sort_values(by=['Score'], ascending = False).reset_index(drop=True).head(10)"
   ]
  },
  {
   "cell_type": "code",
   "execution_count": 377,
   "id": "84fd7f74-fe7b-4597-a375-a36c0ba1eae3",
   "metadata": {
    "tags": []
   },
   "outputs": [],
   "source": [
    "X_train, X_test, y_train, y_test = train_test_split(X, y, test_size=0.2)"
   ]
  },
  {
   "cell_type": "markdown",
   "id": "3c7a927b-9b86-4686-8066-0a7bbe9da665",
   "metadata": {
    "tags": []
   },
   "source": [
    "First we will test a simple naive model, Linear Regression, to get a baseline of how a model should at least perform"
   ]
  },
  {
   "cell_type": "code",
   "execution_count": 378,
   "id": "ca452a23-4a07-47a8-935d-21ae1ae1970b",
   "metadata": {
    "tags": []
   },
   "outputs": [],
   "source": [
    "reg = LinearRegression().fit(X, y)"
   ]
  },
  {
   "cell_type": "code",
   "execution_count": 379,
   "id": "0df87875-68ac-499d-8feb-7dae79efbb2f",
   "metadata": {
    "tags": []
   },
   "outputs": [
    {
     "data": {
      "text/plain": [
       "0.1650436797649475"
      ]
     },
     "execution_count": 379,
     "metadata": {},
     "output_type": "execute_result"
    }
   ],
   "source": [
    "reg.score(X, y)"
   ]
  },
  {
   "cell_type": "markdown",
   "id": "c8386079-0b3c-4a58-a819-4956d0e0e6c8",
   "metadata": {
    "tags": []
   },
   "source": [
    "The MSE, MAE, and R2 scores were mediocre at best, and could defintely be improved upon"
   ]
  },
  {
   "cell_type": "code",
   "execution_count": 380,
   "id": "110d38cf-84a6-4e9e-8645-f45b8c8ccdcf",
   "metadata": {
    "tags": []
   },
   "outputs": [],
   "source": [
    "Y_pred = reg.predict(X)"
   ]
  },
  {
   "cell_type": "code",
   "execution_count": 381,
   "id": "aeaedaf5-ecd7-485c-aacb-cadea1fa0036",
   "metadata": {
    "tags": []
   },
   "outputs": [
    {
     "data": {
      "text/plain": [
       "(21.592059006324835, 3.6543297180405743, 0.1650436797649475)"
      ]
     },
     "execution_count": 381,
     "metadata": {},
     "output_type": "execute_result"
    }
   ],
   "source": [
    "mse = mean_squared_error(y, Y_pred)\n",
    "mae = mean_absolute_error(y, Y_pred)\n",
    "r2 = r2_score(y, Y_pred)\n",
    "mse, mae, r2"
   ]
  },
  {
   "cell_type": "markdown",
   "id": "f8c29efa-6ce3-487f-8f1e-ba0967d548f5",
   "metadata": {
    "tags": []
   },
   "source": [
    "Next, we will test ElasticNet, a combination of Ridge and Lasso Regression"
   ]
  },
  {
   "cell_type": "code",
   "execution_count": 382,
   "id": "c1c98060-b248-44be-9e4d-e89366d0026b",
   "metadata": {
    "tags": []
   },
   "outputs": [
    {
     "data": {
      "text/html": [
       "<style>#sk-container-id-7 {color: black;}#sk-container-id-7 pre{padding: 0;}#sk-container-id-7 div.sk-toggleable {background-color: white;}#sk-container-id-7 label.sk-toggleable__label {cursor: pointer;display: block;width: 100%;margin-bottom: 0;padding: 0.3em;box-sizing: border-box;text-align: center;}#sk-container-id-7 label.sk-toggleable__label-arrow:before {content: \"▸\";float: left;margin-right: 0.25em;color: #696969;}#sk-container-id-7 label.sk-toggleable__label-arrow:hover:before {color: black;}#sk-container-id-7 div.sk-estimator:hover label.sk-toggleable__label-arrow:before {color: black;}#sk-container-id-7 div.sk-toggleable__content {max-height: 0;max-width: 0;overflow: hidden;text-align: left;background-color: #f0f8ff;}#sk-container-id-7 div.sk-toggleable__content pre {margin: 0.2em;color: black;border-radius: 0.25em;background-color: #f0f8ff;}#sk-container-id-7 input.sk-toggleable__control:checked~div.sk-toggleable__content {max-height: 200px;max-width: 100%;overflow: auto;}#sk-container-id-7 input.sk-toggleable__control:checked~label.sk-toggleable__label-arrow:before {content: \"▾\";}#sk-container-id-7 div.sk-estimator input.sk-toggleable__control:checked~label.sk-toggleable__label {background-color: #d4ebff;}#sk-container-id-7 div.sk-label input.sk-toggleable__control:checked~label.sk-toggleable__label {background-color: #d4ebff;}#sk-container-id-7 input.sk-hidden--visually {border: 0;clip: rect(1px 1px 1px 1px);clip: rect(1px, 1px, 1px, 1px);height: 1px;margin: -1px;overflow: hidden;padding: 0;position: absolute;width: 1px;}#sk-container-id-7 div.sk-estimator {font-family: monospace;background-color: #f0f8ff;border: 1px dotted black;border-radius: 0.25em;box-sizing: border-box;margin-bottom: 0.5em;}#sk-container-id-7 div.sk-estimator:hover {background-color: #d4ebff;}#sk-container-id-7 div.sk-parallel-item::after {content: \"\";width: 100%;border-bottom: 1px solid gray;flex-grow: 1;}#sk-container-id-7 div.sk-label:hover label.sk-toggleable__label {background-color: #d4ebff;}#sk-container-id-7 div.sk-serial::before {content: \"\";position: absolute;border-left: 1px solid gray;box-sizing: border-box;top: 0;bottom: 0;left: 50%;z-index: 0;}#sk-container-id-7 div.sk-serial {display: flex;flex-direction: column;align-items: center;background-color: white;padding-right: 0.2em;padding-left: 0.2em;position: relative;}#sk-container-id-7 div.sk-item {position: relative;z-index: 1;}#sk-container-id-7 div.sk-parallel {display: flex;align-items: stretch;justify-content: center;background-color: white;position: relative;}#sk-container-id-7 div.sk-item::before, #sk-container-id-7 div.sk-parallel-item::before {content: \"\";position: absolute;border-left: 1px solid gray;box-sizing: border-box;top: 0;bottom: 0;left: 50%;z-index: -1;}#sk-container-id-7 div.sk-parallel-item {display: flex;flex-direction: column;z-index: 1;position: relative;background-color: white;}#sk-container-id-7 div.sk-parallel-item:first-child::after {align-self: flex-end;width: 50%;}#sk-container-id-7 div.sk-parallel-item:last-child::after {align-self: flex-start;width: 50%;}#sk-container-id-7 div.sk-parallel-item:only-child::after {width: 0;}#sk-container-id-7 div.sk-dashed-wrapped {border: 1px dashed gray;margin: 0 0.4em 0.5em 0.4em;box-sizing: border-box;padding-bottom: 0.4em;background-color: white;}#sk-container-id-7 div.sk-label label {font-family: monospace;font-weight: bold;display: inline-block;line-height: 1.2em;}#sk-container-id-7 div.sk-label-container {text-align: center;}#sk-container-id-7 div.sk-container {/* jupyter's `normalize.less` sets `[hidden] { display: none; }` but bootstrap.min.css set `[hidden] { display: none !important; }` so we also need the `!important` here to be able to override the default hidden behavior on the sphinx rendered scikit-learn.org. See: https://github.com/scikit-learn/scikit-learn/issues/21755 */display: inline-block !important;position: relative;}#sk-container-id-7 div.sk-text-repr-fallback {display: none;}</style><div id=\"sk-container-id-7\" class=\"sk-top-container\"><div class=\"sk-text-repr-fallback\"><pre>ElasticNet()</pre><b>In a Jupyter environment, please rerun this cell to show the HTML representation or trust the notebook. <br />On GitHub, the HTML representation is unable to render, please try loading this page with nbviewer.org.</b></div><div class=\"sk-container\" hidden><div class=\"sk-item\"><div class=\"sk-estimator sk-toggleable\"><input class=\"sk-toggleable__control sk-hidden--visually\" id=\"sk-estimator-id-7\" type=\"checkbox\" checked><label for=\"sk-estimator-id-7\" class=\"sk-toggleable__label sk-toggleable__label-arrow\">ElasticNet</label><div class=\"sk-toggleable__content\"><pre>ElasticNet()</pre></div></div></div></div></div>"
      ],
      "text/plain": [
       "ElasticNet()"
      ]
     },
     "execution_count": 382,
     "metadata": {},
     "output_type": "execute_result"
    }
   ],
   "source": [
    "model = ElasticNet()\n",
    "model.fit(X, y)"
   ]
  },
  {
   "cell_type": "code",
   "execution_count": 383,
   "id": "a318be5b-f592-4cd2-9eba-934f65616d53",
   "metadata": {
    "tags": []
   },
   "outputs": [],
   "source": [
    "Y_pred = model.predict(X)"
   ]
  },
  {
   "cell_type": "code",
   "execution_count": 384,
   "id": "3d7b2a37-525f-4da4-bb83-5a93051a8466",
   "metadata": {
    "tags": []
   },
   "outputs": [
    {
     "data": {
      "text/plain": [
       "(22.09278417730857, 3.7085192730424317, 0.14568083687482836)"
      ]
     },
     "execution_count": 384,
     "metadata": {},
     "output_type": "execute_result"
    }
   ],
   "source": [
    "mse = mean_squared_error(y, Y_pred)\n",
    "mae = mean_absolute_error(y, Y_pred)\n",
    "r2 = r2_score(y, Y_pred)\n",
    "mse, mae, r2"
   ]
  },
  {
   "cell_type": "markdown",
   "id": "254a7d92-a6b2-4e95-9c2e-6dc9b5649559",
   "metadata": {},
   "source": [
    "Since our training data we are working with is fairly constricted in size, we will take a look at how KNeighborsRegressor will perform"
   ]
  },
  {
   "cell_type": "code",
   "execution_count": 385,
   "id": "d6a77815-6394-4dc5-9176-516d575fba53",
   "metadata": {
    "tags": []
   },
   "outputs": [
    {
     "data": {
      "text/html": [
       "<style>#sk-container-id-8 {color: black;}#sk-container-id-8 pre{padding: 0;}#sk-container-id-8 div.sk-toggleable {background-color: white;}#sk-container-id-8 label.sk-toggleable__label {cursor: pointer;display: block;width: 100%;margin-bottom: 0;padding: 0.3em;box-sizing: border-box;text-align: center;}#sk-container-id-8 label.sk-toggleable__label-arrow:before {content: \"▸\";float: left;margin-right: 0.25em;color: #696969;}#sk-container-id-8 label.sk-toggleable__label-arrow:hover:before {color: black;}#sk-container-id-8 div.sk-estimator:hover label.sk-toggleable__label-arrow:before {color: black;}#sk-container-id-8 div.sk-toggleable__content {max-height: 0;max-width: 0;overflow: hidden;text-align: left;background-color: #f0f8ff;}#sk-container-id-8 div.sk-toggleable__content pre {margin: 0.2em;color: black;border-radius: 0.25em;background-color: #f0f8ff;}#sk-container-id-8 input.sk-toggleable__control:checked~div.sk-toggleable__content {max-height: 200px;max-width: 100%;overflow: auto;}#sk-container-id-8 input.sk-toggleable__control:checked~label.sk-toggleable__label-arrow:before {content: \"▾\";}#sk-container-id-8 div.sk-estimator input.sk-toggleable__control:checked~label.sk-toggleable__label {background-color: #d4ebff;}#sk-container-id-8 div.sk-label input.sk-toggleable__control:checked~label.sk-toggleable__label {background-color: #d4ebff;}#sk-container-id-8 input.sk-hidden--visually {border: 0;clip: rect(1px 1px 1px 1px);clip: rect(1px, 1px, 1px, 1px);height: 1px;margin: -1px;overflow: hidden;padding: 0;position: absolute;width: 1px;}#sk-container-id-8 div.sk-estimator {font-family: monospace;background-color: #f0f8ff;border: 1px dotted black;border-radius: 0.25em;box-sizing: border-box;margin-bottom: 0.5em;}#sk-container-id-8 div.sk-estimator:hover {background-color: #d4ebff;}#sk-container-id-8 div.sk-parallel-item::after {content: \"\";width: 100%;border-bottom: 1px solid gray;flex-grow: 1;}#sk-container-id-8 div.sk-label:hover label.sk-toggleable__label {background-color: #d4ebff;}#sk-container-id-8 div.sk-serial::before {content: \"\";position: absolute;border-left: 1px solid gray;box-sizing: border-box;top: 0;bottom: 0;left: 50%;z-index: 0;}#sk-container-id-8 div.sk-serial {display: flex;flex-direction: column;align-items: center;background-color: white;padding-right: 0.2em;padding-left: 0.2em;position: relative;}#sk-container-id-8 div.sk-item {position: relative;z-index: 1;}#sk-container-id-8 div.sk-parallel {display: flex;align-items: stretch;justify-content: center;background-color: white;position: relative;}#sk-container-id-8 div.sk-item::before, #sk-container-id-8 div.sk-parallel-item::before {content: \"\";position: absolute;border-left: 1px solid gray;box-sizing: border-box;top: 0;bottom: 0;left: 50%;z-index: -1;}#sk-container-id-8 div.sk-parallel-item {display: flex;flex-direction: column;z-index: 1;position: relative;background-color: white;}#sk-container-id-8 div.sk-parallel-item:first-child::after {align-self: flex-end;width: 50%;}#sk-container-id-8 div.sk-parallel-item:last-child::after {align-self: flex-start;width: 50%;}#sk-container-id-8 div.sk-parallel-item:only-child::after {width: 0;}#sk-container-id-8 div.sk-dashed-wrapped {border: 1px dashed gray;margin: 0 0.4em 0.5em 0.4em;box-sizing: border-box;padding-bottom: 0.4em;background-color: white;}#sk-container-id-8 div.sk-label label {font-family: monospace;font-weight: bold;display: inline-block;line-height: 1.2em;}#sk-container-id-8 div.sk-label-container {text-align: center;}#sk-container-id-8 div.sk-container {/* jupyter's `normalize.less` sets `[hidden] { display: none; }` but bootstrap.min.css set `[hidden] { display: none !important; }` so we also need the `!important` here to be able to override the default hidden behavior on the sphinx rendered scikit-learn.org. See: https://github.com/scikit-learn/scikit-learn/issues/21755 */display: inline-block !important;position: relative;}#sk-container-id-8 div.sk-text-repr-fallback {display: none;}</style><div id=\"sk-container-id-8\" class=\"sk-top-container\"><div class=\"sk-text-repr-fallback\"><pre>KNeighborsRegressor()</pre><b>In a Jupyter environment, please rerun this cell to show the HTML representation or trust the notebook. <br />On GitHub, the HTML representation is unable to render, please try loading this page with nbviewer.org.</b></div><div class=\"sk-container\" hidden><div class=\"sk-item\"><div class=\"sk-estimator sk-toggleable\"><input class=\"sk-toggleable__control sk-hidden--visually\" id=\"sk-estimator-id-8\" type=\"checkbox\" checked><label for=\"sk-estimator-id-8\" class=\"sk-toggleable__label sk-toggleable__label-arrow\">KNeighborsRegressor</label><div class=\"sk-toggleable__content\"><pre>KNeighborsRegressor()</pre></div></div></div></div></div>"
      ],
      "text/plain": [
       "KNeighborsRegressor()"
      ]
     },
     "execution_count": 385,
     "metadata": {},
     "output_type": "execute_result"
    }
   ],
   "source": [
    "kn = KNeighborsRegressor()\n",
    "kn.fit(X, y)"
   ]
  },
  {
   "cell_type": "code",
   "execution_count": 386,
   "id": "b43714bf-68a0-4f91-b868-f2e8df4c0f1a",
   "metadata": {
    "tags": []
   },
   "outputs": [],
   "source": [
    "Y_pred = kn.predict(X)"
   ]
  },
  {
   "cell_type": "code",
   "execution_count": 387,
   "id": "965ab42e-007c-4399-b1c6-9c1a749852a3",
   "metadata": {
    "tags": []
   },
   "outputs": [
    {
     "data": {
      "text/plain": [
       "(16.129934626932343, 3.0703156584806424, 0.37626185359208475)"
      ]
     },
     "execution_count": 387,
     "metadata": {},
     "output_type": "execute_result"
    }
   ],
   "source": [
    "mse = mean_squared_error(y, Y_pred)\n",
    "mae = mean_absolute_error(y, Y_pred)\n",
    "r2 = r2_score(y, Y_pred)\n",
    "mse, mae, r2"
   ]
  },
  {
   "cell_type": "markdown",
   "id": "f6a3db6d-f199-46ba-a07f-9e7e97600f41",
   "metadata": {},
   "source": [
    "The results are promising with a R2 score of 0.43 on a scale from 0 to 1, alot better than our baseline with Linear Regression of 0.15. The MSE score was also improved upon."
   ]
  },
  {
   "cell_type": "markdown",
   "id": "ea3922fe-0f58-4b53-93fb-af45e14728a3",
   "metadata": {},
   "source": [
    "Lastly, we will test DecisionTreeRegressor to see how it performs in comparison to KNeighborsRegressor"
   ]
  },
  {
   "cell_type": "code",
   "execution_count": 388,
   "id": "655b5bb3-5260-48e1-b5e2-716426c7ddcc",
   "metadata": {
    "tags": []
   },
   "outputs": [
    {
     "data": {
      "text/html": [
       "<style>#sk-container-id-9 {color: black;}#sk-container-id-9 pre{padding: 0;}#sk-container-id-9 div.sk-toggleable {background-color: white;}#sk-container-id-9 label.sk-toggleable__label {cursor: pointer;display: block;width: 100%;margin-bottom: 0;padding: 0.3em;box-sizing: border-box;text-align: center;}#sk-container-id-9 label.sk-toggleable__label-arrow:before {content: \"▸\";float: left;margin-right: 0.25em;color: #696969;}#sk-container-id-9 label.sk-toggleable__label-arrow:hover:before {color: black;}#sk-container-id-9 div.sk-estimator:hover label.sk-toggleable__label-arrow:before {color: black;}#sk-container-id-9 div.sk-toggleable__content {max-height: 0;max-width: 0;overflow: hidden;text-align: left;background-color: #f0f8ff;}#sk-container-id-9 div.sk-toggleable__content pre {margin: 0.2em;color: black;border-radius: 0.25em;background-color: #f0f8ff;}#sk-container-id-9 input.sk-toggleable__control:checked~div.sk-toggleable__content {max-height: 200px;max-width: 100%;overflow: auto;}#sk-container-id-9 input.sk-toggleable__control:checked~label.sk-toggleable__label-arrow:before {content: \"▾\";}#sk-container-id-9 div.sk-estimator input.sk-toggleable__control:checked~label.sk-toggleable__label {background-color: #d4ebff;}#sk-container-id-9 div.sk-label input.sk-toggleable__control:checked~label.sk-toggleable__label {background-color: #d4ebff;}#sk-container-id-9 input.sk-hidden--visually {border: 0;clip: rect(1px 1px 1px 1px);clip: rect(1px, 1px, 1px, 1px);height: 1px;margin: -1px;overflow: hidden;padding: 0;position: absolute;width: 1px;}#sk-container-id-9 div.sk-estimator {font-family: monospace;background-color: #f0f8ff;border: 1px dotted black;border-radius: 0.25em;box-sizing: border-box;margin-bottom: 0.5em;}#sk-container-id-9 div.sk-estimator:hover {background-color: #d4ebff;}#sk-container-id-9 div.sk-parallel-item::after {content: \"\";width: 100%;border-bottom: 1px solid gray;flex-grow: 1;}#sk-container-id-9 div.sk-label:hover label.sk-toggleable__label {background-color: #d4ebff;}#sk-container-id-9 div.sk-serial::before {content: \"\";position: absolute;border-left: 1px solid gray;box-sizing: border-box;top: 0;bottom: 0;left: 50%;z-index: 0;}#sk-container-id-9 div.sk-serial {display: flex;flex-direction: column;align-items: center;background-color: white;padding-right: 0.2em;padding-left: 0.2em;position: relative;}#sk-container-id-9 div.sk-item {position: relative;z-index: 1;}#sk-container-id-9 div.sk-parallel {display: flex;align-items: stretch;justify-content: center;background-color: white;position: relative;}#sk-container-id-9 div.sk-item::before, #sk-container-id-9 div.sk-parallel-item::before {content: \"\";position: absolute;border-left: 1px solid gray;box-sizing: border-box;top: 0;bottom: 0;left: 50%;z-index: -1;}#sk-container-id-9 div.sk-parallel-item {display: flex;flex-direction: column;z-index: 1;position: relative;background-color: white;}#sk-container-id-9 div.sk-parallel-item:first-child::after {align-self: flex-end;width: 50%;}#sk-container-id-9 div.sk-parallel-item:last-child::after {align-self: flex-start;width: 50%;}#sk-container-id-9 div.sk-parallel-item:only-child::after {width: 0;}#sk-container-id-9 div.sk-dashed-wrapped {border: 1px dashed gray;margin: 0 0.4em 0.5em 0.4em;box-sizing: border-box;padding-bottom: 0.4em;background-color: white;}#sk-container-id-9 div.sk-label label {font-family: monospace;font-weight: bold;display: inline-block;line-height: 1.2em;}#sk-container-id-9 div.sk-label-container {text-align: center;}#sk-container-id-9 div.sk-container {/* jupyter's `normalize.less` sets `[hidden] { display: none; }` but bootstrap.min.css set `[hidden] { display: none !important; }` so we also need the `!important` here to be able to override the default hidden behavior on the sphinx rendered scikit-learn.org. See: https://github.com/scikit-learn/scikit-learn/issues/21755 */display: inline-block !important;position: relative;}#sk-container-id-9 div.sk-text-repr-fallback {display: none;}</style><div id=\"sk-container-id-9\" class=\"sk-top-container\"><div class=\"sk-text-repr-fallback\"><pre>DecisionTreeRegressor(max_depth=10)</pre><b>In a Jupyter environment, please rerun this cell to show the HTML representation or trust the notebook. <br />On GitHub, the HTML representation is unable to render, please try loading this page with nbviewer.org.</b></div><div class=\"sk-container\" hidden><div class=\"sk-item\"><div class=\"sk-estimator sk-toggleable\"><input class=\"sk-toggleable__control sk-hidden--visually\" id=\"sk-estimator-id-9\" type=\"checkbox\" checked><label for=\"sk-estimator-id-9\" class=\"sk-toggleable__label sk-toggleable__label-arrow\">DecisionTreeRegressor</label><div class=\"sk-toggleable__content\"><pre>DecisionTreeRegressor(max_depth=10)</pre></div></div></div></div></div>"
      ],
      "text/plain": [
       "DecisionTreeRegressor(max_depth=10)"
      ]
     },
     "execution_count": 388,
     "metadata": {},
     "output_type": "execute_result"
    }
   ],
   "source": [
    "regr_1 = DecisionTreeRegressor(max_depth=2)\n",
    "regr_2 = DecisionTreeRegressor(max_depth=5)\n",
    "regr_3 = DecisionTreeRegressor(max_depth=10)\n",
    "regr_1.fit(X, y)\n",
    "regr_2.fit(X, y)\n",
    "regr_3.fit(X, y)"
   ]
  },
  {
   "cell_type": "code",
   "execution_count": 389,
   "id": "bff58dd7-a582-4a44-820a-c01ab95488e4",
   "metadata": {
    "tags": []
   },
   "outputs": [],
   "source": [
    "y_1 = regr_1.predict(X)\n",
    "y_2 = regr_2.predict(X)\n",
    "y_3 = regr_3.predict(X)"
   ]
  },
  {
   "cell_type": "code",
   "execution_count": 390,
   "id": "840d9ccc-7648-43c1-8cba-9d1ecad05262",
   "metadata": {
    "tags": []
   },
   "outputs": [
    {
     "data": {
      "text/plain": [
       "(15.927582684728465, 3.0081246225292047, 0.3840867225869997)"
      ]
     },
     "execution_count": 390,
     "metadata": {},
     "output_type": "execute_result"
    }
   ],
   "source": [
    "mse = mean_squared_error(y, y_1)\n",
    "mae = mean_absolute_error(y, y_1)\n",
    "r2 = r2_score(y, y_1)\n",
    "mse, mae, r2"
   ]
  },
  {
   "cell_type": "code",
   "execution_count": 391,
   "id": "b4ac9c08-3f87-4b30-a814-05fb4f38d6e6",
   "metadata": {
    "tags": []
   },
   "outputs": [
    {
     "data": {
      "text/plain": [
       "(11.875539130493431, 2.2725830350587057, 0.5407776326333831)"
      ]
     },
     "execution_count": 391,
     "metadata": {},
     "output_type": "execute_result"
    }
   ],
   "source": [
    "mse = mean_squared_error(y, y_2)\n",
    "mae = mean_absolute_error(y, y_2)\n",
    "r2 = r2_score(y, y_2)\n",
    "mse, mae, r2"
   ]
  },
  {
   "cell_type": "code",
   "execution_count": 392,
   "id": "a8365b9a-f6ee-4320-b223-4ce3ba65038f",
   "metadata": {
    "tags": []
   },
   "outputs": [
    {
     "data": {
      "text/plain": [
       "(0.5575911007495251, 0.33231507317888076, 0.9784381742592839)"
      ]
     },
     "execution_count": 392,
     "metadata": {},
     "output_type": "execute_result"
    }
   ],
   "source": [
    "mse = mean_squared_error(y, y_3)\n",
    "mae = mean_absolute_error(y, y_3)\n",
    "r2 = r2_score(y, y_3)\n",
    "mse, mae, r2"
   ]
  },
  {
   "cell_type": "code",
   "execution_count": 393,
   "id": "09d85b96-c37b-4ff7-ba23-11ab9b095ea6",
   "metadata": {
    "tags": []
   },
   "outputs": [],
   "source": [
    "rf = RandomForestRegressor()\n",
    "rf.fit(X, y)\n",
    "Y_pred = rf.predict(X)"
   ]
  },
  {
   "cell_type": "code",
   "execution_count": 395,
   "id": "d0e4e443-e20d-4844-b50a-65cf321fce20",
   "metadata": {
    "tags": []
   },
   "outputs": [
    {
     "data": {
      "text/plain": [
       "(3.567596736855357, 1.3810360715017191, 0.8620424553946072)"
      ]
     },
     "execution_count": 395,
     "metadata": {},
     "output_type": "execute_result"
    }
   ],
   "source": [
    "mse = mean_squared_error(y, Y_pred)\n",
    "mae = mean_absolute_error(y, Y_pred)\n",
    "r2 = r2_score(y, Y_pred)\n",
    "mse, mae, r2"
   ]
  },
  {
   "cell_type": "code",
   "execution_count": 398,
   "id": "ed64d335-6be8-4f6c-af4b-efb3fcba6dd2",
   "metadata": {
    "tags": []
   },
   "outputs": [],
   "source": [
    "og= [0.165,0.38,0.384, 0.68]\n",
    "new = [0.657,0.54,0.82,0.89]\n",
    "mods=['Linear Regression', 'K-NN', 'Decision Tree', 'Random Forest']\n"
   ]
  },
  {
   "cell_type": "code",
   "execution_count": 410,
   "id": "93243983-8242-4e13-aa7f-94161296edfd",
   "metadata": {
    "tags": []
   },
   "outputs": [
    {
     "data": {
      "application/vnd.plotly.v1+json": {
       "config": {
        "plotlyServerURL": "https://plot.ly"
       },
       "data": [
        {
         "name": "Original Model",
         "type": "bar",
         "x": [
          "Linear Regression",
          "K-NN",
          "Decision Tree",
          "Random Forest"
         ],
         "y": [
          0.165,
          0.38,
          0.384,
          0.68
         ]
        },
        {
         "name": "MVMP Model",
         "type": "bar",
         "x": [
          "Linear Regression",
          "K-NN",
          "Decision Tree",
          "Random Forest"
         ],
         "y": [
          0.657,
          0.54,
          0.82,
          0.89
         ]
        }
       ],
       "layout": {
        "autosize": true,
        "template": {
         "data": {
          "bar": [
           {
            "error_x": {
             "color": "#2a3f5f"
            },
            "error_y": {
             "color": "#2a3f5f"
            },
            "marker": {
             "line": {
              "color": "#E5ECF6",
              "width": 0.5
             },
             "pattern": {
              "fillmode": "overlay",
              "size": 10,
              "solidity": 0.2
             }
            },
            "type": "bar"
           }
          ],
          "barpolar": [
           {
            "marker": {
             "line": {
              "color": "#E5ECF6",
              "width": 0.5
             },
             "pattern": {
              "fillmode": "overlay",
              "size": 10,
              "solidity": 0.2
             }
            },
            "type": "barpolar"
           }
          ],
          "carpet": [
           {
            "aaxis": {
             "endlinecolor": "#2a3f5f",
             "gridcolor": "white",
             "linecolor": "white",
             "minorgridcolor": "white",
             "startlinecolor": "#2a3f5f"
            },
            "baxis": {
             "endlinecolor": "#2a3f5f",
             "gridcolor": "white",
             "linecolor": "white",
             "minorgridcolor": "white",
             "startlinecolor": "#2a3f5f"
            },
            "type": "carpet"
           }
          ],
          "choropleth": [
           {
            "colorbar": {
             "outlinewidth": 0,
             "ticks": ""
            },
            "type": "choropleth"
           }
          ],
          "contour": [
           {
            "colorbar": {
             "outlinewidth": 0,
             "ticks": ""
            },
            "colorscale": [
             [
              0,
              "#0d0887"
             ],
             [
              0.1111111111111111,
              "#46039f"
             ],
             [
              0.2222222222222222,
              "#7201a8"
             ],
             [
              0.3333333333333333,
              "#9c179e"
             ],
             [
              0.4444444444444444,
              "#bd3786"
             ],
             [
              0.5555555555555556,
              "#d8576b"
             ],
             [
              0.6666666666666666,
              "#ed7953"
             ],
             [
              0.7777777777777778,
              "#fb9f3a"
             ],
             [
              0.8888888888888888,
              "#fdca26"
             ],
             [
              1,
              "#f0f921"
             ]
            ],
            "type": "contour"
           }
          ],
          "contourcarpet": [
           {
            "colorbar": {
             "outlinewidth": 0,
             "ticks": ""
            },
            "type": "contourcarpet"
           }
          ],
          "heatmap": [
           {
            "colorbar": {
             "outlinewidth": 0,
             "ticks": ""
            },
            "colorscale": [
             [
              0,
              "#0d0887"
             ],
             [
              0.1111111111111111,
              "#46039f"
             ],
             [
              0.2222222222222222,
              "#7201a8"
             ],
             [
              0.3333333333333333,
              "#9c179e"
             ],
             [
              0.4444444444444444,
              "#bd3786"
             ],
             [
              0.5555555555555556,
              "#d8576b"
             ],
             [
              0.6666666666666666,
              "#ed7953"
             ],
             [
              0.7777777777777778,
              "#fb9f3a"
             ],
             [
              0.8888888888888888,
              "#fdca26"
             ],
             [
              1,
              "#f0f921"
             ]
            ],
            "type": "heatmap"
           }
          ],
          "heatmapgl": [
           {
            "colorbar": {
             "outlinewidth": 0,
             "ticks": ""
            },
            "colorscale": [
             [
              0,
              "#0d0887"
             ],
             [
              0.1111111111111111,
              "#46039f"
             ],
             [
              0.2222222222222222,
              "#7201a8"
             ],
             [
              0.3333333333333333,
              "#9c179e"
             ],
             [
              0.4444444444444444,
              "#bd3786"
             ],
             [
              0.5555555555555556,
              "#d8576b"
             ],
             [
              0.6666666666666666,
              "#ed7953"
             ],
             [
              0.7777777777777778,
              "#fb9f3a"
             ],
             [
              0.8888888888888888,
              "#fdca26"
             ],
             [
              1,
              "#f0f921"
             ]
            ],
            "type": "heatmapgl"
           }
          ],
          "histogram": [
           {
            "marker": {
             "pattern": {
              "fillmode": "overlay",
              "size": 10,
              "solidity": 0.2
             }
            },
            "type": "histogram"
           }
          ],
          "histogram2d": [
           {
            "colorbar": {
             "outlinewidth": 0,
             "ticks": ""
            },
            "colorscale": [
             [
              0,
              "#0d0887"
             ],
             [
              0.1111111111111111,
              "#46039f"
             ],
             [
              0.2222222222222222,
              "#7201a8"
             ],
             [
              0.3333333333333333,
              "#9c179e"
             ],
             [
              0.4444444444444444,
              "#bd3786"
             ],
             [
              0.5555555555555556,
              "#d8576b"
             ],
             [
              0.6666666666666666,
              "#ed7953"
             ],
             [
              0.7777777777777778,
              "#fb9f3a"
             ],
             [
              0.8888888888888888,
              "#fdca26"
             ],
             [
              1,
              "#f0f921"
             ]
            ],
            "type": "histogram2d"
           }
          ],
          "histogram2dcontour": [
           {
            "colorbar": {
             "outlinewidth": 0,
             "ticks": ""
            },
            "colorscale": [
             [
              0,
              "#0d0887"
             ],
             [
              0.1111111111111111,
              "#46039f"
             ],
             [
              0.2222222222222222,
              "#7201a8"
             ],
             [
              0.3333333333333333,
              "#9c179e"
             ],
             [
              0.4444444444444444,
              "#bd3786"
             ],
             [
              0.5555555555555556,
              "#d8576b"
             ],
             [
              0.6666666666666666,
              "#ed7953"
             ],
             [
              0.7777777777777778,
              "#fb9f3a"
             ],
             [
              0.8888888888888888,
              "#fdca26"
             ],
             [
              1,
              "#f0f921"
             ]
            ],
            "type": "histogram2dcontour"
           }
          ],
          "mesh3d": [
           {
            "colorbar": {
             "outlinewidth": 0,
             "ticks": ""
            },
            "type": "mesh3d"
           }
          ],
          "parcoords": [
           {
            "line": {
             "colorbar": {
              "outlinewidth": 0,
              "ticks": ""
             }
            },
            "type": "parcoords"
           }
          ],
          "pie": [
           {
            "automargin": true,
            "type": "pie"
           }
          ],
          "scatter": [
           {
            "fillpattern": {
             "fillmode": "overlay",
             "size": 10,
             "solidity": 0.2
            },
            "type": "scatter"
           }
          ],
          "scatter3d": [
           {
            "line": {
             "colorbar": {
              "outlinewidth": 0,
              "ticks": ""
             }
            },
            "marker": {
             "colorbar": {
              "outlinewidth": 0,
              "ticks": ""
             }
            },
            "type": "scatter3d"
           }
          ],
          "scattercarpet": [
           {
            "marker": {
             "colorbar": {
              "outlinewidth": 0,
              "ticks": ""
             }
            },
            "type": "scattercarpet"
           }
          ],
          "scattergeo": [
           {
            "marker": {
             "colorbar": {
              "outlinewidth": 0,
              "ticks": ""
             }
            },
            "type": "scattergeo"
           }
          ],
          "scattergl": [
           {
            "marker": {
             "colorbar": {
              "outlinewidth": 0,
              "ticks": ""
             }
            },
            "type": "scattergl"
           }
          ],
          "scattermapbox": [
           {
            "marker": {
             "colorbar": {
              "outlinewidth": 0,
              "ticks": ""
             }
            },
            "type": "scattermapbox"
           }
          ],
          "scatterpolar": [
           {
            "marker": {
             "colorbar": {
              "outlinewidth": 0,
              "ticks": ""
             }
            },
            "type": "scatterpolar"
           }
          ],
          "scatterpolargl": [
           {
            "marker": {
             "colorbar": {
              "outlinewidth": 0,
              "ticks": ""
             }
            },
            "type": "scatterpolargl"
           }
          ],
          "scatterternary": [
           {
            "marker": {
             "colorbar": {
              "outlinewidth": 0,
              "ticks": ""
             }
            },
            "type": "scatterternary"
           }
          ],
          "surface": [
           {
            "colorbar": {
             "outlinewidth": 0,
             "ticks": ""
            },
            "colorscale": [
             [
              0,
              "#0d0887"
             ],
             [
              0.1111111111111111,
              "#46039f"
             ],
             [
              0.2222222222222222,
              "#7201a8"
             ],
             [
              0.3333333333333333,
              "#9c179e"
             ],
             [
              0.4444444444444444,
              "#bd3786"
             ],
             [
              0.5555555555555556,
              "#d8576b"
             ],
             [
              0.6666666666666666,
              "#ed7953"
             ],
             [
              0.7777777777777778,
              "#fb9f3a"
             ],
             [
              0.8888888888888888,
              "#fdca26"
             ],
             [
              1,
              "#f0f921"
             ]
            ],
            "type": "surface"
           }
          ],
          "table": [
           {
            "cells": {
             "fill": {
              "color": "#EBF0F8"
             },
             "line": {
              "color": "white"
             }
            },
            "header": {
             "fill": {
              "color": "#C8D4E3"
             },
             "line": {
              "color": "white"
             }
            },
            "type": "table"
           }
          ]
         },
         "layout": {
          "annotationdefaults": {
           "arrowcolor": "#2a3f5f",
           "arrowhead": 0,
           "arrowwidth": 1
          },
          "autotypenumbers": "strict",
          "coloraxis": {
           "colorbar": {
            "outlinewidth": 0,
            "ticks": ""
           }
          },
          "colorscale": {
           "diverging": [
            [
             0,
             "#8e0152"
            ],
            [
             0.1,
             "#c51b7d"
            ],
            [
             0.2,
             "#de77ae"
            ],
            [
             0.3,
             "#f1b6da"
            ],
            [
             0.4,
             "#fde0ef"
            ],
            [
             0.5,
             "#f7f7f7"
            ],
            [
             0.6,
             "#e6f5d0"
            ],
            [
             0.7,
             "#b8e186"
            ],
            [
             0.8,
             "#7fbc41"
            ],
            [
             0.9,
             "#4d9221"
            ],
            [
             1,
             "#276419"
            ]
           ],
           "sequential": [
            [
             0,
             "#0d0887"
            ],
            [
             0.1111111111111111,
             "#46039f"
            ],
            [
             0.2222222222222222,
             "#7201a8"
            ],
            [
             0.3333333333333333,
             "#9c179e"
            ],
            [
             0.4444444444444444,
             "#bd3786"
            ],
            [
             0.5555555555555556,
             "#d8576b"
            ],
            [
             0.6666666666666666,
             "#ed7953"
            ],
            [
             0.7777777777777778,
             "#fb9f3a"
            ],
            [
             0.8888888888888888,
             "#fdca26"
            ],
            [
             1,
             "#f0f921"
            ]
           ],
           "sequentialminus": [
            [
             0,
             "#0d0887"
            ],
            [
             0.1111111111111111,
             "#46039f"
            ],
            [
             0.2222222222222222,
             "#7201a8"
            ],
            [
             0.3333333333333333,
             "#9c179e"
            ],
            [
             0.4444444444444444,
             "#bd3786"
            ],
            [
             0.5555555555555556,
             "#d8576b"
            ],
            [
             0.6666666666666666,
             "#ed7953"
            ],
            [
             0.7777777777777778,
             "#fb9f3a"
            ],
            [
             0.8888888888888888,
             "#fdca26"
            ],
            [
             1,
             "#f0f921"
            ]
           ]
          },
          "colorway": [
           "#636efa",
           "#EF553B",
           "#00cc96",
           "#ab63fa",
           "#FFA15A",
           "#19d3f3",
           "#FF6692",
           "#B6E880",
           "#FF97FF",
           "#FECB52"
          ],
          "font": {
           "color": "#2a3f5f"
          },
          "geo": {
           "bgcolor": "white",
           "lakecolor": "white",
           "landcolor": "#E5ECF6",
           "showlakes": true,
           "showland": true,
           "subunitcolor": "white"
          },
          "hoverlabel": {
           "align": "left"
          },
          "hovermode": "closest",
          "mapbox": {
           "style": "light"
          },
          "paper_bgcolor": "white",
          "plot_bgcolor": "#E5ECF6",
          "polar": {
           "angularaxis": {
            "gridcolor": "white",
            "linecolor": "white",
            "ticks": ""
           },
           "bgcolor": "#E5ECF6",
           "radialaxis": {
            "gridcolor": "white",
            "linecolor": "white",
            "ticks": ""
           }
          },
          "scene": {
           "xaxis": {
            "backgroundcolor": "#E5ECF6",
            "gridcolor": "white",
            "gridwidth": 2,
            "linecolor": "white",
            "showbackground": true,
            "ticks": "",
            "zerolinecolor": "white"
           },
           "yaxis": {
            "backgroundcolor": "#E5ECF6",
            "gridcolor": "white",
            "gridwidth": 2,
            "linecolor": "white",
            "showbackground": true,
            "ticks": "",
            "zerolinecolor": "white"
           },
           "zaxis": {
            "backgroundcolor": "#E5ECF6",
            "gridcolor": "white",
            "gridwidth": 2,
            "linecolor": "white",
            "showbackground": true,
            "ticks": "",
            "zerolinecolor": "white"
           }
          },
          "shapedefaults": {
           "line": {
            "color": "#2a3f5f"
           }
          },
          "ternary": {
           "aaxis": {
            "gridcolor": "white",
            "linecolor": "white",
            "ticks": ""
           },
           "baxis": {
            "gridcolor": "white",
            "linecolor": "white",
            "ticks": ""
           },
           "bgcolor": "#E5ECF6",
           "caxis": {
            "gridcolor": "white",
            "linecolor": "white",
            "ticks": ""
           }
          },
          "title": {
           "x": 0.05
          },
          "xaxis": {
           "automargin": true,
           "gridcolor": "white",
           "linecolor": "white",
           "ticks": "",
           "title": {
            "standoff": 15
           },
           "zerolinecolor": "white",
           "zerolinewidth": 2
          },
          "yaxis": {
           "automargin": true,
           "gridcolor": "white",
           "linecolor": "white",
           "ticks": "",
           "title": {
            "standoff": 15
           },
           "zerolinecolor": "white",
           "zerolinewidth": 2
          }
         }
        },
        "title": {
         "text": "Original vs MVMP Model R2 scores",
         "x": 0.29
        },
        "xaxis": {
         "autorange": true,
         "range": [
          -0.5,
          3.5
         ],
         "title": {
          "text": "Regression Model Type"
         },
         "type": "category"
        },
        "yaxis": {
         "autorange": true,
         "range": [
          0,
          0.9368421052631579
         ],
         "title": {
          "text": "R2 score"
         },
         "type": "linear"
        }
       }
      },
      "image/png": "[encoded data removed]",
      "text/html": [
       "<div>                            <div id=\"1faad6f9-e9da-445c-8e22-35760d4f2be1\" class=\"plotly-graph-div\" style=\"height:525px; width:100%;\"></div>            <script type=\"text/javascript\">                require([\"plotly\"], function(Plotly) {                    window.PLOTLYENV=window.PLOTLYENV || {};                                    if (document.getElementById(\"1faad6f9-e9da-445c-8e22-35760d4f2be1\")) {                    Plotly.newPlot(                        \"1faad6f9-e9da-445c-8e22-35760d4f2be1\",                        [{\"name\":\"Original Model\",\"x\":[\"Linear Regression\",\"K-NN\",\"Decision Tree\",\"Random Forest\"],\"y\":[0.165,0.38,0.384,0.68],\"type\":\"bar\"},{\"name\":\"MVMP Model\",\"x\":[\"Linear Regression\",\"K-NN\",\"Decision Tree\",\"Random Forest\"],\"y\":[0.657,0.54,0.82,0.89],\"type\":\"bar\"}],                        {\"template\":{\"data\":{\"histogram2dcontour\":[{\"type\":\"histogram2dcontour\",\"colorbar\":{\"outlinewidth\":0,\"ticks\":\"\"},\"colorscale\":[[0.0,\"#0d0887\"],[0.1111111111111111,\"#46039f\"],[0.2222222222222222,\"#7201a8\"],[0.3333333333333333,\"#9c179e\"],[0.4444444444444444,\"#bd3786\"],[0.5555555555555556,\"#d8576b\"],[0.6666666666666666,\"#ed7953\"],[0.7777777777777778,\"#fb9f3a\"],[0.8888888888888888,\"#fdca26\"],[1.0,\"#f0f921\"]]}],\"choropleth\":[{\"type\":\"choropleth\",\"colorbar\":{\"outlinewidth\":0,\"ticks\":\"\"}}],\"histogram2d\":[{\"type\":\"histogram2d\",\"colorbar\":{\"outlinewidth\":0,\"ticks\":\"\"},\"colorscale\":[[0.0,\"#0d0887\"],[0.1111111111111111,\"#46039f\"],[0.2222222222222222,\"#7201a8\"],[0.3333333333333333,\"#9c179e\"],[0.4444444444444444,\"#bd3786\"],[0.5555555555555556,\"#d8576b\"],[0.6666666666666666,\"#ed7953\"],[0.7777777777777778,\"#fb9f3a\"],[0.8888888888888888,\"#fdca26\"],[1.0,\"#f0f921\"]]}],\"heatmap\":[{\"type\":\"heatmap\",\"colorbar\":{\"outlinewidth\":0,\"ticks\":\"\"},\"colorscale\":[[0.0,\"#0d0887\"],[0.1111111111111111,\"#46039f\"],[0.2222222222222222,\"#7201a8\"],[0.3333333333333333,\"#9c179e\"],[0.4444444444444444,\"#bd3786\"],[0.5555555555555556,\"#d8576b\"],[0.6666666666666666,\"#ed7953\"],[0.7777777777777778,\"#fb9f3a\"],[0.8888888888888888,\"#fdca26\"],[1.0,\"#f0f921\"]]}],\"heatmapgl\":[{\"type\":\"heatmapgl\",\"colorbar\":{\"outlinewidth\":0,\"ticks\":\"\"},\"colorscale\":[[0.0,\"#0d0887\"],[0.1111111111111111,\"#46039f\"],[0.2222222222222222,\"#7201a8\"],[0.3333333333333333,\"#9c179e\"],[0.4444444444444444,\"#bd3786\"],[0.5555555555555556,\"#d8576b\"],[0.6666666666666666,\"#ed7953\"],[0.7777777777777778,\"#fb9f3a\"],[0.8888888888888888,\"#fdca26\"],[1.0,\"#f0f921\"]]}],\"contourcarpet\":[{\"type\":\"contourcarpet\",\"colorbar\":{\"outlinewidth\":0,\"ticks\":\"\"}}],\"contour\":[{\"type\":\"contour\",\"colorbar\":{\"outlinewidth\":0,\"ticks\":\"\"},\"colorscale\":[[0.0,\"#0d0887\"],[0.1111111111111111,\"#46039f\"],[0.2222222222222222,\"#7201a8\"],[0.3333333333333333,\"#9c179e\"],[0.4444444444444444,\"#bd3786\"],[0.5555555555555556,\"#d8576b\"],[0.6666666666666666,\"#ed7953\"],[0.7777777777777778,\"#fb9f3a\"],[0.8888888888888888,\"#fdca26\"],[1.0,\"#f0f921\"]]}],\"surface\":[{\"type\":\"surface\",\"colorbar\":{\"outlinewidth\":0,\"ticks\":\"\"},\"colorscale\":[[0.0,\"#0d0887\"],[0.1111111111111111,\"#46039f\"],[0.2222222222222222,\"#7201a8\"],[0.3333333333333333,\"#9c179e\"],[0.4444444444444444,\"#bd3786\"],[0.5555555555555556,\"#d8576b\"],[0.6666666666666666,\"#ed7953\"],[0.7777777777777778,\"#fb9f3a\"],[0.8888888888888888,\"#fdca26\"],[1.0,\"#f0f921\"]]}],\"mesh3d\":[{\"type\":\"mesh3d\",\"colorbar\":{\"outlinewidth\":0,\"ticks\":\"\"}}],\"scatter\":[{\"fillpattern\":{\"fillmode\":\"overlay\",\"size\":10,\"solidity\":0.2},\"type\":\"scatter\"}],\"parcoords\":[{\"type\":\"parcoords\",\"line\":{\"colorbar\":{\"outlinewidth\":0,\"ticks\":\"\"}}}],\"scatterpolargl\":[{\"type\":\"scatterpolargl\",\"marker\":{\"colorbar\":{\"outlinewidth\":0,\"ticks\":\"\"}}}],\"bar\":[{\"error_x\":{\"color\":\"#2a3f5f\"},\"error_y\":{\"color\":\"#2a3f5f\"},\"marker\":{\"line\":{\"color\":\"#E5ECF6\",\"width\":0.5},\"pattern\":{\"fillmode\":\"overlay\",\"size\":10,\"solidity\":0.2}},\"type\":\"bar\"}],\"scattergeo\":[{\"type\":\"scattergeo\",\"marker\":{\"colorbar\":{\"outlinewidth\":0,\"ticks\":\"\"}}}],\"scatterpolar\":[{\"type\":\"scatterpolar\",\"marker\":{\"colorbar\":{\"outlinewidth\":0,\"ticks\":\"\"}}}],\"histogram\":[{\"marker\":{\"pattern\":{\"fillmode\":\"overlay\",\"size\":10,\"solidity\":0.2}},\"type\":\"histogram\"}],\"scattergl\":[{\"type\":\"scattergl\",\"marker\":{\"colorbar\":{\"outlinewidth\":0,\"ticks\":\"\"}}}],\"scatter3d\":[{\"type\":\"scatter3d\",\"line\":{\"colorbar\":{\"outlinewidth\":0,\"ticks\":\"\"}},\"marker\":{\"colorbar\":{\"outlinewidth\":0,\"ticks\":\"\"}}}],\"scattermapbox\":[{\"type\":\"scattermapbox\",\"marker\":{\"colorbar\":{\"outlinewidth\":0,\"ticks\":\"\"}}}],\"scatterternary\":[{\"type\":\"scatterternary\",\"marker\":{\"colorbar\":{\"outlinewidth\":0,\"ticks\":\"\"}}}],\"scattercarpet\":[{\"type\":\"scattercarpet\",\"marker\":{\"colorbar\":{\"outlinewidth\":0,\"ticks\":\"\"}}}],\"carpet\":[{\"aaxis\":{\"endlinecolor\":\"#2a3f5f\",\"gridcolor\":\"white\",\"linecolor\":\"white\",\"minorgridcolor\":\"white\",\"startlinecolor\":\"#2a3f5f\"},\"baxis\":{\"endlinecolor\":\"#2a3f5f\",\"gridcolor\":\"white\",\"linecolor\":\"white\",\"minorgridcolor\":\"white\",\"startlinecolor\":\"#2a3f5f\"},\"type\":\"carpet\"}],\"table\":[{\"cells\":{\"fill\":{\"color\":\"#EBF0F8\"},\"line\":{\"color\":\"white\"}},\"header\":{\"fill\":{\"color\":\"#C8D4E3\"},\"line\":{\"color\":\"white\"}},\"type\":\"table\"}],\"barpolar\":[{\"marker\":{\"line\":{\"color\":\"#E5ECF6\",\"width\":0.5},\"pattern\":{\"fillmode\":\"overlay\",\"size\":10,\"solidity\":0.2}},\"type\":\"barpolar\"}],\"pie\":[{\"automargin\":true,\"type\":\"pie\"}]},\"layout\":{\"autotypenumbers\":\"strict\",\"colorway\":[\"#636efa\",\"#EF553B\",\"#00cc96\",\"#ab63fa\",\"#FFA15A\",\"#19d3f3\",\"#FF6692\",\"#B6E880\",\"#FF97FF\",\"#FECB52\"],\"font\":{\"color\":\"#2a3f5f\"},\"hovermode\":\"closest\",\"hoverlabel\":{\"align\":\"left\"},\"paper_bgcolor\":\"white\",\"plot_bgcolor\":\"#E5ECF6\",\"polar\":{\"bgcolor\":\"#E5ECF6\",\"angularaxis\":{\"gridcolor\":\"white\",\"linecolor\":\"white\",\"ticks\":\"\"},\"radialaxis\":{\"gridcolor\":\"white\",\"linecolor\":\"white\",\"ticks\":\"\"}},\"ternary\":{\"bgcolor\":\"#E5ECF6\",\"aaxis\":{\"gridcolor\":\"white\",\"linecolor\":\"white\",\"ticks\":\"\"},\"baxis\":{\"gridcolor\":\"white\",\"linecolor\":\"white\",\"ticks\":\"\"},\"caxis\":{\"gridcolor\":\"white\",\"linecolor\":\"white\",\"ticks\":\"\"}},\"coloraxis\":{\"colorbar\":{\"outlinewidth\":0,\"ticks\":\"\"}},\"colorscale\":{\"sequential\":[[0.0,\"#0d0887\"],[0.1111111111111111,\"#46039f\"],[0.2222222222222222,\"#7201a8\"],[0.3333333333333333,\"#9c179e\"],[0.4444444444444444,\"#bd3786\"],[0.5555555555555556,\"#d8576b\"],[0.6666666666666666,\"#ed7953\"],[0.7777777777777778,\"#fb9f3a\"],[0.8888888888888888,\"#fdca26\"],[1.0,\"#f0f921\"]],\"sequentialminus\":[[0.0,\"#0d0887\"],[0.1111111111111111,\"#46039f\"],[0.2222222222222222,\"#7201a8\"],[0.3333333333333333,\"#9c179e\"],[0.4444444444444444,\"#bd3786\"],[0.5555555555555556,\"#d8576b\"],[0.6666666666666666,\"#ed7953\"],[0.7777777777777778,\"#fb9f3a\"],[0.8888888888888888,\"#fdca26\"],[1.0,\"#f0f921\"]],\"diverging\":[[0,\"#8e0152\"],[0.1,\"#c51b7d\"],[0.2,\"#de77ae\"],[0.3,\"#f1b6da\"],[0.4,\"#fde0ef\"],[0.5,\"#f7f7f7\"],[0.6,\"#e6f5d0\"],[0.7,\"#b8e186\"],[0.8,\"#7fbc41\"],[0.9,\"#4d9221\"],[1,\"#276419\"]]},\"xaxis\":{\"gridcolor\":\"white\",\"linecolor\":\"white\",\"ticks\":\"\",\"title\":{\"standoff\":15},\"zerolinecolor\":\"white\",\"automargin\":true,\"zerolinewidth\":2},\"yaxis\":{\"gridcolor\":\"white\",\"linecolor\":\"white\",\"ticks\":\"\",\"title\":{\"standoff\":15},\"zerolinecolor\":\"white\",\"automargin\":true,\"zerolinewidth\":2},\"scene\":{\"xaxis\":{\"backgroundcolor\":\"#E5ECF6\",\"gridcolor\":\"white\",\"linecolor\":\"white\",\"showbackground\":true,\"ticks\":\"\",\"zerolinecolor\":\"white\",\"gridwidth\":2},\"yaxis\":{\"backgroundcolor\":\"#E5ECF6\",\"gridcolor\":\"white\",\"linecolor\":\"white\",\"showbackground\":true,\"ticks\":\"\",\"zerolinecolor\":\"white\",\"gridwidth\":2},\"zaxis\":{\"backgroundcolor\":\"#E5ECF6\",\"gridcolor\":\"white\",\"linecolor\":\"white\",\"showbackground\":true,\"ticks\":\"\",\"zerolinecolor\":\"white\",\"gridwidth\":2}},\"shapedefaults\":{\"line\":{\"color\":\"#2a3f5f\"}},\"annotationdefaults\":{\"arrowcolor\":\"#2a3f5f\",\"arrowhead\":0,\"arrowwidth\":1},\"geo\":{\"bgcolor\":\"white\",\"landcolor\":\"#E5ECF6\",\"subunitcolor\":\"white\",\"showland\":true,\"showlakes\":true,\"lakecolor\":\"white\"},\"title\":{\"x\":0.05},\"mapbox\":{\"style\":\"light\"}}},\"title\":{\"text\":\"Original vs MVMP Model R2 scores\",\"x\":0.29},\"xaxis\":{\"title\":{\"text\":\"Regression Model Type\"}},\"yaxis\":{\"title\":{\"text\":\"R2 score\"}}},                        {\"responsive\": true}                    ).then(function(){\n",
       "                            \n",
       "var gd = document.getElementById('1faad6f9-e9da-445c-8e22-35760d4f2be1');\n",
       "var x = new MutationObserver(function (mutations, observer) {{\n",
       "        var display = window.getComputedStyle(gd).display;\n",
       "        if (!display || display === 'none') {{\n",
       "            console.log([gd, 'removed!']);\n",
       "            Plotly.purge(gd);\n",
       "            observer.disconnect();\n",
       "        }}\n",
       "}});\n",
       "\n",
       "// Listen for the removal of the full notebook cells\n",
       "var notebookContainer = gd.closest('#notebook-container');\n",
       "if (notebookContainer) {{\n",
       "    x.observe(notebookContainer, {childList: true});\n",
       "}}\n",
       "\n",
       "// Listen for the clearing of the current output cell\n",
       "var outputEl = gd.closest('.output');\n",
       "if (outputEl) {{\n",
       "    x.observe(outputEl, {childList: true});\n",
       "}}\n",
       "\n",
       "                        })                };                });            </script>        </div>"
      ]
     },
     "metadata": {},
     "output_type": "display_data"
    }
   ],
   "source": [
    "import plotly.graph_objects as px\n",
    "plot = px.Figure(data=[\n",
    "                       px.Bar(\n",
    "    name = 'Original Model',\n",
    "    x = mods,\n",
    "    y = og\n",
    "   ),\n",
    "    px.Bar(\n",
    "    name = 'MVMP Model',\n",
    "    x = mods,\n",
    "    y = new\n",
    "   ),\n",
    "], )\n",
    "\n",
    "plot.update_layout(title= 'Original vs MVMP Model R2 scores', title_x=0.29, xaxis_title = 'Regression Model Type', yaxis_title='R2 score')\n",
    "#plot.update_yaxes('R2 score')\n",
    "#plot.update_xaxes('Regression Model Type')\n",
    "plot.show()\n",
    "\n"
   ]
  },
  {
   "cell_type": "code",
   "execution_count": null,
   "id": "63b7c0bd-aa49-4d7a-8d26-6fcd2b615763",
   "metadata": {},
   "outputs": [],
   "source": []
  },
  {
   "cell_type": "code",
   "execution_count": null,
   "id": "679cc0a6-8263-4be0-b4f5-c13a3ff3fde5",
   "metadata": {},
   "outputs": [],
   "source": []
  },
  {
   "cell_type": "markdown",
   "id": "8550e640-5180-4ddb-85b3-0ac51ae43a30",
   "metadata": {},
   "source": [
    "## 2022 Validation Predictions"
   ]
  },
  {
   "cell_type": "markdown",
   "id": "15c6a47d-840d-46a9-8072-5c0699dc1076",
   "metadata": {},
   "source": [
    "#### Loading in 2022 prediction datasets: titer, specimen, and subject"
   ]
  },
  {
   "cell_type": "code",
   "execution_count": 1,
   "id": "a947d1df-6732-48c4-a839-4929651a10f0",
   "metadata": {
    "tags": []
   },
   "outputs": [
    {
     "ename": "NameError",
     "evalue": "name 'clean_df_titer' is not defined",
     "output_type": "error",
     "traceback": [
      "\u001b[0;31m---------------------------------------------------------------------------\u001b[0m",
      "\u001b[0;31mNameError\u001b[0m                                 Traceback (most recent call last)",
      "Cell \u001b[0;32mIn[1], line 1\u001b[0m\n\u001b[0;32m----> 1\u001b[0m titers_pred \u001b[38;5;241m=\u001b[39m clean_df_titer(df_2022_titer)\n",
      "\u001b[0;31mNameError\u001b[0m: name 'clean_df_titer' is not defined"
     ]
    }
   ],
   "source": [
    "titers_pred = clean_df_titer(df_2022_titer)"
   ]
  },
  {
   "cell_type": "code",
   "execution_count": 129,
   "id": "8b3f205d-ef9d-45fe-8fcc-eaa48ef1119c",
   "metadata": {
    "tags": []
   },
   "outputs": [],
   "source": [
    "subject_pred = clean_df_subject(pd.merge(df_2022_specimen,df_2022_subject, on= 'subject_id'))"
   ]
  },
  {
   "cell_type": "code",
   "execution_count": 130,
   "id": "78846553-f6df-4361-82cb-c569bb08c6c3",
   "metadata": {
    "tags": []
   },
   "outputs": [],
   "source": [
    "IgG = subject_pred.merge(titers_pred, on='specimen_id', how = 'outer')"
   ]
  },
  {
   "cell_type": "code",
   "execution_count": 131,
   "id": "fa1eea7b-e9c8-45fb-96bf-6bb02d61daa3",
   "metadata": {
    "tags": []
   },
   "outputs": [
    {
     "data": {
      "text/plain": [
       "Index(['specimen_id', 'subject_id', 'actual_day_relative_to_boost',\n",
       "       'planned_day_relative_to_boost', 'specimen_type', 'visit',\n",
       "       'infancy_vac', 'biological_sex', 'ethnicity', 'race', 'year_of_birth',\n",
       "       'date_of_boost', 'dataset', 'age', 'IgG_PT'],\n",
       "      dtype='object')"
      ]
     },
     "execution_count": 131,
     "metadata": {},
     "output_type": "execute_result"
    }
   ],
   "source": [
    "IgG.columns"
   ]
  },
  {
   "cell_type": "code",
   "execution_count": 132,
   "id": "9f0155be-dc80-4794-b490-fcbe61cc83ad",
   "metadata": {
    "tags": []
   },
   "outputs": [],
   "source": [
    "IgG = IgG[['subject_id',\n",
    "           'specimen_id',\n",
    "           'infancy_vac',\n",
    "           'biological_sex',\n",
    "           'age',\n",
    "           'year_of_birth',\n",
    "           'date_of_boost',\n",
    "           'actual_day_relative_to_boost',\n",
    "           'planned_day_relative_to_boost',\n",
    "           'ethnicity',\n",
    "           'race',\n",
    "           'dataset',\n",
    "           'specimen_type',\n",
    "           'visit',\n",
    "           'IgG_PT']]"
   ]
  },
  {
   "cell_type": "code",
   "execution_count": 133,
   "id": "fdde8a16-ab32-4bf2-a5ce-ffa557ec45cc",
   "metadata": {
    "tags": []
   },
   "outputs": [],
   "source": [
    "IgG = IgG[IgG['planned_day_relative_to_boost'].isin([0])]"
   ]
  },
  {
   "cell_type": "code",
   "execution_count": 134,
   "id": "64cf980d-5875-4733-8075-7725a86c8566",
   "metadata": {
    "tags": []
   },
   "outputs": [],
   "source": [
    "IgG_d= IgG[['infancy_vac', 'biological_sex', 'year_of_birth', 'ethnicity', 'race', 'visit', 'IgG_PT']].rename(columns={'IgG_PT': 'IgG_PT_d0'})"
   ]
  },
  {
   "cell_type": "markdown",
   "id": "f5fb8590-fcc7-4467-a113-c2521ad5b52a",
   "metadata": {
    "tags": []
   },
   "source": [
    "#### Data Feature Selection & Cleaning"
   ]
  },
  {
   "cell_type": "code",
   "execution_count": 135,
   "id": "f2b0da4d-42db-40b9-a56d-b7885b231c0f",
   "metadata": {
    "tags": []
   },
   "outputs": [],
   "source": [
    "IgG_d['infancy_vac'] = IgG_d['infancy_vac'].map({'wP':0, 'aP':1})"
   ]
  },
  {
   "cell_type": "code",
   "execution_count": 136,
   "id": "15eca2a6-dcea-4b44-9a0f-403b4daf6bac",
   "metadata": {
    "tags": []
   },
   "outputs": [],
   "source": [
    "IgG_d['biological_sex'] = IgG_d['biological_sex'].map({'Female':0, 'Male':1})"
   ]
  },
  {
   "cell_type": "code",
   "execution_count": 137,
   "id": "12081e71-6f30-45f8-8fe3-0ffdfdb1a6f0",
   "metadata": {
    "tags": []
   },
   "outputs": [],
   "source": [
    "IgG_d['ethnicity'] = IgG_d['ethnicity'].map({'Not Hispanic or Latino':0, \n",
    "                                                   'Hispanic or Latino':1,\n",
    "                                                   'Unknown':2})"
   ]
  },
  {
   "cell_type": "code",
   "execution_count": 138,
   "id": "1a20bd1b-2149-45bc-ac50-c6dfe1829f7e",
   "metadata": {
    "tags": []
   },
   "outputs": [
    {
     "data": {
      "text/html": [
       "<div>\n",
       "<style scoped>\n",
       "    .dataframe tbody tr th:only-of-type {\n",
       "        vertical-align: middle;\n",
       "    }\n",
       "\n",
       "    .dataframe tbody tr th {\n",
       "        vertical-align: top;\n",
       "    }\n",
       "\n",
       "    .dataframe thead th {\n",
       "        text-align: right;\n",
       "    }\n",
       "</style>\n",
       "<table border=\"1\" class=\"dataframe\">\n",
       "  <thead>\n",
       "    <tr style=\"text-align: right;\">\n",
       "      <th></th>\n",
       "      <th>infancy_vac</th>\n",
       "      <th>biological_sex</th>\n",
       "      <th>year_of_birth</th>\n",
       "      <th>ethnicity</th>\n",
       "      <th>race</th>\n",
       "      <th>visit</th>\n",
       "      <th>IgG_PT_d0</th>\n",
       "    </tr>\n",
       "  </thead>\n",
       "  <tbody>\n",
       "    <tr>\n",
       "      <th>2</th>\n",
       "      <td>0</td>\n",
       "      <td>1</td>\n",
       "      <td>1986</td>\n",
       "      <td>0</td>\n",
       "      <td>0</td>\n",
       "      <td>3</td>\n",
       "      <td>1.060618</td>\n",
       "    </tr>\n",
       "    <tr>\n",
       "      <th>12</th>\n",
       "      <td>0</td>\n",
       "      <td>0</td>\n",
       "      <td>1993</td>\n",
       "      <td>0</td>\n",
       "      <td>0</td>\n",
       "      <td>5</td>\n",
       "      <td>1.309938</td>\n",
       "    </tr>\n",
       "    <tr>\n",
       "      <th>22</th>\n",
       "      <td>1</td>\n",
       "      <td>0</td>\n",
       "      <td>1999</td>\n",
       "      <td>1</td>\n",
       "      <td>2</td>\n",
       "      <td>5</td>\n",
       "      <td>1.196227</td>\n",
       "    </tr>\n",
       "    <tr>\n",
       "      <th>32</th>\n",
       "      <td>1</td>\n",
       "      <td>0</td>\n",
       "      <td>2001</td>\n",
       "      <td>0</td>\n",
       "      <td>0</td>\n",
       "      <td>5</td>\n",
       "      <td>0.967752</td>\n",
       "    </tr>\n",
       "    <tr>\n",
       "      <th>42</th>\n",
       "      <td>1</td>\n",
       "      <td>1</td>\n",
       "      <td>2003</td>\n",
       "      <td>0</td>\n",
       "      <td>0</td>\n",
       "      <td>3</td>\n",
       "      <td>1.651583</td>\n",
       "    </tr>\n",
       "  </tbody>\n",
       "</table>\n",
       "</div>"
      ],
      "text/plain": [
       "    infancy_vac  biological_sex  year_of_birth  ethnicity  race  visit  \\\n",
       "2             0               1           1986          0     0      3   \n",
       "12            0               0           1993          0     0      5   \n",
       "22            1               0           1999          1     2      5   \n",
       "32            1               0           2001          0     0      5   \n",
       "42            1               1           2003          0     0      3   \n",
       "\n",
       "    IgG_PT_d0  \n",
       "2    1.060618  \n",
       "12   1.309938  \n",
       "22   1.196227  \n",
       "32   0.967752  \n",
       "42   1.651583  "
      ]
     },
     "execution_count": 138,
     "metadata": {},
     "output_type": "execute_result"
    }
   ],
   "source": [
    "IgG_d['race'] = IgG_d['race'].map({'White':0, \n",
    "                                       'Asian':1,\n",
    "                                       'Unknown or Not Reported': 2,\n",
    "                                       'More Than One Race': 2,\n",
    "                                       'Black or African American': 3,\n",
    "                                       'Native Hawaiian or Other Pacific Islander': 4,\n",
    "                                       'American Indian/Alaska Native':5\n",
    "                                      })\n",
    "IgG_d.head()"
   ]
  },
  {
   "cell_type": "markdown",
   "id": "71d004e1-bc7b-428e-a5c1-da78e61c588a",
   "metadata": {
    "tags": []
   },
   "source": [
    "#### Getting predictions from our Model"
   ]
  },
  {
   "cell_type": "code",
   "execution_count": 143,
   "id": "da915af0-ff07-4f03-951e-a0f746d36aaa",
   "metadata": {
    "tags": []
   },
   "outputs": [],
   "source": [
    "y_pred = regr_3.predict(IgG_d)"
   ]
  },
  {
   "cell_type": "code",
   "execution_count": 146,
   "id": "6a3e8740-c070-4505-81a8-b13687d449da",
   "metadata": {
    "tags": []
   },
   "outputs": [],
   "source": [
    "rank = [abs(sorted(y_3).index(x)-19) for x in y_3]"
   ]
  },
  {
   "cell_type": "code",
   "execution_count": 147,
   "id": "b29ceebe-fa6b-48ca-b634-bd0ed3b60ea8",
   "metadata": {
    "tags": []
   },
   "outputs": [],
   "source": [
    "IgG['1.1) IgG-PT-D14-titer-Rank'] = rank"
   ]
  },
  {
   "cell_type": "code",
   "execution_count": 148,
   "id": "eb10b704-3a3b-4afe-aa48-264c508bd53d",
   "metadata": {
    "tags": []
   },
   "outputs": [
    {
     "data": {
      "text/html": [
       "<div>\n",
       "<style scoped>\n",
       "    .dataframe tbody tr th:only-of-type {\n",
       "        vertical-align: middle;\n",
       "    }\n",
       "\n",
       "    .dataframe tbody tr th {\n",
       "        vertical-align: top;\n",
       "    }\n",
       "\n",
       "    .dataframe thead th {\n",
       "        text-align: right;\n",
       "    }\n",
       "</style>\n",
       "<table border=\"1\" class=\"dataframe\">\n",
       "  <thead>\n",
       "    <tr style=\"text-align: right;\">\n",
       "      <th></th>\n",
       "      <th>subject_id</th>\n",
       "      <th>age</th>\n",
       "      <th>biological_sex</th>\n",
       "      <th>infancy_vac</th>\n",
       "      <th>1.1) IgG-PT-D14-titer-Rank</th>\n",
       "    </tr>\n",
       "  </thead>\n",
       "  <tbody>\n",
       "    <tr>\n",
       "      <th>2</th>\n",
       "      <td>97</td>\n",
       "      <td>35</td>\n",
       "      <td>Male</td>\n",
       "      <td>wP</td>\n",
       "      <td>6</td>\n",
       "    </tr>\n",
       "    <tr>\n",
       "      <th>12</th>\n",
       "      <td>98</td>\n",
       "      <td>28</td>\n",
       "      <td>Female</td>\n",
       "      <td>wP</td>\n",
       "      <td>4</td>\n",
       "    </tr>\n",
       "    <tr>\n",
       "      <th>22</th>\n",
       "      <td>99</td>\n",
       "      <td>22</td>\n",
       "      <td>Female</td>\n",
       "      <td>aP</td>\n",
       "      <td>8</td>\n",
       "    </tr>\n",
       "    <tr>\n",
       "      <th>32</th>\n",
       "      <td>100</td>\n",
       "      <td>20</td>\n",
       "      <td>Female</td>\n",
       "      <td>aP</td>\n",
       "      <td>17</td>\n",
       "    </tr>\n",
       "    <tr>\n",
       "      <th>42</th>\n",
       "      <td>101</td>\n",
       "      <td>18</td>\n",
       "      <td>Male</td>\n",
       "      <td>aP</td>\n",
       "      <td>3</td>\n",
       "    </tr>\n",
       "    <tr>\n",
       "      <th>52</th>\n",
       "      <td>102</td>\n",
       "      <td>18</td>\n",
       "      <td>Male</td>\n",
       "      <td>aP</td>\n",
       "      <td>3</td>\n",
       "    </tr>\n",
       "    <tr>\n",
       "      <th>62</th>\n",
       "      <td>103</td>\n",
       "      <td>27</td>\n",
       "      <td>Female</td>\n",
       "      <td>wP</td>\n",
       "      <td>1</td>\n",
       "    </tr>\n",
       "    <tr>\n",
       "      <th>72</th>\n",
       "      <td>104</td>\n",
       "      <td>32</td>\n",
       "      <td>Female</td>\n",
       "      <td>wP</td>\n",
       "      <td>12</td>\n",
       "    </tr>\n",
       "    <tr>\n",
       "      <th>81</th>\n",
       "      <td>105</td>\n",
       "      <td>27</td>\n",
       "      <td>Female</td>\n",
       "      <td>wP</td>\n",
       "      <td>11</td>\n",
       "    </tr>\n",
       "    <tr>\n",
       "      <th>91</th>\n",
       "      <td>106</td>\n",
       "      <td>25</td>\n",
       "      <td>Female</td>\n",
       "      <td>aP</td>\n",
       "      <td>14</td>\n",
       "    </tr>\n",
       "    <tr>\n",
       "      <th>101</th>\n",
       "      <td>107</td>\n",
       "      <td>23</td>\n",
       "      <td>Female</td>\n",
       "      <td>aP</td>\n",
       "      <td>18</td>\n",
       "    </tr>\n",
       "    <tr>\n",
       "      <th>111</th>\n",
       "      <td>108</td>\n",
       "      <td>26</td>\n",
       "      <td>Female</td>\n",
       "      <td>wP</td>\n",
       "      <td>11</td>\n",
       "    </tr>\n",
       "    <tr>\n",
       "      <th>121</th>\n",
       "      <td>109</td>\n",
       "      <td>32</td>\n",
       "      <td>Female</td>\n",
       "      <td>wP</td>\n",
       "      <td>16</td>\n",
       "    </tr>\n",
       "    <tr>\n",
       "      <th>131</th>\n",
       "      <td>110</td>\n",
       "      <td>24</td>\n",
       "      <td>Female</td>\n",
       "      <td>aP</td>\n",
       "      <td>15</td>\n",
       "    </tr>\n",
       "    <tr>\n",
       "      <th>141</th>\n",
       "      <td>111</td>\n",
       "      <td>25</td>\n",
       "      <td>Male</td>\n",
       "      <td>wP</td>\n",
       "      <td>8</td>\n",
       "    </tr>\n",
       "    <tr>\n",
       "      <th>152</th>\n",
       "      <td>112</td>\n",
       "      <td>25</td>\n",
       "      <td>Male</td>\n",
       "      <td>aP</td>\n",
       "      <td>3</td>\n",
       "    </tr>\n",
       "    <tr>\n",
       "      <th>162</th>\n",
       "      <td>114</td>\n",
       "      <td>31</td>\n",
       "      <td>Male</td>\n",
       "      <td>wP</td>\n",
       "      <td>19</td>\n",
       "    </tr>\n",
       "    <tr>\n",
       "      <th>172</th>\n",
       "      <td>115</td>\n",
       "      <td>19</td>\n",
       "      <td>Female</td>\n",
       "      <td>aP</td>\n",
       "      <td>5</td>\n",
       "    </tr>\n",
       "    <tr>\n",
       "      <th>182</th>\n",
       "      <td>116</td>\n",
       "      <td>21</td>\n",
       "      <td>Male</td>\n",
       "      <td>aP</td>\n",
       "      <td>3</td>\n",
       "    </tr>\n",
       "    <tr>\n",
       "      <th>192</th>\n",
       "      <td>117</td>\n",
       "      <td>27</td>\n",
       "      <td>Female</td>\n",
       "      <td>aP</td>\n",
       "      <td>9</td>\n",
       "    </tr>\n",
       "    <tr>\n",
       "      <th>202</th>\n",
       "      <td>118</td>\n",
       "      <td>24</td>\n",
       "      <td>Male</td>\n",
       "      <td>aP</td>\n",
       "      <td>13</td>\n",
       "    </tr>\n",
       "  </tbody>\n",
       "</table>\n",
       "</div>"
      ],
      "text/plain": [
       "     subject_id  age biological_sex infancy_vac  1.1) IgG-PT-D14-titer-Rank\n",
       "2            97   35           Male          wP                           6\n",
       "12           98   28         Female          wP                           4\n",
       "22           99   22         Female          aP                           8\n",
       "32          100   20         Female          aP                          17\n",
       "42          101   18           Male          aP                           3\n",
       "52          102   18           Male          aP                           3\n",
       "62          103   27         Female          wP                           1\n",
       "72          104   32         Female          wP                          12\n",
       "81          105   27         Female          wP                          11\n",
       "91          106   25         Female          aP                          14\n",
       "101         107   23         Female          aP                          18\n",
       "111         108   26         Female          wP                          11\n",
       "121         109   32         Female          wP                          16\n",
       "131         110   24         Female          aP                          15\n",
       "141         111   25           Male          wP                           8\n",
       "152         112   25           Male          aP                           3\n",
       "162         114   31           Male          wP                          19\n",
       "172         115   19         Female          aP                           5\n",
       "182         116   21           Male          aP                           3\n",
       "192         117   27         Female          aP                           9\n",
       "202         118   24           Male          aP                          13"
      ]
     },
     "execution_count": 148,
     "metadata": {},
     "output_type": "execute_result"
    }
   ],
   "source": [
    "IgG[['subject_id', 'age', 'biological_sex', 'infancy_vac', '1.1) IgG-PT-D14-titer-Rank']]"
   ]
  },
  {
   "cell_type": "code",
   "execution_count": null,
   "id": "dcb69d9c-a3b6-4ba2-986f-df1640b0afd0",
   "metadata": {},
   "outputs": [],
   "source": []
  },
  {
   "cell_type": "code",
   "execution_count": null,
   "id": "86f94f56-ebfa-4c08-9f5a-a7b231f8715f",
   "metadata": {},
   "outputs": [],
   "source": []
  }
 ],
 "metadata": {
  "kernelspec": {
   "display_name": "Python 3 (ipykernel)",
   "language": "python",
   "name": "python3"
  },
  "language_info": {
   "codemirror_mode": {
    "name": "ipython",
    "version": 3
   },
   "file_extension": ".py",
   "mimetype": "text/x-python",
   "name": "python",
   "nbconvert_exporter": "python",
   "pygments_lexer": "ipython3",
   "version": "3.11.0"
  }
 },
 "nbformat": 4,
 "nbformat_minor": 5
}
