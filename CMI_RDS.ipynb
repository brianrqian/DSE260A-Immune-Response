{
 "cells": [
  {
   "cell_type": "code",
   "execution_count": 551,
   "id": "ead456a5-e9af-4c09-831c-72fd098c406d",
   "metadata": {
    "tags": []
   },
   "outputs": [],
   "source": [
    "import pandas as pd\n",
    "import numpy as np\n",
    "import rpy2.robjects as robjects\n",
    "from rpy2.robjects import pandas2ri\n",
    "from rpy2.robjects.conversion import localconverter\n",
    "from sklearn.linear_model import LogisticRegression\n",
    "from sklearn.metrics import accuracy_score, confusion_matrix, precision_score, recall_score, ConfusionMatrixDisplay\n",
    "from sklearn.model_selection import RandomizedSearchCV, train_test_split\n",
    "from scipy.stats import randint\n",
    "from xgboost import XGBClassifier\n",
    "from sklearn.tree import DecisionTreeRegressor\n",
    "import matplotlib.pyplot as plt"
   ]
  },
  {
   "cell_type": "code",
   "execution_count": 552,
   "id": "d95f5e80-5834-4d70-b8c2-8558601ff239",
   "metadata": {
    "tags": []
   },
   "outputs": [],
   "source": [
    "readRDS = robjects.r['readRDS']\n",
    "data = readRDS('Training_Data/master_processed_training_data.RDS')"
   ]
  },
  {
   "cell_type": "code",
   "execution_count": 553,
   "id": "c4092973-0fc1-45bc-8bc8-f3c33ea3cb6d",
   "metadata": {},
   "outputs": [],
   "source": [
    "with localconverter(robjects.default_converter + pandas2ri.converter):\n",
    "    df = robjects.conversion.rpy2py(data)"
   ]
  },
  {
   "cell_type": "code",
   "execution_count": 554,
   "id": "9186ae28-9765-4faa-bddd-1d4c43aff19e",
   "metadata": {
    "tags": []
   },
   "outputs": [],
   "source": [
    "data2 = readRDS('Prediction_Data/master_processed_prediction_data.RDS')"
   ]
  },
  {
   "cell_type": "code",
   "execution_count": 555,
   "id": "6d4530fe-dc5f-4bbb-8a40-9b5a18088447",
   "metadata": {
    "tags": []
   },
   "outputs": [],
   "source": [
    "with localconverter(robjects.default_converter + pandas2ri.converter):\n",
    "    pred = robjects.conversion.rpy2py(data2)"
   ]
  },
  {
   "cell_type": "code",
   "execution_count": 556,
   "id": "fdc0bc9d-91dd-4638-9027-08167bbb40a8",
   "metadata": {
    "tags": []
   },
   "outputs": [
    {
     "data": {
      "text/plain": [
       "('metadata', 'raw_data', 'normalized_data', 'batchCorrected_data')"
      ]
     },
     "execution_count": 556,
     "metadata": {},
     "output_type": "execute_result"
    }
   ],
   "source": [
    "titers = df['abtiter_wide']\n",
    "titers.keys()"
   ]
  },
  {
   "cell_type": "code",
   "execution_count": 557,
   "id": "63d24207-a967-4060-8fab-84a033f549d9",
   "metadata": {
    "tags": []
   },
   "outputs": [
    {
     "data": {
      "text/html": [
       "<div>\n",
       "<style scoped>\n",
       "    .dataframe tbody tr th:only-of-type {\n",
       "        vertical-align: middle;\n",
       "    }\n",
       "\n",
       "    .dataframe tbody tr th {\n",
       "        vertical-align: top;\n",
       "    }\n",
       "\n",
       "    .dataframe thead th {\n",
       "        text-align: right;\n",
       "    }\n",
       "</style>\n",
       "<table border=\"1\" class=\"dataframe\">\n",
       "  <thead>\n",
       "    <tr style=\"text-align: right;\">\n",
       "      <th></th>\n",
       "      <th>specimen_id</th>\n",
       "      <th>IgG_PT</th>\n",
       "      <th>IgG_PRN</th>\n",
       "      <th>IgG_FHA</th>\n",
       "      <th>IgG1_PT</th>\n",
       "      <th>IgG1_PRN</th>\n",
       "      <th>IgG1_FHA</th>\n",
       "      <th>IgG1_TT</th>\n",
       "      <th>IgG1_DT</th>\n",
       "      <th>IgG1_OVA</th>\n",
       "      <th>...</th>\n",
       "      <th>IgG3_FHA</th>\n",
       "      <th>IgG3_TT</th>\n",
       "      <th>IgG3_DT</th>\n",
       "      <th>IgG3_OVA</th>\n",
       "      <th>IgG4_PT</th>\n",
       "      <th>IgG4_PRN</th>\n",
       "      <th>IgG4_FHA</th>\n",
       "      <th>IgG4_TT</th>\n",
       "      <th>IgG4_DT</th>\n",
       "      <th>IgG4_OVA</th>\n",
       "    </tr>\n",
       "  </thead>\n",
       "  <tbody>\n",
       "    <tr>\n",
       "      <th>1</th>\n",
       "      <td>1.0</td>\n",
       "      <td>3.736992</td>\n",
       "      <td>2.602350</td>\n",
       "      <td>34.050956</td>\n",
       "      <td>7.334714</td>\n",
       "      <td>2.174783</td>\n",
       "      <td>3.013252</td>\n",
       "      <td>1.428852</td>\n",
       "      <td>2.389153</td>\n",
       "      <td>0.665203</td>\n",
       "      <td>...</td>\n",
       "      <td>0.624148</td>\n",
       "      <td>1.000000</td>\n",
       "      <td>3.358159</td>\n",
       "      <td>1.865388</td>\n",
       "      <td>1.061706</td>\n",
       "      <td>11.673594</td>\n",
       "      <td>0.880611</td>\n",
       "      <td>3.290050</td>\n",
       "      <td>1.232849</td>\n",
       "      <td>2.622675</td>\n",
       "    </tr>\n",
       "    <tr>\n",
       "      <th>2</th>\n",
       "      <td>19.0</td>\n",
       "      <td>1.096366</td>\n",
       "      <td>7.652635</td>\n",
       "      <td>1.096457</td>\n",
       "      <td>1.424098</td>\n",
       "      <td>3.161591</td>\n",
       "      <td>1.287515</td>\n",
       "      <td>1.377390</td>\n",
       "      <td>1.523941</td>\n",
       "      <td>33.771912</td>\n",
       "      <td>...</td>\n",
       "      <td>1.280732</td>\n",
       "      <td>1.000000</td>\n",
       "      <td>0.856594</td>\n",
       "      <td>1.119233</td>\n",
       "      <td>1.000000</td>\n",
       "      <td>0.733287</td>\n",
       "      <td>0.057114</td>\n",
       "      <td>0.024820</td>\n",
       "      <td>0.003253</td>\n",
       "      <td>0.053981</td>\n",
       "    </tr>\n",
       "    <tr>\n",
       "      <th>3</th>\n",
       "      <td>27.0</td>\n",
       "      <td>2.046671</td>\n",
       "      <td>5.670403</td>\n",
       "      <td>1.048276</td>\n",
       "      <td>3.888604</td>\n",
       "      <td>2.591155</td>\n",
       "      <td>1.269821</td>\n",
       "      <td>1.675259</td>\n",
       "      <td>2.022924</td>\n",
       "      <td>5.777047</td>\n",
       "      <td>...</td>\n",
       "      <td>6.265944</td>\n",
       "      <td>2.336770</td>\n",
       "      <td>0.856594</td>\n",
       "      <td>1.000000</td>\n",
       "      <td>6.582579</td>\n",
       "      <td>3.261863</td>\n",
       "      <td>1.089128</td>\n",
       "      <td>1.635454</td>\n",
       "      <td>0.634256</td>\n",
       "      <td>2.021985</td>\n",
       "    </tr>\n",
       "    <tr>\n",
       "      <th>4</th>\n",
       "      <td>37.0</td>\n",
       "      <td>3.798007</td>\n",
       "      <td>5.268274</td>\n",
       "      <td>0.084437</td>\n",
       "      <td>7.456313</td>\n",
       "      <td>2.760065</td>\n",
       "      <td>2.864834</td>\n",
       "      <td>1.537432</td>\n",
       "      <td>2.250237</td>\n",
       "      <td>4.130732</td>\n",
       "      <td>...</td>\n",
       "      <td>41.809687</td>\n",
       "      <td>2.514246</td>\n",
       "      <td>14.818885</td>\n",
       "      <td>5.446934</td>\n",
       "      <td>44.804003</td>\n",
       "      <td>1.112574</td>\n",
       "      <td>24.353645</td>\n",
       "      <td>0.920018</td>\n",
       "      <td>1.879391</td>\n",
       "      <td>1.569320</td>\n",
       "    </tr>\n",
       "    <tr>\n",
       "      <th>5</th>\n",
       "      <td>45.0</td>\n",
       "      <td>0.213328</td>\n",
       "      <td>0.090176</td>\n",
       "      <td>0.379290</td>\n",
       "      <td>0.084132</td>\n",
       "      <td>0.025479</td>\n",
       "      <td>0.654192</td>\n",
       "      <td>0.874920</td>\n",
       "      <td>0.369367</td>\n",
       "      <td>10.452881</td>\n",
       "      <td>...</td>\n",
       "      <td>7.505362</td>\n",
       "      <td>1.000000</td>\n",
       "      <td>0.856594</td>\n",
       "      <td>13.206949</td>\n",
       "      <td>1.000000</td>\n",
       "      <td>0.208993</td>\n",
       "      <td>0.984870</td>\n",
       "      <td>3.565218</td>\n",
       "      <td>0.676574</td>\n",
       "      <td>7.648106</td>\n",
       "    </tr>\n",
       "  </tbody>\n",
       "</table>\n",
       "<p>5 rows × 28 columns</p>\n",
       "</div>"
      ],
      "text/plain": [
       "   specimen_id    IgG_PT   IgG_PRN    IgG_FHA   IgG1_PT  IgG1_PRN  IgG1_FHA  \\\n",
       "1          1.0  3.736992  2.602350  34.050956  7.334714  2.174783  3.013252   \n",
       "2         19.0  1.096366  7.652635   1.096457  1.424098  3.161591  1.287515   \n",
       "3         27.0  2.046671  5.670403   1.048276  3.888604  2.591155  1.269821   \n",
       "4         37.0  3.798007  5.268274   0.084437  7.456313  2.760065  2.864834   \n",
       "5         45.0  0.213328  0.090176   0.379290  0.084132  0.025479  0.654192   \n",
       "\n",
       "    IgG1_TT   IgG1_DT   IgG1_OVA  ...   IgG3_FHA   IgG3_TT    IgG3_DT  \\\n",
       "1  1.428852  2.389153   0.665203  ...   0.624148  1.000000   3.358159   \n",
       "2  1.377390  1.523941  33.771912  ...   1.280732  1.000000   0.856594   \n",
       "3  1.675259  2.022924   5.777047  ...   6.265944  2.336770   0.856594   \n",
       "4  1.537432  2.250237   4.130732  ...  41.809687  2.514246  14.818885   \n",
       "5  0.874920  0.369367  10.452881  ...   7.505362  1.000000   0.856594   \n",
       "\n",
       "    IgG3_OVA    IgG4_PT   IgG4_PRN   IgG4_FHA   IgG4_TT   IgG4_DT  IgG4_OVA  \n",
       "1   1.865388   1.061706  11.673594   0.880611  3.290050  1.232849  2.622675  \n",
       "2   1.119233   1.000000   0.733287   0.057114  0.024820  0.003253  0.053981  \n",
       "3   1.000000   6.582579   3.261863   1.089128  1.635454  0.634256  2.021985  \n",
       "4   5.446934  44.804003   1.112574  24.353645  0.920018  1.879391  1.569320  \n",
       "5  13.206949   1.000000   0.208993   0.984870  3.565218  0.676574  7.648106  \n",
       "\n",
       "[5 rows x 28 columns]"
      ]
     },
     "execution_count": 557,
     "metadata": {},
     "output_type": "execute_result"
    }
   ],
   "source": [
    "titers['raw_data'].head()"
   ]
  },
  {
   "cell_type": "code",
   "execution_count": 558,
   "id": "ad23f8c3-91f7-4c14-80f6-4eaf8c5bd3d7",
   "metadata": {
    "tags": []
   },
   "outputs": [
    {
     "data": {
      "text/html": [
       "<div>\n",
       "<style scoped>\n",
       "    .dataframe tbody tr th:only-of-type {\n",
       "        vertical-align: middle;\n",
       "    }\n",
       "\n",
       "    .dataframe tbody tr th {\n",
       "        vertical-align: top;\n",
       "    }\n",
       "\n",
       "    .dataframe thead th {\n",
       "        text-align: right;\n",
       "    }\n",
       "</style>\n",
       "<table border=\"1\" class=\"dataframe\">\n",
       "  <thead>\n",
       "    <tr style=\"text-align: right;\">\n",
       "      <th></th>\n",
       "      <th>specimen_id</th>\n",
       "      <th>subject_id</th>\n",
       "      <th>actual_day_relative_to_boost</th>\n",
       "      <th>planned_day_relative_to_boost</th>\n",
       "      <th>specimen_type</th>\n",
       "      <th>visit</th>\n",
       "      <th>infancy_vac</th>\n",
       "      <th>biological_sex</th>\n",
       "      <th>ethnicity</th>\n",
       "      <th>race</th>\n",
       "      <th>year_of_birth</th>\n",
       "      <th>date_of_boost</th>\n",
       "      <th>dataset</th>\n",
       "      <th>timepoint</th>\n",
       "    </tr>\n",
       "  </thead>\n",
       "  <tbody>\n",
       "    <tr>\n",
       "      <th>1</th>\n",
       "      <td>1.0</td>\n",
       "      <td>1.0</td>\n",
       "      <td>-3.0</td>\n",
       "      <td>0.0</td>\n",
       "      <td>Blood</td>\n",
       "      <td>1.0</td>\n",
       "      <td>wP</td>\n",
       "      <td>Female</td>\n",
       "      <td>Not Hispanic or Latino</td>\n",
       "      <td>White</td>\n",
       "      <td>5844.0</td>\n",
       "      <td>17056.0</td>\n",
       "      <td>2020_dataset</td>\n",
       "      <td>0.0</td>\n",
       "    </tr>\n",
       "    <tr>\n",
       "      <th>2</th>\n",
       "      <td>2.0</td>\n",
       "      <td>1.0</td>\n",
       "      <td>1.0</td>\n",
       "      <td>1.0</td>\n",
       "      <td>Blood</td>\n",
       "      <td>2.0</td>\n",
       "      <td>wP</td>\n",
       "      <td>Female</td>\n",
       "      <td>Not Hispanic or Latino</td>\n",
       "      <td>White</td>\n",
       "      <td>5844.0</td>\n",
       "      <td>17056.0</td>\n",
       "      <td>2020_dataset</td>\n",
       "      <td>1.0</td>\n",
       "    </tr>\n",
       "    <tr>\n",
       "      <th>3</th>\n",
       "      <td>3.0</td>\n",
       "      <td>1.0</td>\n",
       "      <td>3.0</td>\n",
       "      <td>3.0</td>\n",
       "      <td>Blood</td>\n",
       "      <td>3.0</td>\n",
       "      <td>wP</td>\n",
       "      <td>Female</td>\n",
       "      <td>Not Hispanic or Latino</td>\n",
       "      <td>White</td>\n",
       "      <td>5844.0</td>\n",
       "      <td>17056.0</td>\n",
       "      <td>2020_dataset</td>\n",
       "      <td>3.0</td>\n",
       "    </tr>\n",
       "    <tr>\n",
       "      <th>4</th>\n",
       "      <td>4.0</td>\n",
       "      <td>1.0</td>\n",
       "      <td>7.0</td>\n",
       "      <td>7.0</td>\n",
       "      <td>Blood</td>\n",
       "      <td>4.0</td>\n",
       "      <td>wP</td>\n",
       "      <td>Female</td>\n",
       "      <td>Not Hispanic or Latino</td>\n",
       "      <td>White</td>\n",
       "      <td>5844.0</td>\n",
       "      <td>17056.0</td>\n",
       "      <td>2020_dataset</td>\n",
       "      <td>7.0</td>\n",
       "    </tr>\n",
       "    <tr>\n",
       "      <th>5</th>\n",
       "      <td>5.0</td>\n",
       "      <td>1.0</td>\n",
       "      <td>11.0</td>\n",
       "      <td>14.0</td>\n",
       "      <td>Blood</td>\n",
       "      <td>5.0</td>\n",
       "      <td>wP</td>\n",
       "      <td>Female</td>\n",
       "      <td>Not Hispanic or Latino</td>\n",
       "      <td>White</td>\n",
       "      <td>5844.0</td>\n",
       "      <td>17056.0</td>\n",
       "      <td>2020_dataset</td>\n",
       "      <td>14.0</td>\n",
       "    </tr>\n",
       "  </tbody>\n",
       "</table>\n",
       "</div>"
      ],
      "text/plain": [
       "   specimen_id  subject_id  actual_day_relative_to_boost  \\\n",
       "1          1.0         1.0                          -3.0   \n",
       "2          2.0         1.0                           1.0   \n",
       "3          3.0         1.0                           3.0   \n",
       "4          4.0         1.0                           7.0   \n",
       "5          5.0         1.0                          11.0   \n",
       "\n",
       "   planned_day_relative_to_boost specimen_type  visit infancy_vac  \\\n",
       "1                            0.0         Blood    1.0          wP   \n",
       "2                            1.0         Blood    2.0          wP   \n",
       "3                            3.0         Blood    3.0          wP   \n",
       "4                            7.0         Blood    4.0          wP   \n",
       "5                           14.0         Blood    5.0          wP   \n",
       "\n",
       "  biological_sex               ethnicity   race  year_of_birth  date_of_boost  \\\n",
       "1         Female  Not Hispanic or Latino  White         5844.0        17056.0   \n",
       "2         Female  Not Hispanic or Latino  White         5844.0        17056.0   \n",
       "3         Female  Not Hispanic or Latino  White         5844.0        17056.0   \n",
       "4         Female  Not Hispanic or Latino  White         5844.0        17056.0   \n",
       "5         Female  Not Hispanic or Latino  White         5844.0        17056.0   \n",
       "\n",
       "        dataset  timepoint  \n",
       "1  2020_dataset        0.0  \n",
       "2  2020_dataset        1.0  \n",
       "3  2020_dataset        3.0  \n",
       "4  2020_dataset        7.0  \n",
       "5  2020_dataset       14.0  "
      ]
     },
     "execution_count": 558,
     "metadata": {},
     "output_type": "execute_result"
    }
   ],
   "source": [
    "subject = df['subject_specimen']\n",
    "subject.head()"
   ]
  },
  {
   "cell_type": "code",
   "execution_count": 632,
   "id": "6cd7aabf-9cea-4627-a67e-2c8c2a1c6e39",
   "metadata": {
    "tags": []
   },
   "outputs": [
    {
     "data": {
      "text/plain": [
       "1   1986-01-01\n",
       "2   1986-01-01\n",
       "3   1986-01-01\n",
       "4   1986-01-01\n",
       "5   1986-01-01\n",
       "Name: year_of_birth, dtype: datetime64[ns]"
      ]
     },
     "execution_count": 632,
     "metadata": {},
     "output_type": "execute_result"
    }
   ],
   "source": [
    "ser = subject['year_of_birth']\n",
    "\n",
    "new = pd.to_timedelta(ser, unit='D') + pd.Timestamp('1970-1-1') \n",
    "new.head(5)"
   ]
  },
  {
   "cell_type": "code",
   "execution_count": 559,
   "id": "1c214f43-d248-450d-9585-158cddf6f816",
   "metadata": {
    "tags": []
   },
   "outputs": [],
   "source": [
    "IgG = subject.merge(titers['raw_data'], on='specimen_id')"
   ]
  },
  {
   "cell_type": "code",
   "execution_count": 560,
   "id": "07f65e66-be33-4902-b128-7aaee331f00b",
   "metadata": {
    "tags": []
   },
   "outputs": [
    {
     "data": {
      "text/plain": [
       "Index(['specimen_id', 'subject_id', 'actual_day_relative_to_boost',\n",
       "       'planned_day_relative_to_boost', 'specimen_type', 'visit',\n",
       "       'infancy_vac', 'biological_sex', 'ethnicity', 'race', 'year_of_birth',\n",
       "       'date_of_boost', 'dataset', 'timepoint', 'IgG_PT', 'IgG_PRN', 'IgG_FHA',\n",
       "       'IgG1_PT', 'IgG1_PRN', 'IgG1_FHA', 'IgG1_TT', 'IgG1_DT', 'IgG1_OVA',\n",
       "       'IgG2_PT', 'IgG2_PRN', 'IgG2_FHA', 'IgG2_TT', 'IgG2_DT', 'IgG2_OVA',\n",
       "       'IgG3_PT', 'IgG3_PRN', 'IgG3_FHA', 'IgG3_TT', 'IgG3_DT', 'IgG3_OVA',\n",
       "       'IgG4_PT', 'IgG4_PRN', 'IgG4_FHA', 'IgG4_TT', 'IgG4_DT', 'IgG4_OVA'],\n",
       "      dtype='object')"
      ]
     },
     "execution_count": 560,
     "metadata": {},
     "output_type": "execute_result"
    }
   ],
   "source": [
    "IgG.columns"
   ]
  },
  {
   "cell_type": "code",
   "execution_count": 561,
   "id": "8a6fb13a-f978-4592-a3b6-8e946ca521b6",
   "metadata": {
    "tags": []
   },
   "outputs": [],
   "source": [
    "IgG = IgG[['subject_id',\n",
    "           'specimen_id',\n",
    "           'infancy_vac',\n",
    "           'biological_sex',\n",
    "           'year_of_birth',\n",
    "           'date_of_boost',\n",
    "           'actual_day_relative_to_boost',\n",
    "           'planned_day_relative_to_boost',\n",
    "           'ethnicity',\n",
    "           'race',\n",
    "           'dataset',\n",
    "           'specimen_type',\n",
    "           'visit',\n",
    "           'IgG_PT',\n",
    "           'IgG1_PT',\n",
    "           'IgG2_PT',\n",
    "           'IgG3_PT',\n",
    "           'IgG4_PT']]"
   ]
  },
  {
   "cell_type": "code",
   "execution_count": 562,
   "id": "688419e7-6034-45ea-a423-22dadbdae8ce",
   "metadata": {
    "tags": []
   },
   "outputs": [
    {
     "data": {
      "text/html": [
       "<div>\n",
       "<style scoped>\n",
       "    .dataframe tbody tr th:only-of-type {\n",
       "        vertical-align: middle;\n",
       "    }\n",
       "\n",
       "    .dataframe tbody tr th {\n",
       "        vertical-align: top;\n",
       "    }\n",
       "\n",
       "    .dataframe thead th {\n",
       "        text-align: right;\n",
       "    }\n",
       "</style>\n",
       "<table border=\"1\" class=\"dataframe\">\n",
       "  <thead>\n",
       "    <tr style=\"text-align: right;\">\n",
       "      <th></th>\n",
       "      <th>subject_id</th>\n",
       "      <th>specimen_id</th>\n",
       "      <th>infancy_vac</th>\n",
       "      <th>biological_sex</th>\n",
       "      <th>year_of_birth</th>\n",
       "      <th>date_of_boost</th>\n",
       "      <th>actual_day_relative_to_boost</th>\n",
       "      <th>planned_day_relative_to_boost</th>\n",
       "      <th>ethnicity</th>\n",
       "      <th>race</th>\n",
       "      <th>dataset</th>\n",
       "      <th>specimen_type</th>\n",
       "      <th>visit</th>\n",
       "      <th>IgG_PT</th>\n",
       "      <th>IgG1_PT</th>\n",
       "      <th>IgG2_PT</th>\n",
       "      <th>IgG3_PT</th>\n",
       "      <th>IgG4_PT</th>\n",
       "    </tr>\n",
       "  </thead>\n",
       "  <tbody>\n",
       "    <tr>\n",
       "      <th>0</th>\n",
       "      <td>1.0</td>\n",
       "      <td>1.0</td>\n",
       "      <td>wP</td>\n",
       "      <td>Female</td>\n",
       "      <td>5844.0</td>\n",
       "      <td>17056.0</td>\n",
       "      <td>-3.0</td>\n",
       "      <td>0.0</td>\n",
       "      <td>Not Hispanic or Latino</td>\n",
       "      <td>White</td>\n",
       "      <td>2020_dataset</td>\n",
       "      <td>Blood</td>\n",
       "      <td>1.0</td>\n",
       "      <td>3.736992</td>\n",
       "      <td>7.334714</td>\n",
       "      <td>1.000000</td>\n",
       "      <td>1.000000</td>\n",
       "      <td>1.061706</td>\n",
       "    </tr>\n",
       "    <tr>\n",
       "      <th>1</th>\n",
       "      <td>1.0</td>\n",
       "      <td>3.0</td>\n",
       "      <td>wP</td>\n",
       "      <td>Female</td>\n",
       "      <td>5844.0</td>\n",
       "      <td>17056.0</td>\n",
       "      <td>3.0</td>\n",
       "      <td>3.0</td>\n",
       "      <td>Not Hispanic or Latino</td>\n",
       "      <td>White</td>\n",
       "      <td>2020_dataset</td>\n",
       "      <td>Blood</td>\n",
       "      <td>3.0</td>\n",
       "      <td>2.255534</td>\n",
       "      <td>8.284477</td>\n",
       "      <td>1.260385</td>\n",
       "      <td>1.000000</td>\n",
       "      <td>1.000000</td>\n",
       "    </tr>\n",
       "    <tr>\n",
       "      <th>2</th>\n",
       "      <td>1.0</td>\n",
       "      <td>4.0</td>\n",
       "      <td>wP</td>\n",
       "      <td>Female</td>\n",
       "      <td>5844.0</td>\n",
       "      <td>17056.0</td>\n",
       "      <td>7.0</td>\n",
       "      <td>7.0</td>\n",
       "      <td>Not Hispanic or Latino</td>\n",
       "      <td>White</td>\n",
       "      <td>2020_dataset</td>\n",
       "      <td>Blood</td>\n",
       "      <td>4.0</td>\n",
       "      <td>3.250369</td>\n",
       "      <td>6.557696</td>\n",
       "      <td>1.000000</td>\n",
       "      <td>1.000000</td>\n",
       "      <td>1.415608</td>\n",
       "    </tr>\n",
       "    <tr>\n",
       "      <th>3</th>\n",
       "      <td>1.0</td>\n",
       "      <td>5.0</td>\n",
       "      <td>wP</td>\n",
       "      <td>Female</td>\n",
       "      <td>5844.0</td>\n",
       "      <td>17056.0</td>\n",
       "      <td>11.0</td>\n",
       "      <td>14.0</td>\n",
       "      <td>Not Hispanic or Latino</td>\n",
       "      <td>White</td>\n",
       "      <td>2020_dataset</td>\n",
       "      <td>Blood</td>\n",
       "      <td>5.0</td>\n",
       "      <td>10.874112</td>\n",
       "      <td>19.386950</td>\n",
       "      <td>1.080330</td>\n",
       "      <td>1.000000</td>\n",
       "      <td>2.689656</td>\n",
       "    </tr>\n",
       "    <tr>\n",
       "      <th>4</th>\n",
       "      <td>1.0</td>\n",
       "      <td>6.0</td>\n",
       "      <td>wP</td>\n",
       "      <td>Female</td>\n",
       "      <td>5844.0</td>\n",
       "      <td>17056.0</td>\n",
       "      <td>32.0</td>\n",
       "      <td>30.0</td>\n",
       "      <td>Not Hispanic or Latino</td>\n",
       "      <td>White</td>\n",
       "      <td>2020_dataset</td>\n",
       "      <td>Blood</td>\n",
       "      <td>6.0</td>\n",
       "      <td>12.513860</td>\n",
       "      <td>24.891105</td>\n",
       "      <td>1.080330</td>\n",
       "      <td>1.251655</td>\n",
       "      <td>2.123412</td>\n",
       "    </tr>\n",
       "  </tbody>\n",
       "</table>\n",
       "</div>"
      ],
      "text/plain": [
       "   subject_id  specimen_id infancy_vac biological_sex  year_of_birth  \\\n",
       "0         1.0          1.0          wP         Female         5844.0   \n",
       "1         1.0          3.0          wP         Female         5844.0   \n",
       "2         1.0          4.0          wP         Female         5844.0   \n",
       "3         1.0          5.0          wP         Female         5844.0   \n",
       "4         1.0          6.0          wP         Female         5844.0   \n",
       "\n",
       "   date_of_boost  actual_day_relative_to_boost  planned_day_relative_to_boost  \\\n",
       "0        17056.0                          -3.0                            0.0   \n",
       "1        17056.0                           3.0                            3.0   \n",
       "2        17056.0                           7.0                            7.0   \n",
       "3        17056.0                          11.0                           14.0   \n",
       "4        17056.0                          32.0                           30.0   \n",
       "\n",
       "                ethnicity   race       dataset specimen_type  visit  \\\n",
       "0  Not Hispanic or Latino  White  2020_dataset         Blood    1.0   \n",
       "1  Not Hispanic or Latino  White  2020_dataset         Blood    3.0   \n",
       "2  Not Hispanic or Latino  White  2020_dataset         Blood    4.0   \n",
       "3  Not Hispanic or Latino  White  2020_dataset         Blood    5.0   \n",
       "4  Not Hispanic or Latino  White  2020_dataset         Blood    6.0   \n",
       "\n",
       "      IgG_PT    IgG1_PT   IgG2_PT   IgG3_PT   IgG4_PT  \n",
       "0   3.736992   7.334714  1.000000  1.000000  1.061706  \n",
       "1   2.255534   8.284477  1.260385  1.000000  1.000000  \n",
       "2   3.250369   6.557696  1.000000  1.000000  1.415608  \n",
       "3  10.874112  19.386950  1.080330  1.000000  2.689656  \n",
       "4  12.513860  24.891105  1.080330  1.251655  2.123412  "
      ]
     },
     "execution_count": 562,
     "metadata": {},
     "output_type": "execute_result"
    }
   ],
   "source": [
    "IgG.head()"
   ]
  },
  {
   "cell_type": "code",
   "execution_count": 563,
   "id": "322455d5-d8d3-4278-ab49-7b903ce384ea",
   "metadata": {
    "tags": []
   },
   "outputs": [],
   "source": [
    "IgG_d14 = IgG[IgG['planned_day_relative_to_boost'] == 14.0]\n",
    "IgG_d0 = IgG[IgG['planned_day_relative_to_boost'] == 0.0][['subject_id', 'IgG_PT']]\n",
    "IgG_d3 = IgG[IgG['planned_day_relative_to_boost'] == 3.0][['subject_id', 'IgG_PT']]\n",
    "IgG_d7 = IgG[IgG['planned_day_relative_to_boost'] == 7.0][['subject_id', 'IgG_PT']]\n",
    "IgG_d0 = IgG_d0.rename(columns={'subject_id': 'subject_id', 'IgG_PT': 'IgG_PT_d0'})\n",
    "IgG_d3 = IgG_d3.rename(columns={'subject_id': 'subject_id', 'IgG_PT': 'IgG_PT_d3'})\n",
    "IgG_d7 = IgG_d7.rename(columns={'subject_id': 'subject_id', 'IgG_PT': 'IgG_PT_d7'})\n",
    "IgG_d14 = IgG_d14.merge(IgG_d0, on='subject_id')\n",
    "#IgG_d14 = IgG_d14.merge(IgG_d3, on='subject_id')\n",
    "#IgG_d14 = IgG_d14.merge(IgG_d7, on='subject_id')\n",
    "#IgG_d14_add = IgG_d14.merge(IgG_d3, on='subject_id')\n",
    "#IgG_d14_add = IgG_d14_add.merge(IgG_d7, on='subject_id')"
   ]
  },
  {
   "cell_type": "code",
   "execution_count": 564,
   "id": "41902f24-fb04-4004-85b9-edcc1258c409",
   "metadata": {
    "tags": []
   },
   "outputs": [],
   "source": [
    "IgG_d14 = IgG_d14[['infancy_vac', 'biological_sex', 'year_of_birth', 'ethnicity', 'race', 'visit', 'IgG_PT_d0', 'IgG_PT']]"
   ]
  },
  {
   "cell_type": "code",
   "execution_count": 565,
   "id": "1d063935-16e2-4e51-ad5a-8caa363eaebd",
   "metadata": {
    "tags": []
   },
   "outputs": [],
   "source": [
    "#IgG_d14_add = IgG_d14_add[['infancy_vac', 'biological_sex', 'year_of_birth', 'ethnicity', 'race', 'visit', 'IgG_PT_d0', 'IgG_PT_d3', 'IgG_PT_d7', 'IgG_PT']]"
   ]
  },
  {
   "cell_type": "code",
   "execution_count": 566,
   "id": "f8955f25-a515-4b8b-bc66-ffcc75ba14a9",
   "metadata": {
    "tags": []
   },
   "outputs": [
    {
     "data": {
      "text/html": [
       "<div>\n",
       "<style scoped>\n",
       "    .dataframe tbody tr th:only-of-type {\n",
       "        vertical-align: middle;\n",
       "    }\n",
       "\n",
       "    .dataframe tbody tr th {\n",
       "        vertical-align: top;\n",
       "    }\n",
       "\n",
       "    .dataframe thead th {\n",
       "        text-align: right;\n",
       "    }\n",
       "</style>\n",
       "<table border=\"1\" class=\"dataframe\">\n",
       "  <thead>\n",
       "    <tr style=\"text-align: right;\">\n",
       "      <th></th>\n",
       "      <th>infancy_vac</th>\n",
       "      <th>biological_sex</th>\n",
       "      <th>year_of_birth</th>\n",
       "      <th>ethnicity</th>\n",
       "      <th>race</th>\n",
       "      <th>visit</th>\n",
       "      <th>IgG_PT_d0</th>\n",
       "      <th>IgG_PT</th>\n",
       "    </tr>\n",
       "  </thead>\n",
       "  <tbody>\n",
       "    <tr>\n",
       "      <th>0</th>\n",
       "      <td>wP</td>\n",
       "      <td>Female</td>\n",
       "      <td>5844.0</td>\n",
       "      <td>Not Hispanic or Latino</td>\n",
       "      <td>White</td>\n",
       "      <td>5.0</td>\n",
       "      <td>3.736992</td>\n",
       "      <td>10.874112</td>\n",
       "    </tr>\n",
       "    <tr>\n",
       "      <th>1</th>\n",
       "      <td>wP</td>\n",
       "      <td>Female</td>\n",
       "      <td>4748.0</td>\n",
       "      <td>Unknown</td>\n",
       "      <td>White</td>\n",
       "      <td>5.0</td>\n",
       "      <td>1.096366</td>\n",
       "      <td>7.041547</td>\n",
       "    </tr>\n",
       "    <tr>\n",
       "      <th>2</th>\n",
       "      <td>wP</td>\n",
       "      <td>Male</td>\n",
       "      <td>6574.0</td>\n",
       "      <td>Not Hispanic or Latino</td>\n",
       "      <td>Asian</td>\n",
       "      <td>5.0</td>\n",
       "      <td>2.046671</td>\n",
       "      <td>7.896541</td>\n",
       "    </tr>\n",
       "    <tr>\n",
       "      <th>3</th>\n",
       "      <td>wP</td>\n",
       "      <td>Male</td>\n",
       "      <td>7670.0</td>\n",
       "      <td>Not Hispanic or Latino</td>\n",
       "      <td>Asian</td>\n",
       "      <td>5.0</td>\n",
       "      <td>3.798007</td>\n",
       "      <td>5.327203</td>\n",
       "    </tr>\n",
       "    <tr>\n",
       "      <th>4</th>\n",
       "      <td>wP</td>\n",
       "      <td>Female</td>\n",
       "      <td>6574.0</td>\n",
       "      <td>Not Hispanic or Latino</td>\n",
       "      <td>White</td>\n",
       "      <td>5.0</td>\n",
       "      <td>0.213328</td>\n",
       "      <td>9.128886</td>\n",
       "    </tr>\n",
       "  </tbody>\n",
       "</table>\n",
       "</div>"
      ],
      "text/plain": [
       "  infancy_vac biological_sex  year_of_birth               ethnicity   race  \\\n",
       "0          wP         Female         5844.0  Not Hispanic or Latino  White   \n",
       "1          wP         Female         4748.0                 Unknown  White   \n",
       "2          wP           Male         6574.0  Not Hispanic or Latino  Asian   \n",
       "3          wP           Male         7670.0  Not Hispanic or Latino  Asian   \n",
       "4          wP         Female         6574.0  Not Hispanic or Latino  White   \n",
       "\n",
       "   visit  IgG_PT_d0     IgG_PT  \n",
       "0    5.0   3.736992  10.874112  \n",
       "1    5.0   1.096366   7.041547  \n",
       "2    5.0   2.046671   7.896541  \n",
       "3    5.0   3.798007   5.327203  \n",
       "4    5.0   0.213328   9.128886  "
      ]
     },
     "execution_count": 566,
     "metadata": {},
     "output_type": "execute_result"
    }
   ],
   "source": [
    "IgG_d14.head()"
   ]
  },
  {
   "cell_type": "code",
   "execution_count": 567,
   "id": "4244408b-bc40-41d5-a4c1-8d7010e10c76",
   "metadata": {
    "tags": []
   },
   "outputs": [],
   "source": [
    "IgG_d14['infancy_vac'] = IgG_d14['infancy_vac'].map({'wP':0, 'aP':1})"
   ]
  },
  {
   "cell_type": "code",
   "execution_count": 568,
   "id": "9dba14c9-9d86-40b1-8d5a-733d67334690",
   "metadata": {
    "tags": []
   },
   "outputs": [],
   "source": [
    "IgG_d14['biological_sex'] = IgG_d14['biological_sex'].map({'Female':0, 'Male':1})"
   ]
  },
  {
   "cell_type": "code",
   "execution_count": 569,
   "id": "dbf7ea99-d896-4442-9f0b-d734705e8194",
   "metadata": {
    "tags": []
   },
   "outputs": [],
   "source": [
    "IgG_d14['ethnicity'] = IgG_d14['ethnicity'].map({'Not Hispanic or Latino':0, \n",
    "                                                   'Hispanic or Latino':1,\n",
    "                                                   'Unknown':2})"
   ]
  },
  {
   "cell_type": "code",
   "execution_count": 570,
   "id": "930a4e1e-1be4-44d7-8f52-84b5cf1685a8",
   "metadata": {
    "tags": []
   },
   "outputs": [
    {
     "data": {
      "text/html": [
       "<div>\n",
       "<style scoped>\n",
       "    .dataframe tbody tr th:only-of-type {\n",
       "        vertical-align: middle;\n",
       "    }\n",
       "\n",
       "    .dataframe tbody tr th {\n",
       "        vertical-align: top;\n",
       "    }\n",
       "\n",
       "    .dataframe thead th {\n",
       "        text-align: right;\n",
       "    }\n",
       "</style>\n",
       "<table border=\"1\" class=\"dataframe\">\n",
       "  <thead>\n",
       "    <tr style=\"text-align: right;\">\n",
       "      <th></th>\n",
       "      <th>infancy_vac</th>\n",
       "      <th>biological_sex</th>\n",
       "      <th>year_of_birth</th>\n",
       "      <th>ethnicity</th>\n",
       "      <th>race</th>\n",
       "      <th>visit</th>\n",
       "      <th>IgG_PT_d0</th>\n",
       "      <th>IgG_PT</th>\n",
       "    </tr>\n",
       "  </thead>\n",
       "  <tbody>\n",
       "    <tr>\n",
       "      <th>0</th>\n",
       "      <td>0</td>\n",
       "      <td>0</td>\n",
       "      <td>5844.0</td>\n",
       "      <td>0</td>\n",
       "      <td>0</td>\n",
       "      <td>5.0</td>\n",
       "      <td>3.736992</td>\n",
       "      <td>10.874112</td>\n",
       "    </tr>\n",
       "    <tr>\n",
       "      <th>1</th>\n",
       "      <td>0</td>\n",
       "      <td>0</td>\n",
       "      <td>4748.0</td>\n",
       "      <td>2</td>\n",
       "      <td>0</td>\n",
       "      <td>5.0</td>\n",
       "      <td>1.096366</td>\n",
       "      <td>7.041547</td>\n",
       "    </tr>\n",
       "    <tr>\n",
       "      <th>2</th>\n",
       "      <td>0</td>\n",
       "      <td>1</td>\n",
       "      <td>6574.0</td>\n",
       "      <td>0</td>\n",
       "      <td>1</td>\n",
       "      <td>5.0</td>\n",
       "      <td>2.046671</td>\n",
       "      <td>7.896541</td>\n",
       "    </tr>\n",
       "    <tr>\n",
       "      <th>3</th>\n",
       "      <td>0</td>\n",
       "      <td>1</td>\n",
       "      <td>7670.0</td>\n",
       "      <td>0</td>\n",
       "      <td>1</td>\n",
       "      <td>5.0</td>\n",
       "      <td>3.798007</td>\n",
       "      <td>5.327203</td>\n",
       "    </tr>\n",
       "    <tr>\n",
       "      <th>4</th>\n",
       "      <td>0</td>\n",
       "      <td>0</td>\n",
       "      <td>6574.0</td>\n",
       "      <td>0</td>\n",
       "      <td>0</td>\n",
       "      <td>5.0</td>\n",
       "      <td>0.213328</td>\n",
       "      <td>9.128886</td>\n",
       "    </tr>\n",
       "  </tbody>\n",
       "</table>\n",
       "</div>"
      ],
      "text/plain": [
       "   infancy_vac  biological_sex  year_of_birth  ethnicity  race  visit  \\\n",
       "0            0               0         5844.0          0     0    5.0   \n",
       "1            0               0         4748.0          2     0    5.0   \n",
       "2            0               1         6574.0          0     1    5.0   \n",
       "3            0               1         7670.0          0     1    5.0   \n",
       "4            0               0         6574.0          0     0    5.0   \n",
       "\n",
       "   IgG_PT_d0     IgG_PT  \n",
       "0   3.736992  10.874112  \n",
       "1   1.096366   7.041547  \n",
       "2   2.046671   7.896541  \n",
       "3   3.798007   5.327203  \n",
       "4   0.213328   9.128886  "
      ]
     },
     "execution_count": 570,
     "metadata": {},
     "output_type": "execute_result"
    }
   ],
   "source": [
    "IgG_d14['race'] = IgG_d14['race'].map({'White':0, \n",
    "                                       'Asian':1,\n",
    "                                       'Unknown or Not Reported': 2,\n",
    "                                       'More Than One Race': 2,\n",
    "                                       'Black or African American': 3,\n",
    "                                       'Native Hawaiian or Other Pacific Islander': 4,\n",
    "                                       'American Indian/Alaska Native':5\n",
    "                                      })\n",
    "IgG_d14.head()"
   ]
  },
  {
   "cell_type": "code",
   "execution_count": 571,
   "id": "576fba42-530e-41d3-9a6e-a9c8bdf1cf67",
   "metadata": {
    "tags": []
   },
   "outputs": [],
   "source": [
    "#IgG_d14 = IgG_d14[['infancy_vac', 'biological_sex', 'year_of_birth', 'ethnicity', 'race', 'visit', 'IgG_PT']"
   ]
  },
  {
   "cell_type": "code",
   "execution_count": 572,
   "id": "b47d44b7-5ddc-4d98-82c3-accfc608e069",
   "metadata": {
    "tags": []
   },
   "outputs": [],
   "source": [
    "X = IgG_d14.drop('IgG_PT', axis = 1)\n",
    "y = IgG_d14['IgG_PT']\n",
    "\n",
    "#X2 = IgG_d14_add.drop('IgG_PT', axis = 1)\n",
    "#y2 = IgG_d14_add['IgG_PT']"
   ]
  },
  {
   "cell_type": "code",
   "execution_count": 573,
   "id": "84fd7f74-fe7b-4597-a375-a36c0ba1eae3",
   "metadata": {
    "tags": []
   },
   "outputs": [],
   "source": [
    "X_train, X_test, y_train, y_test = train_test_split(X, y, test_size=0.2)"
   ]
  },
  {
   "cell_type": "code",
   "execution_count": 574,
   "id": "c8d0dca5-aac7-4664-9c7c-4e85d6120a58",
   "metadata": {
    "tags": []
   },
   "outputs": [
    {
     "data": {
      "text/html": [
       "<div>\n",
       "<style scoped>\n",
       "    .dataframe tbody tr th:only-of-type {\n",
       "        vertical-align: middle;\n",
       "    }\n",
       "\n",
       "    .dataframe tbody tr th {\n",
       "        vertical-align: top;\n",
       "    }\n",
       "\n",
       "    .dataframe thead th {\n",
       "        text-align: right;\n",
       "    }\n",
       "</style>\n",
       "<table border=\"1\" class=\"dataframe\">\n",
       "  <thead>\n",
       "    <tr style=\"text-align: right;\">\n",
       "      <th></th>\n",
       "      <th>infancy_vac</th>\n",
       "      <th>biological_sex</th>\n",
       "      <th>year_of_birth</th>\n",
       "      <th>ethnicity</th>\n",
       "      <th>race</th>\n",
       "      <th>visit</th>\n",
       "      <th>IgG_PT_d0</th>\n",
       "    </tr>\n",
       "  </thead>\n",
       "  <tbody>\n",
       "    <tr>\n",
       "      <th>45</th>\n",
       "      <td>1</td>\n",
       "      <td>0</td>\n",
       "      <td>9862.0</td>\n",
       "      <td>0</td>\n",
       "      <td>1</td>\n",
       "      <td>5.0</td>\n",
       "      <td>0.421774</td>\n",
       "    </tr>\n",
       "    <tr>\n",
       "      <th>81</th>\n",
       "      <td>1</td>\n",
       "      <td>0</td>\n",
       "      <td>10227.0</td>\n",
       "      <td>0</td>\n",
       "      <td>1</td>\n",
       "      <td>5.0</td>\n",
       "      <td>0.234590</td>\n",
       "    </tr>\n",
       "    <tr>\n",
       "      <th>16</th>\n",
       "      <td>0</td>\n",
       "      <td>1</td>\n",
       "      <td>8766.0</td>\n",
       "      <td>0</td>\n",
       "      <td>1</td>\n",
       "      <td>5.0</td>\n",
       "      <td>3.478381</td>\n",
       "    </tr>\n",
       "    <tr>\n",
       "      <th>18</th>\n",
       "      <td>0</td>\n",
       "      <td>1</td>\n",
       "      <td>4748.0</td>\n",
       "      <td>0</td>\n",
       "      <td>0</td>\n",
       "      <td>5.0</td>\n",
       "      <td>5.842303</td>\n",
       "    </tr>\n",
       "    <tr>\n",
       "      <th>88</th>\n",
       "      <td>1</td>\n",
       "      <td>0</td>\n",
       "      <td>10227.0</td>\n",
       "      <td>1</td>\n",
       "      <td>2</td>\n",
       "      <td>5.0</td>\n",
       "      <td>3.917494</td>\n",
       "    </tr>\n",
       "    <tr>\n",
       "      <th>...</th>\n",
       "      <td>...</td>\n",
       "      <td>...</td>\n",
       "      <td>...</td>\n",
       "      <td>...</td>\n",
       "      <td>...</td>\n",
       "      <td>...</td>\n",
       "      <td>...</td>\n",
       "    </tr>\n",
       "    <tr>\n",
       "      <th>32</th>\n",
       "      <td>1</td>\n",
       "      <td>0</td>\n",
       "      <td>9862.0</td>\n",
       "      <td>1</td>\n",
       "      <td>0</td>\n",
       "      <td>5.0</td>\n",
       "      <td>1.057382</td>\n",
       "    </tr>\n",
       "    <tr>\n",
       "      <th>19</th>\n",
       "      <td>0</td>\n",
       "      <td>0</td>\n",
       "      <td>5479.0</td>\n",
       "      <td>0</td>\n",
       "      <td>0</td>\n",
       "      <td>5.0</td>\n",
       "      <td>3.481363</td>\n",
       "    </tr>\n",
       "    <tr>\n",
       "      <th>6</th>\n",
       "      <td>1</td>\n",
       "      <td>1</td>\n",
       "      <td>9496.0</td>\n",
       "      <td>0</td>\n",
       "      <td>1</td>\n",
       "      <td>5.0</td>\n",
       "      <td>0.220810</td>\n",
       "    </tr>\n",
       "    <tr>\n",
       "      <th>77</th>\n",
       "      <td>0</td>\n",
       "      <td>1</td>\n",
       "      <td>8401.0</td>\n",
       "      <td>0</td>\n",
       "      <td>0</td>\n",
       "      <td>5.0</td>\n",
       "      <td>2.521064</td>\n",
       "    </tr>\n",
       "    <tr>\n",
       "      <th>89</th>\n",
       "      <td>1</td>\n",
       "      <td>1</td>\n",
       "      <td>10957.0</td>\n",
       "      <td>1</td>\n",
       "      <td>2</td>\n",
       "      <td>5.0</td>\n",
       "      <td>0.698448</td>\n",
       "    </tr>\n",
       "  </tbody>\n",
       "</table>\n",
       "<p>72 rows × 7 columns</p>\n",
       "</div>"
      ],
      "text/plain": [
       "    infancy_vac  biological_sex  year_of_birth  ethnicity  race  visit  \\\n",
       "45            1               0         9862.0          0     1    5.0   \n",
       "81            1               0        10227.0          0     1    5.0   \n",
       "16            0               1         8766.0          0     1    5.0   \n",
       "18            0               1         4748.0          0     0    5.0   \n",
       "88            1               0        10227.0          1     2    5.0   \n",
       "..          ...             ...            ...        ...   ...    ...   \n",
       "32            1               0         9862.0          1     0    5.0   \n",
       "19            0               0         5479.0          0     0    5.0   \n",
       "6             1               1         9496.0          0     1    5.0   \n",
       "77            0               1         8401.0          0     0    5.0   \n",
       "89            1               1        10957.0          1     2    5.0   \n",
       "\n",
       "    IgG_PT_d0  \n",
       "45   0.421774  \n",
       "81   0.234590  \n",
       "16   3.478381  \n",
       "18   5.842303  \n",
       "88   3.917494  \n",
       "..        ...  \n",
       "32   1.057382  \n",
       "19   3.481363  \n",
       "6    0.220810  \n",
       "77   2.521064  \n",
       "89   0.698448  \n",
       "\n",
       "[72 rows x 7 columns]"
      ]
     },
     "execution_count": 574,
     "metadata": {},
     "output_type": "execute_result"
    }
   ],
   "source": [
    "X_train"
   ]
  },
  {
   "cell_type": "code",
   "execution_count": 587,
   "id": "655b5bb3-5260-48e1-b5e2-716426c7ddcc",
   "metadata": {
    "tags": []
   },
   "outputs": [
    {
     "data": {
      "text/html": [
       "<style>#sk-container-id-8 {color: black;}#sk-container-id-8 pre{padding: 0;}#sk-container-id-8 div.sk-toggleable {background-color: white;}#sk-container-id-8 label.sk-toggleable__label {cursor: pointer;display: block;width: 100%;margin-bottom: 0;padding: 0.3em;box-sizing: border-box;text-align: center;}#sk-container-id-8 label.sk-toggleable__label-arrow:before {content: \"▸\";float: left;margin-right: 0.25em;color: #696969;}#sk-container-id-8 label.sk-toggleable__label-arrow:hover:before {color: black;}#sk-container-id-8 div.sk-estimator:hover label.sk-toggleable__label-arrow:before {color: black;}#sk-container-id-8 div.sk-toggleable__content {max-height: 0;max-width: 0;overflow: hidden;text-align: left;background-color: #f0f8ff;}#sk-container-id-8 div.sk-toggleable__content pre {margin: 0.2em;color: black;border-radius: 0.25em;background-color: #f0f8ff;}#sk-container-id-8 input.sk-toggleable__control:checked~div.sk-toggleable__content {max-height: 200px;max-width: 100%;overflow: auto;}#sk-container-id-8 input.sk-toggleable__control:checked~label.sk-toggleable__label-arrow:before {content: \"▾\";}#sk-container-id-8 div.sk-estimator input.sk-toggleable__control:checked~label.sk-toggleable__label {background-color: #d4ebff;}#sk-container-id-8 div.sk-label input.sk-toggleable__control:checked~label.sk-toggleable__label {background-color: #d4ebff;}#sk-container-id-8 input.sk-hidden--visually {border: 0;clip: rect(1px 1px 1px 1px);clip: rect(1px, 1px, 1px, 1px);height: 1px;margin: -1px;overflow: hidden;padding: 0;position: absolute;width: 1px;}#sk-container-id-8 div.sk-estimator {font-family: monospace;background-color: #f0f8ff;border: 1px dotted black;border-radius: 0.25em;box-sizing: border-box;margin-bottom: 0.5em;}#sk-container-id-8 div.sk-estimator:hover {background-color: #d4ebff;}#sk-container-id-8 div.sk-parallel-item::after {content: \"\";width: 100%;border-bottom: 1px solid gray;flex-grow: 1;}#sk-container-id-8 div.sk-label:hover label.sk-toggleable__label {background-color: #d4ebff;}#sk-container-id-8 div.sk-serial::before {content: \"\";position: absolute;border-left: 1px solid gray;box-sizing: border-box;top: 0;bottom: 0;left: 50%;z-index: 0;}#sk-container-id-8 div.sk-serial {display: flex;flex-direction: column;align-items: center;background-color: white;padding-right: 0.2em;padding-left: 0.2em;position: relative;}#sk-container-id-8 div.sk-item {position: relative;z-index: 1;}#sk-container-id-8 div.sk-parallel {display: flex;align-items: stretch;justify-content: center;background-color: white;position: relative;}#sk-container-id-8 div.sk-item::before, #sk-container-id-8 div.sk-parallel-item::before {content: \"\";position: absolute;border-left: 1px solid gray;box-sizing: border-box;top: 0;bottom: 0;left: 50%;z-index: -1;}#sk-container-id-8 div.sk-parallel-item {display: flex;flex-direction: column;z-index: 1;position: relative;background-color: white;}#sk-container-id-8 div.sk-parallel-item:first-child::after {align-self: flex-end;width: 50%;}#sk-container-id-8 div.sk-parallel-item:last-child::after {align-self: flex-start;width: 50%;}#sk-container-id-8 div.sk-parallel-item:only-child::after {width: 0;}#sk-container-id-8 div.sk-dashed-wrapped {border: 1px dashed gray;margin: 0 0.4em 0.5em 0.4em;box-sizing: border-box;padding-bottom: 0.4em;background-color: white;}#sk-container-id-8 div.sk-label label {font-family: monospace;font-weight: bold;display: inline-block;line-height: 1.2em;}#sk-container-id-8 div.sk-label-container {text-align: center;}#sk-container-id-8 div.sk-container {/* jupyter's `normalize.less` sets `[hidden] { display: none; }` but bootstrap.min.css set `[hidden] { display: none !important; }` so we also need the `!important` here to be able to override the default hidden behavior on the sphinx rendered scikit-learn.org. See: https://github.com/scikit-learn/scikit-learn/issues/21755 */display: inline-block !important;position: relative;}#sk-container-id-8 div.sk-text-repr-fallback {display: none;}</style><div id=\"sk-container-id-8\" class=\"sk-top-container\"><div class=\"sk-text-repr-fallback\"><pre>DecisionTreeRegressor(max_depth=20)</pre><b>In a Jupyter environment, please rerun this cell to show the HTML representation or trust the notebook. <br />On GitHub, the HTML representation is unable to render, please try loading this page with nbviewer.org.</b></div><div class=\"sk-container\" hidden><div class=\"sk-item\"><div class=\"sk-estimator sk-toggleable\"><input class=\"sk-toggleable__control sk-hidden--visually\" id=\"sk-estimator-id-8\" type=\"checkbox\" checked><label for=\"sk-estimator-id-8\" class=\"sk-toggleable__label sk-toggleable__label-arrow\">DecisionTreeRegressor</label><div class=\"sk-toggleable__content\"><pre>DecisionTreeRegressor(max_depth=20)</pre></div></div></div></div></div>"
      ],
      "text/plain": [
       "DecisionTreeRegressor(max_depth=20)"
      ]
     },
     "execution_count": 587,
     "metadata": {},
     "output_type": "execute_result"
    }
   ],
   "source": [
    "regr_1 = DecisionTreeRegressor(max_depth=2)\n",
    "regr_2 = DecisionTreeRegressor(max_depth=5)\n",
    "regr_3 = DecisionTreeRegressor(max_depth=10)\n",
    "regr_4 = DecisionTreeRegressor(max_depth=20)\n",
    "regr_1.fit(X_train, y_train)\n",
    "regr_2.fit(X_train, y_train)\n",
    "regr_3.fit(X_train, y_train)\n",
    "regr_4.fit(X, y)"
   ]
  },
  {
   "cell_type": "code",
   "execution_count": 588,
   "id": "bff58dd7-a582-4a44-820a-c01ab95488e4",
   "metadata": {
    "tags": []
   },
   "outputs": [],
   "source": [
    "y_1 = regr_1.predict(X_test)\n",
    "y_2 = regr_2.predict(X_test)\n",
    "y_3 = regr_3.predict(X_test)\n",
    "y_4 = regr_4.predict(X_test)"
   ]
  },
  {
   "cell_type": "code",
   "execution_count": 589,
   "id": "da312bbc-820b-493d-9402-900bdb9ac1ac",
   "metadata": {
    "tags": []
   },
   "outputs": [
    {
     "data": {
      "text/plain": [
       "array([8.94645138, 0.93975092, 3.56292614, 3.56292614, 3.56292614,\n",
       "       3.56292614, 0.93975092, 8.94645138, 8.94645138, 3.56292614,\n",
       "       3.56292614, 8.94645138, 8.94645138, 8.94645138, 3.56292614,\n",
       "       8.94645138, 8.94645138, 8.94645138])"
      ]
     },
     "execution_count": 589,
     "metadata": {},
     "output_type": "execute_result"
    }
   ],
   "source": [
    "y_1"
   ]
  },
  {
   "cell_type": "code",
   "execution_count": 590,
   "id": "3ee0a4b7-0289-4022-a18b-eeb4a091471a",
   "metadata": {
    "tags": []
   },
   "outputs": [
    {
     "data": {
      "text/plain": [
       "array([ 9.90704116,  1.20842572,  4.52384648,  3.03201553,  3.2761118 ,\n",
       "        3.2761118 ,  0.20828423, 22.59183883,  8.44171977,  3.2761118 ,\n",
       "        0.72874345,  6.94036309,  8.44171977,  8.44171977,  3.03201553,\n",
       "        6.94036309, 16.0170961 , 22.59183883])"
      ]
     },
     "execution_count": 590,
     "metadata": {},
     "output_type": "execute_result"
    }
   ],
   "source": [
    "y_2"
   ]
  },
  {
   "cell_type": "code",
   "execution_count": 591,
   "id": "4ff7380d-7d4f-410b-a2d3-4e69f2056903",
   "metadata": {
    "tags": []
   },
   "outputs": [
    {
     "data": {
      "text/plain": [
       "24     2.395891\n",
       "27     1.798734\n",
       "85     3.350333\n",
       "54    19.236953\n",
       "5      5.051661\n",
       "22     1.258965\n",
       "82     1.188004\n",
       "14     9.205436\n",
       "31     4.215211\n",
       "63    18.877606\n",
       "73     4.492239\n",
       "11    14.661107\n",
       "53    12.170811\n",
       "56     4.092597\n",
       "50     6.575790\n",
       "2      7.896541\n",
       "84     4.323259\n",
       "13     4.723982\n",
       "Name: IgG_PT, dtype: float64"
      ]
     },
     "execution_count": 591,
     "metadata": {},
     "output_type": "execute_result"
    }
   ],
   "source": [
    "y_test"
   ]
  },
  {
   "cell_type": "code",
   "execution_count": 592,
   "id": "24f64336-6c95-4b03-b5f4-e8bee2f169f9",
   "metadata": {
    "tags": []
   },
   "outputs": [
    {
     "data": {
      "text/plain": [
       "0.43447424089477793"
      ]
     },
     "execution_count": 592,
     "metadata": {},
     "output_type": "execute_result"
    }
   ],
   "source": [
    "regr_1.score(X_train, y_train)"
   ]
  },
  {
   "cell_type": "code",
   "execution_count": 593,
   "id": "be8cd7e8-8514-4277-9f86-1a73811d95dc",
   "metadata": {
    "tags": []
   },
   "outputs": [
    {
     "data": {
      "text/plain": [
       "0.705235631496598"
      ]
     },
     "execution_count": 593,
     "metadata": {},
     "output_type": "execute_result"
    }
   ],
   "source": [
    "regr_2.score(X_train, y_train)"
   ]
  },
  {
   "cell_type": "code",
   "execution_count": 594,
   "id": "f690797c-9008-4d11-a6f2-3ff7743f8c5d",
   "metadata": {
    "tags": []
   },
   "outputs": [
    {
     "data": {
      "text/plain": [
       "0.9957056419235994"
      ]
     },
     "execution_count": 594,
     "metadata": {},
     "output_type": "execute_result"
    }
   ],
   "source": [
    "regr_3.score(X_train, y_train)"
   ]
  },
  {
   "cell_type": "code",
   "execution_count": 595,
   "id": "1a784400-2cb1-442c-aaca-4b8da366a1c8",
   "metadata": {
    "tags": []
   },
   "outputs": [
    {
     "data": {
      "text/plain": [
       "-0.22179444765441536"
      ]
     },
     "execution_count": 595,
     "metadata": {},
     "output_type": "execute_result"
    }
   ],
   "source": [
    "regr_1.score(X_test, y_test)"
   ]
  },
  {
   "cell_type": "code",
   "execution_count": null,
   "id": "744a4e30-09c8-4887-b6b3-0747f09311a6",
   "metadata": {},
   "outputs": [],
   "source": []
  },
  {
   "cell_type": "code",
   "execution_count": 324,
   "id": "0bf1ced4-7886-42d2-ae3f-80ba2dbe07de",
   "metadata": {
    "tags": []
   },
   "outputs": [
    {
     "data": {
      "text/plain": [
       "0.6664012603163737"
      ]
     },
     "execution_count": 324,
     "metadata": {},
     "output_type": "execute_result"
    }
   ],
   "source": [
    "regr_1.score(X_train, y_train)"
   ]
  },
  {
   "cell_type": "code",
   "execution_count": 325,
   "id": "b438cc4f-f15f-440f-81d5-3b6bb9c94740",
   "metadata": {
    "tags": []
   },
   "outputs": [
    {
     "data": {
      "text/plain": [
       "0.8783466108183886"
      ]
     },
     "execution_count": 325,
     "metadata": {},
     "output_type": "execute_result"
    }
   ],
   "source": [
    "regr_2.score(X_train, y_train)"
   ]
  },
  {
   "cell_type": "code",
   "execution_count": 327,
   "id": "7e231183-d1ff-4f26-9f84-40a63924044f",
   "metadata": {
    "tags": []
   },
   "outputs": [
    {
     "data": {
      "text/plain": [
       "0.999870864505647"
      ]
     },
     "execution_count": 327,
     "metadata": {},
     "output_type": "execute_result"
    }
   ],
   "source": [
    "regr_3.score(X_train, y_train)"
   ]
  },
  {
   "cell_type": "code",
   "execution_count": 333,
   "id": "8af90d38-4a16-42cb-b394-7214b2dc7d40",
   "metadata": {
    "tags": []
   },
   "outputs": [
    {
     "data": {
      "text/plain": [
       "0.6538453270767084"
      ]
     },
     "execution_count": 333,
     "metadata": {},
     "output_type": "execute_result"
    }
   ],
   "source": [
    "regr_1.score(X_test, y_test)"
   ]
  },
  {
   "cell_type": "markdown",
   "id": "8550e640-5180-4ddb-85b3-0ac51ae43a30",
   "metadata": {},
   "source": [
    "## Predictions"
   ]
  },
  {
   "cell_type": "code",
   "execution_count": 596,
   "id": "e4a65202-e48c-4aed-bed4-f4df8ee98f68",
   "metadata": {
    "tags": []
   },
   "outputs": [],
   "source": [
    "titers_pred = pred['abtiter']\n",
    "titers_pred = titers_pred['processed_similar_to_training'].T.reset_index().rename(columns={'index':'specimen_id'})\n",
    "titers_pred['specimen_id'] = titers_pred['specimen_id'].astype(int)"
   ]
  },
  {
   "cell_type": "code",
   "execution_count": 597,
   "id": "3e1d1281-14b1-4db7-9331-cf898a40fe9a",
   "metadata": {
    "tags": []
   },
   "outputs": [],
   "source": [
    "subject_pred = pred['subject_specimen']"
   ]
  },
  {
   "cell_type": "code",
   "execution_count": 598,
   "id": "05cd7918-73eb-46bf-8772-2f71f4633f19",
   "metadata": {
    "tags": []
   },
   "outputs": [],
   "source": [
    "subject_pred['specimen_id'] = subject_pred['specimen_id'].astype(int)"
   ]
  },
  {
   "cell_type": "code",
   "execution_count": 599,
   "id": "78846553-f6df-4361-82cb-c569bb08c6c3",
   "metadata": {
    "tags": []
   },
   "outputs": [],
   "source": [
    "IgG = subject_pred.merge(titers_pred, on='specimen_id', how = 'outer')"
   ]
  },
  {
   "cell_type": "code",
   "execution_count": 600,
   "id": "fa1eea7b-e9c8-45fb-96bf-6bb02d61daa3",
   "metadata": {
    "tags": []
   },
   "outputs": [
    {
     "data": {
      "text/plain": [
       "Index(['specimen_id', 'subject_id', 'actual_day_relative_to_boost',\n",
       "       'planned_day_relative_to_boost', 'specimen_type', 'visit',\n",
       "       'infancy_vac', 'biological_sex', 'ethnicity', 'race', 'year_of_birth',\n",
       "       'date_of_boost', 'dataset', 'timepoint', 'IgG_FHA', 'IgG_PRN', 'IgG_PT',\n",
       "       'IgG1_DT', 'IgG1_FHA', 'IgG1_OVA', 'IgG1_PRN', 'IgG1_PT', 'IgG1_TT',\n",
       "       'IgG2_DT', 'IgG2_FHA', 'IgG2_OVA', 'IgG2_PRN', 'IgG2_PT', 'IgG2_TT',\n",
       "       'IgG3_DT', 'IgG3_FHA', 'IgG3_OVA', 'IgG3_PRN', 'IgG3_PT', 'IgG3_TT',\n",
       "       'IgG4_DT', 'IgG4_FHA', 'IgG4_OVA', 'IgG4_PRN', 'IgG4_PT', 'IgG4_TT'],\n",
       "      dtype='object')"
      ]
     },
     "execution_count": 600,
     "metadata": {},
     "output_type": "execute_result"
    }
   ],
   "source": [
    "IgG.columns"
   ]
  },
  {
   "cell_type": "code",
   "execution_count": 601,
   "id": "9f0155be-dc80-4794-b490-fcbe61cc83ad",
   "metadata": {
    "tags": []
   },
   "outputs": [],
   "source": [
    "IgG = IgG[['subject_id',\n",
    "           'specimen_id',\n",
    "           'infancy_vac',\n",
    "           'biological_sex',\n",
    "           'year_of_birth',\n",
    "           'date_of_boost',\n",
    "           'actual_day_relative_to_boost',\n",
    "           'planned_day_relative_to_boost',\n",
    "           'ethnicity',\n",
    "           'race',\n",
    "           'dataset',\n",
    "           'specimen_type',\n",
    "           'visit',\n",
    "           'IgG_PT',\n",
    "           'IgG1_PT',\n",
    "           'IgG2_PT',\n",
    "           'IgG3_PT',\n",
    "           'IgG4_PT']]"
   ]
  },
  {
   "cell_type": "code",
   "execution_count": 602,
   "id": "fdde8a16-ab32-4bf2-a5ce-ffa557ec45cc",
   "metadata": {
    "tags": []
   },
   "outputs": [],
   "source": [
    "IgG = IgG[IgG['planned_day_relative_to_boost'].isin([0])]# == True"
   ]
  },
  {
   "cell_type": "code",
   "execution_count": 603,
   "id": "a739eafc-9693-4731-bf1c-d674a32f4980",
   "metadata": {
    "tags": []
   },
   "outputs": [],
   "source": [
    "#ids = list(IgG['subject_id'].value_counts().reset_index()['subject_id'])"
   ]
  },
  {
   "cell_type": "code",
   "execution_count": 604,
   "id": "64cf980d-5875-4733-8075-7725a86c8566",
   "metadata": {
    "tags": []
   },
   "outputs": [],
   "source": [
    "IgG_d= IgG[['infancy_vac', 'biological_sex', 'year_of_birth', 'ethnicity', 'race', 'visit', 'IgG_PT']].rename(columns={'IgG_PT': 'IgG_PT_d0'})"
   ]
  },
  {
   "cell_type": "code",
   "execution_count": 605,
   "id": "f2b0da4d-42db-40b9-a56d-b7885b231c0f",
   "metadata": {
    "tags": []
   },
   "outputs": [],
   "source": [
    "IgG_d['infancy_vac'] = IgG_d['infancy_vac'].map({'wP':0, 'aP':1})"
   ]
  },
  {
   "cell_type": "code",
   "execution_count": 606,
   "id": "15eca2a6-dcea-4b44-9a0f-403b4daf6bac",
   "metadata": {
    "tags": []
   },
   "outputs": [],
   "source": [
    "IgG_d['biological_sex'] = IgG_d['biological_sex'].map({'Female':0, 'Male':1})"
   ]
  },
  {
   "cell_type": "code",
   "execution_count": 607,
   "id": "12081e71-6f30-45f8-8fe3-0ffdfdb1a6f0",
   "metadata": {
    "tags": []
   },
   "outputs": [],
   "source": [
    "IgG_d['ethnicity'] = IgG_d['ethnicity'].map({'Not Hispanic or Latino':0, \n",
    "                                                   'Hispanic or Latino':1,\n",
    "                                                   'Unknown':2})"
   ]
  },
  {
   "cell_type": "code",
   "execution_count": 608,
   "id": "1a20bd1b-2149-45bc-ac50-c6dfe1829f7e",
   "metadata": {
    "tags": []
   },
   "outputs": [
    {
     "data": {
      "text/html": [
       "<div>\n",
       "<style scoped>\n",
       "    .dataframe tbody tr th:only-of-type {\n",
       "        vertical-align: middle;\n",
       "    }\n",
       "\n",
       "    .dataframe tbody tr th {\n",
       "        vertical-align: top;\n",
       "    }\n",
       "\n",
       "    .dataframe thead th {\n",
       "        text-align: right;\n",
       "    }\n",
       "</style>\n",
       "<table border=\"1\" class=\"dataframe\">\n",
       "  <thead>\n",
       "    <tr style=\"text-align: right;\">\n",
       "      <th></th>\n",
       "      <th>infancy_vac</th>\n",
       "      <th>biological_sex</th>\n",
       "      <th>year_of_birth</th>\n",
       "      <th>ethnicity</th>\n",
       "      <th>race</th>\n",
       "      <th>visit</th>\n",
       "      <th>IgG_PT_d0</th>\n",
       "    </tr>\n",
       "  </thead>\n",
       "  <tbody>\n",
       "    <tr>\n",
       "      <th>2</th>\n",
       "      <td>0</td>\n",
       "      <td>1</td>\n",
       "      <td>5844.0</td>\n",
       "      <td>0</td>\n",
       "      <td>0</td>\n",
       "      <td>3.0</td>\n",
       "      <td>1.060618</td>\n",
       "    </tr>\n",
       "    <tr>\n",
       "      <th>12</th>\n",
       "      <td>0</td>\n",
       "      <td>0</td>\n",
       "      <td>8401.0</td>\n",
       "      <td>0</td>\n",
       "      <td>0</td>\n",
       "      <td>5.0</td>\n",
       "      <td>1.309938</td>\n",
       "    </tr>\n",
       "    <tr>\n",
       "      <th>22</th>\n",
       "      <td>1</td>\n",
       "      <td>0</td>\n",
       "      <td>10592.0</td>\n",
       "      <td>1</td>\n",
       "      <td>2</td>\n",
       "      <td>5.0</td>\n",
       "      <td>1.196227</td>\n",
       "    </tr>\n",
       "    <tr>\n",
       "      <th>32</th>\n",
       "      <td>1</td>\n",
       "      <td>0</td>\n",
       "      <td>11323.0</td>\n",
       "      <td>0</td>\n",
       "      <td>0</td>\n",
       "      <td>5.0</td>\n",
       "      <td>0.967752</td>\n",
       "    </tr>\n",
       "    <tr>\n",
       "      <th>42</th>\n",
       "      <td>1</td>\n",
       "      <td>1</td>\n",
       "      <td>12053.0</td>\n",
       "      <td>0</td>\n",
       "      <td>0</td>\n",
       "      <td>3.0</td>\n",
       "      <td>1.651583</td>\n",
       "    </tr>\n",
       "  </tbody>\n",
       "</table>\n",
       "</div>"
      ],
      "text/plain": [
       "    infancy_vac  biological_sex  year_of_birth  ethnicity  race  visit  \\\n",
       "2             0               1         5844.0          0     0    3.0   \n",
       "12            0               0         8401.0          0     0    5.0   \n",
       "22            1               0        10592.0          1     2    5.0   \n",
       "32            1               0        11323.0          0     0    5.0   \n",
       "42            1               1        12053.0          0     0    3.0   \n",
       "\n",
       "    IgG_PT_d0  \n",
       "2    1.060618  \n",
       "12   1.309938  \n",
       "22   1.196227  \n",
       "32   0.967752  \n",
       "42   1.651583  "
      ]
     },
     "execution_count": 608,
     "metadata": {},
     "output_type": "execute_result"
    }
   ],
   "source": [
    "IgG_d['race'] = IgG_d['race'].map({'White':0, \n",
    "                                       'Asian':1,\n",
    "                                       'Unknown or Not Reported': 2,\n",
    "                                       'More Than One Race': 2,\n",
    "                                       'Black or African American': 3,\n",
    "                                       'Native Hawaiian or Other Pacific Islander': 4,\n",
    "                                       'American Indian/Alaska Native':5\n",
    "                                      })\n",
    "IgG_d.head()"
   ]
  },
  {
   "cell_type": "code",
   "execution_count": 611,
   "id": "da915af0-ff07-4f03-951e-a0f746d36aaa",
   "metadata": {
    "tags": []
   },
   "outputs": [],
   "source": [
    "y_1 = regr_1.predict(IgG_d)\n",
    "y_2 = regr_2.predict(IgG_d)\n",
    "y_3 = regr_3.predict(IgG_d)\n",
    "y_4 = regr_4.predict(IgG_d)"
   ]
  },
  {
   "cell_type": "code",
   "execution_count": 612,
   "id": "a3f344e8-78c8-44a8-b0db-503528adc026",
   "metadata": {
    "tags": []
   },
   "outputs": [
    {
     "data": {
      "text/plain": [
       "array([10.82360502, 13.73349248,  8.86373049,  4.09259703, 14.8636346 ,\n",
       "       14.8636346 , 16.29933481,  5.05166119,  7.90473632,  3.42081988,\n",
       "        2.09827627,  7.90473632,  1.25896521,  2.88217808, 14.66110672,\n",
       "       14.8636346 ,  0.9488632 ,  9.96874747, 14.8636346 ,  1.44478329,\n",
       "        4.09259703])"
      ]
     },
     "execution_count": 612,
     "metadata": {},
     "output_type": "execute_result"
    }
   ],
   "source": [
    "y_4"
   ]
  },
  {
   "cell_type": "code",
   "execution_count": 621,
   "id": "6a3e8740-c070-4505-81a8-b13687d449da",
   "metadata": {
    "tags": []
   },
   "outputs": [
    {
     "data": {
      "text/plain": [
       "[6, 5, 8, 13, 3, 3, 1, 11, 10, 14, 16, 10, 18, 15, 4, 3, 19, 7, 3, 17, 13]"
      ]
     },
     "execution_count": 621,
     "metadata": {},
     "output_type": "execute_result"
    }
   ],
   "source": [
    "rank = [abs(sorted(y_4).index(x)-19) for x in y_4]\n",
    "rank"
   ]
  },
  {
   "cell_type": "code",
   "execution_count": 622,
   "id": "b29ceebe-fa6b-48ca-b634-bd0ed3b60ea8",
   "metadata": {
    "tags": []
   },
   "outputs": [],
   "source": [
    "IgG['1.1) IgG-PT-D14-titer-Rank'] = rank"
   ]
  },
  {
   "cell_type": "code",
   "execution_count": 634,
   "id": "fc8bedba-896a-45cc-a96e-a22b780cbf82",
   "metadata": {
    "tags": []
   },
   "outputs": [],
   "source": [
    "ser = IgG['year_of_birth']\n",
    "\n",
    "IgG['year_of_birth'] = pd.to_timedelta(ser, unit='D') + pd.Timestamp('1970-1-1') "
   ]
  },
  {
   "cell_type": "code",
   "execution_count": 635,
   "id": "eb10b704-3a3b-4afe-aa48-264c508bd53d",
   "metadata": {
    "tags": []
   },
   "outputs": [
    {
     "data": {
      "text/html": [
       "<div>\n",
       "<style scoped>\n",
       "    .dataframe tbody tr th:only-of-type {\n",
       "        vertical-align: middle;\n",
       "    }\n",
       "\n",
       "    .dataframe tbody tr th {\n",
       "        vertical-align: top;\n",
       "    }\n",
       "\n",
       "    .dataframe thead th {\n",
       "        text-align: right;\n",
       "    }\n",
       "</style>\n",
       "<table border=\"1\" class=\"dataframe\">\n",
       "  <thead>\n",
       "    <tr style=\"text-align: right;\">\n",
       "      <th></th>\n",
       "      <th>subject_id</th>\n",
       "      <th>year_of_birth</th>\n",
       "      <th>biological_sex</th>\n",
       "      <th>infancy_vac</th>\n",
       "      <th>1.1) IgG-PT-D14-titer-Rank</th>\n",
       "    </tr>\n",
       "  </thead>\n",
       "  <tbody>\n",
       "    <tr>\n",
       "      <th>2</th>\n",
       "      <td>97.0</td>\n",
       "      <td>1986-01-01</td>\n",
       "      <td>Male</td>\n",
       "      <td>wP</td>\n",
       "      <td>6</td>\n",
       "    </tr>\n",
       "    <tr>\n",
       "      <th>12</th>\n",
       "      <td>98.0</td>\n",
       "      <td>1993-01-01</td>\n",
       "      <td>Female</td>\n",
       "      <td>wP</td>\n",
       "      <td>5</td>\n",
       "    </tr>\n",
       "    <tr>\n",
       "      <th>22</th>\n",
       "      <td>99.0</td>\n",
       "      <td>1999-01-01</td>\n",
       "      <td>Female</td>\n",
       "      <td>aP</td>\n",
       "      <td>8</td>\n",
       "    </tr>\n",
       "    <tr>\n",
       "      <th>32</th>\n",
       "      <td>100.0</td>\n",
       "      <td>2001-01-01</td>\n",
       "      <td>Female</td>\n",
       "      <td>aP</td>\n",
       "      <td>13</td>\n",
       "    </tr>\n",
       "    <tr>\n",
       "      <th>42</th>\n",
       "      <td>101.0</td>\n",
       "      <td>2003-01-01</td>\n",
       "      <td>Male</td>\n",
       "      <td>aP</td>\n",
       "      <td>3</td>\n",
       "    </tr>\n",
       "    <tr>\n",
       "      <th>52</th>\n",
       "      <td>102.0</td>\n",
       "      <td>2003-01-01</td>\n",
       "      <td>Male</td>\n",
       "      <td>aP</td>\n",
       "      <td>3</td>\n",
       "    </tr>\n",
       "    <tr>\n",
       "      <th>62</th>\n",
       "      <td>103.0</td>\n",
       "      <td>1994-01-01</td>\n",
       "      <td>Female</td>\n",
       "      <td>wP</td>\n",
       "      <td>1</td>\n",
       "    </tr>\n",
       "    <tr>\n",
       "      <th>72</th>\n",
       "      <td>104.0</td>\n",
       "      <td>1989-01-01</td>\n",
       "      <td>Female</td>\n",
       "      <td>wP</td>\n",
       "      <td>11</td>\n",
       "    </tr>\n",
       "    <tr>\n",
       "      <th>81</th>\n",
       "      <td>105.0</td>\n",
       "      <td>1994-01-01</td>\n",
       "      <td>Female</td>\n",
       "      <td>wP</td>\n",
       "      <td>10</td>\n",
       "    </tr>\n",
       "    <tr>\n",
       "      <th>91</th>\n",
       "      <td>106.0</td>\n",
       "      <td>1996-01-01</td>\n",
       "      <td>Female</td>\n",
       "      <td>aP</td>\n",
       "      <td>14</td>\n",
       "    </tr>\n",
       "    <tr>\n",
       "      <th>101</th>\n",
       "      <td>107.0</td>\n",
       "      <td>1998-01-01</td>\n",
       "      <td>Female</td>\n",
       "      <td>aP</td>\n",
       "      <td>16</td>\n",
       "    </tr>\n",
       "    <tr>\n",
       "      <th>111</th>\n",
       "      <td>108.0</td>\n",
       "      <td>1995-01-01</td>\n",
       "      <td>Female</td>\n",
       "      <td>wP</td>\n",
       "      <td>10</td>\n",
       "    </tr>\n",
       "    <tr>\n",
       "      <th>121</th>\n",
       "      <td>109.0</td>\n",
       "      <td>1989-01-01</td>\n",
       "      <td>Female</td>\n",
       "      <td>wP</td>\n",
       "      <td>18</td>\n",
       "    </tr>\n",
       "    <tr>\n",
       "      <th>131</th>\n",
       "      <td>110.0</td>\n",
       "      <td>1997-01-01</td>\n",
       "      <td>Female</td>\n",
       "      <td>aP</td>\n",
       "      <td>15</td>\n",
       "    </tr>\n",
       "    <tr>\n",
       "      <th>141</th>\n",
       "      <td>111.0</td>\n",
       "      <td>1996-01-01</td>\n",
       "      <td>Male</td>\n",
       "      <td>wP</td>\n",
       "      <td>4</td>\n",
       "    </tr>\n",
       "    <tr>\n",
       "      <th>152</th>\n",
       "      <td>112.0</td>\n",
       "      <td>1996-01-01</td>\n",
       "      <td>Male</td>\n",
       "      <td>aP</td>\n",
       "      <td>3</td>\n",
       "    </tr>\n",
       "    <tr>\n",
       "      <th>162</th>\n",
       "      <td>114.0</td>\n",
       "      <td>1990-01-01</td>\n",
       "      <td>Male</td>\n",
       "      <td>wP</td>\n",
       "      <td>19</td>\n",
       "    </tr>\n",
       "    <tr>\n",
       "      <th>172</th>\n",
       "      <td>115.0</td>\n",
       "      <td>2002-01-01</td>\n",
       "      <td>Female</td>\n",
       "      <td>aP</td>\n",
       "      <td>7</td>\n",
       "    </tr>\n",
       "    <tr>\n",
       "      <th>182</th>\n",
       "      <td>116.0</td>\n",
       "      <td>2000-01-01</td>\n",
       "      <td>Male</td>\n",
       "      <td>aP</td>\n",
       "      <td>3</td>\n",
       "    </tr>\n",
       "    <tr>\n",
       "      <th>192</th>\n",
       "      <td>117.0</td>\n",
       "      <td>1994-01-01</td>\n",
       "      <td>Female</td>\n",
       "      <td>aP</td>\n",
       "      <td>17</td>\n",
       "    </tr>\n",
       "    <tr>\n",
       "      <th>202</th>\n",
       "      <td>118.0</td>\n",
       "      <td>1998-01-01</td>\n",
       "      <td>Male</td>\n",
       "      <td>aP</td>\n",
       "      <td>13</td>\n",
       "    </tr>\n",
       "  </tbody>\n",
       "</table>\n",
       "</div>"
      ],
      "text/plain": [
       "     subject_id year_of_birth biological_sex infancy_vac  \\\n",
       "2          97.0    1986-01-01           Male          wP   \n",
       "12         98.0    1993-01-01         Female          wP   \n",
       "22         99.0    1999-01-01         Female          aP   \n",
       "32        100.0    2001-01-01         Female          aP   \n",
       "42        101.0    2003-01-01           Male          aP   \n",
       "52        102.0    2003-01-01           Male          aP   \n",
       "62        103.0    1994-01-01         Female          wP   \n",
       "72        104.0    1989-01-01         Female          wP   \n",
       "81        105.0    1994-01-01         Female          wP   \n",
       "91        106.0    1996-01-01         Female          aP   \n",
       "101       107.0    1998-01-01         Female          aP   \n",
       "111       108.0    1995-01-01         Female          wP   \n",
       "121       109.0    1989-01-01         Female          wP   \n",
       "131       110.0    1997-01-01         Female          aP   \n",
       "141       111.0    1996-01-01           Male          wP   \n",
       "152       112.0    1996-01-01           Male          aP   \n",
       "162       114.0    1990-01-01           Male          wP   \n",
       "172       115.0    2002-01-01         Female          aP   \n",
       "182       116.0    2000-01-01           Male          aP   \n",
       "192       117.0    1994-01-01         Female          aP   \n",
       "202       118.0    1998-01-01           Male          aP   \n",
       "\n",
       "     1.1) IgG-PT-D14-titer-Rank  \n",
       "2                             6  \n",
       "12                            5  \n",
       "22                            8  \n",
       "32                           13  \n",
       "42                            3  \n",
       "52                            3  \n",
       "62                            1  \n",
       "72                           11  \n",
       "81                           10  \n",
       "91                           14  \n",
       "101                          16  \n",
       "111                          10  \n",
       "121                          18  \n",
       "131                          15  \n",
       "141                           4  \n",
       "152                           3  \n",
       "162                          19  \n",
       "172                           7  \n",
       "182                           3  \n",
       "192                          17  \n",
       "202                          13  "
      ]
     },
     "execution_count": 635,
     "metadata": {},
     "output_type": "execute_result"
    }
   ],
   "source": [
    "IgG[['subject_id', 'year_of_birth', 'biological_sex', 'infancy_vac', '1.1) IgG-PT-D14-titer-Rank']]"
   ]
  },
  {
   "cell_type": "code",
   "execution_count": null,
   "id": "dcb69d9c-a3b6-4ba2-986f-df1640b0afd0",
   "metadata": {},
   "outputs": [],
   "source": []
  },
  {
   "cell_type": "code",
   "execution_count": null,
   "id": "86f94f56-ebfa-4c08-9f5a-a7b231f8715f",
   "metadata": {},
   "outputs": [],
   "source": []
  }
 ],
 "metadata": {
  "kernelspec": {
   "display_name": "Python 3 (ipykernel)",
   "language": "python",
   "name": "python3"
  },
  "language_info": {
   "codemirror_mode": {
    "name": "ipython",
    "version": 3
   },
   "file_extension": ".py",
   "mimetype": "text/x-python",
   "name": "python",
   "nbconvert_exporter": "python",
   "pygments_lexer": "ipython3",
   "version": "3.11.0"
  }
 },
 "nbformat": 4,
 "nbformat_minor": 5
}
