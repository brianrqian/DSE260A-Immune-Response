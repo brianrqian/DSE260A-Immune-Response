{
 "cells": [
  {
   "cell_type": "code",
   "execution_count": null,
   "id": "2587b00c-2297-4691-8352-af62eecd79fb",
   "metadata": {
    "tags": []
   },
   "outputs": [],
   "source": [
    "import pandas as pd\n",
    "import numpy as np\n",
    "\n",
    "import seaborn as sns\n",
    "from scipy.stats import randint\n",
    "import matplotlib.pyplot as plt\n",
    "\n",
    "from sklearn.preprocessing import Normalizer\n",
    "from sklearn.preprocessing import OneHotEncoder\n",
    "from sklearn.preprocessing import StandardScaler\n",
    "\n",
    "from sklearn.linear_model import LogisticRegression\n",
    "from sklearn.linear_model import LinearRegression\n",
    "from sklearn.linear_model import Lasso, Ridge, ElasticNet\n",
    "from sklearn.neighbors import KNeighborsRegressor\n",
    "from sklearn.tree import DecisionTreeRegressor\n",
    "\n",
    "from sklearn.ensemble import RandomForestRegressor, GradientBoostingRegressor\n",
    "from sklearn.svm import SVR\n",
    "\n",
    "from sklearn.feature_selection import SelectKBest, f_regression, mutual_info_regression\n",
    "from sklearn.model_selection import RandomizedSearchCV, train_test_split\n",
    "from sklearn.metrics import mean_squared_error, mean_absolute_error, r2_score\n",
    "from sklearn.metrics import accuracy_score, confusion_matrix, precision_score, recall_score, ConfusionMatrixDisplay"
   ]
  },
  {
   "cell_type": "markdown",
   "id": "1b5ec6ee-b888-4d73-b2d5-b5fcd32f9875",
   "metadata": {
    "tags": []
   },
   "source": [
    "# 10000Features"
   ]
  },
  {
   "cell_type": "markdown",
   "id": "2e5685c1-6cb2-48d4-b79f-24010d9f6283",
   "metadata": {
    "tags": []
   },
   "source": [
    "## 1. Load & Cleaning Dataset"
   ]
  },
  {
   "cell_type": "markdown",
   "id": "f8d95096-8365-497b-8d23-167c3c382bbd",
   "metadata": {
    "tags": []
   },
   "source": [
    "#### 1.1 Loading in training and prediction datasets"
   ]
  },
  {
   "cell_type": "code",
   "execution_count": null,
   "id": "f295d47c-60f1-469e-a1cd-789d925d6aa3",
   "metadata": {
    "tags": []
   },
   "outputs": [],
   "source": [
    "df_2020_gene = pd.read_csv(\"https://www.cmi-pb.org/downloads/cmipb_challenge_datasets/current/2nd_challenge/raw_datasets/training_data/2020LD_pbmc_gene_expression.tsv\", sep='\\t')\n",
    "df_2020_specimen = pd.read_csv(\"https://www.cmi-pb.org/downloads/cmipb_challenge_datasets/current/2nd_challenge/raw_datasets/training_data/2020LD_specimen.tsv\", sep='\\t')\n",
    "df_2020_subject = pd.read_csv(\"https://www.cmi-pb.org/downloads/cmipb_challenge_datasets/current/2nd_challenge/raw_datasets/training_data/2020LD_subject.tsv\", sep='\\t')\n",
    "df_2021_gene = pd.read_csv(\"https://www.cmi-pb.org/downloads/cmipb_challenge_datasets/current/2nd_challenge/raw_datasets/training_data/2021LD_pbmc_gene_expression.tsv\", sep='\\t')\n",
    "df_2021_specimen = pd.read_csv(\"https://www.cmi-pb.org/downloads/cmipb_challenge_datasets/current/2nd_challenge/raw_datasets/training_data/2021LD_specimen.tsv\", sep='\\t')\n",
    "df_2021_subject = pd.read_csv(\"https://www.cmi-pb.org/downloads/cmipb_challenge_datasets/current/2nd_challenge/raw_datasets/training_data/2021LD_subject.tsv\", sep='\\t')\n",
    "df_2022_gene = pd.read_csv(\"https://www.cmi-pb.org/downloads/cmipb_challenge_datasets/current/2nd_challenge/raw_datasets/prediction_data/2022BD_pbmc_gene_expression.tsv\", sep='\\t')\n",
    "df_2022_specimen = pd.read_csv(\"https://www.cmi-pb.org/downloads/cmipb_challenge_datasets/current/2nd_challenge/raw_datasets/prediction_data/2022BD_specimen.tsv\", sep='\\t')\n",
    "df_2022_subject = pd.read_csv(\"https://www.cmi-pb.org/downloads/cmipb_challenge_datasets/current/2nd_challenge/raw_datasets/prediction_data/2022BD_subject.tsv\", sep='\\t')"
   ]
  },
  {
   "cell_type": "markdown",
   "id": "bcdeead9-438b-4be0-9156-fa03b8b0871d",
   "metadata": {},
   "source": [
    "#### 1.2 Cleaning subject and gene expression datasets"
   ]
  },
  {
   "cell_type": "code",
   "execution_count": null,
   "id": "8382037e-105a-4184-bcfa-5b6a47fd2864",
   "metadata": {
    "tags": []
   },
   "outputs": [],
   "source": [
    "## cleaning the subject/specimen dataset to get an age column\n",
    "def clean_df_subject(df):\n",
    "    \n",
    "    ## Get age column\n",
    "    df['year_of_birth'] = pd.to_numeric(df['year_of_birth'].str[:4])\n",
    "    df['date_of_boost'] = pd.to_numeric(df['date_of_boost'].str[:4])\n",
    "    df['age'] = df['date_of_boost'] - df['year_of_birth']\n",
    "    return df"
   ]
  },
  {
   "cell_type": "code",
   "execution_count": null,
   "id": "20b80e4f-acb8-4f73-b13e-3df4683dcbbc",
   "metadata": {
    "tags": []
   },
   "outputs": [],
   "source": [
    "## cleaning the gene data to transform ensembl gene id to name\n",
    "def clean_df_gene(df):\n",
    "    df['versioned_ensembl_gene_id'] = df['versioned_ensembl_gene_id'].apply(lambda x: x.split('.')[0])\n",
    "    #mg = mygene.MyGeneInfo()\n",
    "    \n",
    "    # extract symbol and gene type from the versioned_ensembl_gene_id\n",
    "    #df['gene_symbol'] = df['versioned_ensembl_gene_id'].apply(lambda x : mg.getgene(x)['symbol'])\n",
    "    #df['gene_type'] = df['versioned_ensembl_gene_id'].apply(lambda x : mg.getgene(x)['type_of_gene'])\n",
    "    return df"
   ]
  },
  {
   "cell_type": "code",
   "execution_count": null,
   "id": "9c0e5b03-12d7-443b-aa59-c46bca017bb9",
   "metadata": {
    "tags": []
   },
   "outputs": [],
   "source": [
    "#all_genes = genes['versioned_ensembl_gene_id'].unique()\n",
    "#symbols = []\n",
    "#for i in all_genes:\n",
    "#    symbols.append(mg.getgene(i)['symbol'])"
   ]
  },
  {
   "cell_type": "markdown",
   "id": "845af74f-13fd-469a-8fd3-9ce539c7f317",
   "metadata": {
    "tags": []
   },
   "source": [
    "#### 1.3 EDA: finding which genes closely relate to CCL3 gene"
   ]
  },
  {
   "cell_type": "code",
   "execution_count": null,
   "id": "bc6e82bf-e832-479a-a40b-6fdcce1743fa",
   "metadata": {
    "tags": []
   },
   "outputs": [],
   "source": [
    "## concatenating 2020 and 2021 gene datasets\n",
    "genes = pd.concat([clean_df_gene(df_2020_gene),clean_df_gene(df_2021_gene)]).reset_index()\n",
    "genes_cols = genes.pivot_table(index=['specimen_id'], columns=['versioned_ensembl_gene_id'], values= 'tpm')#.reset_index()"
   ]
  },
  {
   "cell_type": "code",
   "execution_count": null,
   "id": "a0428004-f97d-48e5-9b7f-e5f39cf0f674",
   "metadata": {},
   "outputs": [],
   "source": [
    "X = genes_cols.loc[:, genes_cols.columns !='ENSG00000277632']  #independent columns\n",
    "y = genes_cols['ENSG00000277632']    #target column i.e CCL3"
   ]
  },
  {
   "cell_type": "code",
   "execution_count": null,
   "id": "668c423c-9cde-4994-aa2e-d279e18e486f",
   "metadata": {
    "tags": []
   },
   "outputs": [],
   "source": [
    "#apply SelectKBest class to extract top 10 best features\n",
    "bestfeatures = SelectKBest(score_func=f_regression, k=10)\n",
    "fit = bestfeatures.fit(X,y)\n",
    "dfscores = pd.DataFrame(fit.scores_)\n",
    "dfcolumns = pd.DataFrame(X.columns)\n",
    "\n",
    "#concat two dataframes for better visualization \n",
    "featureScores = pd.concat([dfcolumns,dfscores],axis=1)\n",
    "featureScores.columns = ['Specs','Score']  #naming the dataframe columns\n",
    "print(featureScores.nlargest(10,'Score'))  #print 10 best features"
   ]
  },
  {
   "cell_type": "code",
   "execution_count": null,
   "id": "42cfb998-baf6-408d-8484-9945ff909c08",
   "metadata": {
    "tags": []
   },
   "outputs": [],
   "source": [
    "top1000 = list(featureScores.nlargest(10000,'Score')['Specs'])\n",
    "top1000.append('ENSG00000277632')\n",
    "final_gene = genes_cols[genes_cols.columns.intersection(top1000)].rename(columns= {'ENSG00000277632':'CCL3'}).reset_index()\n",
    "final_gene                                                  "
   ]
  },
  {
   "cell_type": "markdown",
   "id": "4fe63c98-c9a6-4d48-a418-3282dd3a0531",
   "metadata": {},
   "source": [
    "#### 1.4 Merging datasets"
   ]
  },
  {
   "cell_type": "code",
   "execution_count": null,
   "id": "c44e3014-e0a5-4f9b-bc15-a51ecf56df37",
   "metadata": {
    "tags": []
   },
   "outputs": [],
   "source": [
    "## concatenating 2020 and 2021 subject & specimen datasets\n",
    "subject = clean_df_subject(pd.concat([pd.merge(df_2020_specimen,df_2020_subject, on= 'subject_id'),\n",
    "pd.merge(df_2021_specimen,df_2021_subject, on= 'subject_id')],ignore_index=True))"
   ]
  },
  {
   "cell_type": "code",
   "execution_count": null,
   "id": "02fe655e-ba45-427e-a31a-d075310f9ae2",
   "metadata": {
    "tags": []
   },
   "outputs": [],
   "source": [
    "## merging the titer & subject/specimen datasets to one dataframe\n",
    "subject = subject[['subject_id',\n",
    "                   'specimen_id',\n",
    "                   'planned_day_relative_to_boost',\n",
    "         'infancy_vac',\n",
    "         'biological_sex',\n",
    "         'age',\n",
    "         'year_of_birth',\n",
    "         'ethnicity',\n",
    "         'race']]\n",
    "df = subject.merge(final_gene, on='specimen_id')"
   ]
  },
  {
   "cell_type": "markdown",
   "id": "839aa78e-fa4a-4720-bd45-11366e857e74",
   "metadata": {
    "tags": []
   },
   "source": [
    "## 2. Data Feature Selection & Transformation"
   ]
  },
  {
   "cell_type": "code",
   "execution_count": null,
   "id": "22b3ebe6-0cb6-4b24-9412-13bfacb5bd39",
   "metadata": {},
   "outputs": [],
   "source": [
    "df_d0 = df[df['planned_day_relative_to_boost'] == 0.0].rename(columns = {'CCL3':'CCL3_d0'})\n",
    "df_d3 = df[df['planned_day_relative_to_boost'] == 3.0][['subject_id', 'CCL3']]\n",
    "df_d3 = df_d3.merge(df_d0, on = 'subject_id')\n",
    "df_d3['CCL3-FC'] = np.log2(df_d3['CCL3'] / df_d3['CCL3_d0'])\n",
    "df_d3 = df_d3.drop(['subject_id', 'specimen_id', 'planned_day_relative_to_boost'], axis = 1)"
   ]
  },
  {
   "cell_type": "markdown",
   "id": "e51ea557-517a-40ef-91b4-6c83d5cc00de",
   "metadata": {},
   "source": [
    "#### 2.1 Data Feature Transformation\n",
    "- mapping string data into numerical type for Regression training"
   ]
  },
  {
   "cell_type": "code",
   "execution_count": null,
   "id": "c9a359f9-62f4-445a-9a16-ce8c00e7ac1f",
   "metadata": {
    "tags": []
   },
   "outputs": [],
   "source": [
    "df_d3['infancy_vac'] = df_d3['infancy_vac'].map({'wP':0, 'aP':1})"
   ]
  },
  {
   "cell_type": "code",
   "execution_count": null,
   "id": "118fa06d-a06c-4db4-8593-5340524e293b",
   "metadata": {
    "tags": []
   },
   "outputs": [],
   "source": [
    "df_d3['biological_sex'] = df_d3['biological_sex'].map({'Female':0, 'Male':1})"
   ]
  },
  {
   "cell_type": "code",
   "execution_count": null,
   "id": "a94f536b-96ac-4df1-a30a-efd639792458",
   "metadata": {
    "tags": []
   },
   "outputs": [],
   "source": [
    "df_d3['ethnicity'] = df_d3['ethnicity'].map({'Not Hispanic or Latino':0, \n",
    "                                             'Hispanic or Latino':1,\n",
    "                                             'Unknown':2})"
   ]
  },
  {
   "cell_type": "code",
   "execution_count": null,
   "id": "ccaf5197-15bd-46ec-99d5-eb73b4f106e6",
   "metadata": {
    "tags": []
   },
   "outputs": [],
   "source": [
    "df_d3['race'] = df_d3['race'].map({'White':0, \n",
    "                                   'Asian':1,\n",
    "                                   'Unknown or Not Reported': 2,\n",
    "                                   'More Than One Race': 2,\n",
    "                                   'Black or African American': 3,\n",
    "                                   'Native Hawaiian or Other Pacific Islander': 4,\n",
    "                                   'American Indian/Alaska Native':5})\n",
    "df_d3.head()"
   ]
  },
  {
   "cell_type": "markdown",
   "id": "066b9307-4cfe-4ca5-940e-c120bcc46b21",
   "metadata": {
    "tags": []
   },
   "source": [
    "## 3. Training and Evaluating Models"
   ]
  },
  {
   "cell_type": "markdown",
   "id": "c4ded5e1-199b-4994-8aee-c9f9c39767b5",
   "metadata": {
    "tags": []
   },
   "source": [
    "#### 3.1 Creating training and testing datasets"
   ]
  },
  {
   "cell_type": "code",
   "execution_count": null,
   "id": "9b68781c-61b7-423d-add8-8d159b4f8717",
   "metadata": {
    "tags": []
   },
   "outputs": [],
   "source": [
    "X = df_d3.drop(['CCL3','CCL3-FC'], axis = 1)\n",
    "y = df_d3['CCL3-FC']\n"
   ]
  },
  {
   "cell_type": "code",
   "execution_count": null,
   "id": "81c5d651-1979-4825-90dc-ed6d4e5c2012",
   "metadata": {
    "tags": []
   },
   "outputs": [],
   "source": [
    "X_train, X_test, y_train, y_test = train_test_split(X, y, test_size=0.2)"
   ]
  },
  {
   "cell_type": "code",
   "execution_count": null,
   "id": "ba3f3d83-36e5-46b4-b13c-8ef92b5bcf55",
   "metadata": {
    "tags": []
   },
   "outputs": [],
   "source": [
    "scaler = Normalizer()\n",
    "X_train_scaled = X_train#pd.DataFrame(scaler.fit_transform(X_train), columns=X_train.columns)\n",
    "X_test_scaled = X_test#pd.DataFrame(scaler.transform(X_test), columns=X_test.columns)"
   ]
  },
  {
   "cell_type": "markdown",
   "id": "549814a8-54e2-4f1d-b20b-776df5b08ce9",
   "metadata": {},
   "source": [
    "#### 3.2 Linear Regression "
   ]
  },
  {
   "cell_type": "markdown",
   "id": "ff0da437-874a-4117-8b5c-7bc15d5eec5f",
   "metadata": {},
   "source": [
    "First we will test a simple naive model, Linear Regression, to get a baseline of how a model should at least perform"
   ]
  },
  {
   "cell_type": "code",
   "execution_count": null,
   "id": "c8a7f3e2-9e99-4682-ab19-f09e7e0f86ce",
   "metadata": {
    "tags": []
   },
   "outputs": [],
   "source": [
    "reg = LinearRegression().fit(X, y)\n",
    "Y_pred = reg.predict(X)"
   ]
  },
  {
   "cell_type": "code",
   "execution_count": null,
   "id": "59328d60-a283-4568-b59a-f3fdd3d2c91c",
   "metadata": {
    "tags": []
   },
   "outputs": [],
   "source": [
    "mse = mean_squared_error(y, Y_pred)\n",
    "mae = mean_absolute_error(y, Y_pred)\n",
    "r2 = r2_score(y, Y_pred)\n",
    "mse, mae, r2"
   ]
  },
  {
   "cell_type": "markdown",
   "id": "97eed26c-d08e-48b6-84d2-c43596355ae1",
   "metadata": {},
   "source": [
    "The MSE, MAE, and R2 scores were very good indicating that the model was good at predicting among its own training data, though the real evaluation comes with training the model with the training dataset, and predicting values for the testing subset of data. This will allow us to better evaluate if the model's actually good at predicitng with new data points."
   ]
  },
  {
   "cell_type": "code",
   "execution_count": null,
   "id": "3ca99dee-6a17-4953-b8f4-82ee78e077a1",
   "metadata": {
    "tags": []
   },
   "outputs": [],
   "source": [
    "reg_sub = LinearRegression().fit(X_train, y_train)\n",
    "Y_pred = reg_sub.predict(X_test)"
   ]
  },
  {
   "cell_type": "code",
   "execution_count": null,
   "id": "ea1c6971-1b5f-40b6-a641-7f092d2dac89",
   "metadata": {
    "tags": []
   },
   "outputs": [],
   "source": [
    "mse = mean_squared_error(y_test, Y_pred)\n",
    "mae = mean_absolute_error(y_test, Y_pred)\n",
    "r2 = r2_score(y_test, Y_pred)\n",
    "mse, mae, r2"
   ]
  },
  {
   "cell_type": "markdown",
   "id": "67d4562d-753f-40f7-b63c-ee81aee6f0a0",
   "metadata": {},
   "source": [
    "While the MSE and MAE scores performed better, the R2 indicates that the model is heavily not accurate in its predictions and could definitely be improved upon. So we are going to be testing more advanced models and seeing any improvements"
   ]
  },
  {
   "cell_type": "markdown",
   "id": "abdafeeb-3449-4119-bb66-478bb35d71c9",
   "metadata": {},
   "source": [
    "#### 3.2 Elastic Net"
   ]
  },
  {
   "cell_type": "code",
   "execution_count": null,
   "id": "f5e7edbd-67cc-40db-bd7d-80910c5c1567",
   "metadata": {
    "tags": []
   },
   "outputs": [],
   "source": [
    "en = ElasticNet()\n",
    "en.fit(X, y)\n",
    "Y_pred = en.predict(X)"
   ]
  },
  {
   "cell_type": "code",
   "execution_count": null,
   "id": "cca8639e-dc17-4b36-81d1-5c1ae956a80b",
   "metadata": {
    "tags": []
   },
   "outputs": [],
   "source": [
    "mse = mean_squared_error(y, Y_pred)\n",
    "mae = mean_absolute_error(y, Y_pred)\n",
    "r2 = r2_score(y, Y_pred)\n",
    "mse, mae, r2"
   ]
  },
  {
   "cell_type": "code",
   "execution_count": null,
   "id": "e207bc19-ea6b-43f2-8d62-c838245c1d54",
   "metadata": {
    "tags": []
   },
   "outputs": [],
   "source": [
    "en_sub = ElasticNet()\n",
    "en_sub.fit(X_train, y_train)\n",
    "Y_pred = en_sub.predict(X_test)"
   ]
  },
  {
   "cell_type": "code",
   "execution_count": null,
   "id": "1e46767f-8415-4f3c-8e02-df35da6401fe",
   "metadata": {
    "tags": []
   },
   "outputs": [],
   "source": [
    "mse = mean_squared_error(y_test, Y_pred)\n",
    "mae = mean_absolute_error(y_test, Y_pred)\n",
    "r2 = r2_score(y_test, Y_pred)\n",
    "mse, mae, r2"
   ]
  },
  {
   "cell_type": "markdown",
   "id": "93fe78fe-c065-4a91-963b-01e820cf7688",
   "metadata": {
    "tags": []
   },
   "source": [
    "#### 3.3 KNeighborsRegressor"
   ]
  },
  {
   "cell_type": "markdown",
   "id": "5be73b11-b8d3-4555-a3f2-99080b5e201f",
   "metadata": {},
   "source": [
    "Since our training data we are working with is fairly constricted in size, we will take a look at how KNeighborsRegressor will perform"
   ]
  },
  {
   "cell_type": "code",
   "execution_count": null,
   "id": "a23aa81a-3e30-4005-9b89-f73ddd415177",
   "metadata": {
    "tags": []
   },
   "outputs": [],
   "source": [
    "kn = KNeighborsRegressor()\n",
    "kn.fit(X, y)\n",
    "Y_pred = kn.predict(X)"
   ]
  },
  {
   "cell_type": "code",
   "execution_count": null,
   "id": "f72243ed-d723-47ee-8694-5e19354c7cb7",
   "metadata": {
    "tags": []
   },
   "outputs": [],
   "source": [
    "mse = mean_squared_error(y, Y_pred)\n",
    "mae = mean_absolute_error(y, Y_pred)\n",
    "r2 = r2_score(y, Y_pred)\n",
    "mse, mae, r2"
   ]
  },
  {
   "cell_type": "code",
   "execution_count": null,
   "id": "d2b1e1db-a6b7-4888-a7fe-9fad67cb15e9",
   "metadata": {
    "tags": []
   },
   "outputs": [],
   "source": [
    "kn_sub = KNeighborsRegressor()\n",
    "kn_sub.fit(X_train, y_train)\n",
    "Y_pred = kn_sub.predict(X_test)"
   ]
  },
  {
   "cell_type": "code",
   "execution_count": null,
   "id": "033adb95-c7d6-4328-8e8f-737fa3fc2ae1",
   "metadata": {
    "tags": []
   },
   "outputs": [],
   "source": [
    "mse = mean_squared_error(y_test, Y_pred)\n",
    "mae = mean_absolute_error(y_test, Y_pred)\n",
    "r2 = r2_score(y_test, Y_pred)\n",
    "mse, mae, r2"
   ]
  },
  {
   "cell_type": "markdown",
   "id": "85d9660d-36ee-4502-86a5-efb9f803274e",
   "metadata": {
    "tags": []
   },
   "source": [
    "The results are promising with a R2 score of 0.57 on a scale from 0 to 1, alot better than our baseline with Linear Regression of -4.15"
   ]
  },
  {
   "cell_type": "markdown",
   "id": "792200fd-f5b2-49e5-9c10-b37138d523a4",
   "metadata": {},
   "source": [
    "#### 3.4 DecisionTreeRegressor"
   ]
  },
  {
   "cell_type": "code",
   "execution_count": null,
   "id": "b7dcba2d-4cc3-47bd-aea6-4d8f6b3305fd",
   "metadata": {
    "tags": []
   },
   "outputs": [],
   "source": [
    "regr_1 = DecisionTreeRegressor(max_depth=5)\n",
    "regr_2 = DecisionTreeRegressor(max_depth=10)\n",
    "regr_3 = DecisionTreeRegressor(max_depth=15)\n",
    "regr_1.fit(X, y)\n",
    "regr_2.fit(X, y)\n",
    "regr_3.fit(X, y)\n",
    "y_1 = regr_1.predict(X)\n",
    "y_2 = regr_2.predict(X)\n",
    "y_3 = regr_3.predict(X)"
   ]
  },
  {
   "cell_type": "code",
   "execution_count": null,
   "id": "06c84492-0bd4-47a4-8c22-679eb0671eae",
   "metadata": {
    "tags": []
   },
   "outputs": [],
   "source": [
    "mse = mean_squared_error(y, y_1)\n",
    "mae = mean_absolute_error(y, y_1)\n",
    "r2 = r2_score(y, y_1)\n",
    "mse, mae, r2"
   ]
  },
  {
   "cell_type": "code",
   "execution_count": null,
   "id": "c6f4467d-e352-4357-8652-9d268355e27e",
   "metadata": {
    "tags": []
   },
   "outputs": [],
   "source": [
    "mse = mean_squared_error(y, y_2)\n",
    "mae = mean_absolute_error(y, y_2)\n",
    "r2 = r2_score(y, y_2)\n",
    "mse, mae, r2"
   ]
  },
  {
   "cell_type": "code",
   "execution_count": null,
   "id": "faff1a3d-9539-4bf6-9bbb-085a5b2814a0",
   "metadata": {
    "tags": []
   },
   "outputs": [],
   "source": [
    "mse = mean_squared_error(y, y_3)\n",
    "mae = mean_absolute_error(y, y_3)\n",
    "r2 = r2_score(y, y_3)\n",
    "mse, mae, r2"
   ]
  },
  {
   "cell_type": "code",
   "execution_count": null,
   "id": "e94c9083-eca7-4159-a5f7-027a94be14b3",
   "metadata": {
    "tags": []
   },
   "outputs": [],
   "source": [
    "regr_1_sub = DecisionTreeRegressor(max_depth=5)\n",
    "regr_2_sub = DecisionTreeRegressor(max_depth=10)\n",
    "regr_3_sub = DecisionTreeRegressor(max_depth=15)\n",
    "regr_1_sub.fit(X_train, y_train)\n",
    "regr_2_sub.fit(X_train, y_train)\n",
    "regr_3_sub.fit(X_train, y_train)\n",
    "y_1 = regr_1.predict(X_test)\n",
    "y_2 = regr_2.predict(X_test)\n",
    "y_3 = regr_3.predict(X_test)"
   ]
  },
  {
   "cell_type": "code",
   "execution_count": null,
   "id": "05be22bb-7285-489a-a4d4-1fad14da769b",
   "metadata": {
    "tags": []
   },
   "outputs": [],
   "source": [
    "mse = mean_squared_error(y_test, y_1)\n",
    "mae = mean_absolute_error(y_test, y_1)\n",
    "r2 = r2_score(y_test, y_1)\n",
    "mse, mae, r2"
   ]
  },
  {
   "cell_type": "code",
   "execution_count": null,
   "id": "3a95904a-1eed-432c-bf7a-05fb36aa4214",
   "metadata": {
    "tags": []
   },
   "outputs": [],
   "source": [
    "mse = mean_squared_error(y_test, y_2)\n",
    "mae = mean_absolute_error(y_test, y_2)\n",
    "r2 = r2_score(y_test, y_2)\n",
    "mse, mae, r2"
   ]
  },
  {
   "cell_type": "code",
   "execution_count": null,
   "id": "18447430-3f78-4e9e-918f-b0e70878f972",
   "metadata": {
    "tags": []
   },
   "outputs": [],
   "source": [
    "mse = mean_squared_error(y_test, y_3)\n",
    "mae = mean_absolute_error(y_test, y_3)\n",
    "r2 = r2_score(y_test, y_3)\n",
    "mse, mae, r2"
   ]
  },
  {
   "cell_type": "markdown",
   "id": "fcde42e2-2a04-40fa-a331-78701a298589",
   "metadata": {
    "tags": []
   },
   "source": [
    "#### 3.5 RandomForestRegressor"
   ]
  },
  {
   "cell_type": "code",
   "execution_count": null,
   "id": "0a6e5045-8de8-4429-8049-03083e487634",
   "metadata": {
    "tags": []
   },
   "outputs": [],
   "source": [
    "rf = RandomForestRegressor()\n",
    "rf.fit(X, y)\n",
    "Y_pred = rf.predict(X)"
   ]
  },
  {
   "cell_type": "code",
   "execution_count": null,
   "id": "0e78c747-63ed-4bbc-acc1-c522f6751180",
   "metadata": {
    "tags": []
   },
   "outputs": [],
   "source": [
    "mse = mean_squared_error(y, Y_pred)\n",
    "mae = mean_absolute_error(y, Y_pred)\n",
    "r2 = r2_score(y, Y_pred)\n",
    "mse, mae, r2"
   ]
  },
  {
   "cell_type": "code",
   "execution_count": null,
   "id": "284cc290-ee65-470e-aa59-0290195060b4",
   "metadata": {
    "tags": []
   },
   "outputs": [],
   "source": [
    "rf_sub = RandomForestRegressor()\n",
    "rf_sub.fit(X_train, y_train)\n",
    "Y_pred = rf.predict(X_test)"
   ]
  },
  {
   "cell_type": "code",
   "execution_count": null,
   "id": "d4bf9558-1741-458b-843d-b0a85400c941",
   "metadata": {
    "tags": []
   },
   "outputs": [],
   "source": [
    "mse = mean_squared_error(y_test, Y_pred)\n",
    "mae = mean_absolute_error(y_test, Y_pred)\n",
    "r2 = r2_score(y_test, Y_pred)\n",
    "mse, mae, r2"
   ]
  },
  {
   "cell_type": "markdown",
   "id": "bb6d03e3-b4b3-4615-b37c-81308a9b226c",
   "metadata": {},
   "source": [
    "#### 3.5 Feature Evaluation with Lasso and Random Forest Regression"
   ]
  },
  {
   "cell_type": "markdown",
   "id": "00e9febe-5c96-4ea0-94f1-91344ee38386",
   "metadata": {
    "tags": []
   },
   "source": [
    "#### 3.6 Finding the best model"
   ]
  },
  {
   "cell_type": "code",
   "execution_count": null,
   "id": "e835295b-2a0c-4b39-840e-15f0a8d56e79",
   "metadata": {
    "tags": []
   },
   "outputs": [],
   "source": [
    "X_train, X_test, y_train, y_test = X,X,y,y\n",
    "\n",
    "#train_test_split(X, y, test_size=0.2)\n",
    "scaler = Normalizer()\n",
    "X_train_scaled = X_train#pd.DataFrame(scaler.fit_transform(X_train), columns=X_train.columns)\n",
    "X_test_scaled = X_test#pd.DataFrame(scaler.transform(X_test), columns=X_test.columns)\n",
    "X_train_scaled_selected = X_train_scaled\n",
    "X_test_scaled_selected = X_test_scaled"
   ]
  },
  {
   "cell_type": "code",
   "execution_count": null,
   "id": "0c3308b1-43a4-4a4d-8bd1-f0c96c6b61a3",
   "metadata": {
    "tags": []
   },
   "outputs": [],
   "source": [
    "# Random Forest Regression\n",
    "rf_model = RandomForestRegressor()\n",
    "param_dist_rf = {\n",
    "    'n_estimators': [10,30,40,50,100,200, 300, 400,500,600,700],\n",
    "    'max_depth': [2,3, 4,5 ,6 ,7, 8, 9, 10,13,15,17,20],\n",
    "    'min_samples_split': [5, 10, 15,17,18,19,20],\n",
    "    'min_samples_leaf': [1, 2, 3]\n",
    "}\n",
    "\n",
    "# Randomized Search CV for Random Forest\n",
    "random_search_rf = RandomizedSearchCV(rf_model,\n",
    "                                      param_distributions=param_dist_rf, \n",
    "                                      n_iter=10, \n",
    "                                      scoring='r2',  \n",
    "                                      cv=5, \n",
    "                                      random_state=42)\n",
    "random_search_rf.fit(X_train_scaled_selected, y_train)\n",
    "\n",
    "# Print best parameters for Random Forest\n",
    "print(\"Random Forest - Best Parameters:\", random_search_rf.best_params_)\n",
    "\n",
    "# Evaluate Random Forest on the test set using R-squared\n",
    "y_pred_rf = random_search_rf.predict(X_test_scaled_selected)\n",
    "r2_rf = r2_score(y_test, y_pred_rf)\n",
    "print(\"Random Forest - R-squared on Test Set:\", r2_rf)\n",
    "\n",
    "# Linear Regression\n",
    "lr_model = LinearRegression()\n",
    "lr_model.fit(X_train_scaled_selected, y_train)\n",
    "\n",
    "# Evaluate Linear Regression on the test set using R-squared\n",
    "y_pred_lr = lr_model.predict(X_test_scaled_selected)\n",
    "r2_lr = r2_score(y_test, y_pred_lr)\n",
    "print(\"Linear Regression - R-squared on Test Set:\", r2_lr)\n",
    "\n",
    "# Support Vector Regression\n",
    "svr_model = SVR()\n",
    "param_dist_svr = {\n",
    "    'C': [5, 10, 15],\n",
    "    'kernel': ['linear', 'rbf']\n",
    "}\n",
    "\n",
    "# Randomized Search CV for SVR\n",
    "\n",
    "#random_search_svr = RandomizedSearchCV(svr_model, param_distributions=param_dist_svr, n_iter=5, scoring='r2', \n",
    "#                                       cv=5, random_state=42)\n",
    "#random_search_svr.fit(X_train_scaled_selected, y_train)\n",
    "\n",
    "# Print best parameters for SVR\n",
    "#print(\"SVR - Best Parameters:\", random_search_svr.best_params_)\n",
    "\n",
    "# Evaluate SVR on the test set using R-squared\n",
    "#y_pred_svr = random_search_svr.predict(X_test_scaled_selected)\n",
    "#r2_svr = r2_score(y_test, y_pred_svr)\n",
    "#print(\"SVR - R-squared on Test Set:\", r2_svr)\n",
    "\n",
    "# Gradient Boosting Regression\n",
    "gb_model = GradientBoostingRegressor()\n",
    "param_dist_gb = {\n",
    "    'n_estimators': [35,36,37,38,39,40,41,42,43],\n",
    "    'learning_rate': [0.001,0.01,0.02,0.03, 0.05, 0.08,0.1,0.2,0.5,1],\n",
    "    'max_depth': [2, 3, 4],\n",
    "    'min_samples_split': [2, 3, 4,6,8,10,15,20],\n",
    "    'min_samples_leaf': [1, 2, 3]\n",
    "}\n",
    "\n",
    "# Randomized Search CV for Gradient Boosting\n",
    "random_search_gb = RandomizedSearchCV(gb_model, param_distributions=param_dist_gb, n_iter=10, scoring='r2',  \n",
    "                                       cv=5, random_state=42)\n",
    "random_search_gb.fit(X_train_scaled_selected, y_train)\n",
    "\n",
    "# Print best parameters for Gradient Boosting\n",
    "print(\"Gradient Boosting - Best Parameters:\", random_search_gb.best_params_)\n",
    "\n",
    "# Evaluate Gradient Boosting on the test set using R-squared\n",
    "y_pred_gb = random_search_gb.predict(X_test_scaled_selected)\n",
    "r2_gb = r2_score(y_test, y_pred_gb)\n",
    "print(\"Gradient Boosting - R-squared on Test Set:\", r2_gb)\n",
    "\n",
    "# Lasso Regression\n",
    "lasso_model = Lasso()\n",
    "param_dist_lasso = {\n",
    "    'alpha': [0.001, 0.01, 0.1, 1, 10]\n",
    "}\n",
    "\n",
    "# Randomized Search CV for Lasso\n",
    "random_search_lasso = RandomizedSearchCV(lasso_model, param_distributions=param_dist_lasso, n_iter=5, scoring='r2', \n",
    "                                         cv=5, random_state=42)\n",
    "random_search_lasso.fit(X_train_scaled_selected, y_train)\n",
    "\n",
    "# Print best parameters for Lasso\n",
    "print(\"Lasso - Best Parameters:\", random_search_lasso.best_params_)\n",
    "\n",
    "# Evaluate Lasso on the test set using R-squared\n",
    "y_pred_lasso = random_search_lasso.predict(X_test_scaled_selected)\n",
    "r2_lasso = r2_score(y_test, y_pred_lasso)\n",
    "print(\"Lasso - R-squared on Test Set:\", r2_lasso)\n",
    "\n",
    "# Ridge Regression\n",
    "ridge_model = Ridge()\n",
    "param_dist_ridge = {\n",
    "    'alpha': [0.001, 0.01, 0.1, 1, 10]\n",
    "}\n",
    "\n",
    "# Randomized Search CV for Ridge\n",
    "random_search_ridge = RandomizedSearchCV(ridge_model, param_distributions=param_dist_ridge, n_iter=5, scoring='r2', \n",
    "                                         cv=5, random_state=42)\n",
    "random_search_ridge.fit(X_train_scaled_selected, y_train)\n",
    "\n",
    "# Print best parameters for Ridge\n",
    "print(\"Ridge - Best Parameters:\", random_search_ridge.best_params_)\n",
    "\n",
    "# Evaluate Ridge on the test set using R-squared\n",
    "y_pred_ridge = random_search_ridge.predict(X_test_scaled_selected)\n",
    "r2_ridge = r2_score(y_test, y_pred_ridge)\n",
    "print(\"Ridge - R-squared on Test Set:\", r2_ridge)\n",
    "\n",
    "# ElasticNet Regression\n",
    "elasticnet_model = ElasticNet()\n",
    "param_dist_elasticnet = {\n",
    "    'alpha': [0.001, 0.01, 0.1, 1, 10],\n",
    "    'l1_ratio': [0.1, 0.3, 0.5, 0.7, 0.9]\n",
    "}\n",
    "\n",
    "# Randomized Search CV for ElasticNet\n",
    "random_search_elasticnet = RandomizedSearchCV(elasticnet_model, param_distributions=param_dist_elasticnet, n_iter=10, scoring='r2', \n",
    "                                               cv=5, random_state=42)\n",
    "random_search_elasticnet.fit(X_train_scaled_selected, y_train)\n",
    "\n",
    "# Print best parameters for ElasticNet\n",
    "print(\"ElasticNet - Best Parameters:\", random_search_elasticnet.best_params_)\n",
    "\n",
    "# Evaluate ElasticNet on the test set using R-squared\n",
    "y_pred_elasticnet = random_search_elasticnet.predict(X_test_scaled_selected)\n",
    "r2_elasticnet = r2_score(y_test, y_pred_elasticnet)\n",
    "print(\"ElasticNet - R-squared on Test Set:\", r2_elasticnet)\n",
    "\n",
    "# Decision Tree Regression\n",
    "dt_model = DecisionTreeRegressor()\n",
    "param_dist_dt = {\n",
    "    'max_depth': [None, 10, 20, 30, 40],\n",
    "    'min_samples_split': [2, 5, 10,15,20],\n",
    "    'min_samples_leaf': [1, 2, 4,6,8,10,15,20,25,30,35]\n",
    "}\n",
    "\n",
    "# Randomized Search CV for Decision Tree\n",
    "random_search_dt = RandomizedSearchCV(dt_model, param_distributions=param_dist_dt, n_iter=5, scoring='r2', \n",
    "                                      cv=5, random_state=42)\n",
    "random_search_dt.fit(X_train_scaled_selected, y_train)\n",
    "\n",
    "# Print best parameters for Decision Tree\n",
    "print(\"Decision Tree - Best Parameters:\", random_search_dt.best_params_)\n",
    "\n",
    "# Evaluate Decision Tree on the test set using R-squared\n",
    "y_pred_dt = random_search_dt.predict(X_test_scaled_selected)\n",
    "r2_dt = r2_score(y_test, y_pred_dt)\n",
    "print(\"Decision Tree - R-squared on Test Set:\", r2_dt)\n",
    "\n",
    "# K-Nearest Neighbors Regression\n",
    "knn_model = KNeighborsRegressor()\n",
    "param_dist_knn = {\n",
    "    'n_neighbors': np.arange(1, 20),\n",
    "    'weights': ['uniform', 'distance'],\n",
    "    'metric': ['euclidean', 'manhattan', 'minkowski']\n",
    "}\n",
    "\n",
    "# Randomized Search CV for KNN\n",
    "random_search_knn = RandomizedSearchCV(knn_model, param_distributions=param_dist_knn, n_iter=10, scoring='r2', \n",
    "                                        cv=5, random_state=42)\n",
    "random_search_knn.fit(X_train_scaled_selected, y_train)\n",
    "\n",
    "# Print best parameters for KNN\n",
    "print(\"KNN - Best Parameters:\", random_search_knn.best_params_)\n",
    "\n",
    "# Evaluate KNN on the test set using R-squared\n",
    "y_pred_knn = random_search_knn.predict(X_test_scaled_selected)\n",
    "r2_knn = r2_score(y_test, y_pred_knn)\n",
    "print(\"KNN - R-squared on Test Set:\", r2_knn)\n",
    "\n",
    "# Compare r2 of different models\n",
    "r2_dict = {'Random Forest': r2_rf, 'Linear Regression': r2_lr, 'Gradient Boosting': r2_gb,\n",
    "            'Lasso': r2_lasso, 'Ridge': r2_ridge, 'ElasticNet': r2_elasticnet, \n",
    "            'Decision Tree': r2_dt, 'KNN': r2_knn}\n",
    "\n",
    "# Find the model with the highest r2\n",
    "best_model_name = max(r2_dict, key=r2_dict.get)\n",
    "best_model = None\n",
    "\n",
    "# Select the best model\n",
    "if best_model_name == 'Random Forest':\n",
    "    best_model = random_search_rf\n",
    "elif best_model_name == 'Linear Regression':\n",
    "    best_model = lr_model\n",
    "#elif best_model_name == 'SVR':\n",
    "#    best_model = random_search_svr\n",
    "elif best_model_name == 'Gradient Boosting':\n",
    "    best_model = random_search_gb\n",
    "elif best_model_name == 'Lasso':\n",
    "    best_model = random_search_lasso\n",
    "elif best_model_name == 'Ridge':\n",
    "    best_model = random_search_ridge\n",
    "elif best_model_name == 'ElasticNet':\n",
    "    best_model = random_search_elasticnet\n",
    "elif best_model_name == 'Decision Tree':\n",
    "    best_model = random_search_dt\n",
    "elif best_model_name == 'KNN':\n",
    "    best_model = random_search_knn\n",
    "\n",
    "print(f\"\\nBest Model: {best_model_name} with R-squared: {r2_dict[best_model_name]}\")"
   ]
  },
  {
   "cell_type": "code",
   "execution_count": null,
   "id": "c81456b6-460e-49c0-b062-d9adbf1b0000",
   "metadata": {},
   "outputs": [],
   "source": [
    "from sklearn.metrics import r2_score, explained_variance_score, mean_squared_error\n",
    "\n",
    "y_pred_best_model = best_model.predict(X_test_scaled_selected)\n",
    "r2_best_model = r2_score(y_test, y_pred_best_model)\n",
    "explained_variance_best_model = explained_variance_score(y_test, y_pred_best_model)\n",
    "rmse_best_model = mean_squared_error(y_test, y_pred_best_model, squared=False)\n",
    "r2_best_model = r2_score(y_test, y_pred_best_model)\n",
    "explained_variance_best_model = explained_variance_score(y_test, y_pred_best_model)\n",
    "rmse_best_model = mean_squared_error(y_test, y_pred_best_model, squared=False)\n",
    "mse_best_model = mean_squared_error(y_test, y_pred_best_model)\n",
    "mae_best_model = mean_absolute_error(y_test, y_pred_best_model)\n",
    "\n",
    "print(f\"Best Model: {best_model_name}\")\n",
    "print(f\"MSE: {mse_best_model}\")\n",
    "print(f\"MAE: {mae_best_model}\")\n",
    "print(f\"R-squared: {r2_best_model}\")\n",
    "print(f\"Explained Variance: {explained_variance_best_model}\")\n",
    "print(f\"RMSE: {rmse_best_model}\")"
   ]
  },
  {
   "cell_type": "code",
   "execution_count": null,
   "id": "0ba89da9-a217-4110-9f27-176d99bbee00",
   "metadata": {},
   "outputs": [],
   "source": []
  },
  {
   "cell_type": "code",
   "execution_count": null,
   "id": "b802b0f8-87f8-4f3f-bb6e-41553265555b",
   "metadata": {
    "tags": []
   },
   "outputs": [],
   "source": [
    "r2_dict"
   ]
  },
  {
   "cell_type": "code",
   "execution_count": null,
   "id": "d13bd0b4-22bb-497c-84d9-ce4f6b9f6c30",
   "metadata": {
    "tags": []
   },
   "outputs": [],
   "source": [
    "mods = list(r2_dict.keys())\n",
    "og = list(r2_dict.values())"
   ]
  },
  {
   "cell_type": "code",
   "execution_count": null,
   "id": "0260eb49-b6ae-4a67-a331-d500f94f9578",
   "metadata": {
    "tags": []
   },
   "outputs": [],
   "source": [
    "import plotly.graph_objects as px\n",
    "plot = px.Figure(data=[\n",
    "                       px.Bar(\n",
    "    name = 'Original Model',\n",
    "    x = mods,\n",
    "    y = og\n",
    "   )\n",
    "])\n",
    "\n",
    "plot.update_layout(title= 'Comparison of R-squared Values Across Different Models', title_x=0.5, \n",
    "                   xaxis_title = 'Model', yaxis_title='R-squared value',\n",
    "                  width=800,height=600, plot_bgcolor= 'rgba(0, 0, 0, 0)',)\n",
    "#paper_bgcolor= 'rgba(0, 0, 0, 0)',)\n",
    "plot.update_traces(marker_color = 'LightGreen')\n",
    "plot.update_xaxes(\n",
    "    mirror=True,\n",
    "    ticks='outside',\n",
    "    showline=True,\n",
    "    linecolor='black',\n",
    "    gridcolor='lightgrey'\n",
    ")\n",
    "plot.update_yaxes(\n",
    "    mirror=True,\n",
    "    ticks='outside',\n",
    "    showline=True,\n",
    "    linecolor='black',\n",
    "    gridcolor='lightgrey'\n",
    ")\n",
    "#plot.update_xaxes('Regression Model Type')\n",
    "plot.show()\n",
    "\n"
   ]
  },
  {
   "cell_type": "code",
   "execution_count": null,
   "id": "986281ed-651f-4551-bac5-7e55160014dd",
   "metadata": {},
   "outputs": [],
   "source": []
  },
  {
   "cell_type": "code",
   "execution_count": null,
   "id": "cfc06fe1-b45a-4773-85a9-5049c0594352",
   "metadata": {},
   "outputs": [],
   "source": []
  },
  {
   "cell_type": "code",
   "execution_count": null,
   "id": "b39a2750-10e8-46ed-9b18-5b9a1a98e3d9",
   "metadata": {},
   "outputs": [],
   "source": []
  },
  {
   "cell_type": "code",
   "execution_count": null,
   "id": "eaf89859-bbca-4ed5-8ba0-7241749da7d5",
   "metadata": {},
   "outputs": [],
   "source": []
  },
  {
   "cell_type": "markdown",
   "id": "adeef701-d695-4f8a-b8cc-5e6e5fe5f381",
   "metadata": {},
   "source": [
    "## 4. 2022 Validation Predictions"
   ]
  },
  {
   "cell_type": "markdown",
   "id": "33451c51-156f-48b9-ab97-806f40321d56",
   "metadata": {},
   "source": [
    "#### 4.1 Loading in 2022 prediction datasets: gene expression, specimen, and subject"
   ]
  },
  {
   "cell_type": "code",
   "execution_count": null,
   "id": "b971c44f-5867-4e6f-adb2-becdf80f3460",
   "metadata": {
    "tags": []
   },
   "outputs": [],
   "source": [
    "gene_pred = clean_df_gene(df_2022_gene)"
   ]
  },
  {
   "cell_type": "code",
   "execution_count": null,
   "id": "92712414-5029-4ba5-a403-95bad015e242",
   "metadata": {
    "tags": []
   },
   "outputs": [],
   "source": [
    "genes_cols_pred = gene_pred.pivot_table(index=['specimen_id'], columns=['versioned_ensembl_gene_id'], values= 'tpm')"
   ]
  },
  {
   "cell_type": "code",
   "execution_count": null,
   "id": "ebccd929-5733-4bd0-aadd-b526094715ad",
   "metadata": {
    "tags": []
   },
   "outputs": [],
   "source": [
    "final_gene_pred = genes_cols_pred[genes_cols_pred.columns.intersection(top10)].rename(columns= {'ENSG00000277632':'CCL3'}).reset_index()\n",
    "final_gene_pred      "
   ]
  },
  {
   "cell_type": "code",
   "execution_count": null,
   "id": "3df461dd-aa88-48a3-9b24-8253a31e94cd",
   "metadata": {
    "tags": []
   },
   "outputs": [],
   "source": [
    "subject_pred = clean_df_subject(pd.merge(df_2022_specimen,df_2022_subject, on= 'subject_id'))"
   ]
  },
  {
   "cell_type": "code",
   "execution_count": null,
   "id": "3c517168-c2a1-42d5-a207-c0de69c83951",
   "metadata": {
    "tags": []
   },
   "outputs": [],
   "source": [
    "subject_pred.merge(final_gene_pred, on='specimen_id', how = 'right')"
   ]
  },
  {
   "cell_type": "code",
   "execution_count": null,
   "id": "fcd31804-d886-42c9-94b3-c8b252ef182a",
   "metadata": {},
   "outputs": [],
   "source": []
  },
  {
   "cell_type": "code",
   "execution_count": null,
   "id": "dc75201e-f7cd-4856-9ca2-019923a608bd",
   "metadata": {},
   "outputs": [],
   "source": []
  },
  {
   "cell_type": "code",
   "execution_count": null,
   "id": "140b38b7-cdad-453c-82f4-09ee1751cbe3",
   "metadata": {},
   "outputs": [],
   "source": []
  }
 ],
 "metadata": {
  "kernelspec": {
   "display_name": "Python 3 (ipykernel)",
   "language": "python",
   "name": "python3"
  },
  "language_info": {
   "codemirror_mode": {
    "name": "ipython",
    "version": 3
   },
   "file_extension": ".py",
   "mimetype": "text/x-python",
   "name": "python",
   "nbconvert_exporter": "python",
   "pygments_lexer": "ipython3",
   "version": "3.10.12"
  }
 },
 "nbformat": 4,
 "nbformat_minor": 5
}
