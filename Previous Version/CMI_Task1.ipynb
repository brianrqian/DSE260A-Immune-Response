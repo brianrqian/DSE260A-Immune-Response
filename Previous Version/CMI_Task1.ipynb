{
 "cells": [
  {
   "cell_type": "code",
   "execution_count": 15,
   "id": "ead456a5-e9af-4c09-831c-72fd098c406d",
   "metadata": {
    "tags": []
   },
   "outputs": [],
   "source": [
    "import pandas as pd\n",
    "import numpy as np\n",
    "from sklearn.linear_model import LogisticRegression\n",
    "from sklearn.metrics import accuracy_score, confusion_matrix, precision_score, recall_score, ConfusionMatrixDisplay\n",
    "from sklearn.model_selection import RandomizedSearchCV, train_test_split\n",
    "from scipy.stats import randint\n",
    "from xgboost import XGBClassifier\n",
    "from sklearn.tree import DecisionTreeRegressor\n",
    "import matplotlib.pyplot as plt\n",
    "from sklearn.linear_model import LinearRegression\n",
    "from sklearn.metrics import mean_squared_error, mean_absolute_error, r2_score\n",
    "from sklearn.linear_model import ElasticNet\n",
    "from sklearn.neighbors import KNeighborsRegressor"
   ]
  },
  {
   "cell_type": "markdown",
   "id": "7be9f9f4-58fb-458a-88a1-19b0f40f990a",
   "metadata": {},
   "source": [
    "## Load & Cleaning Dataset"
   ]
  },
  {
   "cell_type": "code",
   "execution_count": 16,
   "id": "58e34b56-401b-4649-b979-2d8e96625f96",
   "metadata": {
    "tags": []
   },
   "outputs": [],
   "source": [
    "## Load data into dataframes\n",
    "df_2020_titer = pd.read_csv(\"https://www.cmi-pb.org/downloads/cmipb_challenge_datasets/current/2nd_challenge/raw_datasets/training_data/2020LD_plasma_ab_titer.tsv\", sep='\\t')\n",
    "df_2020_specimen = pd.read_csv(\"https://www.cmi-pb.org/downloads/cmipb_challenge_datasets/current/2nd_challenge/raw_datasets/training_data/2020LD_specimen.tsv\", sep='\\t')\n",
    "df_2020_subject = pd.read_csv(\"https://www.cmi-pb.org/downloads/cmipb_challenge_datasets/current/2nd_challenge/raw_datasets/training_data/2020LD_subject.tsv\", sep='\\t')\n",
    "df_2021_titer = pd.read_csv(\"https://www.cmi-pb.org/downloads/cmipb_challenge_datasets/current/2nd_challenge/raw_datasets/training_data/2021LD_plasma_ab_titer.tsv\", sep='\\t')\n",
    "df_2021_specimen = pd.read_csv(\"https://www.cmi-pb.org/downloads/cmipb_challenge_datasets/current/2nd_challenge/raw_datasets/training_data/2021LD_specimen.tsv\", sep='\\t')\n",
    "df_2021_subject = pd.read_csv(\"https://www.cmi-pb.org/downloads/cmipb_challenge_datasets/current/2nd_challenge/raw_datasets/training_data/2021LD_subject.tsv\", sep='\\t')\n",
    "df_2022_titer = pd.read_csv(\"https://www.cmi-pb.org/downloads/cmipb_challenge_datasets/current/2nd_challenge/raw_datasets/prediction_data/2022BD_plasma_ab_titer.tsv\", sep='\\t')\n",
    "df_2022_specimen = pd.read_csv(\"https://www.cmi-pb.org/downloads/cmipb_challenge_datasets/current/2nd_challenge/raw_datasets/prediction_data/2022BD_specimen.tsv\", sep='\\t')\n",
    "df_2022_subject = pd.read_csv(\"https://www.cmi-pb.org/downloads/cmipb_challenge_datasets/current/2nd_challenge/raw_datasets/prediction_data/2022BD_subject.tsv\", sep='\\t')"
   ]
  },
  {
   "cell_type": "code",
   "execution_count": 34,
   "id": "c077c998-c042-42c5-b6e6-adb132be2ede",
   "metadata": {
    "tags": []
   },
   "outputs": [],
   "source": [
    "## cleaning the titer data to only include IgG isotypes and PT antigens\n",
    "def clean_df_titer(df):\n",
    "    df.dropna(inplace=True)\n",
    "    \n",
    "    # extract row with IgG in the \"isotype\" column and PT in the \"antigen\" column\n",
    "    df = df[(df['isotype'] == 'IgG') & (df['antigen'] == 'PT')]\n",
    "    df = df[['specimen_id', 'MFI_normalised']].rename(columns={'MFI_normalised': 'IgG_PT'})\n",
    "    return df"
   ]
  },
  {
   "cell_type": "code",
   "execution_count": 83,
   "id": "ce9cb0aa-0d58-423b-8c57-59df51cea58d",
   "metadata": {
    "tags": []
   },
   "outputs": [],
   "source": [
    "## cleaning the subject/specimen dataset to get an age column\n",
    "def clean_df_subject(df):\n",
    "    \n",
    "    ## Get age column\n",
    "    df['year_of_birth'] = pd.to_numeric(df['year_of_birth'].str[:4])\n",
    "    df['date_of_boost'] = pd.to_numeric(df['date_of_boost'].str[:4])\n",
    "    df['age'] = df['date_of_boost'] - df['year_of_birth']\n",
    "    return df"
   ]
  },
  {
   "cell_type": "code",
   "execution_count": 84,
   "id": "86727ef4-1728-44f3-853d-2eebc6030651",
   "metadata": {
    "tags": []
   },
   "outputs": [],
   "source": [
    "## concatenating 2020 and 2021 titer datasets\n",
    "titers = pd.concat([clean_df_titer(df_2020_titer),clean_df_titer(df_2021_titer)])"
   ]
  },
  {
   "cell_type": "code",
   "execution_count": 52,
   "id": "e449eb8c-06e9-41ab-9307-e4ad889bf1d7",
   "metadata": {
    "tags": []
   },
   "outputs": [],
   "source": [
    "## concatenating 2020 and 2021 subject & specimen datasets\n",
    "subject = clean_df_subject(pd.concat([pd.merge(df_2020_specimen,df_2020_subject, on= 'subject_id'),\n",
    "pd.merge(df_2021_specimen,df_2021_subject, on= 'subject_id')],ignore_index=True))"
   ]
  },
  {
   "cell_type": "code",
   "execution_count": 53,
   "id": "1c214f43-d248-450d-9585-158cddf6f816",
   "metadata": {
    "tags": []
   },
   "outputs": [],
   "source": [
    "## merging the titer & subject/specimen datasets to one dataframe\n",
    "IgG = subject.merge(titers, on='specimen_id')"
   ]
  },
  {
   "cell_type": "code",
   "execution_count": 55,
   "id": "8a6fb13a-f978-4592-a3b6-8e946ca521b6",
   "metadata": {
    "tags": []
   },
   "outputs": [],
   "source": [
    "## getting rid of unnecessary columns\n",
    "IgG = IgG[['subject_id',\n",
    "           'specimen_id',\n",
    "           'infancy_vac',\n",
    "           'biological_sex',\n",
    "           'age',\n",
    "           'year_of_birth',\n",
    "           'date_of_boost',\n",
    "           'actual_day_relative_to_boost',\n",
    "           'planned_day_relative_to_boost',\n",
    "           'ethnicity',\n",
    "           'race',\n",
    "           'dataset',\n",
    "           'specimen_type',\n",
    "           'visit',\n",
    "           'IgG_PT']]"
   ]
  },
  {
   "cell_type": "code",
   "execution_count": 56,
   "id": "958d9787-45d6-44c9-b3d3-977fa1c6eef6",
   "metadata": {
    "tags": []
   },
   "outputs": [
    {
     "data": {
      "text/html": [
       "<div>\n",
       "<style scoped>\n",
       "    .dataframe tbody tr th:only-of-type {\n",
       "        vertical-align: middle;\n",
       "    }\n",
       "\n",
       "    .dataframe tbody tr th {\n",
       "        vertical-align: top;\n",
       "    }\n",
       "\n",
       "    .dataframe thead th {\n",
       "        text-align: right;\n",
       "    }\n",
       "</style>\n",
       "<table border=\"1\" class=\"dataframe\">\n",
       "  <thead>\n",
       "    <tr style=\"text-align: right;\">\n",
       "      <th></th>\n",
       "      <th>subject_id</th>\n",
       "      <th>specimen_id</th>\n",
       "      <th>infancy_vac</th>\n",
       "      <th>biological_sex</th>\n",
       "      <th>age</th>\n",
       "      <th>year_of_birth</th>\n",
       "      <th>date_of_boost</th>\n",
       "      <th>actual_day_relative_to_boost</th>\n",
       "      <th>planned_day_relative_to_boost</th>\n",
       "      <th>ethnicity</th>\n",
       "      <th>race</th>\n",
       "      <th>dataset</th>\n",
       "      <th>specimen_type</th>\n",
       "      <th>visit</th>\n",
       "      <th>IgG_PT</th>\n",
       "    </tr>\n",
       "  </thead>\n",
       "  <tbody>\n",
       "    <tr>\n",
       "      <th>0</th>\n",
       "      <td>1</td>\n",
       "      <td>1</td>\n",
       "      <td>wP</td>\n",
       "      <td>Female</td>\n",
       "      <td>30</td>\n",
       "      <td>1986</td>\n",
       "      <td>2016</td>\n",
       "      <td>-3</td>\n",
       "      <td>0</td>\n",
       "      <td>Not Hispanic or Latino</td>\n",
       "      <td>White</td>\n",
       "      <td>2020_dataset</td>\n",
       "      <td>Blood</td>\n",
       "      <td>1</td>\n",
       "      <td>3.736992</td>\n",
       "    </tr>\n",
       "    <tr>\n",
       "      <th>1</th>\n",
       "      <td>1</td>\n",
       "      <td>3</td>\n",
       "      <td>wP</td>\n",
       "      <td>Female</td>\n",
       "      <td>30</td>\n",
       "      <td>1986</td>\n",
       "      <td>2016</td>\n",
       "      <td>3</td>\n",
       "      <td>3</td>\n",
       "      <td>Not Hispanic or Latino</td>\n",
       "      <td>White</td>\n",
       "      <td>2020_dataset</td>\n",
       "      <td>Blood</td>\n",
       "      <td>3</td>\n",
       "      <td>2.255534</td>\n",
       "    </tr>\n",
       "    <tr>\n",
       "      <th>2</th>\n",
       "      <td>1</td>\n",
       "      <td>4</td>\n",
       "      <td>wP</td>\n",
       "      <td>Female</td>\n",
       "      <td>30</td>\n",
       "      <td>1986</td>\n",
       "      <td>2016</td>\n",
       "      <td>7</td>\n",
       "      <td>7</td>\n",
       "      <td>Not Hispanic or Latino</td>\n",
       "      <td>White</td>\n",
       "      <td>2020_dataset</td>\n",
       "      <td>Blood</td>\n",
       "      <td>4</td>\n",
       "      <td>3.250369</td>\n",
       "    </tr>\n",
       "    <tr>\n",
       "      <th>3</th>\n",
       "      <td>1</td>\n",
       "      <td>5</td>\n",
       "      <td>wP</td>\n",
       "      <td>Female</td>\n",
       "      <td>30</td>\n",
       "      <td>1986</td>\n",
       "      <td>2016</td>\n",
       "      <td>11</td>\n",
       "      <td>14</td>\n",
       "      <td>Not Hispanic or Latino</td>\n",
       "      <td>White</td>\n",
       "      <td>2020_dataset</td>\n",
       "      <td>Blood</td>\n",
       "      <td>5</td>\n",
       "      <td>10.874112</td>\n",
       "    </tr>\n",
       "    <tr>\n",
       "      <th>4</th>\n",
       "      <td>1</td>\n",
       "      <td>6</td>\n",
       "      <td>wP</td>\n",
       "      <td>Female</td>\n",
       "      <td>30</td>\n",
       "      <td>1986</td>\n",
       "      <td>2016</td>\n",
       "      <td>32</td>\n",
       "      <td>30</td>\n",
       "      <td>Not Hispanic or Latino</td>\n",
       "      <td>White</td>\n",
       "      <td>2020_dataset</td>\n",
       "      <td>Blood</td>\n",
       "      <td>6</td>\n",
       "      <td>12.513860</td>\n",
       "    </tr>\n",
       "  </tbody>\n",
       "</table>\n",
       "</div>"
      ],
      "text/plain": [
       "   subject_id  specimen_id infancy_vac biological_sex  age  year_of_birth  \\\n",
       "0           1            1          wP         Female   30           1986   \n",
       "1           1            3          wP         Female   30           1986   \n",
       "2           1            4          wP         Female   30           1986   \n",
       "3           1            5          wP         Female   30           1986   \n",
       "4           1            6          wP         Female   30           1986   \n",
       "\n",
       "   date_of_boost  actual_day_relative_to_boost  planned_day_relative_to_boost  \\\n",
       "0           2016                            -3                              0   \n",
       "1           2016                             3                              3   \n",
       "2           2016                             7                              7   \n",
       "3           2016                            11                             14   \n",
       "4           2016                            32                             30   \n",
       "\n",
       "                ethnicity   race       dataset specimen_type  visit     IgG_PT  \n",
       "0  Not Hispanic or Latino  White  2020_dataset         Blood      1   3.736992  \n",
       "1  Not Hispanic or Latino  White  2020_dataset         Blood      3   2.255534  \n",
       "2  Not Hispanic or Latino  White  2020_dataset         Blood      4   3.250369  \n",
       "3  Not Hispanic or Latino  White  2020_dataset         Blood      5  10.874112  \n",
       "4  Not Hispanic or Latino  White  2020_dataset         Blood      6  12.513860  "
      ]
     },
     "execution_count": 56,
     "metadata": {},
     "output_type": "execute_result"
    }
   ],
   "source": [
    "IgG.head()"
   ]
  },
  {
   "cell_type": "markdown",
   "id": "96756d2f-eb93-44c1-8fe3-d96eebd149fa",
   "metadata": {},
   "source": [
    "## Data Feature Selection & Cleaning"
   ]
  },
  {
   "cell_type": "code",
   "execution_count": 85,
   "id": "322455d5-d8d3-4278-ab49-7b903ce384ea",
   "metadata": {
    "tags": []
   },
   "outputs": [],
   "source": [
    "## getting separate rows for day 0 MFI_normalized results and day 14 MFI_normalized results for IgG_PT \n",
    "IgG_d14 = IgG[IgG['planned_day_relative_to_boost'] == 14.0]\n",
    "IgG_d0 = IgG[IgG['planned_day_relative_to_boost'] == 0.0][['subject_id', 'IgG_PT']]\n",
    "IgG_d0 = IgG_d0.rename(columns={'subject_id': 'subject_id', 'IgG_PT': 'IgG_PT_d0'})\n",
    "IgG_d14 = IgG_d14.merge(IgG_d0, on='subject_id')"
   ]
  },
  {
   "cell_type": "code",
   "execution_count": 86,
   "id": "41902f24-fb04-4004-85b9-edcc1258c409",
   "metadata": {
    "tags": []
   },
   "outputs": [],
   "source": [
    "IgG_d14 = IgG_d14[['infancy_vac', 'biological_sex', 'year_of_birth', 'ethnicity', 'race', 'visit', 'IgG_PT_d0', 'IgG_PT']]"
   ]
  },
  {
   "cell_type": "code",
   "execution_count": 87,
   "id": "f8955f25-a515-4b8b-bc66-ffcc75ba14a9",
   "metadata": {
    "tags": []
   },
   "outputs": [
    {
     "data": {
      "text/html": [
       "<div>\n",
       "<style scoped>\n",
       "    .dataframe tbody tr th:only-of-type {\n",
       "        vertical-align: middle;\n",
       "    }\n",
       "\n",
       "    .dataframe tbody tr th {\n",
       "        vertical-align: top;\n",
       "    }\n",
       "\n",
       "    .dataframe thead th {\n",
       "        text-align: right;\n",
       "    }\n",
       "</style>\n",
       "<table border=\"1\" class=\"dataframe\">\n",
       "  <thead>\n",
       "    <tr style=\"text-align: right;\">\n",
       "      <th></th>\n",
       "      <th>infancy_vac</th>\n",
       "      <th>biological_sex</th>\n",
       "      <th>year_of_birth</th>\n",
       "      <th>ethnicity</th>\n",
       "      <th>race</th>\n",
       "      <th>visit</th>\n",
       "      <th>IgG_PT_d0</th>\n",
       "      <th>IgG_PT</th>\n",
       "    </tr>\n",
       "  </thead>\n",
       "  <tbody>\n",
       "    <tr>\n",
       "      <th>0</th>\n",
       "      <td>wP</td>\n",
       "      <td>Female</td>\n",
       "      <td>1986</td>\n",
       "      <td>Not Hispanic or Latino</td>\n",
       "      <td>White</td>\n",
       "      <td>5</td>\n",
       "      <td>3.736992</td>\n",
       "      <td>10.874112</td>\n",
       "    </tr>\n",
       "    <tr>\n",
       "      <th>1</th>\n",
       "      <td>wP</td>\n",
       "      <td>Female</td>\n",
       "      <td>1983</td>\n",
       "      <td>Unknown</td>\n",
       "      <td>White</td>\n",
       "      <td>5</td>\n",
       "      <td>1.096366</td>\n",
       "      <td>7.041547</td>\n",
       "    </tr>\n",
       "    <tr>\n",
       "      <th>2</th>\n",
       "      <td>wP</td>\n",
       "      <td>Male</td>\n",
       "      <td>1988</td>\n",
       "      <td>Not Hispanic or Latino</td>\n",
       "      <td>Asian</td>\n",
       "      <td>5</td>\n",
       "      <td>2.046671</td>\n",
       "      <td>7.896541</td>\n",
       "    </tr>\n",
       "    <tr>\n",
       "      <th>3</th>\n",
       "      <td>wP</td>\n",
       "      <td>Male</td>\n",
       "      <td>1991</td>\n",
       "      <td>Not Hispanic or Latino</td>\n",
       "      <td>Asian</td>\n",
       "      <td>5</td>\n",
       "      <td>3.798007</td>\n",
       "      <td>5.327203</td>\n",
       "    </tr>\n",
       "    <tr>\n",
       "      <th>4</th>\n",
       "      <td>wP</td>\n",
       "      <td>Female</td>\n",
       "      <td>1988</td>\n",
       "      <td>Not Hispanic or Latino</td>\n",
       "      <td>White</td>\n",
       "      <td>5</td>\n",
       "      <td>0.213328</td>\n",
       "      <td>9.128886</td>\n",
       "    </tr>\n",
       "  </tbody>\n",
       "</table>\n",
       "</div>"
      ],
      "text/plain": [
       "  infancy_vac biological_sex  year_of_birth               ethnicity   race  \\\n",
       "0          wP         Female           1986  Not Hispanic or Latino  White   \n",
       "1          wP         Female           1983                 Unknown  White   \n",
       "2          wP           Male           1988  Not Hispanic or Latino  Asian   \n",
       "3          wP           Male           1991  Not Hispanic or Latino  Asian   \n",
       "4          wP         Female           1988  Not Hispanic or Latino  White   \n",
       "\n",
       "   visit  IgG_PT_d0     IgG_PT  \n",
       "0      5   3.736992  10.874112  \n",
       "1      5   1.096366   7.041547  \n",
       "2      5   2.046671   7.896541  \n",
       "3      5   3.798007   5.327203  \n",
       "4      5   0.213328   9.128886  "
      ]
     },
     "execution_count": 87,
     "metadata": {},
     "output_type": "execute_result"
    }
   ],
   "source": [
    "IgG_d14.head()"
   ]
  },
  {
   "cell_type": "markdown",
   "id": "e2a6adfb-89c5-4649-ad03-81f12a9c2958",
   "metadata": {},
   "source": [
    "One Hot Encoding and mapping string data into numerical type for Regression training"
   ]
  },
  {
   "cell_type": "code",
   "execution_count": 61,
   "id": "4244408b-bc40-41d5-a4c1-8d7010e10c76",
   "metadata": {
    "tags": []
   },
   "outputs": [],
   "source": [
    "IgG_d14['infancy_vac'] = IgG_d14['infancy_vac'].map({'wP':0, 'aP':1})"
   ]
  },
  {
   "cell_type": "code",
   "execution_count": 62,
   "id": "9dba14c9-9d86-40b1-8d5a-733d67334690",
   "metadata": {
    "tags": []
   },
   "outputs": [],
   "source": [
    "IgG_d14['biological_sex'] = IgG_d14['biological_sex'].map({'Female':0, 'Male':1})"
   ]
  },
  {
   "cell_type": "code",
   "execution_count": 63,
   "id": "dbf7ea99-d896-4442-9f0b-d734705e8194",
   "metadata": {
    "tags": []
   },
   "outputs": [],
   "source": [
    "IgG_d14['ethnicity'] = IgG_d14['ethnicity'].map({'Not Hispanic or Latino':0, \n",
    "                                                   'Hispanic or Latino':1,\n",
    "                                                   'Unknown':2})"
   ]
  },
  {
   "cell_type": "code",
   "execution_count": 64,
   "id": "930a4e1e-1be4-44d7-8f52-84b5cf1685a8",
   "metadata": {
    "tags": []
   },
   "outputs": [
    {
     "data": {
      "text/html": [
       "<div>\n",
       "<style scoped>\n",
       "    .dataframe tbody tr th:only-of-type {\n",
       "        vertical-align: middle;\n",
       "    }\n",
       "\n",
       "    .dataframe tbody tr th {\n",
       "        vertical-align: top;\n",
       "    }\n",
       "\n",
       "    .dataframe thead th {\n",
       "        text-align: right;\n",
       "    }\n",
       "</style>\n",
       "<table border=\"1\" class=\"dataframe\">\n",
       "  <thead>\n",
       "    <tr style=\"text-align: right;\">\n",
       "      <th></th>\n",
       "      <th>infancy_vac</th>\n",
       "      <th>biological_sex</th>\n",
       "      <th>year_of_birth</th>\n",
       "      <th>ethnicity</th>\n",
       "      <th>race</th>\n",
       "      <th>visit</th>\n",
       "      <th>IgG_PT_d0</th>\n",
       "      <th>IgG_PT</th>\n",
       "    </tr>\n",
       "  </thead>\n",
       "  <tbody>\n",
       "    <tr>\n",
       "      <th>0</th>\n",
       "      <td>0</td>\n",
       "      <td>0</td>\n",
       "      <td>1986</td>\n",
       "      <td>0</td>\n",
       "      <td>0</td>\n",
       "      <td>5</td>\n",
       "      <td>3.736992</td>\n",
       "      <td>10.874112</td>\n",
       "    </tr>\n",
       "    <tr>\n",
       "      <th>1</th>\n",
       "      <td>0</td>\n",
       "      <td>0</td>\n",
       "      <td>1983</td>\n",
       "      <td>2</td>\n",
       "      <td>0</td>\n",
       "      <td>5</td>\n",
       "      <td>1.096366</td>\n",
       "      <td>7.041547</td>\n",
       "    </tr>\n",
       "    <tr>\n",
       "      <th>2</th>\n",
       "      <td>0</td>\n",
       "      <td>1</td>\n",
       "      <td>1988</td>\n",
       "      <td>0</td>\n",
       "      <td>1</td>\n",
       "      <td>5</td>\n",
       "      <td>2.046671</td>\n",
       "      <td>7.896541</td>\n",
       "    </tr>\n",
       "    <tr>\n",
       "      <th>3</th>\n",
       "      <td>0</td>\n",
       "      <td>1</td>\n",
       "      <td>1991</td>\n",
       "      <td>0</td>\n",
       "      <td>1</td>\n",
       "      <td>5</td>\n",
       "      <td>3.798007</td>\n",
       "      <td>5.327203</td>\n",
       "    </tr>\n",
       "    <tr>\n",
       "      <th>4</th>\n",
       "      <td>0</td>\n",
       "      <td>0</td>\n",
       "      <td>1988</td>\n",
       "      <td>0</td>\n",
       "      <td>0</td>\n",
       "      <td>5</td>\n",
       "      <td>0.213328</td>\n",
       "      <td>9.128886</td>\n",
       "    </tr>\n",
       "  </tbody>\n",
       "</table>\n",
       "</div>"
      ],
      "text/plain": [
       "   infancy_vac  biological_sex  year_of_birth  ethnicity  race  visit  \\\n",
       "0            0               0           1986          0     0      5   \n",
       "1            0               0           1983          2     0      5   \n",
       "2            0               1           1988          0     1      5   \n",
       "3            0               1           1991          0     1      5   \n",
       "4            0               0           1988          0     0      5   \n",
       "\n",
       "   IgG_PT_d0     IgG_PT  \n",
       "0   3.736992  10.874112  \n",
       "1   1.096366   7.041547  \n",
       "2   2.046671   7.896541  \n",
       "3   3.798007   5.327203  \n",
       "4   0.213328   9.128886  "
      ]
     },
     "execution_count": 64,
     "metadata": {},
     "output_type": "execute_result"
    }
   ],
   "source": [
    "IgG_d14['race'] = IgG_d14['race'].map({'White':0, \n",
    "                                       'Asian':1,\n",
    "                                       'Unknown or Not Reported': 2,\n",
    "                                       'More Than One Race': 2,\n",
    "                                       'Black or African American': 3,\n",
    "                                       'Native Hawaiian or Other Pacific Islander': 4,\n",
    "                                       'American Indian/Alaska Native':5\n",
    "                                      })\n",
    "IgG_d14.head()"
   ]
  },
  {
   "cell_type": "markdown",
   "id": "badb92ec-0c54-4205-a8bc-94634267d86e",
   "metadata": {},
   "source": [
    "## Training and Evaluating Models"
   ]
  },
  {
   "cell_type": "code",
   "execution_count": 65,
   "id": "b47d44b7-5ddc-4d98-82c3-accfc608e069",
   "metadata": {
    "tags": []
   },
   "outputs": [],
   "source": [
    "X = IgG_d14.drop('IgG_PT', axis = 1)\n",
    "y = IgG_d14['IgG_PT']"
   ]
  },
  {
   "cell_type": "code",
   "execution_count": 66,
   "id": "84fd7f74-fe7b-4597-a375-a36c0ba1eae3",
   "metadata": {
    "tags": []
   },
   "outputs": [],
   "source": [
    "X_train, X_test, y_train, y_test = train_test_split(X, y, test_size=0.2)"
   ]
  },
  {
   "cell_type": "markdown",
   "id": "3c7a927b-9b86-4686-8066-0a7bbe9da665",
   "metadata": {
    "tags": []
   },
   "source": [
    "First we will test a simple naive model, Linear Regression, to get a baseline of how a model should at least perform"
   ]
  },
  {
   "cell_type": "code",
   "execution_count": 68,
   "id": "ca452a23-4a07-47a8-935d-21ae1ae1970b",
   "metadata": {
    "tags": []
   },
   "outputs": [],
   "source": [
    "reg = LinearRegression().fit(X, y)"
   ]
  },
  {
   "cell_type": "code",
   "execution_count": 69,
   "id": "0df87875-68ac-499d-8feb-7dae79efbb2f",
   "metadata": {
    "tags": []
   },
   "outputs": [
    {
     "data": {
      "text/plain": [
       "0.15758400689208552"
      ]
     },
     "execution_count": 69,
     "metadata": {},
     "output_type": "execute_result"
    }
   ],
   "source": [
    "reg.score(X, y)"
   ]
  },
  {
   "cell_type": "markdown",
   "id": "c8386079-0b3c-4a58-a819-4956d0e0e6c8",
   "metadata": {
    "tags": []
   },
   "source": [
    "The MSE, MAE, and R2 scores were mediocre at best, and could defintely be improved upon"
   ]
  },
  {
   "cell_type": "code",
   "execution_count": 70,
   "id": "110d38cf-84a6-4e9e-8645-f45b8c8ccdcf",
   "metadata": {
    "tags": []
   },
   "outputs": [],
   "source": [
    "Y_pred = reg.predict(X)"
   ]
  },
  {
   "cell_type": "code",
   "execution_count": 71,
   "id": "aeaedaf5-ecd7-485c-aacb-cadea1fa0036",
   "metadata": {
    "tags": []
   },
   "outputs": [
    {
     "data": {
      "text/plain": [
       "(21.784966938075527, 3.6549025999603764, 0.15758400689208552)"
      ]
     },
     "execution_count": 71,
     "metadata": {},
     "output_type": "execute_result"
    }
   ],
   "source": [
    "mse = mean_squared_error(y, Y_pred)\n",
    "mae = mean_absolute_error(y, Y_pred)\n",
    "r2 = r2_score(y, Y_pred)\n",
    "mse, mae, r2"
   ]
  },
  {
   "cell_type": "markdown",
   "id": "f8c29efa-6ce3-487f-8f1e-ba0967d548f5",
   "metadata": {
    "tags": []
   },
   "source": [
    "Next, we will test ElasticNet, a combination of Ridge and Lasso Regression"
   ]
  },
  {
   "cell_type": "code",
   "execution_count": 72,
   "id": "c1c98060-b248-44be-9e4d-e89366d0026b",
   "metadata": {
    "tags": []
   },
   "outputs": [
    {
     "data": {
      "text/html": [
       "<style>#sk-container-id-1 {color: black;}#sk-container-id-1 pre{padding: 0;}#sk-container-id-1 div.sk-toggleable {background-color: white;}#sk-container-id-1 label.sk-toggleable__label {cursor: pointer;display: block;width: 100%;margin-bottom: 0;padding: 0.3em;box-sizing: border-box;text-align: center;}#sk-container-id-1 label.sk-toggleable__label-arrow:before {content: \"▸\";float: left;margin-right: 0.25em;color: #696969;}#sk-container-id-1 label.sk-toggleable__label-arrow:hover:before {color: black;}#sk-container-id-1 div.sk-estimator:hover label.sk-toggleable__label-arrow:before {color: black;}#sk-container-id-1 div.sk-toggleable__content {max-height: 0;max-width: 0;overflow: hidden;text-align: left;background-color: #f0f8ff;}#sk-container-id-1 div.sk-toggleable__content pre {margin: 0.2em;color: black;border-radius: 0.25em;background-color: #f0f8ff;}#sk-container-id-1 input.sk-toggleable__control:checked~div.sk-toggleable__content {max-height: 200px;max-width: 100%;overflow: auto;}#sk-container-id-1 input.sk-toggleable__control:checked~label.sk-toggleable__label-arrow:before {content: \"▾\";}#sk-container-id-1 div.sk-estimator input.sk-toggleable__control:checked~label.sk-toggleable__label {background-color: #d4ebff;}#sk-container-id-1 div.sk-label input.sk-toggleable__control:checked~label.sk-toggleable__label {background-color: #d4ebff;}#sk-container-id-1 input.sk-hidden--visually {border: 0;clip: rect(1px 1px 1px 1px);clip: rect(1px, 1px, 1px, 1px);height: 1px;margin: -1px;overflow: hidden;padding: 0;position: absolute;width: 1px;}#sk-container-id-1 div.sk-estimator {font-family: monospace;background-color: #f0f8ff;border: 1px dotted black;border-radius: 0.25em;box-sizing: border-box;margin-bottom: 0.5em;}#sk-container-id-1 div.sk-estimator:hover {background-color: #d4ebff;}#sk-container-id-1 div.sk-parallel-item::after {content: \"\";width: 100%;border-bottom: 1px solid gray;flex-grow: 1;}#sk-container-id-1 div.sk-label:hover label.sk-toggleable__label {background-color: #d4ebff;}#sk-container-id-1 div.sk-serial::before {content: \"\";position: absolute;border-left: 1px solid gray;box-sizing: border-box;top: 0;bottom: 0;left: 50%;z-index: 0;}#sk-container-id-1 div.sk-serial {display: flex;flex-direction: column;align-items: center;background-color: white;padding-right: 0.2em;padding-left: 0.2em;position: relative;}#sk-container-id-1 div.sk-item {position: relative;z-index: 1;}#sk-container-id-1 div.sk-parallel {display: flex;align-items: stretch;justify-content: center;background-color: white;position: relative;}#sk-container-id-1 div.sk-item::before, #sk-container-id-1 div.sk-parallel-item::before {content: \"\";position: absolute;border-left: 1px solid gray;box-sizing: border-box;top: 0;bottom: 0;left: 50%;z-index: -1;}#sk-container-id-1 div.sk-parallel-item {display: flex;flex-direction: column;z-index: 1;position: relative;background-color: white;}#sk-container-id-1 div.sk-parallel-item:first-child::after {align-self: flex-end;width: 50%;}#sk-container-id-1 div.sk-parallel-item:last-child::after {align-self: flex-start;width: 50%;}#sk-container-id-1 div.sk-parallel-item:only-child::after {width: 0;}#sk-container-id-1 div.sk-dashed-wrapped {border: 1px dashed gray;margin: 0 0.4em 0.5em 0.4em;box-sizing: border-box;padding-bottom: 0.4em;background-color: white;}#sk-container-id-1 div.sk-label label {font-family: monospace;font-weight: bold;display: inline-block;line-height: 1.2em;}#sk-container-id-1 div.sk-label-container {text-align: center;}#sk-container-id-1 div.sk-container {/* jupyter's `normalize.less` sets `[hidden] { display: none; }` but bootstrap.min.css set `[hidden] { display: none !important; }` so we also need the `!important` here to be able to override the default hidden behavior on the sphinx rendered scikit-learn.org. See: https://github.com/scikit-learn/scikit-learn/issues/21755 */display: inline-block !important;position: relative;}#sk-container-id-1 div.sk-text-repr-fallback {display: none;}</style><div id=\"sk-container-id-1\" class=\"sk-top-container\"><div class=\"sk-text-repr-fallback\"><pre>ElasticNet()</pre><b>In a Jupyter environment, please rerun this cell to show the HTML representation or trust the notebook. <br />On GitHub, the HTML representation is unable to render, please try loading this page with nbviewer.org.</b></div><div class=\"sk-container\" hidden><div class=\"sk-item\"><div class=\"sk-estimator sk-toggleable\"><input class=\"sk-toggleable__control sk-hidden--visually\" id=\"sk-estimator-id-1\" type=\"checkbox\" checked><label for=\"sk-estimator-id-1\" class=\"sk-toggleable__label sk-toggleable__label-arrow\">ElasticNet</label><div class=\"sk-toggleable__content\"><pre>ElasticNet()</pre></div></div></div></div></div>"
      ],
      "text/plain": [
       "ElasticNet()"
      ]
     },
     "execution_count": 72,
     "metadata": {},
     "output_type": "execute_result"
    }
   ],
   "source": [
    "model = ElasticNet()\n",
    "model.fit(X, y)"
   ]
  },
  {
   "cell_type": "code",
   "execution_count": 73,
   "id": "a318be5b-f592-4cd2-9eba-934f65616d53",
   "metadata": {
    "tags": []
   },
   "outputs": [],
   "source": [
    "Y_pred = model.predict(X)"
   ]
  },
  {
   "cell_type": "code",
   "execution_count": 74,
   "id": "3d7b2a37-525f-4da4-bb83-5a93051a8466",
   "metadata": {
    "tags": []
   },
   "outputs": [
    {
     "data": {
      "text/plain": [
       "(22.258354631653216, 3.71491243531239, 0.1392782933629403)"
      ]
     },
     "execution_count": 74,
     "metadata": {},
     "output_type": "execute_result"
    }
   ],
   "source": [
    "mse = mean_squared_error(y, Y_pred)\n",
    "mae = mean_absolute_error(y, Y_pred)\n",
    "r2 = r2_score(y, Y_pred)\n",
    "mse, mae, r2"
   ]
  },
  {
   "cell_type": "markdown",
   "id": "254a7d92-a6b2-4e95-9c2e-6dc9b5649559",
   "metadata": {},
   "source": [
    "Since our training data we are working with is fairly constricted in size, we will take a look at how KNeighborsRegressor will perform"
   ]
  },
  {
   "cell_type": "code",
   "execution_count": 75,
   "id": "d6a77815-6394-4dc5-9176-516d575fba53",
   "metadata": {
    "tags": []
   },
   "outputs": [
    {
     "data": {
      "text/html": [
       "<style>#sk-container-id-2 {color: black;}#sk-container-id-2 pre{padding: 0;}#sk-container-id-2 div.sk-toggleable {background-color: white;}#sk-container-id-2 label.sk-toggleable__label {cursor: pointer;display: block;width: 100%;margin-bottom: 0;padding: 0.3em;box-sizing: border-box;text-align: center;}#sk-container-id-2 label.sk-toggleable__label-arrow:before {content: \"▸\";float: left;margin-right: 0.25em;color: #696969;}#sk-container-id-2 label.sk-toggleable__label-arrow:hover:before {color: black;}#sk-container-id-2 div.sk-estimator:hover label.sk-toggleable__label-arrow:before {color: black;}#sk-container-id-2 div.sk-toggleable__content {max-height: 0;max-width: 0;overflow: hidden;text-align: left;background-color: #f0f8ff;}#sk-container-id-2 div.sk-toggleable__content pre {margin: 0.2em;color: black;border-radius: 0.25em;background-color: #f0f8ff;}#sk-container-id-2 input.sk-toggleable__control:checked~div.sk-toggleable__content {max-height: 200px;max-width: 100%;overflow: auto;}#sk-container-id-2 input.sk-toggleable__control:checked~label.sk-toggleable__label-arrow:before {content: \"▾\";}#sk-container-id-2 div.sk-estimator input.sk-toggleable__control:checked~label.sk-toggleable__label {background-color: #d4ebff;}#sk-container-id-2 div.sk-label input.sk-toggleable__control:checked~label.sk-toggleable__label {background-color: #d4ebff;}#sk-container-id-2 input.sk-hidden--visually {border: 0;clip: rect(1px 1px 1px 1px);clip: rect(1px, 1px, 1px, 1px);height: 1px;margin: -1px;overflow: hidden;padding: 0;position: absolute;width: 1px;}#sk-container-id-2 div.sk-estimator {font-family: monospace;background-color: #f0f8ff;border: 1px dotted black;border-radius: 0.25em;box-sizing: border-box;margin-bottom: 0.5em;}#sk-container-id-2 div.sk-estimator:hover {background-color: #d4ebff;}#sk-container-id-2 div.sk-parallel-item::after {content: \"\";width: 100%;border-bottom: 1px solid gray;flex-grow: 1;}#sk-container-id-2 div.sk-label:hover label.sk-toggleable__label {background-color: #d4ebff;}#sk-container-id-2 div.sk-serial::before {content: \"\";position: absolute;border-left: 1px solid gray;box-sizing: border-box;top: 0;bottom: 0;left: 50%;z-index: 0;}#sk-container-id-2 div.sk-serial {display: flex;flex-direction: column;align-items: center;background-color: white;padding-right: 0.2em;padding-left: 0.2em;position: relative;}#sk-container-id-2 div.sk-item {position: relative;z-index: 1;}#sk-container-id-2 div.sk-parallel {display: flex;align-items: stretch;justify-content: center;background-color: white;position: relative;}#sk-container-id-2 div.sk-item::before, #sk-container-id-2 div.sk-parallel-item::before {content: \"\";position: absolute;border-left: 1px solid gray;box-sizing: border-box;top: 0;bottom: 0;left: 50%;z-index: -1;}#sk-container-id-2 div.sk-parallel-item {display: flex;flex-direction: column;z-index: 1;position: relative;background-color: white;}#sk-container-id-2 div.sk-parallel-item:first-child::after {align-self: flex-end;width: 50%;}#sk-container-id-2 div.sk-parallel-item:last-child::after {align-self: flex-start;width: 50%;}#sk-container-id-2 div.sk-parallel-item:only-child::after {width: 0;}#sk-container-id-2 div.sk-dashed-wrapped {border: 1px dashed gray;margin: 0 0.4em 0.5em 0.4em;box-sizing: border-box;padding-bottom: 0.4em;background-color: white;}#sk-container-id-2 div.sk-label label {font-family: monospace;font-weight: bold;display: inline-block;line-height: 1.2em;}#sk-container-id-2 div.sk-label-container {text-align: center;}#sk-container-id-2 div.sk-container {/* jupyter's `normalize.less` sets `[hidden] { display: none; }` but bootstrap.min.css set `[hidden] { display: none !important; }` so we also need the `!important` here to be able to override the default hidden behavior on the sphinx rendered scikit-learn.org. See: https://github.com/scikit-learn/scikit-learn/issues/21755 */display: inline-block !important;position: relative;}#sk-container-id-2 div.sk-text-repr-fallback {display: none;}</style><div id=\"sk-container-id-2\" class=\"sk-top-container\"><div class=\"sk-text-repr-fallback\"><pre>KNeighborsRegressor()</pre><b>In a Jupyter environment, please rerun this cell to show the HTML representation or trust the notebook. <br />On GitHub, the HTML representation is unable to render, please try loading this page with nbviewer.org.</b></div><div class=\"sk-container\" hidden><div class=\"sk-item\"><div class=\"sk-estimator sk-toggleable\"><input class=\"sk-toggleable__control sk-hidden--visually\" id=\"sk-estimator-id-2\" type=\"checkbox\" checked><label for=\"sk-estimator-id-2\" class=\"sk-toggleable__label sk-toggleable__label-arrow\">KNeighborsRegressor</label><div class=\"sk-toggleable__content\"><pre>KNeighborsRegressor()</pre></div></div></div></div></div>"
      ],
      "text/plain": [
       "KNeighborsRegressor()"
      ]
     },
     "execution_count": 75,
     "metadata": {},
     "output_type": "execute_result"
    }
   ],
   "source": [
    "kn = KNeighborsRegressor()\n",
    "kn.fit(X, y)"
   ]
  },
  {
   "cell_type": "code",
   "execution_count": 76,
   "id": "b43714bf-68a0-4f91-b868-f2e8df4c0f1a",
   "metadata": {
    "tags": []
   },
   "outputs": [],
   "source": [
    "Y_pred = kn.predict(X)"
   ]
  },
  {
   "cell_type": "code",
   "execution_count": 77,
   "id": "965ab42e-007c-4399-b1c6-9c1a749852a3",
   "metadata": {
    "tags": []
   },
   "outputs": [
    {
     "data": {
      "text/plain": [
       "(14.728803426252703, 2.984719020985153, 0.4304430389595064)"
      ]
     },
     "execution_count": 77,
     "metadata": {},
     "output_type": "execute_result"
    }
   ],
   "source": [
    "mse = mean_squared_error(y, Y_pred)\n",
    "mae = mean_absolute_error(y, Y_pred)\n",
    "r2 = r2_score(y, Y_pred)\n",
    "mse, mae, r2"
   ]
  },
  {
   "cell_type": "markdown",
   "id": "f6a3db6d-f199-46ba-a07f-9e7e97600f41",
   "metadata": {},
   "source": [
    "The results are promising with a R2 score of 0.43 on a scale from 0 to 1, alot better than our baseline with Linear Regression of 0.15. The MSE score was also improved upon."
   ]
  },
  {
   "cell_type": "markdown",
   "id": "ea3922fe-0f58-4b53-93fb-af45e14728a3",
   "metadata": {},
   "source": [
    "Lastly, we will test DecisionTreeRegressor to see how it performs in comparison to KNeighborsRegressor"
   ]
  },
  {
   "cell_type": "code",
   "execution_count": 78,
   "id": "655b5bb3-5260-48e1-b5e2-716426c7ddcc",
   "metadata": {
    "tags": []
   },
   "outputs": [
    {
     "data": {
      "text/html": [
       "<style>#sk-container-id-3 {color: black;}#sk-container-id-3 pre{padding: 0;}#sk-container-id-3 div.sk-toggleable {background-color: white;}#sk-container-id-3 label.sk-toggleable__label {cursor: pointer;display: block;width: 100%;margin-bottom: 0;padding: 0.3em;box-sizing: border-box;text-align: center;}#sk-container-id-3 label.sk-toggleable__label-arrow:before {content: \"▸\";float: left;margin-right: 0.25em;color: #696969;}#sk-container-id-3 label.sk-toggleable__label-arrow:hover:before {color: black;}#sk-container-id-3 div.sk-estimator:hover label.sk-toggleable__label-arrow:before {color: black;}#sk-container-id-3 div.sk-toggleable__content {max-height: 0;max-width: 0;overflow: hidden;text-align: left;background-color: #f0f8ff;}#sk-container-id-3 div.sk-toggleable__content pre {margin: 0.2em;color: black;border-radius: 0.25em;background-color: #f0f8ff;}#sk-container-id-3 input.sk-toggleable__control:checked~div.sk-toggleable__content {max-height: 200px;max-width: 100%;overflow: auto;}#sk-container-id-3 input.sk-toggleable__control:checked~label.sk-toggleable__label-arrow:before {content: \"▾\";}#sk-container-id-3 div.sk-estimator input.sk-toggleable__control:checked~label.sk-toggleable__label {background-color: #d4ebff;}#sk-container-id-3 div.sk-label input.sk-toggleable__control:checked~label.sk-toggleable__label {background-color: #d4ebff;}#sk-container-id-3 input.sk-hidden--visually {border: 0;clip: rect(1px 1px 1px 1px);clip: rect(1px, 1px, 1px, 1px);height: 1px;margin: -1px;overflow: hidden;padding: 0;position: absolute;width: 1px;}#sk-container-id-3 div.sk-estimator {font-family: monospace;background-color: #f0f8ff;border: 1px dotted black;border-radius: 0.25em;box-sizing: border-box;margin-bottom: 0.5em;}#sk-container-id-3 div.sk-estimator:hover {background-color: #d4ebff;}#sk-container-id-3 div.sk-parallel-item::after {content: \"\";width: 100%;border-bottom: 1px solid gray;flex-grow: 1;}#sk-container-id-3 div.sk-label:hover label.sk-toggleable__label {background-color: #d4ebff;}#sk-container-id-3 div.sk-serial::before {content: \"\";position: absolute;border-left: 1px solid gray;box-sizing: border-box;top: 0;bottom: 0;left: 50%;z-index: 0;}#sk-container-id-3 div.sk-serial {display: flex;flex-direction: column;align-items: center;background-color: white;padding-right: 0.2em;padding-left: 0.2em;position: relative;}#sk-container-id-3 div.sk-item {position: relative;z-index: 1;}#sk-container-id-3 div.sk-parallel {display: flex;align-items: stretch;justify-content: center;background-color: white;position: relative;}#sk-container-id-3 div.sk-item::before, #sk-container-id-3 div.sk-parallel-item::before {content: \"\";position: absolute;border-left: 1px solid gray;box-sizing: border-box;top: 0;bottom: 0;left: 50%;z-index: -1;}#sk-container-id-3 div.sk-parallel-item {display: flex;flex-direction: column;z-index: 1;position: relative;background-color: white;}#sk-container-id-3 div.sk-parallel-item:first-child::after {align-self: flex-end;width: 50%;}#sk-container-id-3 div.sk-parallel-item:last-child::after {align-self: flex-start;width: 50%;}#sk-container-id-3 div.sk-parallel-item:only-child::after {width: 0;}#sk-container-id-3 div.sk-dashed-wrapped {border: 1px dashed gray;margin: 0 0.4em 0.5em 0.4em;box-sizing: border-box;padding-bottom: 0.4em;background-color: white;}#sk-container-id-3 div.sk-label label {font-family: monospace;font-weight: bold;display: inline-block;line-height: 1.2em;}#sk-container-id-3 div.sk-label-container {text-align: center;}#sk-container-id-3 div.sk-container {/* jupyter's `normalize.less` sets `[hidden] { display: none; }` but bootstrap.min.css set `[hidden] { display: none !important; }` so we also need the `!important` here to be able to override the default hidden behavior on the sphinx rendered scikit-learn.org. See: https://github.com/scikit-learn/scikit-learn/issues/21755 */display: inline-block !important;position: relative;}#sk-container-id-3 div.sk-text-repr-fallback {display: none;}</style><div id=\"sk-container-id-3\" class=\"sk-top-container\"><div class=\"sk-text-repr-fallback\"><pre>DecisionTreeRegressor(max_depth=10)</pre><b>In a Jupyter environment, please rerun this cell to show the HTML representation or trust the notebook. <br />On GitHub, the HTML representation is unable to render, please try loading this page with nbviewer.org.</b></div><div class=\"sk-container\" hidden><div class=\"sk-item\"><div class=\"sk-estimator sk-toggleable\"><input class=\"sk-toggleable__control sk-hidden--visually\" id=\"sk-estimator-id-3\" type=\"checkbox\" checked><label for=\"sk-estimator-id-3\" class=\"sk-toggleable__label sk-toggleable__label-arrow\">DecisionTreeRegressor</label><div class=\"sk-toggleable__content\"><pre>DecisionTreeRegressor(max_depth=10)</pre></div></div></div></div></div>"
      ],
      "text/plain": [
       "DecisionTreeRegressor(max_depth=10)"
      ]
     },
     "execution_count": 78,
     "metadata": {},
     "output_type": "execute_result"
    }
   ],
   "source": [
    "regr_1 = DecisionTreeRegressor(max_depth=2)\n",
    "regr_2 = DecisionTreeRegressor(max_depth=5)\n",
    "regr_3 = DecisionTreeRegressor(max_depth=10)\n",
    "regr_1.fit(X, y)\n",
    "regr_2.fit(X, y)\n",
    "regr_3.fit(X, y)"
   ]
  },
  {
   "cell_type": "code",
   "execution_count": 79,
   "id": "bff58dd7-a582-4a44-820a-c01ab95488e4",
   "metadata": {
    "tags": []
   },
   "outputs": [],
   "source": [
    "y_1 = regr_1.predict(X)\n",
    "y_2 = regr_2.predict(X)\n",
    "y_3 = regr_3.predict(X)"
   ]
  },
  {
   "cell_type": "code",
   "execution_count": 80,
   "id": "840d9ccc-7648-43c1-8cba-9d1ecad05262",
   "metadata": {
    "tags": []
   },
   "outputs": [
    {
     "data": {
      "text/plain": [
       "(15.927582684728469, 3.0081246225292047, 0.3840867225869996)"
      ]
     },
     "execution_count": 80,
     "metadata": {},
     "output_type": "execute_result"
    }
   ],
   "source": [
    "mse = mean_squared_error(y, y_1)\n",
    "mae = mean_absolute_error(y, y_1)\n",
    "r2 = r2_score(y, y_1)\n",
    "mse, mae, r2"
   ]
  },
  {
   "cell_type": "code",
   "execution_count": 81,
   "id": "b4ac9c08-3f87-4b30-a814-05fb4f38d6e6",
   "metadata": {
    "tags": []
   },
   "outputs": [
    {
     "data": {
      "text/plain": [
       "(11.876035290340502, 2.2756843781814236, 0.5407584463297501)"
      ]
     },
     "execution_count": 81,
     "metadata": {},
     "output_type": "execute_result"
    }
   ],
   "source": [
    "mse = mean_squared_error(y, y_2)\n",
    "mae = mean_absolute_error(y, y_2)\n",
    "r2 = r2_score(y, y_2)\n",
    "mse, mae, r2"
   ]
  },
  {
   "cell_type": "code",
   "execution_count": 82,
   "id": "a8365b9a-f6ee-4320-b223-4ce3ba65038f",
   "metadata": {
    "tags": []
   },
   "outputs": [
    {
     "data": {
      "text/plain": [
       "(0.5575911007495251, 0.33231507317888076, 0.9784381742592839)"
      ]
     },
     "execution_count": 82,
     "metadata": {},
     "output_type": "execute_result"
    }
   ],
   "source": [
    "mse = mean_squared_error(y, y_3)\n",
    "mae = mean_absolute_error(y, y_3)\n",
    "r2 = r2_score(y, y_3)\n",
    "mse, mae, r2"
   ]
  },
  {
   "cell_type": "markdown",
   "id": "8550e640-5180-4ddb-85b3-0ac51ae43a30",
   "metadata": {},
   "source": [
    "## 2022 Validation Predictions"
   ]
  },
  {
   "cell_type": "markdown",
   "id": "15c6a47d-840d-46a9-8072-5c0699dc1076",
   "metadata": {},
   "source": [
    "#### Loading in 2022 prediction datasets: titer, specimen, and subject"
   ]
  },
  {
   "cell_type": "code",
   "execution_count": 128,
   "id": "a947d1df-6732-48c4-a839-4929651a10f0",
   "metadata": {
    "tags": []
   },
   "outputs": [],
   "source": [
    "titers_pred = clean_df_titer(df_2022_titer)"
   ]
  },
  {
   "cell_type": "code",
   "execution_count": 129,
   "id": "8b3f205d-ef9d-45fe-8fcc-eaa48ef1119c",
   "metadata": {
    "tags": []
   },
   "outputs": [],
   "source": [
    "subject_pred = clean_df_subject(pd.merge(df_2022_specimen,df_2022_subject, on= 'subject_id'))"
   ]
  },
  {
   "cell_type": "code",
   "execution_count": 130,
   "id": "78846553-f6df-4361-82cb-c569bb08c6c3",
   "metadata": {
    "tags": []
   },
   "outputs": [],
   "source": [
    "IgG = subject_pred.merge(titers_pred, on='specimen_id', how = 'outer')"
   ]
  },
  {
   "cell_type": "code",
   "execution_count": 131,
   "id": "fa1eea7b-e9c8-45fb-96bf-6bb02d61daa3",
   "metadata": {
    "tags": []
   },
   "outputs": [
    {
     "data": {
      "text/plain": [
       "Index(['specimen_id', 'subject_id', 'actual_day_relative_to_boost',\n",
       "       'planned_day_relative_to_boost', 'specimen_type', 'visit',\n",
       "       'infancy_vac', 'biological_sex', 'ethnicity', 'race', 'year_of_birth',\n",
       "       'date_of_boost', 'dataset', 'age', 'IgG_PT'],\n",
       "      dtype='object')"
      ]
     },
     "execution_count": 131,
     "metadata": {},
     "output_type": "execute_result"
    }
   ],
   "source": [
    "IgG.columns"
   ]
  },
  {
   "cell_type": "code",
   "execution_count": 132,
   "id": "9f0155be-dc80-4794-b490-fcbe61cc83ad",
   "metadata": {
    "tags": []
   },
   "outputs": [],
   "source": [
    "IgG = IgG[['subject_id',\n",
    "           'specimen_id',\n",
    "           'infancy_vac',\n",
    "           'biological_sex',\n",
    "           'age',\n",
    "           'year_of_birth',\n",
    "           'date_of_boost',\n",
    "           'actual_day_relative_to_boost',\n",
    "           'planned_day_relative_to_boost',\n",
    "           'ethnicity',\n",
    "           'race',\n",
    "           'dataset',\n",
    "           'specimen_type',\n",
    "           'visit',\n",
    "           'IgG_PT']]"
   ]
  },
  {
   "cell_type": "code",
   "execution_count": 133,
   "id": "fdde8a16-ab32-4bf2-a5ce-ffa557ec45cc",
   "metadata": {
    "tags": []
   },
   "outputs": [],
   "source": [
    "IgG = IgG[IgG['planned_day_relative_to_boost'].isin([0])]"
   ]
  },
  {
   "cell_type": "code",
   "execution_count": 134,
   "id": "64cf980d-5875-4733-8075-7725a86c8566",
   "metadata": {
    "tags": []
   },
   "outputs": [],
   "source": [
    "IgG_d= IgG[['infancy_vac', 'biological_sex', 'year_of_birth', 'ethnicity', 'race', 'visit', 'IgG_PT']].rename(columns={'IgG_PT': 'IgG_PT_d0'})"
   ]
  },
  {
   "cell_type": "markdown",
   "id": "f5fb8590-fcc7-4467-a113-c2521ad5b52a",
   "metadata": {
    "tags": []
   },
   "source": [
    "#### Data Feature Selection & Cleaning"
   ]
  },
  {
   "cell_type": "code",
   "execution_count": 135,
   "id": "f2b0da4d-42db-40b9-a56d-b7885b231c0f",
   "metadata": {
    "tags": []
   },
   "outputs": [],
   "source": [
    "IgG_d['infancy_vac'] = IgG_d['infancy_vac'].map({'wP':0, 'aP':1})"
   ]
  },
  {
   "cell_type": "code",
   "execution_count": 136,
   "id": "15eca2a6-dcea-4b44-9a0f-403b4daf6bac",
   "metadata": {
    "tags": []
   },
   "outputs": [],
   "source": [
    "IgG_d['biological_sex'] = IgG_d['biological_sex'].map({'Female':0, 'Male':1})"
   ]
  },
  {
   "cell_type": "code",
   "execution_count": 137,
   "id": "12081e71-6f30-45f8-8fe3-0ffdfdb1a6f0",
   "metadata": {
    "tags": []
   },
   "outputs": [],
   "source": [
    "IgG_d['ethnicity'] = IgG_d['ethnicity'].map({'Not Hispanic or Latino':0, \n",
    "                                                   'Hispanic or Latino':1,\n",
    "                                                   'Unknown':2})"
   ]
  },
  {
   "cell_type": "code",
   "execution_count": 138,
   "id": "1a20bd1b-2149-45bc-ac50-c6dfe1829f7e",
   "metadata": {
    "tags": []
   },
   "outputs": [
    {
     "data": {
      "text/html": [
       "<div>\n",
       "<style scoped>\n",
       "    .dataframe tbody tr th:only-of-type {\n",
       "        vertical-align: middle;\n",
       "    }\n",
       "\n",
       "    .dataframe tbody tr th {\n",
       "        vertical-align: top;\n",
       "    }\n",
       "\n",
       "    .dataframe thead th {\n",
       "        text-align: right;\n",
       "    }\n",
       "</style>\n",
       "<table border=\"1\" class=\"dataframe\">\n",
       "  <thead>\n",
       "    <tr style=\"text-align: right;\">\n",
       "      <th></th>\n",
       "      <th>infancy_vac</th>\n",
       "      <th>biological_sex</th>\n",
       "      <th>year_of_birth</th>\n",
       "      <th>ethnicity</th>\n",
       "      <th>race</th>\n",
       "      <th>visit</th>\n",
       "      <th>IgG_PT_d0</th>\n",
       "    </tr>\n",
       "  </thead>\n",
       "  <tbody>\n",
       "    <tr>\n",
       "      <th>2</th>\n",
       "      <td>0</td>\n",
       "      <td>1</td>\n",
       "      <td>1986</td>\n",
       "      <td>0</td>\n",
       "      <td>0</td>\n",
       "      <td>3</td>\n",
       "      <td>1.060618</td>\n",
       "    </tr>\n",
       "    <tr>\n",
       "      <th>12</th>\n",
       "      <td>0</td>\n",
       "      <td>0</td>\n",
       "      <td>1993</td>\n",
       "      <td>0</td>\n",
       "      <td>0</td>\n",
       "      <td>5</td>\n",
       "      <td>1.309938</td>\n",
       "    </tr>\n",
       "    <tr>\n",
       "      <th>22</th>\n",
       "      <td>1</td>\n",
       "      <td>0</td>\n",
       "      <td>1999</td>\n",
       "      <td>1</td>\n",
       "      <td>2</td>\n",
       "      <td>5</td>\n",
       "      <td>1.196227</td>\n",
       "    </tr>\n",
       "    <tr>\n",
       "      <th>32</th>\n",
       "      <td>1</td>\n",
       "      <td>0</td>\n",
       "      <td>2001</td>\n",
       "      <td>0</td>\n",
       "      <td>0</td>\n",
       "      <td>5</td>\n",
       "      <td>0.967752</td>\n",
       "    </tr>\n",
       "    <tr>\n",
       "      <th>42</th>\n",
       "      <td>1</td>\n",
       "      <td>1</td>\n",
       "      <td>2003</td>\n",
       "      <td>0</td>\n",
       "      <td>0</td>\n",
       "      <td>3</td>\n",
       "      <td>1.651583</td>\n",
       "    </tr>\n",
       "  </tbody>\n",
       "</table>\n",
       "</div>"
      ],
      "text/plain": [
       "    infancy_vac  biological_sex  year_of_birth  ethnicity  race  visit  \\\n",
       "2             0               1           1986          0     0      3   \n",
       "12            0               0           1993          0     0      5   \n",
       "22            1               0           1999          1     2      5   \n",
       "32            1               0           2001          0     0      5   \n",
       "42            1               1           2003          0     0      3   \n",
       "\n",
       "    IgG_PT_d0  \n",
       "2    1.060618  \n",
       "12   1.309938  \n",
       "22   1.196227  \n",
       "32   0.967752  \n",
       "42   1.651583  "
      ]
     },
     "execution_count": 138,
     "metadata": {},
     "output_type": "execute_result"
    }
   ],
   "source": [
    "IgG_d['race'] = IgG_d['race'].map({'White':0, \n",
    "                                       'Asian':1,\n",
    "                                       'Unknown or Not Reported': 2,\n",
    "                                       'More Than One Race': 2,\n",
    "                                       'Black or African American': 3,\n",
    "                                       'Native Hawaiian or Other Pacific Islander': 4,\n",
    "                                       'American Indian/Alaska Native':5\n",
    "                                      })\n",
    "IgG_d.head()"
   ]
  },
  {
   "cell_type": "markdown",
   "id": "71d004e1-bc7b-428e-a5c1-da78e61c588a",
   "metadata": {
    "tags": []
   },
   "source": [
    "#### Getting predictions from our Model"
   ]
  },
  {
   "cell_type": "code",
   "execution_count": 143,
   "id": "da915af0-ff07-4f03-951e-a0f746d36aaa",
   "metadata": {
    "tags": []
   },
   "outputs": [],
   "source": [
    "y_pred = regr_3.predict(IgG_d)"
   ]
  },
  {
   "cell_type": "code",
   "execution_count": 146,
   "id": "6a3e8740-c070-4505-81a8-b13687d449da",
   "metadata": {
    "tags": []
   },
   "outputs": [],
   "source": [
    "rank = [abs(sorted(y_3).index(x)-19) for x in y_3]"
   ]
  },
  {
   "cell_type": "code",
   "execution_count": 147,
   "id": "b29ceebe-fa6b-48ca-b634-bd0ed3b60ea8",
   "metadata": {
    "tags": []
   },
   "outputs": [],
   "source": [
    "IgG['1.1) IgG-PT-D14-titer-Rank'] = rank"
   ]
  },
  {
   "cell_type": "code",
   "execution_count": 148,
   "id": "eb10b704-3a3b-4afe-aa48-264c508bd53d",
   "metadata": {
    "tags": []
   },
   "outputs": [
    {
     "data": {
      "text/html": [
       "<div>\n",
       "<style scoped>\n",
       "    .dataframe tbody tr th:only-of-type {\n",
       "        vertical-align: middle;\n",
       "    }\n",
       "\n",
       "    .dataframe tbody tr th {\n",
       "        vertical-align: top;\n",
       "    }\n",
       "\n",
       "    .dataframe thead th {\n",
       "        text-align: right;\n",
       "    }\n",
       "</style>\n",
       "<table border=\"1\" class=\"dataframe\">\n",
       "  <thead>\n",
       "    <tr style=\"text-align: right;\">\n",
       "      <th></th>\n",
       "      <th>subject_id</th>\n",
       "      <th>age</th>\n",
       "      <th>biological_sex</th>\n",
       "      <th>infancy_vac</th>\n",
       "      <th>1.1) IgG-PT-D14-titer-Rank</th>\n",
       "    </tr>\n",
       "  </thead>\n",
       "  <tbody>\n",
       "    <tr>\n",
       "      <th>2</th>\n",
       "      <td>97</td>\n",
       "      <td>35</td>\n",
       "      <td>Male</td>\n",
       "      <td>wP</td>\n",
       "      <td>6</td>\n",
       "    </tr>\n",
       "    <tr>\n",
       "      <th>12</th>\n",
       "      <td>98</td>\n",
       "      <td>28</td>\n",
       "      <td>Female</td>\n",
       "      <td>wP</td>\n",
       "      <td>4</td>\n",
       "    </tr>\n",
       "    <tr>\n",
       "      <th>22</th>\n",
       "      <td>99</td>\n",
       "      <td>22</td>\n",
       "      <td>Female</td>\n",
       "      <td>aP</td>\n",
       "      <td>8</td>\n",
       "    </tr>\n",
       "    <tr>\n",
       "      <th>32</th>\n",
       "      <td>100</td>\n",
       "      <td>20</td>\n",
       "      <td>Female</td>\n",
       "      <td>aP</td>\n",
       "      <td>17</td>\n",
       "    </tr>\n",
       "    <tr>\n",
       "      <th>42</th>\n",
       "      <td>101</td>\n",
       "      <td>18</td>\n",
       "      <td>Male</td>\n",
       "      <td>aP</td>\n",
       "      <td>3</td>\n",
       "    </tr>\n",
       "    <tr>\n",
       "      <th>52</th>\n",
       "      <td>102</td>\n",
       "      <td>18</td>\n",
       "      <td>Male</td>\n",
       "      <td>aP</td>\n",
       "      <td>3</td>\n",
       "    </tr>\n",
       "    <tr>\n",
       "      <th>62</th>\n",
       "      <td>103</td>\n",
       "      <td>27</td>\n",
       "      <td>Female</td>\n",
       "      <td>wP</td>\n",
       "      <td>1</td>\n",
       "    </tr>\n",
       "    <tr>\n",
       "      <th>72</th>\n",
       "      <td>104</td>\n",
       "      <td>32</td>\n",
       "      <td>Female</td>\n",
       "      <td>wP</td>\n",
       "      <td>12</td>\n",
       "    </tr>\n",
       "    <tr>\n",
       "      <th>81</th>\n",
       "      <td>105</td>\n",
       "      <td>27</td>\n",
       "      <td>Female</td>\n",
       "      <td>wP</td>\n",
       "      <td>11</td>\n",
       "    </tr>\n",
       "    <tr>\n",
       "      <th>91</th>\n",
       "      <td>106</td>\n",
       "      <td>25</td>\n",
       "      <td>Female</td>\n",
       "      <td>aP</td>\n",
       "      <td>14</td>\n",
       "    </tr>\n",
       "    <tr>\n",
       "      <th>101</th>\n",
       "      <td>107</td>\n",
       "      <td>23</td>\n",
       "      <td>Female</td>\n",
       "      <td>aP</td>\n",
       "      <td>18</td>\n",
       "    </tr>\n",
       "    <tr>\n",
       "      <th>111</th>\n",
       "      <td>108</td>\n",
       "      <td>26</td>\n",
       "      <td>Female</td>\n",
       "      <td>wP</td>\n",
       "      <td>11</td>\n",
       "    </tr>\n",
       "    <tr>\n",
       "      <th>121</th>\n",
       "      <td>109</td>\n",
       "      <td>32</td>\n",
       "      <td>Female</td>\n",
       "      <td>wP</td>\n",
       "      <td>16</td>\n",
       "    </tr>\n",
       "    <tr>\n",
       "      <th>131</th>\n",
       "      <td>110</td>\n",
       "      <td>24</td>\n",
       "      <td>Female</td>\n",
       "      <td>aP</td>\n",
       "      <td>15</td>\n",
       "    </tr>\n",
       "    <tr>\n",
       "      <th>141</th>\n",
       "      <td>111</td>\n",
       "      <td>25</td>\n",
       "      <td>Male</td>\n",
       "      <td>wP</td>\n",
       "      <td>8</td>\n",
       "    </tr>\n",
       "    <tr>\n",
       "      <th>152</th>\n",
       "      <td>112</td>\n",
       "      <td>25</td>\n",
       "      <td>Male</td>\n",
       "      <td>aP</td>\n",
       "      <td>3</td>\n",
       "    </tr>\n",
       "    <tr>\n",
       "      <th>162</th>\n",
       "      <td>114</td>\n",
       "      <td>31</td>\n",
       "      <td>Male</td>\n",
       "      <td>wP</td>\n",
       "      <td>19</td>\n",
       "    </tr>\n",
       "    <tr>\n",
       "      <th>172</th>\n",
       "      <td>115</td>\n",
       "      <td>19</td>\n",
       "      <td>Female</td>\n",
       "      <td>aP</td>\n",
       "      <td>5</td>\n",
       "    </tr>\n",
       "    <tr>\n",
       "      <th>182</th>\n",
       "      <td>116</td>\n",
       "      <td>21</td>\n",
       "      <td>Male</td>\n",
       "      <td>aP</td>\n",
       "      <td>3</td>\n",
       "    </tr>\n",
       "    <tr>\n",
       "      <th>192</th>\n",
       "      <td>117</td>\n",
       "      <td>27</td>\n",
       "      <td>Female</td>\n",
       "      <td>aP</td>\n",
       "      <td>9</td>\n",
       "    </tr>\n",
       "    <tr>\n",
       "      <th>202</th>\n",
       "      <td>118</td>\n",
       "      <td>24</td>\n",
       "      <td>Male</td>\n",
       "      <td>aP</td>\n",
       "      <td>13</td>\n",
       "    </tr>\n",
       "  </tbody>\n",
       "</table>\n",
       "</div>"
      ],
      "text/plain": [
       "     subject_id  age biological_sex infancy_vac  1.1) IgG-PT-D14-titer-Rank\n",
       "2            97   35           Male          wP                           6\n",
       "12           98   28         Female          wP                           4\n",
       "22           99   22         Female          aP                           8\n",
       "32          100   20         Female          aP                          17\n",
       "42          101   18           Male          aP                           3\n",
       "52          102   18           Male          aP                           3\n",
       "62          103   27         Female          wP                           1\n",
       "72          104   32         Female          wP                          12\n",
       "81          105   27         Female          wP                          11\n",
       "91          106   25         Female          aP                          14\n",
       "101         107   23         Female          aP                          18\n",
       "111         108   26         Female          wP                          11\n",
       "121         109   32         Female          wP                          16\n",
       "131         110   24         Female          aP                          15\n",
       "141         111   25           Male          wP                           8\n",
       "152         112   25           Male          aP                           3\n",
       "162         114   31           Male          wP                          19\n",
       "172         115   19         Female          aP                           5\n",
       "182         116   21           Male          aP                           3\n",
       "192         117   27         Female          aP                           9\n",
       "202         118   24           Male          aP                          13"
      ]
     },
     "execution_count": 148,
     "metadata": {},
     "output_type": "execute_result"
    }
   ],
   "source": [
    "IgG[['subject_id', 'age', 'biological_sex', 'infancy_vac', '1.1) IgG-PT-D14-titer-Rank']]"
   ]
  },
  {
   "cell_type": "code",
   "execution_count": null,
   "id": "dcb69d9c-a3b6-4ba2-986f-df1640b0afd0",
   "metadata": {},
   "outputs": [],
   "source": []
  },
  {
   "cell_type": "code",
   "execution_count": null,
   "id": "86f94f56-ebfa-4c08-9f5a-a7b231f8715f",
   "metadata": {},
   "outputs": [],
   "source": []
  }
 ],
 "metadata": {
  "kernelspec": {
   "display_name": "Python 3 (ipykernel)",
   "language": "python",
   "name": "python3"
  },
  "language_info": {
   "codemirror_mode": {
    "name": "ipython",
    "version": 3
   },
   "file_extension": ".py",
   "mimetype": "text/x-python",
   "name": "python",
   "nbconvert_exporter": "python",
   "pygments_lexer": "ipython3",
   "version": "3.11.0"
  }
 },
 "nbformat": 4,
 "nbformat_minor": 5
}
